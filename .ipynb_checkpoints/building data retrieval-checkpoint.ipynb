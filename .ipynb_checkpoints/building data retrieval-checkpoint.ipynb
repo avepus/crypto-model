{
 "cells": [
  {
   "cell_type": "code",
   "execution_count": 38,
   "metadata": {},
   "outputs": [],
   "source": [
    "import get_crypto_data as gcd\n",
    "import glob\n",
    "import pandas as pd\n",
    "from dateutil import parser,tz\n",
    "from datetime import datetime, timedelta, timezone\n",
    "from time import sleep"
   ]
  },
  {
   "cell_type": "code",
   "execution_count": 2,
   "metadata": {},
   "outputs": [
    {
     "name": "stdout",
     "output_type": "stream",
     "text": [
      "Binance\n"
     ]
    }
   ],
   "source": [
    "exchange = gcd.getBinanceExchange()\n",
    "print(exchange)"
   ]
  },
  {
   "cell_type": "code",
   "execution_count": 3,
   "metadata": {},
   "outputs": [
    {
     "data": {
      "text/plain": [
       "['ohlcv_data\\\\MarketDataVIBBTC.csv']"
      ]
     },
     "execution_count": 3,
     "metadata": {},
     "output_type": "execute_result"
    }
   ],
   "source": [
    "glob.glob('ohlcv_data\\*VIBBTC.csv')"
   ]
  },
  {
   "cell_type": "code",
   "execution_count": 70,
   "metadata": {},
   "outputs": [],
   "source": [
    "def get_DataFrame(symbol_list, exchange=None, from_date=None, end_date=None, ret_as_list=True, filename = \"MarketData\", timeframe = '1d', max_calls=10):\n",
    "    \"\"\"gets a dataframe in the expected format\"\"\"\n",
    "    if ret_as_list:\n",
    "        return_df = []\n",
    "    else:\n",
    "        return_df = pd.DataFrame()\n",
    "        \n",
    "    for symbol in symbol_list:\n",
    "        df = get_saved_data(symbol, from_date, end_date)\n",
    "        if df.empty and exchange is not None and from_date is not None:\n",
    "            df = retrieve_data_from_exchange(symbol, exchange, from_date, end_date, timeframe, max_calls)\n",
    "            if not df.empty:\n",
    "                save_data(df, symbol, filename)\n",
    "        if df.empty: #enhancement is to call check_retrival_for_errors(df) for warnings/errors regarding data retrieval\n",
    "            print('Failed to retrieve',symbol,'data')\n",
    "        return_df = return_df.append(df)\n",
    "        print('after append')\n",
    "        print(return_df)\n",
    "    print(return_df)\n",
    "    return return_df\n",
    "\n",
    "\n",
    "def get_saved_data(symbol, from_date=None, end_date=None):\n",
    "    symbol = symbol.replace('/', '')\n",
    "    search_name = 'ohlcv_data\\\\*' + symbol + '.csv'\n",
    "    try:\n",
    "        file = glob.glob(search_name)[0]\n",
    "    except IndexError:\n",
    "        return pd.DataFrame()\n",
    "    \n",
    "    df = pd.read_csv(file)\n",
    "    df = set_data_timestamp_index(df)\n",
    "    return df.loc[from_date:end_date]\n",
    "\n",
    "\n",
    "def set_data_timestamp_index(df):\n",
    "    col = None\n",
    "    unit = None\n",
    "    if (\"Date\" in df.columns):\n",
    "        col = \"Date\"\n",
    "    if (\"Timestamp\" in df.columns):\n",
    "        col = \"Timestamp\"\n",
    "        unit = 'ms'\n",
    "    df.loc[:,col] = pd.to_datetime(df.loc[:,col], unit=unit)\n",
    "    if col is not None:\n",
    "        return df.set_index(col)\n",
    "\n",
    "\n",
    "def save_data(df, symbol, filename, show_output=True):\n",
    "    file = filename + symbol + \".csv\"\n",
    "    file = file.replace(\"/\", \"\")\n",
    "    file = 'ohlcv_data\\\\' + file\n",
    "    df.to_csv(file)\n",
    "    if show_output:\n",
    "        print('data saved successfully to \"',file,'\"',sep='')\n"
   ]
  },
  {
   "cell_type": "code",
   "execution_count": 71,
   "metadata": {},
   "outputs": [],
   "source": [
    "def retrieve_data_from_exchange(symbol, exchange, from_date, end_date=None, timeframe = '1d', max_calls=10):\n",
    "    from_date_ms_timestamp = gcd.timestampToUTCMs(gcd.getUTCTimeStamp(from_date))\n",
    "    sleep(exchange.rateLimit / 1000)\n",
    "    attempt = 1\n",
    "    print('Fetching',symbol,'market data from',exchange,'. call #',attempt,sep='')\n",
    "    df = gcd.tryGetDataFrame(symbol, exchange, timeframe, from_date_ms_timestamp)\n",
    "    if df.empty:\n",
    "        print('Failed to retrieve',symbol,'data')\n",
    "        return pd.DataFrame()\n",
    "    retdf = df\n",
    "    while (len(df) == 500 and attempt < max_calls):\n",
    "        attempt += 1\n",
    "        new_from_date=df.index[-1]\n",
    "        sleep(exchange.rateLimit / 1000)\n",
    "        print('Fetching ',symbol,' market data. call #',attempt,sep='')\n",
    "        df = gcd.tryGetDataFrame(symbol, exchange, timeframe, new_from_date)\n",
    "        retdf = retdf.append(df)\n",
    "    #Commenting out becuase we wouldn't know at the current time of\n",
    "    #evaluation if a currency is delisted in the future\n",
    "    # if retdf.loc[includeStamp:,:].empty:\n",
    "    #     print(symbol,'data did not include',includeDate,'data not saved.')\n",
    "    #     if attempt >= maxCalls:\n",
    "    #         print('Maximum data retrivals (',maxCalls,') hit.', sep='')\n",
    "    #     continue\n",
    "    return retdf"
   ]
  },
  {
   "cell_type": "code",
   "execution_count": 72,
   "metadata": {
    "scrolled": true
   },
   "outputs": [
    {
     "name": "stdout",
     "output_type": "stream",
     "text": [
      "after append\n",
      "None\n",
      "None\n"
     ]
    }
   ],
   "source": [
    "#left of here where is my data\n",
    "df = get_DataFrame(['VIB/BTC'], exchange, '8/1/18', '10/30/20')\n",
    "df"
   ]
  },
  {
   "cell_type": "code",
   "execution_count": 67,
   "metadata": {},
   "outputs": [
    {
     "name": "stdout",
     "output_type": "stream",
     "text": [
      "before return\n",
      "None\n"
     ]
    }
   ],
   "source": [
    "df = get_DataFrame(['ETH/BTC'], exchange, '8/1/18', '10/30/20')\n",
    "df"
   ]
  },
  {
   "cell_type": "code",
   "execution_count": 60,
   "metadata": {},
   "outputs": [],
   "source": [
    "df"
   ]
  },
  {
   "cell_type": "code",
   "execution_count": null,
   "metadata": {},
   "outputs": [],
   "source": []
  },
  {
   "cell_type": "code",
   "execution_count": 12,
   "metadata": {},
   "outputs": [],
   "source": []
  },
  {
   "cell_type": "code",
   "execution_count": null,
   "metadata": {},
   "outputs": [],
   "source": []
  },
  {
   "cell_type": "code",
   "execution_count": 15,
   "metadata": {},
   "outputs": [
    {
     "data": {
      "text/plain": [
       "datetime.datetime(2020, 12, 6, 21, 6, 19, 413699)"
      ]
     },
     "execution_count": 15,
     "metadata": {},
     "output_type": "execute_result"
    }
   ],
   "source": [
    "timeStr=str(datetime.today())\n",
    "ts = parser.parse(timeStr)\n",
    "ts"
   ]
  },
  {
   "cell_type": "code",
   "execution_count": 16,
   "metadata": {},
   "outputs": [
    {
     "data": {
      "text/plain": [
       "datetime.datetime(2020, 12, 6, 21, 6, 19, 413699, tzinfo=tzutc())"
      ]
     },
     "execution_count": 16,
     "metadata": {},
     "output_type": "execute_result"
    }
   ],
   "source": [
    "ts.replace(tzinfo = tz.tzutc())"
   ]
  },
  {
   "cell_type": "code",
   "execution_count": 17,
   "metadata": {},
   "outputs": [
    {
     "data": {
      "text/plain": [
       "datetime.datetime(2020, 12, 7, 3, 8, 39, 985778)"
      ]
     },
     "execution_count": 17,
     "metadata": {},
     "output_type": "execute_result"
    }
   ],
   "source": [
    "datetime.utcnow()"
   ]
  },
  {
   "cell_type": "code",
   "execution_count": 6,
   "metadata": {},
   "outputs": [
    {
     "data": {
      "text/plain": [
       "datetime.datetime(2020, 1, 6, 0, 0, tzinfo=tzutc())"
      ]
     },
     "execution_count": 6,
     "metadata": {},
     "output_type": "execute_result"
    }
   ],
   "source": [
    "gcd.getUTCTimeStamp('1/6/2020')"
   ]
  },
  {
   "cell_type": "code",
   "execution_count": 9,
   "metadata": {},
   "outputs": [
    {
     "data": {
      "text/plain": [
       "datetime.datetime(2020, 1, 6, 0, 0, tzinfo=tzutc())"
      ]
     },
     "execution_count": 9,
     "metadata": {},
     "output_type": "execute_result"
    }
   ],
   "source": [
    "gcd."
   ]
  },
  {
   "cell_type": "code",
   "execution_count": null,
   "metadata": {},
   "outputs": [],
   "source": []
  }
 ],
 "metadata": {
  "kernelspec": {
   "display_name": "Python 3",
   "language": "python",
   "name": "python3"
  },
  "language_info": {
   "codemirror_mode": {
    "name": "ipython",
    "version": 3
   },
   "file_extension": ".py",
   "mimetype": "text/x-python",
   "name": "python",
   "nbconvert_exporter": "python",
   "pygments_lexer": "ipython3",
   "version": "3.7.6"
  }
 },
 "nbformat": 4,
 "nbformat_minor": 4
}
