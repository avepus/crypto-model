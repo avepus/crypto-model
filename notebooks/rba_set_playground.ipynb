{
 "metadata": {
  "language_info": {
   "codemirror_mode": {
    "name": "ipython",
    "version": 3
   },
   "file_extension": ".py",
   "mimetype": "text/x-python",
   "name": "python",
   "nbconvert_exporter": "python",
   "pygments_lexer": "ipython3",
   "version": "3.9.1"
  },
  "orig_nbformat": 2,
  "kernelspec": {
   "name": "python3",
   "display_name": "Python 3.9.1 64-bit",
   "metadata": {
    "interpreter": {
     "hash": "b54cb9753f1fc2478effd5c05200ae4f0e3c44cd8f27e179dabba8365c7dc822"
    }
   }
  }
 },
 "nbformat": 4,
 "nbformat_minor": 2,
 "cells": [
  {
   "cell_type": "code",
   "execution_count": 1,
   "metadata": {},
   "outputs": [],
   "source": [
    "import backtrader as bt\n",
    "import rba_tools as rba\n",
    "import pandas as pd\n",
    "import numpy as np\n",
    "import rba_tools.backtest.rba_backtrader_set as rbs\n",
    "import plotly.graph_objects as go\n",
    "import rba_tools.retriver.get_crypto_data as gcd"
   ]
  },
  {
   "cell_type": "code",
   "execution_count": 2,
   "metadata": {},
   "outputs": [
    {
     "output_type": "execute_result",
     "data": {
      "text/plain": [
       "<rba_tools.backtest.rba_backtrader_set.backtrader_set at 0x191c3315520>"
      ]
     },
     "metadata": {},
     "execution_count": 2
    }
   ],
   "source": [
    "myset = rbs.backtrader_set(['ETH/BTC', 'LTC/BTC'], rbs.MaCrossStrategy, bt.sizers.PercentSizer, 10, '1/1/18', '1/1/20')\n",
    "myset"
   ]
  },
  {
   "cell_type": "code",
   "execution_count": 3,
   "metadata": {},
   "outputs": [
    {
     "output_type": "stream",
     "name": "stdout",
     "text": [
      "Need later data for LTC/BTC. Retreiving data from 2019-12-31 00:00:00.001000+00:00 (1577750400001) to 1/1/20 (1577836800000)\n",
      "Fetching LTC/BTC market data from Binance. call #1\n",
      "lastCall = 1616013557669 fetching data...\n"
     ]
    }
   ],
   "source": [
    "myset.run()"
   ]
  },
  {
   "cell_type": "code",
   "execution_count": 4,
   "metadata": {},
   "outputs": [
    {
     "output_type": "execute_result",
     "data": {
      "text/plain": [
       "[<backtrader.cerebro.Cerebro at 0x191fe16ff40>,\n",
       " <backtrader.cerebro.Cerebro at 0x191ff2a2be0>]"
      ]
     },
     "metadata": {},
     "execution_count": 4
    }
   ],
   "source": [
    "myset.cerebro_list"
   ]
  },
  {
   "cell_type": "code",
   "execution_count": null,
   "metadata": {},
   "outputs": [],
   "source": []
  }
 ]
}