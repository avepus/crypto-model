{
 "cells": [
  {
   "cell_type": "code",
   "execution_count": 1,
   "metadata": {},
   "outputs": [],
   "source": [
    "from unittest.mock import MagicMock\n",
    "import rba_tools.retriever.get_crypto_data as gcd\n",
    "import rba_tools.retriever.retrievers as retrievers\n",
    "from  rba_tools.retriever.timeframe import Timeframe\n",
    "import rba_tools.utils as utils\n",
    "from dateutil import parser\n"
   ]
  },
  {
   "cell_type": "code",
   "execution_count": 2,
   "metadata": {},
   "outputs": [],
   "source": [
    "file = r'C:\\Users\\Avery\\Documents\\GitHub\\rba_tools_project\\rba_tools\\retriever\\test\\ETH_BTC_1H_2020-12-1_to_2020-12-20.csv'\n",
    "puller = gcd.DataPuller(online_retriever=retrievers.CSVDataRetriever(file))\n",
    "symbol = 'ETH/BTC'"
   ]
  },
  {
   "cell_type": "code",
   "execution_count": 3,
   "metadata": {},
   "outputs": [],
   "source": [
    "puller.online_pull = MagicMock(return_value=gcd.get_empty_ohlcv_df())\n",
    "timeframe_str = 'h'\n",
    "from_date_str = '2020-12-1'\n",
    "to_date_str = '2020-12-20'\n",
    "result = puller.fetch_df(symbol, timeframe_str, from_date_str, to_date_str)"
   ]
  },
  {
   "cell_type": "code",
   "execution_count": 4,
   "metadata": {},
   "outputs": [],
   "source": [
    "tf = Timeframe.from_string(timeframe_str)\n",
    "from_date = parser.parse(from_date_str).date()\n",
    "to_date = parser.parse(to_date_str).date()\n",
    "puller.online_pull.assert_called_with(symbol, tf, from_date, to_date)"
   ]
  },
  {
   "cell_type": "code",
   "execution_count": null,
   "metadata": {},
   "outputs": [],
   "source": []
  }
 ],
 "metadata": {
  "interpreter": {
   "hash": "b54cb9753f1fc2478effd5c05200ae4f0e3c44cd8f27e179dabba8365c7dc822"
  },
  "kernelspec": {
   "display_name": "Python 3.9.1 64-bit",
   "language": "python",
   "name": "python3"
  },
  "language_info": {
   "codemirror_mode": {
    "name": "ipython",
    "version": 3
   },
   "file_extension": ".py",
   "mimetype": "text/x-python",
   "name": "python",
   "nbconvert_exporter": "python",
   "pygments_lexer": "ipython3",
   "version": "3.9.1"
  },
  "orig_nbformat": 4
 },
 "nbformat": 4,
 "nbformat_minor": 2
}
