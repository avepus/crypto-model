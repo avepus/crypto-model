{
 "cells": [
  {
   "cell_type": "code",
   "execution_count": 7,
   "metadata": {},
   "outputs": [],
   "source": [
    "import rba_tools.retriver.get_crypto_data as gcd\n",
    "from pathlib import Path\n",
    "import pandas as pd\n",
    "from datetime import datetime\n",
    "import rba_tools.retriver.database as database\n",
    "import rba_tools.utils as utils"
   ]
  },
  {
   "cell_type": "code",
   "execution_count": 8,
   "metadata": {},
   "outputs": [],
   "source": [
    "retriver = gcd.CCXTDataRetriver('binance')"
   ]
  },
  {
   "cell_type": "code",
   "execution_count": 9,
   "metadata": {},
   "outputs": [
    {
     "data": {
      "text/plain": [
       "datetime.datetime(2020, 1, 1, 0, 0)"
      ]
     },
     "execution_count": 9,
     "metadata": {},
     "output_type": "execute_result"
    }
   ],
   "source": [
    "dt = datetime(2020,1,1)\n",
    "dt"
   ]
  },
  {
   "cell_type": "code",
   "execution_count": 10,
   "metadata": {},
   "outputs": [],
   "source": [
    "symbol = 'ETH/BTC'\n",
    "timeframe = '1h'\n",
    "from_date = datetime(2020, 12, 1)\n",
    "to_date = datetime(2021, 12, 3)\n",
    "retriver = gcd.CCXTDataRetriver('binance')\n",
    "result = retriver.fetch_ohlcv(symbol, timeframe, from_date, to_date)\n",
    "\n"
   ]
  },
  {
   "cell_type": "code",
   "execution_count": 11,
   "metadata": {},
   "outputs": [
    {
     "data": {
      "text/html": [
       "<div>\n",
       "<style scoped>\n",
       "    .dataframe tbody tr th:only-of-type {\n",
       "        vertical-align: middle;\n",
       "    }\n",
       "\n",
       "    .dataframe tbody tr th {\n",
       "        vertical-align: top;\n",
       "    }\n",
       "\n",
       "    .dataframe thead th {\n",
       "        text-align: right;\n",
       "    }\n",
       "</style>\n",
       "<table border=\"1\" class=\"dataframe\">\n",
       "  <thead>\n",
       "    <tr style=\"text-align: right;\">\n",
       "      <th></th>\n",
       "      <th>Open</th>\n",
       "      <th>High</th>\n",
       "      <th>Low</th>\n",
       "      <th>Close</th>\n",
       "      <th>Volume</th>\n",
       "      <th>Symbol</th>\n",
       "      <th>Is_Final_Row</th>\n",
       "    </tr>\n",
       "    <tr>\n",
       "      <th>Timestamp</th>\n",
       "      <th></th>\n",
       "      <th></th>\n",
       "      <th></th>\n",
       "      <th></th>\n",
       "      <th></th>\n",
       "      <th></th>\n",
       "      <th></th>\n",
       "    </tr>\n",
       "  </thead>\n",
       "  <tbody>\n",
       "    <tr>\n",
       "      <th>2020-12-01 00:00:00</th>\n",
       "      <td>0.031310</td>\n",
       "      <td>0.031429</td>\n",
       "      <td>0.030899</td>\n",
       "      <td>0.030949</td>\n",
       "      <td>18090.933</td>\n",
       "      <td>ETH/BTC</td>\n",
       "      <td>NaN</td>\n",
       "    </tr>\n",
       "    <tr>\n",
       "      <th>2020-12-01 01:00:00</th>\n",
       "      <td>0.030950</td>\n",
       "      <td>0.031225</td>\n",
       "      <td>0.030910</td>\n",
       "      <td>0.031160</td>\n",
       "      <td>10379.595</td>\n",
       "      <td>ETH/BTC</td>\n",
       "      <td>NaN</td>\n",
       "    </tr>\n",
       "    <tr>\n",
       "      <th>2020-12-01 02:00:00</th>\n",
       "      <td>0.031161</td>\n",
       "      <td>0.031175</td>\n",
       "      <td>0.030952</td>\n",
       "      <td>0.031046</td>\n",
       "      <td>11040.996</td>\n",
       "      <td>ETH/BTC</td>\n",
       "      <td>NaN</td>\n",
       "    </tr>\n",
       "    <tr>\n",
       "      <th>2020-12-01 03:00:00</th>\n",
       "      <td>0.031046</td>\n",
       "      <td>0.031224</td>\n",
       "      <td>0.030947</td>\n",
       "      <td>0.031155</td>\n",
       "      <td>10851.338</td>\n",
       "      <td>ETH/BTC</td>\n",
       "      <td>NaN</td>\n",
       "    </tr>\n",
       "    <tr>\n",
       "      <th>2020-12-01 04:00:00</th>\n",
       "      <td>0.031156</td>\n",
       "      <td>0.031222</td>\n",
       "      <td>0.031068</td>\n",
       "      <td>0.031187</td>\n",
       "      <td>8739.960</td>\n",
       "      <td>ETH/BTC</td>\n",
       "      <td>NaN</td>\n",
       "    </tr>\n",
       "    <tr>\n",
       "      <th>...</th>\n",
       "      <td>...</td>\n",
       "      <td>...</td>\n",
       "      <td>...</td>\n",
       "      <td>...</td>\n",
       "      <td>...</td>\n",
       "      <td>...</td>\n",
       "      <td>...</td>\n",
       "    </tr>\n",
       "    <tr>\n",
       "      <th>2020-12-21 13:00:00</th>\n",
       "      <td>0.027037</td>\n",
       "      <td>0.027070</td>\n",
       "      <td>0.026836</td>\n",
       "      <td>0.026865</td>\n",
       "      <td>7517.724</td>\n",
       "      <td>ETH/BTC</td>\n",
       "      <td>NaN</td>\n",
       "    </tr>\n",
       "    <tr>\n",
       "      <th>2020-12-21 14:00:00</th>\n",
       "      <td>0.026865</td>\n",
       "      <td>0.026865</td>\n",
       "      <td>0.026865</td>\n",
       "      <td>0.026865</td>\n",
       "      <td>0.000</td>\n",
       "      <td>ETH/BTC</td>\n",
       "      <td>NaN</td>\n",
       "    </tr>\n",
       "    <tr>\n",
       "      <th>2020-12-21 18:00:00</th>\n",
       "      <td>0.026865</td>\n",
       "      <td>0.026875</td>\n",
       "      <td>0.026559</td>\n",
       "      <td>0.026714</td>\n",
       "      <td>9694.996</td>\n",
       "      <td>ETH/BTC</td>\n",
       "      <td>NaN</td>\n",
       "    </tr>\n",
       "    <tr>\n",
       "      <th>2020-12-21 19:00:00</th>\n",
       "      <td>0.026714</td>\n",
       "      <td>0.026865</td>\n",
       "      <td>0.026700</td>\n",
       "      <td>0.026798</td>\n",
       "      <td>4249.350</td>\n",
       "      <td>ETH/BTC</td>\n",
       "      <td>NaN</td>\n",
       "    </tr>\n",
       "    <tr>\n",
       "      <th>2020-12-21 20:00:00</th>\n",
       "      <td>0.026795</td>\n",
       "      <td>0.026819</td>\n",
       "      <td>0.026673</td>\n",
       "      <td>0.026718</td>\n",
       "      <td>3175.072</td>\n",
       "      <td>ETH/BTC</td>\n",
       "      <td>NaN</td>\n",
       "    </tr>\n",
       "  </tbody>\n",
       "</table>\n",
       "<p>498 rows × 7 columns</p>\n",
       "</div>"
      ],
      "text/plain": [
       "                         Open      High       Low     Close     Volume  \\\n",
       "Timestamp                                                                \n",
       "2020-12-01 00:00:00  0.031310  0.031429  0.030899  0.030949  18090.933   \n",
       "2020-12-01 01:00:00  0.030950  0.031225  0.030910  0.031160  10379.595   \n",
       "2020-12-01 02:00:00  0.031161  0.031175  0.030952  0.031046  11040.996   \n",
       "2020-12-01 03:00:00  0.031046  0.031224  0.030947  0.031155  10851.338   \n",
       "2020-12-01 04:00:00  0.031156  0.031222  0.031068  0.031187   8739.960   \n",
       "...                       ...       ...       ...       ...        ...   \n",
       "2020-12-21 13:00:00  0.027037  0.027070  0.026836  0.026865   7517.724   \n",
       "2020-12-21 14:00:00  0.026865  0.026865  0.026865  0.026865      0.000   \n",
       "2020-12-21 18:00:00  0.026865  0.026875  0.026559  0.026714   9694.996   \n",
       "2020-12-21 19:00:00  0.026714  0.026865  0.026700  0.026798   4249.350   \n",
       "2020-12-21 20:00:00  0.026795  0.026819  0.026673  0.026718   3175.072   \n",
       "\n",
       "                      Symbol  Is_Final_Row  \n",
       "Timestamp                                   \n",
       "2020-12-01 00:00:00  ETH/BTC           NaN  \n",
       "2020-12-01 01:00:00  ETH/BTC           NaN  \n",
       "2020-12-01 02:00:00  ETH/BTC           NaN  \n",
       "2020-12-01 03:00:00  ETH/BTC           NaN  \n",
       "2020-12-01 04:00:00  ETH/BTC           NaN  \n",
       "...                      ...           ...  \n",
       "2020-12-21 13:00:00  ETH/BTC           NaN  \n",
       "2020-12-21 14:00:00  ETH/BTC           NaN  \n",
       "2020-12-21 18:00:00  ETH/BTC           NaN  \n",
       "2020-12-21 19:00:00  ETH/BTC           NaN  \n",
       "2020-12-21 20:00:00  ETH/BTC           NaN  \n",
       "\n",
       "[498 rows x 7 columns]"
      ]
     },
     "execution_count": 11,
     "metadata": {},
     "output_type": "execute_result"
    }
   ],
   "source": [
    "result"
   ]
  },
  {
   "cell_type": "code",
   "execution_count": 14,
   "metadata": {},
   "outputs": [
    {
     "data": {
      "text/plain": [
       "NaT"
      ]
     },
     "execution_count": 14,
     "metadata": {},
     "output_type": "execute_result"
    }
   ],
   "source": [
    "utils.get_table_name_from_dataframe(result)"
   ]
  },
  {
   "cell_type": "code",
   "execution_count": 19,
   "metadata": {},
   "outputs": [
    {
     "data": {
      "text/plain": [
       "Timedelta('0 days 01:00:00')"
      ]
     },
     "execution_count": 19,
     "metadata": {},
     "output_type": "execute_result"
    }
   ],
   "source": [
    "mymin = min(result.index.to_series().diff().dropna())\n",
    "mymin"
   ]
  },
  {
   "cell_type": "code",
   "execution_count": 22,
   "metadata": {},
   "outputs": [
    {
     "data": {
      "text/plain": [
       "3600.0"
      ]
     },
     "execution_count": 22,
     "metadata": {},
     "output_type": "execute_result"
    }
   ],
   "source": [
    "mymin.total_seconds()"
   ]
  },
  {
   "cell_type": "code",
   "execution_count": 12,
   "metadata": {},
   "outputs": [
    {
     "data": {
      "text/plain": [
       "<rba_tools.retriver.get_crypto_data.PandasToSQLStoreer at 0x1f789da0910>"
      ]
     },
     "execution_count": 12,
     "metadata": {},
     "output_type": "execute_result"
    }
   ],
   "source": [
    "storeer = gcd.PandasToSQLStoreer()\n",
    "storeer"
   ]
  },
  {
   "cell_type": "code",
   "execution_count": 13,
   "metadata": {},
   "outputs": [
    {
     "ename": "AttributeError",
     "evalue": "__enter__",
     "output_type": "error",
     "traceback": [
      "\u001b[1;31m---------------------------------------------------------------------------\u001b[0m",
      "\u001b[1;31mAttributeError\u001b[0m                            Traceback (most recent call last)",
      "\u001b[1;32m<ipython-input-13-25b64cebb403>\u001b[0m in \u001b[0;36m<module>\u001b[1;34m\u001b[0m\n\u001b[1;32m----> 1\u001b[1;33m \u001b[0mstoreer\u001b[0m\u001b[1;33m.\u001b[0m\u001b[0msave_ohlcv\u001b[0m\u001b[1;33m(\u001b[0m\u001b[0mdatabase\u001b[0m\u001b[1;33m.\u001b[0m\u001b[0mSQLite3OHLCVDatabase\u001b[0m\u001b[1;33m,\u001b[0m \u001b[0mresult\u001b[0m\u001b[1;33m,\u001b[0m \u001b[0mtimeframe\u001b[0m\u001b[1;33m,\u001b[0m \u001b[0mtest\u001b[0m\u001b[1;33m=\u001b[0m\u001b[1;32mTrue\u001b[0m\u001b[1;33m)\u001b[0m\u001b[1;33m\u001b[0m\u001b[1;33m\u001b[0m\u001b[0m\n\u001b[0m",
      "\u001b[1;32mc:\\users\\avery\\documents\\github\\rba_tools_project\\rba_tools\\retriver\\get_crypto_data.py\u001b[0m in \u001b[0;36msave_ohlcv\u001b[1;34m(self, OHLCVDatabase, data, timeframe, test)\u001b[0m\n\u001b[0;32m    127\u001b[0m         \u001b[1;34m\"\"\"save pandas dataframe of OHLCV data using the to_sql function\"\"\"\u001b[0m\u001b[1;33m\u001b[0m\u001b[1;33m\u001b[0m\u001b[0m\n\u001b[0;32m    128\u001b[0m         \u001b[0mtable_name\u001b[0m \u001b[1;33m=\u001b[0m \u001b[0mget_table_name\u001b[0m\u001b[1;33m(\u001b[0m\u001b[0mtimeframe\u001b[0m\u001b[1;33m)\u001b[0m\u001b[1;33m\u001b[0m\u001b[1;33m\u001b[0m\u001b[0m\n\u001b[1;32m--> 129\u001b[1;33m         \u001b[1;32mwith\u001b[0m \u001b[0mOHLCVDatabase\u001b[0m\u001b[1;33m(\u001b[0m\u001b[0mtest\u001b[0m\u001b[1;33m)\u001b[0m \u001b[1;32mas\u001b[0m \u001b[0mconnection\u001b[0m\u001b[1;33m:\u001b[0m\u001b[1;33m\u001b[0m\u001b[1;33m\u001b[0m\u001b[0m\n\u001b[0m\u001b[0;32m    130\u001b[0m             \u001b[0mdata\u001b[0m\u001b[1;33m.\u001b[0m\u001b[0mto_sql\u001b[0m\u001b[1;33m(\u001b[0m\u001b[0mtable_name\u001b[0m\u001b[1;33m,\u001b[0m \u001b[0mconnection\u001b[0m\u001b[1;33m,\u001b[0m \u001b[0mif_exists\u001b[0m\u001b[1;33m=\u001b[0m\u001b[1;34m'append'\u001b[0m\u001b[1;33m)\u001b[0m\u001b[1;33m\u001b[0m\u001b[1;33m\u001b[0m\u001b[0m\n\u001b[0;32m    131\u001b[0m \u001b[1;33m\u001b[0m\u001b[0m\n",
      "\u001b[1;31mAttributeError\u001b[0m: __enter__"
     ]
    }
   ],
   "source": [
    "storeer.save_ohlcv(database.SQLite3OHLCVDatabase, result, timeframe, test=True)"
   ]
  },
  {
   "cell_type": "code",
   "execution_count": null,
   "metadata": {},
   "outputs": [],
   "source": [
    "db_retriever = gcd.SQLite3DatabaseRetriver(database.SQLite3OHLCVDatabase(True))"
   ]
  },
  {
   "cell_type": "code",
   "execution_count": null,
   "metadata": {},
   "outputs": [
    {
     "data": {
      "text/plain": [
       "[]"
      ]
     },
     "execution_count": 21,
     "metadata": {},
     "output_type": "execute_result"
    }
   ],
   "source": [
    "db_data = db_retriever.fetch_ohlcv(symbol, timeframe, from_date, to_date)\n",
    "db_data"
   ]
  },
  {
   "cell_type": "code",
   "execution_count": null,
   "metadata": {},
   "outputs": [
    {
     "data": {
      "text/plain": [
       "\"SELECT * FROM TIMEFRAME_1H \\n            WHERE Symbol = 'ETH/BTC'\\n            and TIMESTAMP >= 1606780800000\\n            and TIMESTAMP <= 1638489600000\""
      ]
     },
     "execution_count": 22,
     "metadata": {},
     "output_type": "execute_result"
    }
   ],
   "source": [
    "query = db_retriever.get_query(symbol, timeframe, from_date, to_date)\n",
    "query"
   ]
  },
  {
   "cell_type": "code",
   "execution_count": null,
   "metadata": {},
   "outputs": [
    {
     "data": {
      "text/plain": [
       "[]"
      ]
     },
     "execution_count": 23,
     "metadata": {},
     "output_type": "execute_result"
    }
   ],
   "source": [
    "mydb = database.SQLite3OHLCVDatabase(True)\n",
    "mydb.execute_query(query)"
   ]
  },
  {
   "cell_type": "code",
   "execution_count": null,
   "metadata": {},
   "outputs": [
    {
     "data": {
      "text/plain": [
       "[]"
      ]
     },
     "execution_count": 24,
     "metadata": {},
     "output_type": "execute_result"
    }
   ],
   "source": [
    "db_data"
   ]
  },
  {
   "cell_type": "code",
   "execution_count": null,
   "metadata": {},
   "outputs": [],
   "source": []
  }
 ],
 "metadata": {
  "interpreter": {
   "hash": "b54cb9753f1fc2478effd5c05200ae4f0e3c44cd8f27e179dabba8365c7dc822"
  },
  "kernelspec": {
   "display_name": "Python 3.9.1 64-bit",
   "name": "python3"
  },
  "language_info": {
   "codemirror_mode": {
    "name": "ipython",
    "version": 3
   },
   "file_extension": ".py",
   "mimetype": "text/x-python",
   "name": "python",
   "nbconvert_exporter": "python",
   "pygments_lexer": "ipython3",
   "version": "3.9.1"
  }
 },
 "nbformat": 4,
 "nbformat_minor": 4
}
