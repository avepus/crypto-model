{
 "cells": [
  {
   "cell_type": "code",
   "execution_count": 9,
   "metadata": {},
   "outputs": [],
   "source": [
    "import rba_tools.retriver.get_crypto_data as gcd\n",
    "from pathlib import Path\n",
    "import pandas as pd\n",
    "from datetime import datetime, date, time\n",
    "import rba_tools.utils as utils"
   ]
  },
  {
   "cell_type": "code",
   "execution_count": 2,
   "metadata": {},
   "outputs": [],
   "source": [
    "retriver = gcd.CCXTDataRetriver('binance')"
   ]
  },
  {
   "cell_type": "code",
   "execution_count": 3,
   "metadata": {},
   "outputs": [
    {
     "data": {
      "text/plain": [
       "datetime.datetime(2020, 1, 1, 0, 0)"
      ]
     },
     "execution_count": 3,
     "metadata": {},
     "output_type": "execute_result"
    }
   ],
   "source": [
    "dt = datetime(2020,1,1)\n",
    "dt"
   ]
  },
  {
   "cell_type": "code",
   "execution_count": 4,
   "metadata": {},
   "outputs": [
    {
     "name": "stdout",
     "output_type": "stream",
     "text": [
      "Fetching ETH/BTC market data from Binance. call #1\n",
      "Fetching ETH/BTC market data from Binance. call #2\n",
      "Fetching ETH/BTC market data from Binance. call #3\n"
     ]
    }
   ],
   "source": [
    "symbol = 'ETH/BTC'\n",
    "timeframe = '1d'\n",
    "from_date = datetime(2019, 12, 1)\n",
    "to_date = datetime(2021, 12, 3)\n",
    "retriver = gcd.CCXTDataRetriver('binance')\n",
    "result = retriver.fetch_ohlcv(symbol, timeframe, from_date, to_date)\n",
    "\n"
   ]
  },
  {
   "cell_type": "code",
   "execution_count": 5,
   "metadata": {},
   "outputs": [
    {
     "data": {
      "text/html": [
       "<div>\n",
       "<style scoped>\n",
       "    .dataframe tbody tr th:only-of-type {\n",
       "        vertical-align: middle;\n",
       "    }\n",
       "\n",
       "    .dataframe tbody tr th {\n",
       "        vertical-align: top;\n",
       "    }\n",
       "\n",
       "    .dataframe thead th {\n",
       "        text-align: right;\n",
       "    }\n",
       "</style>\n",
       "<table border=\"1\" class=\"dataframe\">\n",
       "  <thead>\n",
       "    <tr style=\"text-align: right;\">\n",
       "      <th></th>\n",
       "      <th>Open</th>\n",
       "      <th>High</th>\n",
       "      <th>Low</th>\n",
       "      <th>Close</th>\n",
       "      <th>Volume</th>\n",
       "      <th>Symbol</th>\n",
       "      <th>Is_Final_Row</th>\n",
       "    </tr>\n",
       "    <tr>\n",
       "      <th>Timestamp</th>\n",
       "      <th></th>\n",
       "      <th></th>\n",
       "      <th></th>\n",
       "      <th></th>\n",
       "      <th></th>\n",
       "      <th></th>\n",
       "      <th></th>\n",
       "    </tr>\n",
       "  </thead>\n",
       "  <tbody>\n",
       "    <tr>\n",
       "      <th>2019-12-02</th>\n",
       "      <td>0.020392</td>\n",
       "      <td>0.020530</td>\n",
       "      <td>0.020220</td>\n",
       "      <td>0.020378</td>\n",
       "      <td>92870.1650</td>\n",
       "      <td>ETH/BTC</td>\n",
       "      <td>NaN</td>\n",
       "    </tr>\n",
       "    <tr>\n",
       "      <th>2019-12-03</th>\n",
       "      <td>0.020378</td>\n",
       "      <td>0.020401</td>\n",
       "      <td>0.020120</td>\n",
       "      <td>0.020175</td>\n",
       "      <td>89803.6480</td>\n",
       "      <td>ETH/BTC</td>\n",
       "      <td>NaN</td>\n",
       "    </tr>\n",
       "    <tr>\n",
       "      <th>2019-12-04</th>\n",
       "      <td>0.020181</td>\n",
       "      <td>0.020373</td>\n",
       "      <td>0.019500</td>\n",
       "      <td>0.020212</td>\n",
       "      <td>151509.3480</td>\n",
       "      <td>ETH/BTC</td>\n",
       "      <td>NaN</td>\n",
       "    </tr>\n",
       "    <tr>\n",
       "      <th>2019-12-05</th>\n",
       "      <td>0.020217</td>\n",
       "      <td>0.020245</td>\n",
       "      <td>0.019776</td>\n",
       "      <td>0.020046</td>\n",
       "      <td>115132.4250</td>\n",
       "      <td>ETH/BTC</td>\n",
       "      <td>NaN</td>\n",
       "    </tr>\n",
       "    <tr>\n",
       "      <th>2019-12-06</th>\n",
       "      <td>0.020045</td>\n",
       "      <td>0.020106</td>\n",
       "      <td>0.019677</td>\n",
       "      <td>0.019721</td>\n",
       "      <td>102441.8230</td>\n",
       "      <td>ETH/BTC</td>\n",
       "      <td>NaN</td>\n",
       "    </tr>\n",
       "    <tr>\n",
       "      <th>...</th>\n",
       "      <td>...</td>\n",
       "      <td>...</td>\n",
       "      <td>...</td>\n",
       "      <td>...</td>\n",
       "      <td>...</td>\n",
       "      <td>...</td>\n",
       "      <td>...</td>\n",
       "    </tr>\n",
       "    <tr>\n",
       "      <th>2021-11-16</th>\n",
       "      <td>0.071741</td>\n",
       "      <td>0.071940</td>\n",
       "      <td>0.069553</td>\n",
       "      <td>0.070067</td>\n",
       "      <td>96158.6391</td>\n",
       "      <td>ETH/BTC</td>\n",
       "      <td>NaN</td>\n",
       "    </tr>\n",
       "    <tr>\n",
       "      <th>2021-11-17</th>\n",
       "      <td>0.070072</td>\n",
       "      <td>0.071163</td>\n",
       "      <td>0.069400</td>\n",
       "      <td>0.071067</td>\n",
       "      <td>88413.3229</td>\n",
       "      <td>ETH/BTC</td>\n",
       "      <td>NaN</td>\n",
       "    </tr>\n",
       "    <tr>\n",
       "      <th>2021-11-18</th>\n",
       "      <td>0.071072</td>\n",
       "      <td>0.071628</td>\n",
       "      <td>0.069691</td>\n",
       "      <td>0.070247</td>\n",
       "      <td>91722.3590</td>\n",
       "      <td>ETH/BTC</td>\n",
       "      <td>NaN</td>\n",
       "    </tr>\n",
       "    <tr>\n",
       "      <th>2021-11-19</th>\n",
       "      <td>0.070254</td>\n",
       "      <td>0.074326</td>\n",
       "      <td>0.070043</td>\n",
       "      <td>0.073974</td>\n",
       "      <td>100332.0346</td>\n",
       "      <td>ETH/BTC</td>\n",
       "      <td>NaN</td>\n",
       "    </tr>\n",
       "    <tr>\n",
       "      <th>2021-11-20</th>\n",
       "      <td>0.073976</td>\n",
       "      <td>0.074152</td>\n",
       "      <td>0.073000</td>\n",
       "      <td>0.073487</td>\n",
       "      <td>50190.9509</td>\n",
       "      <td>ETH/BTC</td>\n",
       "      <td>NaN</td>\n",
       "    </tr>\n",
       "  </tbody>\n",
       "</table>\n",
       "<p>720 rows × 7 columns</p>\n",
       "</div>"
      ],
      "text/plain": [
       "                Open      High       Low     Close       Volume   Symbol  \\\n",
       "Timestamp                                                                  \n",
       "2019-12-02  0.020392  0.020530  0.020220  0.020378   92870.1650  ETH/BTC   \n",
       "2019-12-03  0.020378  0.020401  0.020120  0.020175   89803.6480  ETH/BTC   \n",
       "2019-12-04  0.020181  0.020373  0.019500  0.020212  151509.3480  ETH/BTC   \n",
       "2019-12-05  0.020217  0.020245  0.019776  0.020046  115132.4250  ETH/BTC   \n",
       "2019-12-06  0.020045  0.020106  0.019677  0.019721  102441.8230  ETH/BTC   \n",
       "...              ...       ...       ...       ...          ...      ...   \n",
       "2021-11-16  0.071741  0.071940  0.069553  0.070067   96158.6391  ETH/BTC   \n",
       "2021-11-17  0.070072  0.071163  0.069400  0.071067   88413.3229  ETH/BTC   \n",
       "2021-11-18  0.071072  0.071628  0.069691  0.070247   91722.3590  ETH/BTC   \n",
       "2021-11-19  0.070254  0.074326  0.070043  0.073974  100332.0346  ETH/BTC   \n",
       "2021-11-20  0.073976  0.074152  0.073000  0.073487   50190.9509  ETH/BTC   \n",
       "\n",
       "            Is_Final_Row  \n",
       "Timestamp                 \n",
       "2019-12-02           NaN  \n",
       "2019-12-03           NaN  \n",
       "2019-12-04           NaN  \n",
       "2019-12-05           NaN  \n",
       "2019-12-06           NaN  \n",
       "...                  ...  \n",
       "2021-11-16           NaN  \n",
       "2021-11-17           NaN  \n",
       "2021-11-18           NaN  \n",
       "2021-11-19           NaN  \n",
       "2021-11-20           NaN  \n",
       "\n",
       "[720 rows x 7 columns]"
      ]
     },
     "execution_count": 5,
     "metadata": {},
     "output_type": "execute_result"
    }
   ],
   "source": [
    "result"
   ]
  },
  {
   "cell_type": "code",
   "execution_count": 6,
   "metadata": {},
   "outputs": [
    {
     "data": {
      "text/plain": [
       "1606802400000.0"
      ]
     },
     "execution_count": 6,
     "metadata": {},
     "output_type": "execute_result"
    }
   ],
   "source": [
    "from_date.timestamp() * 1000"
   ]
  },
  {
   "cell_type": "code",
   "execution_count": 15,
   "metadata": {},
   "outputs": [
    {
     "data": {
      "text/plain": [
       "True"
      ]
     },
     "execution_count": 15,
     "metadata": {},
     "output_type": "execute_result"
    }
   ],
   "source": [
    "val=1637107200001\n",
    "any(val == sublist[0] or val < sublist[0] for sublist in li)"
   ]
  },
  {
   "cell_type": "code",
   "execution_count": 17,
   "metadata": {},
   "outputs": [
    {
     "data": {
      "text/plain": [
       "[1637280000000, 0.070254, 0.071401, 0.070043, 0.071291, 7841.4376]"
      ]
     },
     "execution_count": 17,
     "metadata": {},
     "output_type": "execute_result"
    }
   ],
   "source": [
    "li[len(li)-1]"
   ]
  },
  {
   "cell_type": "code",
   "execution_count": 6,
   "metadata": {},
   "outputs": [],
   "source": [
    "db_retriever = gcd.DatabaseRetriver(gcd.SQLite3OHLCVDatabase(True))\n",
    "symbol = 'ETH/BTC'\n",
    "timeframe = '1D'\n",
    "from_date = datetime(2020, 12, 1)\n",
    "to_date = datetime(2020, 12, 3)"
   ]
  },
  {
   "cell_type": "code",
   "execution_count": 7,
   "metadata": {},
   "outputs": [
    {
     "data": {
      "text/html": [
       "<div>\n",
       "<style scoped>\n",
       "    .dataframe tbody tr th:only-of-type {\n",
       "        vertical-align: middle;\n",
       "    }\n",
       "\n",
       "    .dataframe tbody tr th {\n",
       "        vertical-align: top;\n",
       "    }\n",
       "\n",
       "    .dataframe thead th {\n",
       "        text-align: right;\n",
       "    }\n",
       "</style>\n",
       "<table border=\"1\" class=\"dataframe\">\n",
       "  <thead>\n",
       "    <tr style=\"text-align: right;\">\n",
       "      <th></th>\n",
       "      <th>Open</th>\n",
       "      <th>High</th>\n",
       "      <th>Low</th>\n",
       "      <th>Close</th>\n",
       "      <th>Volume</th>\n",
       "      <th>Symbol</th>\n",
       "      <th>Is_Final_Row</th>\n",
       "    </tr>\n",
       "    <tr>\n",
       "      <th>Timestamp</th>\n",
       "      <th></th>\n",
       "      <th></th>\n",
       "      <th></th>\n",
       "      <th></th>\n",
       "      <th></th>\n",
       "      <th></th>\n",
       "      <th></th>\n",
       "    </tr>\n",
       "  </thead>\n",
       "  <tbody>\n",
       "    <tr>\n",
       "      <th>2020-12-01 00:00:00</th>\n",
       "      <td>0.031310</td>\n",
       "      <td>0.032223</td>\n",
       "      <td>0.030125</td>\n",
       "      <td>0.031189</td>\n",
       "      <td>463240.518</td>\n",
       "      <td>ETH/BTC</td>\n",
       "      <td>NaN</td>\n",
       "    </tr>\n",
       "    <tr>\n",
       "      <th>2020-12-02 00:00:00</th>\n",
       "      <td>0.031189</td>\n",
       "      <td>0.031621</td>\n",
       "      <td>0.030974</td>\n",
       "      <td>0.031091</td>\n",
       "      <td>239428.833</td>\n",
       "      <td>ETH/BTC</td>\n",
       "      <td>NaN</td>\n",
       "    </tr>\n",
       "    <tr>\n",
       "      <th>2020-12-03 00:00:00</th>\n",
       "      <td>0.031091</td>\n",
       "      <td>0.031826</td>\n",
       "      <td>0.030961</td>\n",
       "      <td>0.031709</td>\n",
       "      <td>310741.578</td>\n",
       "      <td>ETH/BTC</td>\n",
       "      <td>NaN</td>\n",
       "    </tr>\n",
       "  </tbody>\n",
       "</table>\n",
       "</div>"
      ],
      "text/plain": [
       "                         Open      High       Low     Close      Volume  \\\n",
       "Timestamp                                                                 \n",
       "2020-12-01 00:00:00  0.031310  0.032223  0.030125  0.031189  463240.518   \n",
       "2020-12-02 00:00:00  0.031189  0.031621  0.030974  0.031091  239428.833   \n",
       "2020-12-03 00:00:00  0.031091  0.031826  0.030961  0.031709  310741.578   \n",
       "\n",
       "                      Symbol  Is_Final_Row  \n",
       "Timestamp                                   \n",
       "2020-12-01 00:00:00  ETH/BTC           NaN  \n",
       "2020-12-02 00:00:00  ETH/BTC           NaN  \n",
       "2020-12-03 00:00:00  ETH/BTC           NaN  "
      ]
     },
     "execution_count": 7,
     "metadata": {},
     "output_type": "execute_result"
    }
   ],
   "source": [
    "db_data = db_retriever.fetch_ohlcv(symbol, timeframe, from_date, to_date)\n",
    "db_data"
   ]
  },
  {
   "cell_type": "code",
   "execution_count": 7,
   "metadata": {},
   "outputs": [
    {
     "name": "stdout",
     "output_type": "stream",
     "text": [
      "Fetching ETH/BTC market data from Binance. call #1\n"
     ]
    }
   ],
   "source": [
    "symbol = 'ETH/BTC'\n",
    "timeframe = '1h'\n",
    "from_date = datetime(2020, 12, 1)\n",
    "to_date = datetime(2020, 12, 20)\n",
    "retriver = gcd.CCXTDataRetriver('binance')\n",
    "result = retriver.fetch_ohlcv(symbol, timeframe, from_date, to_date)\n",
    "\n",
    "file = r'C:\\Users\\Avery\\Documents\\GitHub\\rba_tools_project\\rba_tools\\retriver\\test\\ETH_BTC_1H_2020-1-1.csv'\n",
    "expected = pd.read_csv(file, parse_dates=True, index_col='Timestamp')"
   ]
  },
  {
   "cell_type": "code",
   "execution_count": 8,
   "metadata": {},
   "outputs": [
    {
     "data": {
      "text/html": [
       "<div>\n",
       "<style scoped>\n",
       "    .dataframe tbody tr th:only-of-type {\n",
       "        vertical-align: middle;\n",
       "    }\n",
       "\n",
       "    .dataframe tbody tr th {\n",
       "        vertical-align: top;\n",
       "    }\n",
       "\n",
       "    .dataframe thead th {\n",
       "        text-align: right;\n",
       "    }\n",
       "</style>\n",
       "<table border=\"1\" class=\"dataframe\">\n",
       "  <thead>\n",
       "    <tr style=\"text-align: right;\">\n",
       "      <th></th>\n",
       "      <th>Open</th>\n",
       "      <th>High</th>\n",
       "      <th>Low</th>\n",
       "      <th>Close</th>\n",
       "      <th>Volume</th>\n",
       "      <th>Symbol</th>\n",
       "      <th>Is_Final_Row</th>\n",
       "    </tr>\n",
       "    <tr>\n",
       "      <th>Timestamp</th>\n",
       "      <th></th>\n",
       "      <th></th>\n",
       "      <th></th>\n",
       "      <th></th>\n",
       "      <th></th>\n",
       "      <th></th>\n",
       "      <th></th>\n",
       "    </tr>\n",
       "  </thead>\n",
       "  <tbody>\n",
       "    <tr>\n",
       "      <th>2020-12-01 06:00:00</th>\n",
       "      <td>0.031228</td>\n",
       "      <td>0.031420</td>\n",
       "      <td>0.031228</td>\n",
       "      <td>0.031314</td>\n",
       "      <td>14137.629</td>\n",
       "      <td>ETH/BTC</td>\n",
       "      <td>NaN</td>\n",
       "    </tr>\n",
       "    <tr>\n",
       "      <th>2020-12-01 07:00:00</th>\n",
       "      <td>0.031314</td>\n",
       "      <td>0.031391</td>\n",
       "      <td>0.031250</td>\n",
       "      <td>0.031295</td>\n",
       "      <td>10444.733</td>\n",
       "      <td>ETH/BTC</td>\n",
       "      <td>NaN</td>\n",
       "    </tr>\n",
       "    <tr>\n",
       "      <th>2020-12-01 08:00:00</th>\n",
       "      <td>0.031301</td>\n",
       "      <td>0.031349</td>\n",
       "      <td>0.031244</td>\n",
       "      <td>0.031294</td>\n",
       "      <td>10831.398</td>\n",
       "      <td>ETH/BTC</td>\n",
       "      <td>NaN</td>\n",
       "    </tr>\n",
       "    <tr>\n",
       "      <th>2020-12-01 09:00:00</th>\n",
       "      <td>0.031292</td>\n",
       "      <td>0.031411</td>\n",
       "      <td>0.031266</td>\n",
       "      <td>0.031408</td>\n",
       "      <td>12025.431</td>\n",
       "      <td>ETH/BTC</td>\n",
       "      <td>NaN</td>\n",
       "    </tr>\n",
       "    <tr>\n",
       "      <th>2020-12-01 10:00:00</th>\n",
       "      <td>0.031411</td>\n",
       "      <td>0.031814</td>\n",
       "      <td>0.031375</td>\n",
       "      <td>0.031798</td>\n",
       "      <td>32108.350</td>\n",
       "      <td>ETH/BTC</td>\n",
       "      <td>NaN</td>\n",
       "    </tr>\n",
       "    <tr>\n",
       "      <th>...</th>\n",
       "      <td>...</td>\n",
       "      <td>...</td>\n",
       "      <td>...</td>\n",
       "      <td>...</td>\n",
       "      <td>...</td>\n",
       "      <td>...</td>\n",
       "      <td>...</td>\n",
       "    </tr>\n",
       "    <tr>\n",
       "      <th>2020-12-19 20:00:00</th>\n",
       "      <td>0.027688</td>\n",
       "      <td>0.027919</td>\n",
       "      <td>0.027642</td>\n",
       "      <td>0.027890</td>\n",
       "      <td>8985.533</td>\n",
       "      <td>ETH/BTC</td>\n",
       "      <td>NaN</td>\n",
       "    </tr>\n",
       "    <tr>\n",
       "      <th>2020-12-19 21:00:00</th>\n",
       "      <td>0.027891</td>\n",
       "      <td>0.028026</td>\n",
       "      <td>0.027753</td>\n",
       "      <td>0.027779</td>\n",
       "      <td>8798.258</td>\n",
       "      <td>ETH/BTC</td>\n",
       "      <td>NaN</td>\n",
       "    </tr>\n",
       "    <tr>\n",
       "      <th>2020-12-19 22:00:00</th>\n",
       "      <td>0.027782</td>\n",
       "      <td>0.027833</td>\n",
       "      <td>0.027673</td>\n",
       "      <td>0.027739</td>\n",
       "      <td>4920.983</td>\n",
       "      <td>ETH/BTC</td>\n",
       "      <td>NaN</td>\n",
       "    </tr>\n",
       "    <tr>\n",
       "      <th>2020-12-19 23:00:00</th>\n",
       "      <td>0.027743</td>\n",
       "      <td>0.027805</td>\n",
       "      <td>0.027603</td>\n",
       "      <td>0.027621</td>\n",
       "      <td>7167.566</td>\n",
       "      <td>ETH/BTC</td>\n",
       "      <td>NaN</td>\n",
       "    </tr>\n",
       "    <tr>\n",
       "      <th>2020-12-20 00:00:00</th>\n",
       "      <td>0.027622</td>\n",
       "      <td>0.027753</td>\n",
       "      <td>0.027578</td>\n",
       "      <td>0.027602</td>\n",
       "      <td>11449.804</td>\n",
       "      <td>ETH/BTC</td>\n",
       "      <td>NaN</td>\n",
       "    </tr>\n",
       "  </tbody>\n",
       "</table>\n",
       "<p>451 rows × 7 columns</p>\n",
       "</div>"
      ],
      "text/plain": [
       "                         Open      High       Low     Close     Volume  \\\n",
       "Timestamp                                                                \n",
       "2020-12-01 06:00:00  0.031228  0.031420  0.031228  0.031314  14137.629   \n",
       "2020-12-01 07:00:00  0.031314  0.031391  0.031250  0.031295  10444.733   \n",
       "2020-12-01 08:00:00  0.031301  0.031349  0.031244  0.031294  10831.398   \n",
       "2020-12-01 09:00:00  0.031292  0.031411  0.031266  0.031408  12025.431   \n",
       "2020-12-01 10:00:00  0.031411  0.031814  0.031375  0.031798  32108.350   \n",
       "...                       ...       ...       ...       ...        ...   \n",
       "2020-12-19 20:00:00  0.027688  0.027919  0.027642  0.027890   8985.533   \n",
       "2020-12-19 21:00:00  0.027891  0.028026  0.027753  0.027779   8798.258   \n",
       "2020-12-19 22:00:00  0.027782  0.027833  0.027673  0.027739   4920.983   \n",
       "2020-12-19 23:00:00  0.027743  0.027805  0.027603  0.027621   7167.566   \n",
       "2020-12-20 00:00:00  0.027622  0.027753  0.027578  0.027602  11449.804   \n",
       "\n",
       "                      Symbol  Is_Final_Row  \n",
       "Timestamp                                   \n",
       "2020-12-01 06:00:00  ETH/BTC           NaN  \n",
       "2020-12-01 07:00:00  ETH/BTC           NaN  \n",
       "2020-12-01 08:00:00  ETH/BTC           NaN  \n",
       "2020-12-01 09:00:00  ETH/BTC           NaN  \n",
       "2020-12-01 10:00:00  ETH/BTC           NaN  \n",
       "...                      ...           ...  \n",
       "2020-12-19 20:00:00  ETH/BTC           NaN  \n",
       "2020-12-19 21:00:00  ETH/BTC           NaN  \n",
       "2020-12-19 22:00:00  ETH/BTC           NaN  \n",
       "2020-12-19 23:00:00  ETH/BTC           NaN  \n",
       "2020-12-20 00:00:00  ETH/BTC           NaN  \n",
       "\n",
       "[451 rows x 7 columns]"
      ]
     },
     "execution_count": 8,
     "metadata": {},
     "output_type": "execute_result"
    }
   ],
   "source": [
    "result"
   ]
  },
  {
   "cell_type": "code",
   "execution_count": 10,
   "metadata": {},
   "outputs": [],
   "source": [
    "mydt = date(1,1,21)"
   ]
  },
  {
   "cell_type": "code",
   "execution_count": 11,
   "metadata": {},
   "outputs": [
    {
     "data": {
      "text/plain": [
       "datetime.date(1, 1, 21)"
      ]
     },
     "execution_count": 11,
     "metadata": {},
     "output_type": "execute_result"
    }
   ],
   "source": [
    "mydt"
   ]
  },
  {
   "cell_type": "code",
   "execution_count": 13,
   "metadata": {},
   "outputs": [
    {
     "ename": "AttributeError",
     "evalue": "'datetime.date' object has no attribute 'timestamp'",
     "output_type": "error",
     "traceback": [
      "\u001b[1;31m---------------------------------------------------------------------------\u001b[0m",
      "\u001b[1;31mAttributeError\u001b[0m                            Traceback (most recent call last)",
      "\u001b[1;32m<ipython-input-13-516e726bb081>\u001b[0m in \u001b[0;36m<module>\u001b[1;34m\u001b[0m\n\u001b[1;32m----> 1\u001b[1;33m \u001b[0mmydt\u001b[0m\u001b[1;33m.\u001b[0m\u001b[0mtimestamp\u001b[0m\u001b[1;33m(\u001b[0m\u001b[1;33m)\u001b[0m\u001b[1;33m\u001b[0m\u001b[1;33m\u001b[0m\u001b[0m\n\u001b[0m",
      "\u001b[1;31mAttributeError\u001b[0m: 'datetime.date' object has no attribute 'timestamp'"
     ]
    }
   ],
   "source": [
    "mydt.timestamp()"
   ]
  },
  {
   "cell_type": "code",
   "execution_count": 14,
   "metadata": {},
   "outputs": [
    {
     "ename": "TypeError",
     "evalue": "an integer is required (got type datetime.date)",
     "output_type": "error",
     "traceback": [
      "\u001b[1;31m---------------------------------------------------------------------------\u001b[0m",
      "\u001b[1;31mTypeError\u001b[0m                                 Traceback (most recent call last)",
      "\u001b[1;32m<ipython-input-14-ec7e9da1a37b>\u001b[0m in \u001b[0;36m<module>\u001b[1;34m\u001b[0m\n\u001b[1;32m----> 1\u001b[1;33m \u001b[0mdtme\u001b[0m \u001b[1;33m=\u001b[0m \u001b[0mdatetime\u001b[0m\u001b[1;33m(\u001b[0m\u001b[0mmydt\u001b[0m\u001b[1;33m)\u001b[0m\u001b[1;33m\u001b[0m\u001b[1;33m\u001b[0m\u001b[0m\n\u001b[0m\u001b[0;32m      2\u001b[0m \u001b[0mdtme\u001b[0m\u001b[1;33m\u001b[0m\u001b[1;33m\u001b[0m\u001b[0m\n",
      "\u001b[1;31mTypeError\u001b[0m: an integer is required (got type datetime.date)"
     ]
    }
   ],
   "source": [
    "dtme = datetime(mydt)\n",
    "dtme"
   ]
  },
  {
   "cell_type": "code",
   "execution_count": 21,
   "metadata": {},
   "outputs": [
    {
     "data": {
      "text/plain": [
       "datetime.datetime(1, 1, 21, 0, 0)"
      ]
     },
     "execution_count": 21,
     "metadata": {},
     "output_type": "execute_result"
    }
   ],
   "source": [
    "test = datetime.combine(mydt, datetime.min.time())\n",
    "test"
   ]
  },
  {
   "cell_type": "code",
   "execution_count": 20,
   "metadata": {},
   "outputs": [
    {
     "data": {
      "text/plain": [
       "datetime.time(0, 0)"
      ]
     },
     "execution_count": 20,
     "metadata": {},
     "output_type": "execute_result"
    }
   ],
   "source": [
    "datetime.min.time()"
   ]
  },
  {
   "cell_type": "code",
   "execution_count": null,
   "metadata": {},
   "outputs": [],
   "source": []
  }
 ],
 "metadata": {
  "interpreter": {
   "hash": "b54cb9753f1fc2478effd5c05200ae4f0e3c44cd8f27e179dabba8365c7dc822"
  },
  "kernelspec": {
   "display_name": "Python 3.9.1 64-bit",
   "name": "python3"
  },
  "language_info": {
   "codemirror_mode": {
    "name": "ipython",
    "version": 3
   },
   "file_extension": ".py",
   "mimetype": "text/x-python",
   "name": "python",
   "nbconvert_exporter": "python",
   "pygments_lexer": "ipython3",
   "version": "3.9.1"
  }
 },
 "nbformat": 4,
 "nbformat_minor": 4
}
