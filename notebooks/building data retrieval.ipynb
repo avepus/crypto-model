{
 "cells": [
  {
   "cell_type": "code",
   "execution_count": 7,
   "metadata": {},
   "outputs": [],
   "source": [
    "import rba_tools.retriver.get_crypto_data as gcd\n",
    "from pathlib import Path\n",
    "import pandas as pd\n",
    "from datetime import datetime, date, timedelta\n",
    "import rba_tools.utils as utils\n",
    "from dateutil import parser"
   ]
  },
  {
   "cell_type": "code",
   "execution_count": 2,
   "metadata": {},
   "outputs": [],
   "source": [
    "retriver = gcd.CCXTDataRetriver('binance')"
   ]
  },
  {
   "cell_type": "code",
   "execution_count": 3,
   "metadata": {},
   "outputs": [
    {
     "data": {
      "text/plain": [
       "datetime.datetime(2020, 1, 1, 0, 0)"
      ]
     },
     "execution_count": 3,
     "metadata": {},
     "output_type": "execute_result"
    }
   ],
   "source": [
    "dt = datetime(2020,1,1)\n",
    "dt"
   ]
  },
  {
   "cell_type": "code",
   "execution_count": 4,
   "metadata": {},
   "outputs": [
    {
     "name": "stdout",
     "output_type": "stream",
     "text": [
      "Fetching ETH/BTC market data from Binance. call #1\n",
      "Fetching ETH/BTC market data from Binance. call #2\n",
      "Fetching ETH/BTC market data from Binance. call #3\n"
     ]
    }
   ],
   "source": [
    "symbol = 'ETH/BTC'\n",
    "timeframe = '1d'\n",
    "from_date = datetime(2019, 12, 1)\n",
    "to_date = datetime(2021, 12, 3)\n",
    "retriver = gcd.CCXTDataRetriver('binance')\n",
    "result = retriver.fetch_ohlcv(symbol, timeframe, from_date, to_date)\n",
    "\n"
   ]
  },
  {
   "cell_type": "code",
   "execution_count": 5,
   "metadata": {},
   "outputs": [
    {
     "data": {
      "text/html": [
       "<div>\n",
       "<style scoped>\n",
       "    .dataframe tbody tr th:only-of-type {\n",
       "        vertical-align: middle;\n",
       "    }\n",
       "\n",
       "    .dataframe tbody tr th {\n",
       "        vertical-align: top;\n",
       "    }\n",
       "\n",
       "    .dataframe thead th {\n",
       "        text-align: right;\n",
       "    }\n",
       "</style>\n",
       "<table border=\"1\" class=\"dataframe\">\n",
       "  <thead>\n",
       "    <tr style=\"text-align: right;\">\n",
       "      <th></th>\n",
       "      <th>Open</th>\n",
       "      <th>High</th>\n",
       "      <th>Low</th>\n",
       "      <th>Close</th>\n",
       "      <th>Volume</th>\n",
       "      <th>Symbol</th>\n",
       "      <th>Is_Final_Row</th>\n",
       "    </tr>\n",
       "    <tr>\n",
       "      <th>Timestamp</th>\n",
       "      <th></th>\n",
       "      <th></th>\n",
       "      <th></th>\n",
       "      <th></th>\n",
       "      <th></th>\n",
       "      <th></th>\n",
       "      <th></th>\n",
       "    </tr>\n",
       "  </thead>\n",
       "  <tbody>\n",
       "    <tr>\n",
       "      <th>2019-12-02</th>\n",
       "      <td>0.020392</td>\n",
       "      <td>0.020530</td>\n",
       "      <td>0.020220</td>\n",
       "      <td>0.020378</td>\n",
       "      <td>92870.1650</td>\n",
       "      <td>ETH/BTC</td>\n",
       "      <td>NaN</td>\n",
       "    </tr>\n",
       "    <tr>\n",
       "      <th>2019-12-03</th>\n",
       "      <td>0.020378</td>\n",
       "      <td>0.020401</td>\n",
       "      <td>0.020120</td>\n",
       "      <td>0.020175</td>\n",
       "      <td>89803.6480</td>\n",
       "      <td>ETH/BTC</td>\n",
       "      <td>NaN</td>\n",
       "    </tr>\n",
       "    <tr>\n",
       "      <th>2019-12-04</th>\n",
       "      <td>0.020181</td>\n",
       "      <td>0.020373</td>\n",
       "      <td>0.019500</td>\n",
       "      <td>0.020212</td>\n",
       "      <td>151509.3480</td>\n",
       "      <td>ETH/BTC</td>\n",
       "      <td>NaN</td>\n",
       "    </tr>\n",
       "    <tr>\n",
       "      <th>2019-12-05</th>\n",
       "      <td>0.020217</td>\n",
       "      <td>0.020245</td>\n",
       "      <td>0.019776</td>\n",
       "      <td>0.020046</td>\n",
       "      <td>115132.4250</td>\n",
       "      <td>ETH/BTC</td>\n",
       "      <td>NaN</td>\n",
       "    </tr>\n",
       "    <tr>\n",
       "      <th>2019-12-06</th>\n",
       "      <td>0.020045</td>\n",
       "      <td>0.020106</td>\n",
       "      <td>0.019677</td>\n",
       "      <td>0.019721</td>\n",
       "      <td>102441.8230</td>\n",
       "      <td>ETH/BTC</td>\n",
       "      <td>NaN</td>\n",
       "    </tr>\n",
       "    <tr>\n",
       "      <th>...</th>\n",
       "      <td>...</td>\n",
       "      <td>...</td>\n",
       "      <td>...</td>\n",
       "      <td>...</td>\n",
       "      <td>...</td>\n",
       "      <td>...</td>\n",
       "      <td>...</td>\n",
       "    </tr>\n",
       "    <tr>\n",
       "      <th>2021-11-16</th>\n",
       "      <td>0.071741</td>\n",
       "      <td>0.071940</td>\n",
       "      <td>0.069553</td>\n",
       "      <td>0.070067</td>\n",
       "      <td>96158.6391</td>\n",
       "      <td>ETH/BTC</td>\n",
       "      <td>NaN</td>\n",
       "    </tr>\n",
       "    <tr>\n",
       "      <th>2021-11-17</th>\n",
       "      <td>0.070072</td>\n",
       "      <td>0.071163</td>\n",
       "      <td>0.069400</td>\n",
       "      <td>0.071067</td>\n",
       "      <td>88413.3229</td>\n",
       "      <td>ETH/BTC</td>\n",
       "      <td>NaN</td>\n",
       "    </tr>\n",
       "    <tr>\n",
       "      <th>2021-11-18</th>\n",
       "      <td>0.071072</td>\n",
       "      <td>0.071628</td>\n",
       "      <td>0.069691</td>\n",
       "      <td>0.070247</td>\n",
       "      <td>91722.3590</td>\n",
       "      <td>ETH/BTC</td>\n",
       "      <td>NaN</td>\n",
       "    </tr>\n",
       "    <tr>\n",
       "      <th>2021-11-19</th>\n",
       "      <td>0.070254</td>\n",
       "      <td>0.074326</td>\n",
       "      <td>0.070043</td>\n",
       "      <td>0.073974</td>\n",
       "      <td>100332.0346</td>\n",
       "      <td>ETH/BTC</td>\n",
       "      <td>NaN</td>\n",
       "    </tr>\n",
       "    <tr>\n",
       "      <th>2021-11-20</th>\n",
       "      <td>0.073976</td>\n",
       "      <td>0.074152</td>\n",
       "      <td>0.073000</td>\n",
       "      <td>0.073487</td>\n",
       "      <td>50190.9509</td>\n",
       "      <td>ETH/BTC</td>\n",
       "      <td>NaN</td>\n",
       "    </tr>\n",
       "  </tbody>\n",
       "</table>\n",
       "<p>720 rows × 7 columns</p>\n",
       "</div>"
      ],
      "text/plain": [
       "                Open      High       Low     Close       Volume   Symbol  \\\n",
       "Timestamp                                                                  \n",
       "2019-12-02  0.020392  0.020530  0.020220  0.020378   92870.1650  ETH/BTC   \n",
       "2019-12-03  0.020378  0.020401  0.020120  0.020175   89803.6480  ETH/BTC   \n",
       "2019-12-04  0.020181  0.020373  0.019500  0.020212  151509.3480  ETH/BTC   \n",
       "2019-12-05  0.020217  0.020245  0.019776  0.020046  115132.4250  ETH/BTC   \n",
       "2019-12-06  0.020045  0.020106  0.019677  0.019721  102441.8230  ETH/BTC   \n",
       "...              ...       ...       ...       ...          ...      ...   \n",
       "2021-11-16  0.071741  0.071940  0.069553  0.070067   96158.6391  ETH/BTC   \n",
       "2021-11-17  0.070072  0.071163  0.069400  0.071067   88413.3229  ETH/BTC   \n",
       "2021-11-18  0.071072  0.071628  0.069691  0.070247   91722.3590  ETH/BTC   \n",
       "2021-11-19  0.070254  0.074326  0.070043  0.073974  100332.0346  ETH/BTC   \n",
       "2021-11-20  0.073976  0.074152  0.073000  0.073487   50190.9509  ETH/BTC   \n",
       "\n",
       "            Is_Final_Row  \n",
       "Timestamp                 \n",
       "2019-12-02           NaN  \n",
       "2019-12-03           NaN  \n",
       "2019-12-04           NaN  \n",
       "2019-12-05           NaN  \n",
       "2019-12-06           NaN  \n",
       "...                  ...  \n",
       "2021-11-16           NaN  \n",
       "2021-11-17           NaN  \n",
       "2021-11-18           NaN  \n",
       "2021-11-19           NaN  \n",
       "2021-11-20           NaN  \n",
       "\n",
       "[720 rows x 7 columns]"
      ]
     },
     "execution_count": 5,
     "metadata": {},
     "output_type": "execute_result"
    }
   ],
   "source": [
    "result"
   ]
  },
  {
   "cell_type": "code",
   "execution_count": 6,
   "metadata": {},
   "outputs": [],
   "source": [
    "db_retriever = gcd.DatabaseRetriver(gcd.SQLite3OHLCVDatabase(True))\n",
    "symbol = 'ETH/BTC'\n",
    "timeframe = '1D'\n",
    "from_date = datetime(2020, 12, 1)\n",
    "to_date = datetime(2020, 12, 3)"
   ]
  },
  {
   "cell_type": "code",
   "execution_count": 7,
   "metadata": {},
   "outputs": [
    {
     "data": {
      "text/html": [
       "<div>\n",
       "<style scoped>\n",
       "    .dataframe tbody tr th:only-of-type {\n",
       "        vertical-align: middle;\n",
       "    }\n",
       "\n",
       "    .dataframe tbody tr th {\n",
       "        vertical-align: top;\n",
       "    }\n",
       "\n",
       "    .dataframe thead th {\n",
       "        text-align: right;\n",
       "    }\n",
       "</style>\n",
       "<table border=\"1\" class=\"dataframe\">\n",
       "  <thead>\n",
       "    <tr style=\"text-align: right;\">\n",
       "      <th></th>\n",
       "      <th>Open</th>\n",
       "      <th>High</th>\n",
       "      <th>Low</th>\n",
       "      <th>Close</th>\n",
       "      <th>Volume</th>\n",
       "      <th>Symbol</th>\n",
       "      <th>Is_Final_Row</th>\n",
       "    </tr>\n",
       "    <tr>\n",
       "      <th>Timestamp</th>\n",
       "      <th></th>\n",
       "      <th></th>\n",
       "      <th></th>\n",
       "      <th></th>\n",
       "      <th></th>\n",
       "      <th></th>\n",
       "      <th></th>\n",
       "    </tr>\n",
       "  </thead>\n",
       "  <tbody>\n",
       "    <tr>\n",
       "      <th>2020-12-01 00:00:00</th>\n",
       "      <td>0.031310</td>\n",
       "      <td>0.032223</td>\n",
       "      <td>0.030125</td>\n",
       "      <td>0.031189</td>\n",
       "      <td>463240.518</td>\n",
       "      <td>ETH/BTC</td>\n",
       "      <td>NaN</td>\n",
       "    </tr>\n",
       "    <tr>\n",
       "      <th>2020-12-02 00:00:00</th>\n",
       "      <td>0.031189</td>\n",
       "      <td>0.031621</td>\n",
       "      <td>0.030974</td>\n",
       "      <td>0.031091</td>\n",
       "      <td>239428.833</td>\n",
       "      <td>ETH/BTC</td>\n",
       "      <td>NaN</td>\n",
       "    </tr>\n",
       "    <tr>\n",
       "      <th>2020-12-03 00:00:00</th>\n",
       "      <td>0.031091</td>\n",
       "      <td>0.031826</td>\n",
       "      <td>0.030961</td>\n",
       "      <td>0.031709</td>\n",
       "      <td>310741.578</td>\n",
       "      <td>ETH/BTC</td>\n",
       "      <td>NaN</td>\n",
       "    </tr>\n",
       "  </tbody>\n",
       "</table>\n",
       "</div>"
      ],
      "text/plain": [
       "                         Open      High       Low     Close      Volume  \\\n",
       "Timestamp                                                                 \n",
       "2020-12-01 00:00:00  0.031310  0.032223  0.030125  0.031189  463240.518   \n",
       "2020-12-02 00:00:00  0.031189  0.031621  0.030974  0.031091  239428.833   \n",
       "2020-12-03 00:00:00  0.031091  0.031826  0.030961  0.031709  310741.578   \n",
       "\n",
       "                      Symbol  Is_Final_Row  \n",
       "Timestamp                                   \n",
       "2020-12-01 00:00:00  ETH/BTC           NaN  \n",
       "2020-12-02 00:00:00  ETH/BTC           NaN  \n",
       "2020-12-03 00:00:00  ETH/BTC           NaN  "
      ]
     },
     "execution_count": 7,
     "metadata": {},
     "output_type": "execute_result"
    }
   ],
   "source": [
    "db_data = db_retriever.fetch_ohlcv(symbol, timeframe, from_date, to_date)\n",
    "db_data"
   ]
  },
  {
   "cell_type": "code",
   "execution_count": 2,
   "metadata": {},
   "outputs": [
    {
     "name": "stdout",
     "output_type": "stream",
     "text": [
      "Fetching ETH/BTC market data from Binance. call #1\n",
      "Fetching ETH/BTC market data from Binance. call #2\n"
     ]
    }
   ],
   "source": [
    "symbol = 'ETH/BTC'\n",
    "timeframe = '1h'\n",
    "from_date = datetime(2021, 1, 1)\n",
    "to_date = datetime(2021, 1, 31)\n",
    "retriver = gcd.CCXTDataRetriver('binance')\n",
    "result = retriver.fetch_ohlcv(symbol, timeframe, from_date, to_date)"
   ]
  },
  {
   "cell_type": "code",
   "execution_count": 2,
   "metadata": {},
   "outputs": [
    {
     "ename": "DatabaseError",
     "evalue": "Execution failed on sql 'SELECT * FROM TIMEFRAME_1D \n            WHERE Symbol = 'ETH/BTC'\n            and Timestamp >= \"2019-12-01\"\n            and Timestamp <= \"2021-12-03\"': no such table: TIMEFRAME_1D",
     "output_type": "error",
     "traceback": [
      "\u001b[1;31m---------------------------------------------------------------------------\u001b[0m",
      "\u001b[1;31mOperationalError\u001b[0m                          Traceback (most recent call last)",
      "\u001b[1;32m~\\AppData\\Local\\Programs\\Python\\Python39\\lib\\site-packages\\pandas\\io\\sql.py\u001b[0m in \u001b[0;36mexecute\u001b[1;34m(self, *args, **kwargs)\u001b[0m\n\u001b[0;32m   1696\u001b[0m         \u001b[1;32mtry\u001b[0m\u001b[1;33m:\u001b[0m\u001b[1;33m\u001b[0m\u001b[1;33m\u001b[0m\u001b[0m\n\u001b[1;32m-> 1697\u001b[1;33m             \u001b[0mcur\u001b[0m\u001b[1;33m.\u001b[0m\u001b[0mexecute\u001b[0m\u001b[1;33m(\u001b[0m\u001b[1;33m*\u001b[0m\u001b[0margs\u001b[0m\u001b[1;33m,\u001b[0m \u001b[1;33m**\u001b[0m\u001b[0mkwargs\u001b[0m\u001b[1;33m)\u001b[0m\u001b[1;33m\u001b[0m\u001b[1;33m\u001b[0m\u001b[0m\n\u001b[0m\u001b[0;32m   1698\u001b[0m             \u001b[1;32mreturn\u001b[0m \u001b[0mcur\u001b[0m\u001b[1;33m\u001b[0m\u001b[1;33m\u001b[0m\u001b[0m\n",
      "\u001b[1;31mOperationalError\u001b[0m: no such table: TIMEFRAME_1D",
      "\nThe above exception was the direct cause of the following exception:\n",
      "\u001b[1;31mDatabaseError\u001b[0m                             Traceback (most recent call last)",
      "\u001b[1;32m<ipython-input-2-99c977edc44c>\u001b[0m in \u001b[0;36m<module>\u001b[1;34m\u001b[0m\n\u001b[0;32m      3\u001b[0m \u001b[0mfrom_date\u001b[0m \u001b[1;33m=\u001b[0m \u001b[1;34m'2019-12-1'\u001b[0m\u001b[1;33m\u001b[0m\u001b[1;33m\u001b[0m\u001b[0m\n\u001b[0;32m      4\u001b[0m \u001b[0mto_date\u001b[0m \u001b[1;33m=\u001b[0m \u001b[1;34m'2021-12-3'\u001b[0m\u001b[1;33m\u001b[0m\u001b[1;33m\u001b[0m\u001b[0m\n\u001b[1;32m----> 5\u001b[1;33m \u001b[0mresult\u001b[0m \u001b[1;33m=\u001b[0m \u001b[0mgcd\u001b[0m\u001b[1;33m.\u001b[0m\u001b[0mmain_def\u001b[0m\u001b[1;33m(\u001b[0m\u001b[0msymbol\u001b[0m\u001b[1;33m,\u001b[0m \u001b[0mtimeframe\u001b[0m\u001b[1;33m,\u001b[0m \u001b[0mfrom_date\u001b[0m\u001b[1;33m,\u001b[0m \u001b[0mto_date\u001b[0m\u001b[1;33m)\u001b[0m\u001b[1;33m\u001b[0m\u001b[1;33m\u001b[0m\u001b[0m\n\u001b[0m",
      "\u001b[1;32mc:\\users\\avery\\documents\\github\\rba_tools_project\\rba_tools\\retriver\\get_crypto_data.py\u001b[0m in \u001b[0;36mmain_def\u001b[1;34m(symbol, timeframe, from_date_str, to_date_str)\u001b[0m\n\u001b[0;32m    253\u001b[0m     \u001b[0monline_retriver\u001b[0m \u001b[1;33m=\u001b[0m \u001b[0mCCXTDataRetriver\u001b[0m\u001b[1;33m(\u001b[0m\u001b[1;34m'binance'\u001b[0m\u001b[1;33m)\u001b[0m\u001b[1;33m\u001b[0m\u001b[1;33m\u001b[0m\u001b[0m\n\u001b[0;32m    254\u001b[0m \u001b[1;33m\u001b[0m\u001b[0m\n\u001b[1;32m--> 255\u001b[1;33m     \u001b[1;32mreturn\u001b[0m \u001b[0mmain\u001b[0m\u001b[1;33m(\u001b[0m\u001b[0msymbol\u001b[0m\u001b[1;33m,\u001b[0m \u001b[0mtimeframe\u001b[0m\u001b[1;33m,\u001b[0m \u001b[0mfrom_date_str\u001b[0m\u001b[1;33m,\u001b[0m \u001b[0mto_date_str\u001b[0m\u001b[1;33m,\u001b[0m \u001b[0mstored_retriver\u001b[0m\u001b[1;33m,\u001b[0m \u001b[0monline_retriver\u001b[0m\u001b[1;33m,\u001b[0m \u001b[0mdatabase\u001b[0m\u001b[1;33m)\u001b[0m\u001b[1;33m\u001b[0m\u001b[1;33m\u001b[0m\u001b[0m\n\u001b[0m\u001b[0;32m    256\u001b[0m \u001b[1;33m\u001b[0m\u001b[0m\n\u001b[0;32m    257\u001b[0m \u001b[1;33m\u001b[0m\u001b[0m\n",
      "\u001b[1;32mc:\\users\\avery\\documents\\github\\rba_tools_project\\rba_tools\\retriver\\get_crypto_data.py\u001b[0m in \u001b[0;36mmain\u001b[1;34m(symbol, timeframe, from_date_str, to_date_str, stored_retriever, online_retriever, database)\u001b[0m\n\u001b[0;32m    215\u001b[0m     \u001b[1;31m#retrieve data from stored database if we have one\u001b[0m\u001b[1;33m\u001b[0m\u001b[1;33m\u001b[0m\u001b[1;33m\u001b[0m\u001b[0m\n\u001b[0;32m    216\u001b[0m     \u001b[1;32mif\u001b[0m \u001b[0mstored_retriever\u001b[0m\u001b[1;33m:\u001b[0m\u001b[1;33m\u001b[0m\u001b[1;33m\u001b[0m\u001b[0m\n\u001b[1;32m--> 217\u001b[1;33m         \u001b[0mall_data\u001b[0m \u001b[1;33m=\u001b[0m \u001b[0mstored_retriever\u001b[0m\u001b[1;33m.\u001b[0m\u001b[0mfetch_ohlcv\u001b[0m\u001b[1;33m(\u001b[0m\u001b[0msymbol\u001b[0m\u001b[1;33m,\u001b[0m \u001b[0mtimeframe\u001b[0m\u001b[1;33m,\u001b[0m \u001b[0mfrom_date\u001b[0m\u001b[1;33m,\u001b[0m \u001b[0mto_date\u001b[0m\u001b[1;33m)\u001b[0m\u001b[1;33m\u001b[0m\u001b[1;33m\u001b[0m\u001b[0m\n\u001b[0m\u001b[0;32m    218\u001b[0m \u001b[1;33m\u001b[0m\u001b[0m\n\u001b[0;32m    219\u001b[0m     \u001b[1;31m#pull extra data if we have one\u001b[0m\u001b[1;33m\u001b[0m\u001b[1;33m\u001b[0m\u001b[1;33m\u001b[0m\u001b[0m\n",
      "\u001b[1;32mc:\\users\\avery\\documents\\github\\rba_tools_project\\rba_tools\\retriver\\get_crypto_data.py\u001b[0m in \u001b[0;36mfetch_ohlcv\u001b[1;34m(self, symbol, timeframe, from_date, to_date)\u001b[0m\n\u001b[0;32m    176\u001b[0m     \u001b[1;32mdef\u001b[0m \u001b[0mfetch_ohlcv\u001b[0m\u001b[1;33m(\u001b[0m\u001b[0mself\u001b[0m\u001b[1;33m,\u001b[0m \u001b[0msymbol\u001b[0m\u001b[1;33m:\u001b[0m \u001b[0mstr\u001b[0m\u001b[1;33m,\u001b[0m \u001b[0mtimeframe\u001b[0m\u001b[1;33m:\u001b[0m \u001b[0mstr\u001b[0m\u001b[1;33m,\u001b[0m \u001b[0mfrom_date\u001b[0m\u001b[1;33m:\u001b[0m \u001b[0mdatetime\u001b[0m\u001b[1;33m,\u001b[0m \u001b[0mto_date\u001b[0m\u001b[1;33m:\u001b[0m \u001b[0mdatetime\u001b[0m\u001b[1;33m)\u001b[0m \u001b[1;33m->\u001b[0m \u001b[0mType\u001b[0m\u001b[1;33m[\u001b[0m\u001b[0mpd\u001b[0m\u001b[1;33m.\u001b[0m\u001b[0mDataFrame\u001b[0m\u001b[1;33m]\u001b[0m\u001b[1;33m:\u001b[0m\u001b[1;33m\u001b[0m\u001b[1;33m\u001b[0m\u001b[0m\n\u001b[0;32m    177\u001b[0m         \u001b[0mquery\u001b[0m \u001b[1;33m=\u001b[0m \u001b[0mself\u001b[0m\u001b[1;33m.\u001b[0m\u001b[0mget_query\u001b[0m\u001b[1;33m(\u001b[0m\u001b[0msymbol\u001b[0m\u001b[1;33m,\u001b[0m \u001b[0mtimeframe\u001b[0m\u001b[1;33m,\u001b[0m \u001b[0mfrom_date\u001b[0m\u001b[1;33m,\u001b[0m \u001b[0mto_date\u001b[0m\u001b[1;33m)\u001b[0m\u001b[1;33m\u001b[0m\u001b[1;33m\u001b[0m\u001b[0m\n\u001b[1;32m--> 178\u001b[1;33m         \u001b[0mquery_result\u001b[0m \u001b[1;33m=\u001b[0m \u001b[0mself\u001b[0m\u001b[1;33m.\u001b[0m\u001b[0mdatabase\u001b[0m\u001b[1;33m.\u001b[0m\u001b[0mget_query_result_as_dataframe\u001b[0m\u001b[1;33m(\u001b[0m\u001b[0mquery\u001b[0m\u001b[1;33m)\u001b[0m\u001b[1;33m\u001b[0m\u001b[1;33m\u001b[0m\u001b[0m\n\u001b[0m\u001b[0;32m    179\u001b[0m         \u001b[1;32mreturn\u001b[0m \u001b[0mself\u001b[0m\u001b[1;33m.\u001b[0m\u001b[0mformat_database_data\u001b[0m\u001b[1;33m(\u001b[0m\u001b[0mquery_result\u001b[0m\u001b[1;33m)\u001b[0m\u001b[1;33m\u001b[0m\u001b[1;33m\u001b[0m\u001b[0m\n\u001b[0;32m    180\u001b[0m \u001b[1;33m\u001b[0m\u001b[0m\n",
      "\u001b[1;32mc:\\users\\avery\\documents\\github\\rba_tools_project\\rba_tools\\retriver\\get_crypto_data.py\u001b[0m in \u001b[0;36mget_query_result_as_dataframe\u001b[1;34m(self, query)\u001b[0m\n\u001b[0;32m     72\u001b[0m         \u001b[0mresult\u001b[0m \u001b[1;33m=\u001b[0m \u001b[0mget_empty_ohlcv_df\u001b[0m\u001b[1;33m(\u001b[0m\u001b[1;33m)\u001b[0m\u001b[1;33m\u001b[0m\u001b[1;33m\u001b[0m\u001b[0m\n\u001b[0;32m     73\u001b[0m         \u001b[1;32mtry\u001b[0m\u001b[1;33m:\u001b[0m\u001b[1;33m\u001b[0m\u001b[1;33m\u001b[0m\u001b[0m\n\u001b[1;32m---> 74\u001b[1;33m             \u001b[0mresult\u001b[0m \u001b[1;33m=\u001b[0m \u001b[0mpd\u001b[0m\u001b[1;33m.\u001b[0m\u001b[0mread_sql_query\u001b[0m\u001b[1;33m(\u001b[0m\u001b[0mquery\u001b[0m\u001b[1;33m,\u001b[0m \u001b[0mconnection\u001b[0m\u001b[1;33m)\u001b[0m\u001b[1;33m\u001b[0m\u001b[1;33m\u001b[0m\u001b[0m\n\u001b[0m\u001b[0;32m     75\u001b[0m         \u001b[1;32mfinally\u001b[0m\u001b[1;33m:\u001b[0m\u001b[1;33m\u001b[0m\u001b[1;33m\u001b[0m\u001b[0m\n\u001b[0;32m     76\u001b[0m             \u001b[0mconnection\u001b[0m\u001b[1;33m.\u001b[0m\u001b[0mclose\u001b[0m\u001b[1;33m(\u001b[0m\u001b[1;33m)\u001b[0m\u001b[1;33m\u001b[0m\u001b[1;33m\u001b[0m\u001b[0m\n",
      "\u001b[1;32m~\\AppData\\Local\\Programs\\Python\\Python39\\lib\\site-packages\\pandas\\io\\sql.py\u001b[0m in \u001b[0;36mread_sql_query\u001b[1;34m(sql, con, index_col, coerce_float, params, parse_dates, chunksize)\u001b[0m\n\u001b[0;32m    375\u001b[0m     \"\"\"\n\u001b[0;32m    376\u001b[0m     \u001b[0mpandas_sql\u001b[0m \u001b[1;33m=\u001b[0m \u001b[0mpandasSQL_builder\u001b[0m\u001b[1;33m(\u001b[0m\u001b[0mcon\u001b[0m\u001b[1;33m)\u001b[0m\u001b[1;33m\u001b[0m\u001b[1;33m\u001b[0m\u001b[0m\n\u001b[1;32m--> 377\u001b[1;33m     return pandas_sql.read_query(\n\u001b[0m\u001b[0;32m    378\u001b[0m         \u001b[0msql\u001b[0m\u001b[1;33m,\u001b[0m\u001b[1;33m\u001b[0m\u001b[1;33m\u001b[0m\u001b[0m\n\u001b[0;32m    379\u001b[0m         \u001b[0mindex_col\u001b[0m\u001b[1;33m=\u001b[0m\u001b[0mindex_col\u001b[0m\u001b[1;33m,\u001b[0m\u001b[1;33m\u001b[0m\u001b[1;33m\u001b[0m\u001b[0m\n",
      "\u001b[1;32m~\\AppData\\Local\\Programs\\Python\\Python39\\lib\\site-packages\\pandas\\io\\sql.py\u001b[0m in \u001b[0;36mread_query\u001b[1;34m(self, sql, index_col, coerce_float, params, parse_dates, chunksize)\u001b[0m\n\u001b[0;32m   1741\u001b[0m \u001b[1;33m\u001b[0m\u001b[0m\n\u001b[0;32m   1742\u001b[0m         \u001b[0margs\u001b[0m \u001b[1;33m=\u001b[0m \u001b[0m_convert_params\u001b[0m\u001b[1;33m(\u001b[0m\u001b[0msql\u001b[0m\u001b[1;33m,\u001b[0m \u001b[0mparams\u001b[0m\u001b[1;33m)\u001b[0m\u001b[1;33m\u001b[0m\u001b[1;33m\u001b[0m\u001b[0m\n\u001b[1;32m-> 1743\u001b[1;33m         \u001b[0mcursor\u001b[0m \u001b[1;33m=\u001b[0m \u001b[0mself\u001b[0m\u001b[1;33m.\u001b[0m\u001b[0mexecute\u001b[0m\u001b[1;33m(\u001b[0m\u001b[1;33m*\u001b[0m\u001b[0margs\u001b[0m\u001b[1;33m)\u001b[0m\u001b[1;33m\u001b[0m\u001b[1;33m\u001b[0m\u001b[0m\n\u001b[0m\u001b[0;32m   1744\u001b[0m         \u001b[0mcolumns\u001b[0m \u001b[1;33m=\u001b[0m \u001b[1;33m[\u001b[0m\u001b[0mcol_desc\u001b[0m\u001b[1;33m[\u001b[0m\u001b[1;36m0\u001b[0m\u001b[1;33m]\u001b[0m \u001b[1;32mfor\u001b[0m \u001b[0mcol_desc\u001b[0m \u001b[1;32min\u001b[0m \u001b[0mcursor\u001b[0m\u001b[1;33m.\u001b[0m\u001b[0mdescription\u001b[0m\u001b[1;33m]\u001b[0m\u001b[1;33m\u001b[0m\u001b[1;33m\u001b[0m\u001b[0m\n\u001b[0;32m   1745\u001b[0m \u001b[1;33m\u001b[0m\u001b[0m\n",
      "\u001b[1;32m~\\AppData\\Local\\Programs\\Python\\Python39\\lib\\site-packages\\pandas\\io\\sql.py\u001b[0m in \u001b[0;36mexecute\u001b[1;34m(self, *args, **kwargs)\u001b[0m\n\u001b[0;32m   1707\u001b[0m \u001b[1;33m\u001b[0m\u001b[0m\n\u001b[0;32m   1708\u001b[0m             \u001b[0mex\u001b[0m \u001b[1;33m=\u001b[0m \u001b[0mDatabaseError\u001b[0m\u001b[1;33m(\u001b[0m\u001b[1;34mf\"Execution failed on sql '{args[0]}': {exc}\"\u001b[0m\u001b[1;33m)\u001b[0m\u001b[1;33m\u001b[0m\u001b[1;33m\u001b[0m\u001b[0m\n\u001b[1;32m-> 1709\u001b[1;33m             \u001b[1;32mraise\u001b[0m \u001b[0mex\u001b[0m \u001b[1;32mfrom\u001b[0m \u001b[0mexc\u001b[0m\u001b[1;33m\u001b[0m\u001b[1;33m\u001b[0m\u001b[0m\n\u001b[0m\u001b[0;32m   1710\u001b[0m \u001b[1;33m\u001b[0m\u001b[0m\n\u001b[0;32m   1711\u001b[0m     \u001b[1;33m@\u001b[0m\u001b[0mstaticmethod\u001b[0m\u001b[1;33m\u001b[0m\u001b[1;33m\u001b[0m\u001b[0m\n",
      "\u001b[1;31mDatabaseError\u001b[0m: Execution failed on sql 'SELECT * FROM TIMEFRAME_1D \n            WHERE Symbol = 'ETH/BTC'\n            and Timestamp >= \"2019-12-01\"\n            and Timestamp <= \"2021-12-03\"': no such table: TIMEFRAME_1D"
     ]
    }
   ],
   "source": [
    "symbol = 'ETH/BTC'\n",
    "timeframe = '1d'\n",
    "from_date = '2019-12-1'\n",
    "to_date = '2021-12-3'\n",
    "result = gcd.main_def(symbol, timeframe, from_date, to_date)"
   ]
  },
  {
   "cell_type": "code",
   "execution_count": 2,
   "metadata": {},
   "outputs": [
    {
     "data": {
      "text/plain": [
       "<rba_tools.retriver.get_crypto_data.SQLite3OHLCVDatabase at 0x183590cbc70>"
      ]
     },
     "execution_count": 2,
     "metadata": {},
     "output_type": "execute_result"
    }
   ],
   "source": [
    "db = gcd.SQLite3OHLCVDatabase()\n",
    "db"
   ]
  },
  {
   "cell_type": "code",
   "execution_count": 3,
   "metadata": {},
   "outputs": [
    {
     "data": {
      "text/plain": [
       "[('1H',)]"
      ]
     },
     "execution_count": 3,
     "metadata": {},
     "output_type": "execute_result"
    }
   ],
   "source": [
    "result = db._execute_query(\"SELECT name FROM sqlite_master WHERE type='table'\")\n",
    "result"
   ]
  },
  {
   "cell_type": "code",
   "execution_count": 4,
   "metadata": {},
   "outputs": [
    {
     "name": "stdout",
     "output_type": "stream",
     "text": [
      "true\n"
     ]
    }
   ],
   "source": [
    "if result:\n",
    "    print('true')"
   ]
  },
  {
   "cell_type": "code",
   "execution_count": 5,
   "metadata": {},
   "outputs": [
    {
     "data": {
      "text/plain": [
       "[]"
      ]
     },
     "execution_count": 5,
     "metadata": {},
     "output_type": "execute_result"
    }
   ],
   "source": [
    "result = db._execute_query(\"SELECT name FROM sqlite_master WHERE type='table' and name='test'\")\n",
    "result"
   ]
  },
  {
   "cell_type": "code",
   "execution_count": 6,
   "metadata": {},
   "outputs": [],
   "source": [
    "if result:\n",
    "    print('true')"
   ]
  },
  {
   "cell_type": "code",
   "execution_count": null,
   "metadata": {},
   "outputs": [],
   "source": []
  }
 ],
 "metadata": {
  "interpreter": {
   "hash": "b54cb9753f1fc2478effd5c05200ae4f0e3c44cd8f27e179dabba8365c7dc822"
  },
  "kernelspec": {
   "display_name": "Python 3.9.1 64-bit",
   "name": "python3"
  },
  "language_info": {
   "codemirror_mode": {
    "name": "ipython",
    "version": 3
   },
   "file_extension": ".py",
   "mimetype": "text/x-python",
   "name": "python",
   "nbconvert_exporter": "python",
   "pygments_lexer": "ipython3",
   "version": "3.9.1"
  }
 },
 "nbformat": 4,
 "nbformat_minor": 4
}
