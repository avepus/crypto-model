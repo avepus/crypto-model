{
 "cells": [
  {
   "cell_type": "code",
   "execution_count": 1,
   "source": [
    "import rba_tools.retriver.get_crypto_data as gcd\r\n",
    "import glob\r\n",
    "import os\r\n",
    "import pandas as pd\r\n",
    "import numpy as np\r\n",
    "from dateutil import parser,tz\r\n",
    "from datetime import datetime, timedelta, timezone\r\n",
    "from time import sleep\r\n",
    "import rba_tools.utils as utils\r\n",
    "import rba_tools.retriver.database as database"
   ],
   "outputs": [],
   "metadata": {}
  },
  {
   "cell_type": "code",
   "execution_count": 39,
   "source": [
    "if os.path.exists(database.database_file):\r\n",
    "    os.remove(database.database_file)"
   ],
   "outputs": [],
   "metadata": {}
  },
  {
   "cell_type": "code",
   "execution_count": 3,
   "source": [
    "exchange = gcd.getBinanceExchange()\r\n",
    "print(exchange)"
   ],
   "outputs": [
    {
     "output_type": "stream",
     "name": "stdout",
     "text": [
      "Binance\n"
     ]
    }
   ],
   "metadata": {}
  },
  {
   "cell_type": "code",
   "execution_count": 40,
   "source": [
    "first = gcd.get_DataFrame(['ETH/BTC'], exchange, '12/1/20', '12/3/20', timeframe='1d')\r\n",
    "first"
   ],
   "outputs": [
    {
     "output_type": "stream",
     "name": "stdout",
     "text": [
      "Query failed: \n",
      "SELECT * FROM OHLCV_DATA \n",
      "        WHERE Symbol in ('ETH/BTC')\n",
      "        and TIMESTAMP >= 1606780800000\n",
      "        and TIMESTAMP <= 1606953600000\n",
      "        \n",
      "Execution failed on sql 'SELECT * FROM OHLCV_DATA \n",
      "        WHERE Symbol in ('ETH/BTC')\n",
      "        and TIMESTAMP >= 1606780800000\n",
      "        and TIMESTAMP <= 1606953600000\n",
      "        ': no such table: OHLCV_DATA\n",
      "Fetching ETH/BTC market data from Binance. call #1\n",
      "lastCall = 1630960424381 fetching data...\n"
     ]
    },
    {
     "output_type": "execute_result",
     "data": {
      "text/plain": [
       "                Open      High       Low     Close      Volume   Symbol  \\\n",
       "Timestamp                                                                 \n",
       "2020-12-01  0.031310  0.032223  0.030125  0.031189  463240.518  ETH/BTC   \n",
       "2020-12-02  0.031189  0.031621  0.030974  0.031091  239428.833  ETH/BTC   \n",
       "2020-12-03  0.031091  0.031826  0.030961  0.031709  310741.578  ETH/BTC   \n",
       "\n",
       "            Is_Final_Row  \n",
       "Timestamp                 \n",
       "2020-12-01           NaN  \n",
       "2020-12-02           NaN  \n",
       "2020-12-03           NaN  "
      ],
      "text/html": [
       "<div>\n",
       "<style scoped>\n",
       "    .dataframe tbody tr th:only-of-type {\n",
       "        vertical-align: middle;\n",
       "    }\n",
       "\n",
       "    .dataframe tbody tr th {\n",
       "        vertical-align: top;\n",
       "    }\n",
       "\n",
       "    .dataframe thead th {\n",
       "        text-align: right;\n",
       "    }\n",
       "</style>\n",
       "<table border=\"1\" class=\"dataframe\">\n",
       "  <thead>\n",
       "    <tr style=\"text-align: right;\">\n",
       "      <th></th>\n",
       "      <th>Open</th>\n",
       "      <th>High</th>\n",
       "      <th>Low</th>\n",
       "      <th>Close</th>\n",
       "      <th>Volume</th>\n",
       "      <th>Symbol</th>\n",
       "      <th>Is_Final_Row</th>\n",
       "    </tr>\n",
       "    <tr>\n",
       "      <th>Timestamp</th>\n",
       "      <th></th>\n",
       "      <th></th>\n",
       "      <th></th>\n",
       "      <th></th>\n",
       "      <th></th>\n",
       "      <th></th>\n",
       "      <th></th>\n",
       "    </tr>\n",
       "  </thead>\n",
       "  <tbody>\n",
       "    <tr>\n",
       "      <th>2020-12-01</th>\n",
       "      <td>0.031310</td>\n",
       "      <td>0.032223</td>\n",
       "      <td>0.030125</td>\n",
       "      <td>0.031189</td>\n",
       "      <td>463240.518</td>\n",
       "      <td>ETH/BTC</td>\n",
       "      <td>NaN</td>\n",
       "    </tr>\n",
       "    <tr>\n",
       "      <th>2020-12-02</th>\n",
       "      <td>0.031189</td>\n",
       "      <td>0.031621</td>\n",
       "      <td>0.030974</td>\n",
       "      <td>0.031091</td>\n",
       "      <td>239428.833</td>\n",
       "      <td>ETH/BTC</td>\n",
       "      <td>NaN</td>\n",
       "    </tr>\n",
       "    <tr>\n",
       "      <th>2020-12-03</th>\n",
       "      <td>0.031091</td>\n",
       "      <td>0.031826</td>\n",
       "      <td>0.030961</td>\n",
       "      <td>0.031709</td>\n",
       "      <td>310741.578</td>\n",
       "      <td>ETH/BTC</td>\n",
       "      <td>NaN</td>\n",
       "    </tr>\n",
       "  </tbody>\n",
       "</table>\n",
       "</div>"
      ]
     },
     "metadata": {},
     "execution_count": 40
    }
   ],
   "metadata": {
    "scrolled": true
   }
  },
  {
   "cell_type": "code",
   "execution_count": 41,
   "source": [
    "first.to_csv('daily_ETCBTC_12-1-20_to-12-3-20')"
   ],
   "outputs": [],
   "metadata": {}
  },
  {
   "cell_type": "code",
   "execution_count": 5,
   "source": [
    "first = gcd.get_DataFrame(['ETH/BTC'], exchange, '12/1/20', '12/3/20', timeframe='4h')\r\n",
    "first"
   ],
   "outputs": [
    {
     "output_type": "stream",
     "name": "stdout",
     "text": [
      "Query failed: \n",
      "SELECT * FROM OHLCV_DATA \n",
      "        WHERE Symbol in ('ETH/BTC')\n",
      "        and TIMESTAMP >= 1606780800000\n",
      "        and TIMESTAMP <= 1606953600000\n",
      "        \n",
      "Execution failed on sql 'SELECT * FROM OHLCV_DATA \n",
      "        WHERE Symbol in ('ETH/BTC')\n",
      "        and TIMESTAMP >= 1606780800000\n",
      "        and TIMESTAMP <= 1606953600000\n",
      "        ': no such table: OHLCV_DATA\n",
      "Fetching ETH/BTC market data from Binance. call #1\n",
      "lastCall = 1630958804340 fetching data...\n"
     ]
    },
    {
     "output_type": "execute_result",
     "data": {
      "text/plain": [
       "                         Open      High       Low     Close      Volume  \\\n",
       "Timestamp                                                                 \n",
       "2020-12-01 00:00:00  0.031310  0.031429  0.030899  0.031155   50362.862   \n",
       "2020-12-01 04:00:00  0.031156  0.031420  0.031068  0.031295   42238.369   \n",
       "2020-12-01 08:00:00  0.031301  0.032223  0.030952  0.031697  117904.410   \n",
       "2020-12-01 12:00:00  0.031699  0.031819  0.030125  0.031347  173344.749   \n",
       "2020-12-01 16:00:00  0.031347  0.031523  0.030973  0.031437   49840.826   \n",
       "2020-12-01 20:00:00  0.031437  0.031500  0.031145  0.031189   29549.302   \n",
       "2020-12-02 00:00:00  0.031189  0.031621  0.031070  0.031461   37485.648   \n",
       "2020-12-02 04:00:00  0.031462  0.031548  0.031263  0.031266   41910.299   \n",
       "2020-12-02 08:00:00  0.031262  0.031380  0.030974  0.031294   38006.006   \n",
       "2020-12-02 12:00:00  0.031295  0.031500  0.031007  0.031199   52026.563   \n",
       "2020-12-02 16:00:00  0.031199  0.031345  0.030979  0.031226   42631.431   \n",
       "2020-12-02 20:00:00  0.031228  0.031326  0.031091  0.031091   27368.886   \n",
       "2020-12-03 00:00:00  0.031091  0.031200  0.030962  0.031187   34397.772   \n",
       "\n",
       "                      Symbol  Is_Final_Row  \n",
       "Timestamp                                   \n",
       "2020-12-01 00:00:00  ETH/BTC           NaN  \n",
       "2020-12-01 04:00:00  ETH/BTC           NaN  \n",
       "2020-12-01 08:00:00  ETH/BTC           NaN  \n",
       "2020-12-01 12:00:00  ETH/BTC           NaN  \n",
       "2020-12-01 16:00:00  ETH/BTC           NaN  \n",
       "2020-12-01 20:00:00  ETH/BTC           NaN  \n",
       "2020-12-02 00:00:00  ETH/BTC           NaN  \n",
       "2020-12-02 04:00:00  ETH/BTC           NaN  \n",
       "2020-12-02 08:00:00  ETH/BTC           NaN  \n",
       "2020-12-02 12:00:00  ETH/BTC           NaN  \n",
       "2020-12-02 16:00:00  ETH/BTC           NaN  \n",
       "2020-12-02 20:00:00  ETH/BTC           NaN  \n",
       "2020-12-03 00:00:00  ETH/BTC           NaN  "
      ],
      "text/html": [
       "<div>\n",
       "<style scoped>\n",
       "    .dataframe tbody tr th:only-of-type {\n",
       "        vertical-align: middle;\n",
       "    }\n",
       "\n",
       "    .dataframe tbody tr th {\n",
       "        vertical-align: top;\n",
       "    }\n",
       "\n",
       "    .dataframe thead th {\n",
       "        text-align: right;\n",
       "    }\n",
       "</style>\n",
       "<table border=\"1\" class=\"dataframe\">\n",
       "  <thead>\n",
       "    <tr style=\"text-align: right;\">\n",
       "      <th></th>\n",
       "      <th>Open</th>\n",
       "      <th>High</th>\n",
       "      <th>Low</th>\n",
       "      <th>Close</th>\n",
       "      <th>Volume</th>\n",
       "      <th>Symbol</th>\n",
       "      <th>Is_Final_Row</th>\n",
       "    </tr>\n",
       "    <tr>\n",
       "      <th>Timestamp</th>\n",
       "      <th></th>\n",
       "      <th></th>\n",
       "      <th></th>\n",
       "      <th></th>\n",
       "      <th></th>\n",
       "      <th></th>\n",
       "      <th></th>\n",
       "    </tr>\n",
       "  </thead>\n",
       "  <tbody>\n",
       "    <tr>\n",
       "      <th>2020-12-01 00:00:00</th>\n",
       "      <td>0.031310</td>\n",
       "      <td>0.031429</td>\n",
       "      <td>0.030899</td>\n",
       "      <td>0.031155</td>\n",
       "      <td>50362.862</td>\n",
       "      <td>ETH/BTC</td>\n",
       "      <td>NaN</td>\n",
       "    </tr>\n",
       "    <tr>\n",
       "      <th>2020-12-01 04:00:00</th>\n",
       "      <td>0.031156</td>\n",
       "      <td>0.031420</td>\n",
       "      <td>0.031068</td>\n",
       "      <td>0.031295</td>\n",
       "      <td>42238.369</td>\n",
       "      <td>ETH/BTC</td>\n",
       "      <td>NaN</td>\n",
       "    </tr>\n",
       "    <tr>\n",
       "      <th>2020-12-01 08:00:00</th>\n",
       "      <td>0.031301</td>\n",
       "      <td>0.032223</td>\n",
       "      <td>0.030952</td>\n",
       "      <td>0.031697</td>\n",
       "      <td>117904.410</td>\n",
       "      <td>ETH/BTC</td>\n",
       "      <td>NaN</td>\n",
       "    </tr>\n",
       "    <tr>\n",
       "      <th>2020-12-01 12:00:00</th>\n",
       "      <td>0.031699</td>\n",
       "      <td>0.031819</td>\n",
       "      <td>0.030125</td>\n",
       "      <td>0.031347</td>\n",
       "      <td>173344.749</td>\n",
       "      <td>ETH/BTC</td>\n",
       "      <td>NaN</td>\n",
       "    </tr>\n",
       "    <tr>\n",
       "      <th>2020-12-01 16:00:00</th>\n",
       "      <td>0.031347</td>\n",
       "      <td>0.031523</td>\n",
       "      <td>0.030973</td>\n",
       "      <td>0.031437</td>\n",
       "      <td>49840.826</td>\n",
       "      <td>ETH/BTC</td>\n",
       "      <td>NaN</td>\n",
       "    </tr>\n",
       "    <tr>\n",
       "      <th>2020-12-01 20:00:00</th>\n",
       "      <td>0.031437</td>\n",
       "      <td>0.031500</td>\n",
       "      <td>0.031145</td>\n",
       "      <td>0.031189</td>\n",
       "      <td>29549.302</td>\n",
       "      <td>ETH/BTC</td>\n",
       "      <td>NaN</td>\n",
       "    </tr>\n",
       "    <tr>\n",
       "      <th>2020-12-02 00:00:00</th>\n",
       "      <td>0.031189</td>\n",
       "      <td>0.031621</td>\n",
       "      <td>0.031070</td>\n",
       "      <td>0.031461</td>\n",
       "      <td>37485.648</td>\n",
       "      <td>ETH/BTC</td>\n",
       "      <td>NaN</td>\n",
       "    </tr>\n",
       "    <tr>\n",
       "      <th>2020-12-02 04:00:00</th>\n",
       "      <td>0.031462</td>\n",
       "      <td>0.031548</td>\n",
       "      <td>0.031263</td>\n",
       "      <td>0.031266</td>\n",
       "      <td>41910.299</td>\n",
       "      <td>ETH/BTC</td>\n",
       "      <td>NaN</td>\n",
       "    </tr>\n",
       "    <tr>\n",
       "      <th>2020-12-02 08:00:00</th>\n",
       "      <td>0.031262</td>\n",
       "      <td>0.031380</td>\n",
       "      <td>0.030974</td>\n",
       "      <td>0.031294</td>\n",
       "      <td>38006.006</td>\n",
       "      <td>ETH/BTC</td>\n",
       "      <td>NaN</td>\n",
       "    </tr>\n",
       "    <tr>\n",
       "      <th>2020-12-02 12:00:00</th>\n",
       "      <td>0.031295</td>\n",
       "      <td>0.031500</td>\n",
       "      <td>0.031007</td>\n",
       "      <td>0.031199</td>\n",
       "      <td>52026.563</td>\n",
       "      <td>ETH/BTC</td>\n",
       "      <td>NaN</td>\n",
       "    </tr>\n",
       "    <tr>\n",
       "      <th>2020-12-02 16:00:00</th>\n",
       "      <td>0.031199</td>\n",
       "      <td>0.031345</td>\n",
       "      <td>0.030979</td>\n",
       "      <td>0.031226</td>\n",
       "      <td>42631.431</td>\n",
       "      <td>ETH/BTC</td>\n",
       "      <td>NaN</td>\n",
       "    </tr>\n",
       "    <tr>\n",
       "      <th>2020-12-02 20:00:00</th>\n",
       "      <td>0.031228</td>\n",
       "      <td>0.031326</td>\n",
       "      <td>0.031091</td>\n",
       "      <td>0.031091</td>\n",
       "      <td>27368.886</td>\n",
       "      <td>ETH/BTC</td>\n",
       "      <td>NaN</td>\n",
       "    </tr>\n",
       "    <tr>\n",
       "      <th>2020-12-03 00:00:00</th>\n",
       "      <td>0.031091</td>\n",
       "      <td>0.031200</td>\n",
       "      <td>0.030962</td>\n",
       "      <td>0.031187</td>\n",
       "      <td>34397.772</td>\n",
       "      <td>ETH/BTC</td>\n",
       "      <td>NaN</td>\n",
       "    </tr>\n",
       "  </tbody>\n",
       "</table>\n",
       "</div>"
      ]
     },
     "metadata": {},
     "execution_count": 5
    }
   ],
   "metadata": {}
  },
  {
   "cell_type": "code",
   "execution_count": 32,
   "source": [
    "csv_df = pd.read_csv(r'C:\\Users\\Avery\\Documents\\GitHub\\rba_tools_project\\rba_tools\\test\\ETH_BTC_4h_12-1-20_to_12-3-20.csv'\r\n",
    "    ,index_col = 'Timestamp'\r\n",
    "    ,parse_dates = True)\r\n",
    "csv_df\r\n"
   ],
   "outputs": [
    {
     "output_type": "execute_result",
     "data": {
      "text/plain": [
       "                         Open      High       Low     Close      Volume  \\\n",
       "Timestamp                                                                 \n",
       "2020-12-01 00:00:00  0.031310  0.031429  0.030899  0.031155   50362.862   \n",
       "2020-12-01 04:00:00  0.031156  0.031420  0.031068  0.031295   42238.369   \n",
       "2020-12-01 08:00:00  0.031301  0.032223  0.030952  0.031697  117904.410   \n",
       "2020-12-01 12:00:00  0.031699  0.031819  0.030125  0.031347  173344.749   \n",
       "2020-12-01 16:00:00  0.031347  0.031523  0.030973  0.031437   49840.826   \n",
       "2020-12-01 20:00:00  0.031437  0.031500  0.031145  0.031189   29549.302   \n",
       "2020-12-02 00:00:00  0.031189  0.031621  0.031070  0.031461   37485.648   \n",
       "2020-12-02 04:00:00  0.031462  0.031548  0.031263  0.031266   41910.299   \n",
       "2020-12-02 08:00:00  0.031262  0.031380  0.030974  0.031294   38006.006   \n",
       "2020-12-02 12:00:00  0.031295  0.031500  0.031007  0.031199   52026.563   \n",
       "2020-12-02 16:00:00  0.031199  0.031345  0.030979  0.031226   42631.431   \n",
       "2020-12-02 20:00:00  0.031228  0.031326  0.031091  0.031091   27368.886   \n",
       "2020-12-03 00:00:00  0.031091  0.031200  0.030962  0.031187   34397.772   \n",
       "\n",
       "                      Symbol  Is_Final_Row  \n",
       "Timestamp                                   \n",
       "2020-12-01 00:00:00  ETH/BTC           NaN  \n",
       "2020-12-01 04:00:00  ETH/BTC           NaN  \n",
       "2020-12-01 08:00:00  ETH/BTC           NaN  \n",
       "2020-12-01 12:00:00  ETH/BTC           NaN  \n",
       "2020-12-01 16:00:00  ETH/BTC           NaN  \n",
       "2020-12-01 20:00:00  ETH/BTC           NaN  \n",
       "2020-12-02 00:00:00  ETH/BTC           NaN  \n",
       "2020-12-02 04:00:00  ETH/BTC           NaN  \n",
       "2020-12-02 08:00:00  ETH/BTC           NaN  \n",
       "2020-12-02 12:00:00  ETH/BTC           NaN  \n",
       "2020-12-02 16:00:00  ETH/BTC           NaN  \n",
       "2020-12-02 20:00:00  ETH/BTC           NaN  \n",
       "2020-12-03 00:00:00  ETH/BTC           NaN  "
      ],
      "text/html": [
       "<div>\n",
       "<style scoped>\n",
       "    .dataframe tbody tr th:only-of-type {\n",
       "        vertical-align: middle;\n",
       "    }\n",
       "\n",
       "    .dataframe tbody tr th {\n",
       "        vertical-align: top;\n",
       "    }\n",
       "\n",
       "    .dataframe thead th {\n",
       "        text-align: right;\n",
       "    }\n",
       "</style>\n",
       "<table border=\"1\" class=\"dataframe\">\n",
       "  <thead>\n",
       "    <tr style=\"text-align: right;\">\n",
       "      <th></th>\n",
       "      <th>Open</th>\n",
       "      <th>High</th>\n",
       "      <th>Low</th>\n",
       "      <th>Close</th>\n",
       "      <th>Volume</th>\n",
       "      <th>Symbol</th>\n",
       "      <th>Is_Final_Row</th>\n",
       "    </tr>\n",
       "    <tr>\n",
       "      <th>Timestamp</th>\n",
       "      <th></th>\n",
       "      <th></th>\n",
       "      <th></th>\n",
       "      <th></th>\n",
       "      <th></th>\n",
       "      <th></th>\n",
       "      <th></th>\n",
       "    </tr>\n",
       "  </thead>\n",
       "  <tbody>\n",
       "    <tr>\n",
       "      <th>2020-12-01 00:00:00</th>\n",
       "      <td>0.031310</td>\n",
       "      <td>0.031429</td>\n",
       "      <td>0.030899</td>\n",
       "      <td>0.031155</td>\n",
       "      <td>50362.862</td>\n",
       "      <td>ETH/BTC</td>\n",
       "      <td>NaN</td>\n",
       "    </tr>\n",
       "    <tr>\n",
       "      <th>2020-12-01 04:00:00</th>\n",
       "      <td>0.031156</td>\n",
       "      <td>0.031420</td>\n",
       "      <td>0.031068</td>\n",
       "      <td>0.031295</td>\n",
       "      <td>42238.369</td>\n",
       "      <td>ETH/BTC</td>\n",
       "      <td>NaN</td>\n",
       "    </tr>\n",
       "    <tr>\n",
       "      <th>2020-12-01 08:00:00</th>\n",
       "      <td>0.031301</td>\n",
       "      <td>0.032223</td>\n",
       "      <td>0.030952</td>\n",
       "      <td>0.031697</td>\n",
       "      <td>117904.410</td>\n",
       "      <td>ETH/BTC</td>\n",
       "      <td>NaN</td>\n",
       "    </tr>\n",
       "    <tr>\n",
       "      <th>2020-12-01 12:00:00</th>\n",
       "      <td>0.031699</td>\n",
       "      <td>0.031819</td>\n",
       "      <td>0.030125</td>\n",
       "      <td>0.031347</td>\n",
       "      <td>173344.749</td>\n",
       "      <td>ETH/BTC</td>\n",
       "      <td>NaN</td>\n",
       "    </tr>\n",
       "    <tr>\n",
       "      <th>2020-12-01 16:00:00</th>\n",
       "      <td>0.031347</td>\n",
       "      <td>0.031523</td>\n",
       "      <td>0.030973</td>\n",
       "      <td>0.031437</td>\n",
       "      <td>49840.826</td>\n",
       "      <td>ETH/BTC</td>\n",
       "      <td>NaN</td>\n",
       "    </tr>\n",
       "    <tr>\n",
       "      <th>2020-12-01 20:00:00</th>\n",
       "      <td>0.031437</td>\n",
       "      <td>0.031500</td>\n",
       "      <td>0.031145</td>\n",
       "      <td>0.031189</td>\n",
       "      <td>29549.302</td>\n",
       "      <td>ETH/BTC</td>\n",
       "      <td>NaN</td>\n",
       "    </tr>\n",
       "    <tr>\n",
       "      <th>2020-12-02 00:00:00</th>\n",
       "      <td>0.031189</td>\n",
       "      <td>0.031621</td>\n",
       "      <td>0.031070</td>\n",
       "      <td>0.031461</td>\n",
       "      <td>37485.648</td>\n",
       "      <td>ETH/BTC</td>\n",
       "      <td>NaN</td>\n",
       "    </tr>\n",
       "    <tr>\n",
       "      <th>2020-12-02 04:00:00</th>\n",
       "      <td>0.031462</td>\n",
       "      <td>0.031548</td>\n",
       "      <td>0.031263</td>\n",
       "      <td>0.031266</td>\n",
       "      <td>41910.299</td>\n",
       "      <td>ETH/BTC</td>\n",
       "      <td>NaN</td>\n",
       "    </tr>\n",
       "    <tr>\n",
       "      <th>2020-12-02 08:00:00</th>\n",
       "      <td>0.031262</td>\n",
       "      <td>0.031380</td>\n",
       "      <td>0.030974</td>\n",
       "      <td>0.031294</td>\n",
       "      <td>38006.006</td>\n",
       "      <td>ETH/BTC</td>\n",
       "      <td>NaN</td>\n",
       "    </tr>\n",
       "    <tr>\n",
       "      <th>2020-12-02 12:00:00</th>\n",
       "      <td>0.031295</td>\n",
       "      <td>0.031500</td>\n",
       "      <td>0.031007</td>\n",
       "      <td>0.031199</td>\n",
       "      <td>52026.563</td>\n",
       "      <td>ETH/BTC</td>\n",
       "      <td>NaN</td>\n",
       "    </tr>\n",
       "    <tr>\n",
       "      <th>2020-12-02 16:00:00</th>\n",
       "      <td>0.031199</td>\n",
       "      <td>0.031345</td>\n",
       "      <td>0.030979</td>\n",
       "      <td>0.031226</td>\n",
       "      <td>42631.431</td>\n",
       "      <td>ETH/BTC</td>\n",
       "      <td>NaN</td>\n",
       "    </tr>\n",
       "    <tr>\n",
       "      <th>2020-12-02 20:00:00</th>\n",
       "      <td>0.031228</td>\n",
       "      <td>0.031326</td>\n",
       "      <td>0.031091</td>\n",
       "      <td>0.031091</td>\n",
       "      <td>27368.886</td>\n",
       "      <td>ETH/BTC</td>\n",
       "      <td>NaN</td>\n",
       "    </tr>\n",
       "    <tr>\n",
       "      <th>2020-12-03 00:00:00</th>\n",
       "      <td>0.031091</td>\n",
       "      <td>0.031200</td>\n",
       "      <td>0.030962</td>\n",
       "      <td>0.031187</td>\n",
       "      <td>34397.772</td>\n",
       "      <td>ETH/BTC</td>\n",
       "      <td>NaN</td>\n",
       "    </tr>\n",
       "  </tbody>\n",
       "</table>\n",
       "</div>"
      ]
     },
     "metadata": {},
     "execution_count": 32
    }
   ],
   "metadata": {}
  },
  {
   "cell_type": "code",
   "execution_count": 37,
   "source": [
    "first.equals(csv_df)"
   ],
   "outputs": [
    {
     "output_type": "execute_result",
     "data": {
      "text/plain": [
       "True"
      ]
     },
     "metadata": {},
     "execution_count": 37
    }
   ],
   "metadata": {}
  },
  {
   "cell_type": "code",
   "execution_count": 16,
   "source": [
    "max(pd.Series(df.index).diff().dropna())"
   ],
   "outputs": [
    {
     "output_type": "error",
     "ename": "NameError",
     "evalue": "name 'df' is not defined",
     "traceback": [
      "\u001b[1;31m---------------------------------------------------------------------------\u001b[0m",
      "\u001b[1;31mNameError\u001b[0m                                 Traceback (most recent call last)",
      "\u001b[1;32m<ipython-input-16-5b23bb825302>\u001b[0m in \u001b[0;36m<module>\u001b[1;34m\u001b[0m\n\u001b[1;32m----> 1\u001b[1;33m \u001b[0mmax\u001b[0m\u001b[1;33m(\u001b[0m\u001b[0mpd\u001b[0m\u001b[1;33m.\u001b[0m\u001b[0mSeries\u001b[0m\u001b[1;33m(\u001b[0m\u001b[0mdf\u001b[0m\u001b[1;33m.\u001b[0m\u001b[0mindex\u001b[0m\u001b[1;33m)\u001b[0m\u001b[1;33m.\u001b[0m\u001b[0mdiff\u001b[0m\u001b[1;33m(\u001b[0m\u001b[1;33m)\u001b[0m\u001b[1;33m.\u001b[0m\u001b[0mdropna\u001b[0m\u001b[1;33m(\u001b[0m\u001b[1;33m)\u001b[0m\u001b[1;33m)\u001b[0m\u001b[1;33m\u001b[0m\u001b[1;33m\u001b[0m\u001b[0m\n\u001b[0m",
      "\u001b[1;31mNameError\u001b[0m: name 'df' is not defined"
     ]
    }
   ],
   "metadata": {}
  },
  {
   "cell_type": "code",
   "execution_count": 13,
   "source": [
    "utils.convert_timeframe_to_sec('60s')"
   ],
   "outputs": [
    {
     "output_type": "execute_result",
     "data": {
      "text/plain": [
       "60"
      ]
     },
     "metadata": {},
     "execution_count": 13
    }
   ],
   "metadata": {}
  },
  {
   "cell_type": "code",
   "execution_count": 9,
   "source": [
    "first = gcd.get_DataFrame(['ETH/BTC'], exchange, '1/1/20', '12/24/20')\r\n",
    "first"
   ],
   "outputs": [
    {
     "output_type": "stream",
     "name": "stdout",
     "text": [
      "Need later data for ETH/BTC. Retreiving data from 2020-12-04 00:00:00.001000+00:00 (1607040000001) to 12/24/20 (1608768000000)\n",
      "Fetching ETH/BTC market data from Binance. call #1\n",
      "lastCall = 1630354282526 fetching data...\n"
     ]
    },
    {
     "output_type": "error",
     "ename": "TypeError",
     "evalue": "unsupported operand type(s) for -: 'int' and 'str'",
     "traceback": [
      "\u001b[1;31m---------------------------------------------------------------------------\u001b[0m",
      "\u001b[1;31mTypeError\u001b[0m                                 Traceback (most recent call last)",
      "\u001b[1;32m<ipython-input-9-98cff6f7b370>\u001b[0m in \u001b[0;36m<module>\u001b[1;34m\u001b[0m\n\u001b[1;32m----> 1\u001b[1;33m \u001b[0mfirst\u001b[0m \u001b[1;33m=\u001b[0m \u001b[0mgcd\u001b[0m\u001b[1;33m.\u001b[0m\u001b[0mget_DataFrame\u001b[0m\u001b[1;33m(\u001b[0m\u001b[1;33m[\u001b[0m\u001b[1;34m'ETH/BTC'\u001b[0m\u001b[1;33m]\u001b[0m\u001b[1;33m,\u001b[0m \u001b[0mexchange\u001b[0m\u001b[1;33m,\u001b[0m \u001b[1;34m'1/1/20'\u001b[0m\u001b[1;33m,\u001b[0m \u001b[1;34m'12/24/20'\u001b[0m\u001b[1;33m)\u001b[0m\u001b[1;33m\u001b[0m\u001b[1;33m\u001b[0m\u001b[0m\n\u001b[0m\u001b[0;32m      2\u001b[0m \u001b[0mfirst\u001b[0m\u001b[1;33m\u001b[0m\u001b[1;33m\u001b[0m\u001b[0m\n",
      "\u001b[1;32mc:\\users\\avery\\documents\\github\\rba_tools_project\\rba_tools\\retriver\\get_crypto_data.py\u001b[0m in \u001b[0;36mget_DataFrame\u001b[1;34m(symbol_list, exchange, from_date_str, end_date_str, ret_as_list, timeframe, max_calls)\u001b[0m\n\u001b[0;32m    160\u001b[0m                 \u001b[0mlast_df_timestamp_str\u001b[0m \u001b[1;33m=\u001b[0m \u001b[0mdatetime\u001b[0m\u001b[1;33m.\u001b[0m\u001b[0mfromtimestamp\u001b[0m\u001b[1;33m(\u001b[0m\u001b[0mlast_df_timestamp\u001b[0m \u001b[1;33m/\u001b[0m \u001b[1;36m1000\u001b[0m\u001b[1;33m,\u001b[0m \u001b[0mtz\u001b[0m\u001b[1;33m.\u001b[0m\u001b[0mtzutc\u001b[0m\u001b[1;33m(\u001b[0m\u001b[1;33m)\u001b[0m\u001b[1;33m)\u001b[0m\u001b[1;33m\u001b[0m\u001b[1;33m\u001b[0m\u001b[0m\n\u001b[0;32m    161\u001b[0m                 \u001b[0mprint\u001b[0m\u001b[1;33m(\u001b[0m\u001b[1;34mf'Need later data for {symbol}. Retreiving data from {last_df_timestamp_str} ({last_df_timestamp}) to {end_date_str} ({end_date_ms})'\u001b[0m\u001b[1;33m)\u001b[0m\u001b[1;33m\u001b[0m\u001b[1;33m\u001b[0m\u001b[0m\n\u001b[1;32m--> 162\u001b[1;33m                 \u001b[0mlater_data\u001b[0m \u001b[1;33m=\u001b[0m \u001b[0mretrieve_data_from_exchange\u001b[0m\u001b[1;33m(\u001b[0m\u001b[0msymbol\u001b[0m\u001b[1;33m,\u001b[0m \u001b[0mexchange\u001b[0m\u001b[1;33m,\u001b[0m \u001b[0mlast_df_timestamp\u001b[0m\u001b[1;33m,\u001b[0m \u001b[0mend_date_ms\u001b[0m\u001b[1;33m,\u001b[0m \u001b[0mtimeframe\u001b[0m\u001b[1;33m,\u001b[0m \u001b[0mmax_calls\u001b[0m\u001b[1;33m)\u001b[0m\u001b[1;33m\u001b[0m\u001b[1;33m\u001b[0m\u001b[0m\n\u001b[0m\u001b[0;32m    163\u001b[0m                 \u001b[0mlater_data\u001b[0m\u001b[1;33m.\u001b[0m\u001b[0mto_sql\u001b[0m\u001b[1;33m(\u001b[0m\u001b[1;34m'OHLCV_DATA'\u001b[0m\u001b[1;33m,\u001b[0m \u001b[0mconnection\u001b[0m\u001b[1;33m,\u001b[0m \u001b[0mif_exists\u001b[0m\u001b[1;33m=\u001b[0m\u001b[1;34m'append'\u001b[0m\u001b[1;33m)\u001b[0m\u001b[1;33m\u001b[0m\u001b[1;33m\u001b[0m\u001b[0m\n\u001b[0;32m    164\u001b[0m                 \u001b[0msymbol_df\u001b[0m \u001b[1;33m=\u001b[0m \u001b[0msymbol_df\u001b[0m\u001b[1;33m.\u001b[0m\u001b[0mappend\u001b[0m\u001b[1;33m(\u001b[0m\u001b[0mlater_data\u001b[0m\u001b[1;33m)\u001b[0m\u001b[1;33m\u001b[0m\u001b[1;33m\u001b[0m\u001b[0m\n",
      "\u001b[1;32mc:\\users\\avery\\documents\\github\\rba_tools_project\\rba_tools\\retriver\\get_crypto_data.py\u001b[0m in \u001b[0;36mretrieve_data_from_exchange\u001b[1;34m(symbol, exchange, from_date_ms, end_date_ms, timeframe, max_calls)\u001b[0m\n\u001b[0;32m    237\u001b[0m         \u001b[0mprint\u001b[0m\u001b[1;33m(\u001b[0m\u001b[1;34mf'Maximum data retrivals ({max_calls}) hit.'\u001b[0m\u001b[1;33m)\u001b[0m\u001b[1;33m\u001b[0m\u001b[1;33m\u001b[0m\u001b[0m\n\u001b[0;32m    238\u001b[0m         \u001b[1;32mreturn\u001b[0m \u001b[0mpd\u001b[0m\u001b[1;33m.\u001b[0m\u001b[0mDataFrame\u001b[0m\u001b[1;33m(\u001b[0m\u001b[1;33m)\u001b[0m\u001b[1;33m\u001b[0m\u001b[1;33m\u001b[0m\u001b[0m\n\u001b[1;32m--> 239\u001b[1;33m     \u001b[0mpopulate_is_final_column\u001b[0m\u001b[1;33m(\u001b[0m\u001b[0mretdf\u001b[0m\u001b[1;33m,\u001b[0m \u001b[0mfrom_date_ms\u001b[0m\u001b[1;33m,\u001b[0m \u001b[0mend_date_ms\u001b[0m\u001b[1;33m,\u001b[0m \u001b[0mtimeframe\u001b[0m\u001b[1;33m)\u001b[0m\u001b[1;33m\u001b[0m\u001b[1;33m\u001b[0m\u001b[0m\n\u001b[0m\u001b[0;32m    240\u001b[0m     \u001b[1;32mreturn\u001b[0m \u001b[0mretdf\u001b[0m\u001b[1;33m.\u001b[0m\u001b[0mloc\u001b[0m\u001b[1;33m[\u001b[0m\u001b[0mfrom_date_ms\u001b[0m\u001b[1;33m:\u001b[0m\u001b[0mend_date_ms\u001b[0m\u001b[1;33m,\u001b[0m\u001b[1;33m:\u001b[0m\u001b[1;33m]\u001b[0m\u001b[1;33m\u001b[0m\u001b[1;33m\u001b[0m\u001b[0m\n\u001b[0;32m    241\u001b[0m \u001b[1;33m\u001b[0m\u001b[0m\n",
      "\u001b[1;32mc:\\users\\avery\\documents\\github\\rba_tools_project\\rba_tools\\retriver\\get_crypto_data.py\u001b[0m in \u001b[0;36mpopulate_is_final_column\u001b[1;34m(df, from_date_ms, end_date_ms, timeframe)\u001b[0m\n\u001b[0;32m    189\u001b[0m     \u001b[1;31m#if our from date is less than one bar behind our earliest data then there is no previous data\u001b[0m\u001b[1;33m\u001b[0m\u001b[1;33m\u001b[0m\u001b[1;33m\u001b[0m\u001b[0m\n\u001b[0;32m    190\u001b[0m     \u001b[0mtimeframe_ms\u001b[0m \u001b[1;33m=\u001b[0m \u001b[0mconvert_timeframe_to_ms\u001b[0m\u001b[1;33m(\u001b[0m\u001b[0mtimeframe\u001b[0m\u001b[1;33m)\u001b[0m\u001b[1;33m\u001b[0m\u001b[1;33m\u001b[0m\u001b[0m\n\u001b[1;32m--> 191\u001b[1;33m     \u001b[1;32mif\u001b[0m \u001b[0mfrom_date_ms\u001b[0m \u001b[1;33m<\u001b[0m \u001b[1;33m(\u001b[0m\u001b[0mdf\u001b[0m\u001b[1;33m.\u001b[0m\u001b[0mindex\u001b[0m\u001b[1;33m.\u001b[0m\u001b[0mmin\u001b[0m\u001b[1;33m(\u001b[0m\u001b[1;33m)\u001b[0m\u001b[1;33m.\u001b[0m\u001b[0mitem\u001b[0m\u001b[1;33m(\u001b[0m\u001b[1;33m)\u001b[0m \u001b[1;33m-\u001b[0m \u001b[0mtimeframe_ms\u001b[0m\u001b[1;33m)\u001b[0m\u001b[1;33m:\u001b[0m\u001b[1;33m\u001b[0m\u001b[1;33m\u001b[0m\u001b[0m\n\u001b[0m\u001b[0;32m    192\u001b[0m         \u001b[0mdf\u001b[0m\u001b[1;33m.\u001b[0m\u001b[0mat\u001b[0m\u001b[1;33m[\u001b[0m\u001b[0mdf\u001b[0m\u001b[1;33m.\u001b[0m\u001b[0mindex\u001b[0m\u001b[1;33m.\u001b[0m\u001b[0mmin\u001b[0m\u001b[1;33m(\u001b[0m\u001b[1;33m)\u001b[0m\u001b[1;33m,\u001b[0m\u001b[1;34m'Is_Final_Row'\u001b[0m\u001b[1;33m]\u001b[0m \u001b[1;33m=\u001b[0m \u001b[1;36m1\u001b[0m\u001b[1;33m\u001b[0m\u001b[1;33m\u001b[0m\u001b[0m\n\u001b[0;32m    193\u001b[0m     \u001b[0mtwo_timeframes_ms\u001b[0m \u001b[1;33m=\u001b[0m \u001b[1;36m2\u001b[0m \u001b[1;33m*\u001b[0m \u001b[0mtimeframe_ms\u001b[0m\u001b[1;33m\u001b[0m\u001b[1;33m\u001b[0m\u001b[0m\n",
      "\u001b[1;31mTypeError\u001b[0m: unsupported operand type(s) for -: 'int' and 'str'"
     ]
    }
   ],
   "metadata": {}
  },
  {
   "cell_type": "code",
   "execution_count": null,
   "source": [
    "second = gcd.get_DataFrame(['SCRT/BTC'], exchange, '1/1/20', '12/24/20')\r\n",
    "second"
   ],
   "outputs": [],
   "metadata": {}
  },
  {
   "cell_type": "code",
   "execution_count": null,
   "source": [
    "first.equals(second)"
   ],
   "outputs": [],
   "metadata": {}
  },
  {
   "cell_type": "code",
   "execution_count": null,
   "source": [
    "df = gcd.get_DataFrame(['BCH/BTC'], exchange, '9/1/20', '9/24/20')\r\n",
    "df\r\n"
   ],
   "outputs": [],
   "metadata": {}
  },
  {
   "cell_type": "code",
   "execution_count": null,
   "source": [
    "df.dtypes"
   ],
   "outputs": [],
   "metadata": {}
  },
  {
   "cell_type": "code",
   "execution_count": null,
   "source": [
    "test = pd.to_datetime(['1/1/20','1/2/20'])\r\n",
    "test"
   ],
   "outputs": [],
   "metadata": {}
  },
  {
   "cell_type": "code",
   "execution_count": null,
   "source": [
    "datetime.utcnow()"
   ],
   "outputs": [],
   "metadata": {}
  },
  {
   "cell_type": "code",
   "execution_count": null,
   "source": [
    "gcd.getUTCTimeStamp('1/6/2020')"
   ],
   "outputs": [],
   "metadata": {}
  },
  {
   "cell_type": "code",
   "execution_count": null,
   "source": [
    "data = gcd.get_DataFrame(['VIB/BTC'],exchange, '1/1/20')\r\n",
    "data"
   ],
   "outputs": [],
   "metadata": {}
  },
  {
   "cell_type": "code",
   "execution_count": null,
   "source": [
    "connection = database.create_connection()\r\n",
    "connection"
   ],
   "outputs": [],
   "metadata": {}
  },
  {
   "cell_type": "code",
   "execution_count": null,
   "source": [
    "data = gcd.get_saved_data(['ETH/BTC'], connection)\r\n",
    "data"
   ],
   "outputs": [],
   "metadata": {}
  },
  {
   "cell_type": "code",
   "execution_count": null,
   "source": [
    "query = \"\"\"SELECT * FROM OHLCV_DATA WHERE Symbol == 'VIB/BTC'\"\"\"\r\n",
    "columns = ['Symbol','Timestamp','Open','High','Low','Close','Volume','Is_Final_Row']"
   ],
   "outputs": [],
   "metadata": {
    "tags": []
   }
  },
  {
   "cell_type": "code",
   "execution_count": null,
   "source": [
    "ticker = 'VIB/BTC'\r\n",
    "from_date_str = '1/1/20'\r\n",
    "to_date_str = '2/1/20'\r\n",
    "from_condition = ''\r\n",
    "to_condition = ''\r\n",
    "if from_date_str:\r\n",
    "    from_date = gcd.convert_datetime_to_UTC_Ms(gcd.get_UTC_datetime(from_date_str))\r\n",
    "    from_condition = f'and TIMESTAMP >= {from_date}'\r\n",
    "if to_date_str:\r\n",
    "    to_date = gcd.convert_datetime_to_UTC_Ms(gcd.get_UTC_datetime(to_date_str))\r\n",
    "    to_condition = f'and TIMESTAMP <= {to_date}'\r\n",
    "mysql = f\"\"\"SELECT * FROM OHLCV_DATA \r\n",
    "    WHERE Symbol == '{ticker}'\r\n",
    "    {from_condition}\r\n",
    "    {to_condition}\"\"\"\r\n",
    "print('query \\n',mysql)\r\n",
    "result = pd.read_sql_query(mysql, connection)\r\n",
    "result"
   ],
   "outputs": [],
   "metadata": {}
  },
  {
   "cell_type": "code",
   "execution_count": null,
   "source": [
    "mydf = pd.DataFrame(SQL_Query, columns=columns)\r\n",
    "mydf"
   ],
   "outputs": [],
   "metadata": {}
  },
  {
   "cell_type": "code",
   "execution_count": null,
   "source": [
    "SQL_Query.empty"
   ],
   "outputs": [],
   "metadata": {}
  },
  {
   "cell_type": "code",
   "execution_count": null,
   "source": [
    "gcd.set_data_timestamp_index(SQL_Query).empty"
   ],
   "outputs": [],
   "metadata": {}
  },
  {
   "cell_type": "code",
   "execution_count": null,
   "source": [
    "connection.close()"
   ],
   "outputs": [],
   "metadata": {}
  },
  {
   "cell_type": "code",
   "execution_count": null,
   "source": [
    "result = pd.read_sql_query(query, connection)\n",
    "result['Is_Final_Row'] = pd.to_numeric(result['Is_Final_Row'], errors='coerce')\n",
    "result"
   ],
   "outputs": [],
   "metadata": {}
  },
  {
   "cell_type": "code",
   "execution_count": null,
   "source": [
    "if test:\n",
    "    print('yes')"
   ],
   "outputs": [],
   "metadata": {}
  },
  {
   "cell_type": "code",
   "execution_count": null,
   "source": [
    "print(f'my string is |{test}|')"
   ],
   "outputs": [],
   "metadata": {}
  },
  {
   "cell_type": "code",
   "execution_count": null,
   "source": [],
   "outputs": [],
   "metadata": {}
  }
 ],
 "metadata": {
  "kernelspec": {
   "name": "python3",
   "display_name": "Python 3.9.1 64-bit"
  },
  "language_info": {
   "codemirror_mode": {
    "name": "ipython",
    "version": 3
   },
   "file_extension": ".py",
   "mimetype": "text/x-python",
   "name": "python",
   "nbconvert_exporter": "python",
   "pygments_lexer": "ipython3",
   "version": "3.9.1"
  },
  "interpreter": {
   "hash": "b54cb9753f1fc2478effd5c05200ae4f0e3c44cd8f27e179dabba8365c7dc822"
  }
 },
 "nbformat": 4,
 "nbformat_minor": 4
}