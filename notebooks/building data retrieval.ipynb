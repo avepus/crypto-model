{
 "cells": [
  {
   "cell_type": "code",
   "execution_count": 5,
   "metadata": {},
   "outputs": [],
   "source": [
    "import rba_tools.retriver.get_crypto_data as gcd\n",
    "from pathlib import Path\n",
    "import pandas as pd\n",
    "from datetime import datetime\n",
    "import rba_tools.utils as utils"
   ]
  },
  {
   "cell_type": "code",
   "execution_count": 6,
   "metadata": {},
   "outputs": [],
   "source": [
    "retriver = gcd.CCXTDataRetriver('binance')"
   ]
  },
  {
   "cell_type": "code",
   "execution_count": 7,
   "metadata": {},
   "outputs": [
    {
     "data": {
      "text/plain": [
       "datetime.datetime(2020, 1, 1, 0, 0)"
      ]
     },
     "execution_count": 7,
     "metadata": {},
     "output_type": "execute_result"
    }
   ],
   "source": [
    "dt = datetime(2020,1,1)\n",
    "dt"
   ]
  },
  {
   "cell_type": "code",
   "execution_count": 9,
   "metadata": {},
   "outputs": [
    {
     "name": "stdout",
     "output_type": "stream",
     "text": [
      "Fetching ETH/BTC market data from Binance. call #1\n",
      "Fetching ETH/BTC market data from Binance. call #2\n",
      "Fetching ETH/BTC market data from Binance. call #3\n"
     ]
    },
    {
     "ename": "IndexError",
     "evalue": "list index out of range",
     "output_type": "error",
     "traceback": [
      "\u001b[1;31m---------------------------------------------------------------------------\u001b[0m",
      "\u001b[1;31mIndexError\u001b[0m                                Traceback (most recent call last)",
      "\u001b[1;32m<ipython-input-9-e0c3427cb017>\u001b[0m in \u001b[0;36m<module>\u001b[1;34m\u001b[0m\n\u001b[0;32m      4\u001b[0m \u001b[0mto_date\u001b[0m \u001b[1;33m=\u001b[0m \u001b[0mdatetime\u001b[0m\u001b[1;33m(\u001b[0m\u001b[1;36m2021\u001b[0m\u001b[1;33m,\u001b[0m \u001b[1;36m12\u001b[0m\u001b[1;33m,\u001b[0m \u001b[1;36m3\u001b[0m\u001b[1;33m)\u001b[0m\u001b[1;33m\u001b[0m\u001b[1;33m\u001b[0m\u001b[0m\n\u001b[0;32m      5\u001b[0m \u001b[0mretriver\u001b[0m \u001b[1;33m=\u001b[0m \u001b[0mgcd\u001b[0m\u001b[1;33m.\u001b[0m\u001b[0mCCXTDataRetriver\u001b[0m\u001b[1;33m(\u001b[0m\u001b[1;34m'binance'\u001b[0m\u001b[1;33m)\u001b[0m\u001b[1;33m\u001b[0m\u001b[1;33m\u001b[0m\u001b[0m\n\u001b[1;32m----> 6\u001b[1;33m \u001b[0mresult\u001b[0m \u001b[1;33m=\u001b[0m \u001b[0mretriver\u001b[0m\u001b[1;33m.\u001b[0m\u001b[0mfetch_ohlcv\u001b[0m\u001b[1;33m(\u001b[0m\u001b[0msymbol\u001b[0m\u001b[1;33m,\u001b[0m \u001b[0mtimeframe\u001b[0m\u001b[1;33m,\u001b[0m \u001b[0mfrom_date\u001b[0m\u001b[1;33m,\u001b[0m \u001b[0mto_date\u001b[0m\u001b[1;33m)\u001b[0m\u001b[1;33m\u001b[0m\u001b[1;33m\u001b[0m\u001b[0m\n\u001b[0m\u001b[0;32m      7\u001b[0m \u001b[1;33m\u001b[0m\u001b[0m\n",
      "\u001b[1;32mc:\\users\\avery\\documents\\github\\rba_tools_project\\rba_tools\\retriver\\get_crypto_data.py\u001b[0m in \u001b[0;36mfetch_ohlcv\u001b[1;34m(self, symbol, timeframe, from_date, to_date)\u001b[0m\n\u001b[0;32m    110\u001b[0m         \u001b[0mfrom_date_ms\u001b[0m \u001b[1;33m=\u001b[0m \u001b[0mint\u001b[0m\u001b[1;33m(\u001b[0m\u001b[0mfrom_date\u001b[0m\u001b[1;33m.\u001b[0m\u001b[0mtimestamp\u001b[0m\u001b[1;33m(\u001b[0m\u001b[1;33m)\u001b[0m \u001b[1;33m*\u001b[0m \u001b[1;36m1000\u001b[0m\u001b[1;33m)\u001b[0m\u001b[1;33m\u001b[0m\u001b[1;33m\u001b[0m\u001b[0m\n\u001b[0;32m    111\u001b[0m         \u001b[0mto_date_ms\u001b[0m \u001b[1;33m=\u001b[0m \u001b[0mint\u001b[0m\u001b[1;33m(\u001b[0m\u001b[0mto_date\u001b[0m\u001b[1;33m.\u001b[0m\u001b[0mtimestamp\u001b[0m\u001b[1;33m(\u001b[0m\u001b[1;33m)\u001b[0m \u001b[1;33m*\u001b[0m \u001b[1;36m1000\u001b[0m\u001b[1;33m)\u001b[0m\u001b[1;33m\u001b[0m\u001b[1;33m\u001b[0m\u001b[0m\n\u001b[1;32m--> 112\u001b[1;33m         \u001b[0mdata\u001b[0m \u001b[1;33m=\u001b[0m \u001b[0mself\u001b[0m\u001b[1;33m.\u001b[0m\u001b[0mget_all_ccxt_data\u001b[0m\u001b[1;33m(\u001b[0m\u001b[0msymbol\u001b[0m\u001b[1;33m,\u001b[0m \u001b[0mtimeframe\u001b[0m\u001b[1;33m,\u001b[0m \u001b[0mfrom_date_ms\u001b[0m\u001b[1;33m,\u001b[0m \u001b[0mto_date_ms\u001b[0m\u001b[1;33m)\u001b[0m\u001b[1;33m\u001b[0m\u001b[1;33m\u001b[0m\u001b[0m\n\u001b[0m\u001b[0;32m    113\u001b[0m         \u001b[1;32mreturn\u001b[0m \u001b[0mself\u001b[0m\u001b[1;33m.\u001b[0m\u001b[0mformat_ccxt_returned_data\u001b[0m\u001b[1;33m(\u001b[0m\u001b[0mdata\u001b[0m\u001b[1;33m,\u001b[0m \u001b[0msymbol\u001b[0m\u001b[1;33m,\u001b[0m \u001b[0mto_date\u001b[0m\u001b[1;33m)\u001b[0m\u001b[1;33m\u001b[0m\u001b[1;33m\u001b[0m\u001b[0m\n\u001b[0;32m    114\u001b[0m \u001b[1;33m\u001b[0m\u001b[0m\n",
      "\u001b[1;32mc:\\users\\avery\\documents\\github\\rba_tools_project\\rba_tools\\retriver\\get_crypto_data.py\u001b[0m in \u001b[0;36mget_all_ccxt_data\u001b[1;34m(self, symbol, timeframe, from_date_ms, to_date_ms)\u001b[0m\n\u001b[0;32m    137\u001b[0m                 \u001b[0mreturn_data\u001b[0m \u001b[1;33m=\u001b[0m \u001b[0mdata\u001b[0m\u001b[1;33m\u001b[0m\u001b[1;33m\u001b[0m\u001b[0m\n\u001b[0;32m    138\u001b[0m             \u001b[0mto_date_is_found_or_passed\u001b[0m \u001b[1;33m=\u001b[0m \u001b[0many\u001b[0m\u001b[1;33m(\u001b[0m\u001b[0mto_date_ms\u001b[0m \u001b[1;33m==\u001b[0m \u001b[0mrow\u001b[0m\u001b[1;33m[\u001b[0m\u001b[1;36m0\u001b[0m\u001b[1;33m]\u001b[0m \u001b[1;32mor\u001b[0m \u001b[0mto_date_ms\u001b[0m \u001b[1;33m<\u001b[0m \u001b[0mrow\u001b[0m\u001b[1;33m[\u001b[0m\u001b[1;36m0\u001b[0m\u001b[1;33m]\u001b[0m \u001b[1;32mfor\u001b[0m \u001b[0mrow\u001b[0m \u001b[1;32min\u001b[0m \u001b[0mdata\u001b[0m\u001b[1;33m)\u001b[0m\u001b[1;33m\u001b[0m\u001b[1;33m\u001b[0m\u001b[0m\n\u001b[1;32m--> 139\u001b[1;33m             \u001b[0mlast_end_timestamp_ms\u001b[0m \u001b[1;33m=\u001b[0m \u001b[0mdata\u001b[0m\u001b[1;33m[\u001b[0m\u001b[0mlen\u001b[0m\u001b[1;33m(\u001b[0m\u001b[0mdata\u001b[0m\u001b[1;33m)\u001b[0m \u001b[1;33m-\u001b[0m \u001b[1;36m1\u001b[0m\u001b[1;33m]\u001b[0m\u001b[1;33m[\u001b[0m\u001b[1;36m0\u001b[0m\u001b[1;33m]\u001b[0m\u001b[1;33m\u001b[0m\u001b[1;33m\u001b[0m\u001b[0m\n\u001b[0m\u001b[0;32m    140\u001b[0m             \u001b[0mfrom_date_ms\u001b[0m \u001b[1;33m=\u001b[0m \u001b[0mlast_end_timestamp_ms\u001b[0m \u001b[1;33m+\u001b[0m \u001b[1;36m1\u001b[0m \u001b[1;31m#add one to not grab same time twice\u001b[0m\u001b[1;33m\u001b[0m\u001b[1;33m\u001b[0m\u001b[0m\n\u001b[0;32m    141\u001b[0m         \u001b[1;32mreturn\u001b[0m \u001b[0mreturn_data\u001b[0m\u001b[1;33m\u001b[0m\u001b[1;33m\u001b[0m\u001b[0m\n",
      "\u001b[1;31mIndexError\u001b[0m: list index out of range"
     ]
    }
   ],
   "source": [
    "symbol = 'ETH/BTC'\n",
    "timeframe = '1d'\n",
    "from_date = datetime(2019, 12, 1)\n",
    "to_date = datetime(2021, 12, 3)\n",
    "retriver = gcd.CCXTDataRetriver('binance')\n",
    "result = retriver.fetch_ohlcv(symbol, timeframe, from_date, to_date)\n",
    "\n"
   ]
  },
  {
   "cell_type": "code",
   "execution_count": 5,
   "metadata": {},
   "outputs": [
    {
     "data": {
      "text/html": [
       "<div>\n",
       "<style scoped>\n",
       "    .dataframe tbody tr th:only-of-type {\n",
       "        vertical-align: middle;\n",
       "    }\n",
       "\n",
       "    .dataframe tbody tr th {\n",
       "        vertical-align: top;\n",
       "    }\n",
       "\n",
       "    .dataframe thead th {\n",
       "        text-align: right;\n",
       "    }\n",
       "</style>\n",
       "<table border=\"1\" class=\"dataframe\">\n",
       "  <thead>\n",
       "    <tr style=\"text-align: right;\">\n",
       "      <th></th>\n",
       "      <th>Open</th>\n",
       "      <th>High</th>\n",
       "      <th>Low</th>\n",
       "      <th>Close</th>\n",
       "      <th>Volume</th>\n",
       "      <th>Symbol</th>\n",
       "      <th>Is_Final_Row</th>\n",
       "    </tr>\n",
       "    <tr>\n",
       "      <th>Timestamp</th>\n",
       "      <th></th>\n",
       "      <th></th>\n",
       "      <th></th>\n",
       "      <th></th>\n",
       "      <th></th>\n",
       "      <th></th>\n",
       "      <th></th>\n",
       "    </tr>\n",
       "  </thead>\n",
       "  <tbody>\n",
       "    <tr>\n",
       "      <th>2020-12-01 00:00:00</th>\n",
       "      <td>0.031310</td>\n",
       "      <td>0.031429</td>\n",
       "      <td>0.030899</td>\n",
       "      <td>0.030949</td>\n",
       "      <td>18090.933</td>\n",
       "      <td>ETH/BTC</td>\n",
       "      <td>NaN</td>\n",
       "    </tr>\n",
       "    <tr>\n",
       "      <th>2020-12-01 01:00:00</th>\n",
       "      <td>0.030950</td>\n",
       "      <td>0.031225</td>\n",
       "      <td>0.030910</td>\n",
       "      <td>0.031160</td>\n",
       "      <td>10379.595</td>\n",
       "      <td>ETH/BTC</td>\n",
       "      <td>NaN</td>\n",
       "    </tr>\n",
       "    <tr>\n",
       "      <th>2020-12-01 02:00:00</th>\n",
       "      <td>0.031161</td>\n",
       "      <td>0.031175</td>\n",
       "      <td>0.030952</td>\n",
       "      <td>0.031046</td>\n",
       "      <td>11040.996</td>\n",
       "      <td>ETH/BTC</td>\n",
       "      <td>NaN</td>\n",
       "    </tr>\n",
       "    <tr>\n",
       "      <th>2020-12-01 03:00:00</th>\n",
       "      <td>0.031046</td>\n",
       "      <td>0.031224</td>\n",
       "      <td>0.030947</td>\n",
       "      <td>0.031155</td>\n",
       "      <td>10851.338</td>\n",
       "      <td>ETH/BTC</td>\n",
       "      <td>NaN</td>\n",
       "    </tr>\n",
       "    <tr>\n",
       "      <th>2020-12-01 04:00:00</th>\n",
       "      <td>0.031156</td>\n",
       "      <td>0.031222</td>\n",
       "      <td>0.031068</td>\n",
       "      <td>0.031187</td>\n",
       "      <td>8739.960</td>\n",
       "      <td>ETH/BTC</td>\n",
       "      <td>NaN</td>\n",
       "    </tr>\n",
       "    <tr>\n",
       "      <th>...</th>\n",
       "      <td>...</td>\n",
       "      <td>...</td>\n",
       "      <td>...</td>\n",
       "      <td>...</td>\n",
       "      <td>...</td>\n",
       "      <td>...</td>\n",
       "      <td>...</td>\n",
       "    </tr>\n",
       "    <tr>\n",
       "      <th>2020-12-21 13:00:00</th>\n",
       "      <td>0.027037</td>\n",
       "      <td>0.027070</td>\n",
       "      <td>0.026836</td>\n",
       "      <td>0.026865</td>\n",
       "      <td>7517.724</td>\n",
       "      <td>ETH/BTC</td>\n",
       "      <td>NaN</td>\n",
       "    </tr>\n",
       "    <tr>\n",
       "      <th>2020-12-21 14:00:00</th>\n",
       "      <td>0.026865</td>\n",
       "      <td>0.026865</td>\n",
       "      <td>0.026865</td>\n",
       "      <td>0.026865</td>\n",
       "      <td>0.000</td>\n",
       "      <td>ETH/BTC</td>\n",
       "      <td>NaN</td>\n",
       "    </tr>\n",
       "    <tr>\n",
       "      <th>2020-12-21 18:00:00</th>\n",
       "      <td>0.026865</td>\n",
       "      <td>0.026875</td>\n",
       "      <td>0.026559</td>\n",
       "      <td>0.026714</td>\n",
       "      <td>9694.996</td>\n",
       "      <td>ETH/BTC</td>\n",
       "      <td>NaN</td>\n",
       "    </tr>\n",
       "    <tr>\n",
       "      <th>2020-12-21 19:00:00</th>\n",
       "      <td>0.026714</td>\n",
       "      <td>0.026865</td>\n",
       "      <td>0.026700</td>\n",
       "      <td>0.026798</td>\n",
       "      <td>4249.350</td>\n",
       "      <td>ETH/BTC</td>\n",
       "      <td>NaN</td>\n",
       "    </tr>\n",
       "    <tr>\n",
       "      <th>2020-12-21 20:00:00</th>\n",
       "      <td>0.026795</td>\n",
       "      <td>0.026819</td>\n",
       "      <td>0.026673</td>\n",
       "      <td>0.026718</td>\n",
       "      <td>3175.072</td>\n",
       "      <td>ETH/BTC</td>\n",
       "      <td>NaN</td>\n",
       "    </tr>\n",
       "  </tbody>\n",
       "</table>\n",
       "<p>498 rows × 7 columns</p>\n",
       "</div>"
      ],
      "text/plain": [
       "                         Open      High       Low     Close     Volume  \\\n",
       "Timestamp                                                                \n",
       "2020-12-01 00:00:00  0.031310  0.031429  0.030899  0.030949  18090.933   \n",
       "2020-12-01 01:00:00  0.030950  0.031225  0.030910  0.031160  10379.595   \n",
       "2020-12-01 02:00:00  0.031161  0.031175  0.030952  0.031046  11040.996   \n",
       "2020-12-01 03:00:00  0.031046  0.031224  0.030947  0.031155  10851.338   \n",
       "2020-12-01 04:00:00  0.031156  0.031222  0.031068  0.031187   8739.960   \n",
       "...                       ...       ...       ...       ...        ...   \n",
       "2020-12-21 13:00:00  0.027037  0.027070  0.026836  0.026865   7517.724   \n",
       "2020-12-21 14:00:00  0.026865  0.026865  0.026865  0.026865      0.000   \n",
       "2020-12-21 18:00:00  0.026865  0.026875  0.026559  0.026714   9694.996   \n",
       "2020-12-21 19:00:00  0.026714  0.026865  0.026700  0.026798   4249.350   \n",
       "2020-12-21 20:00:00  0.026795  0.026819  0.026673  0.026718   3175.072   \n",
       "\n",
       "                      Symbol  Is_Final_Row  \n",
       "Timestamp                                   \n",
       "2020-12-01 00:00:00  ETH/BTC           NaN  \n",
       "2020-12-01 01:00:00  ETH/BTC           NaN  \n",
       "2020-12-01 02:00:00  ETH/BTC           NaN  \n",
       "2020-12-01 03:00:00  ETH/BTC           NaN  \n",
       "2020-12-01 04:00:00  ETH/BTC           NaN  \n",
       "...                      ...           ...  \n",
       "2020-12-21 13:00:00  ETH/BTC           NaN  \n",
       "2020-12-21 14:00:00  ETH/BTC           NaN  \n",
       "2020-12-21 18:00:00  ETH/BTC           NaN  \n",
       "2020-12-21 19:00:00  ETH/BTC           NaN  \n",
       "2020-12-21 20:00:00  ETH/BTC           NaN  \n",
       "\n",
       "[498 rows x 7 columns]"
      ]
     },
     "execution_count": 5,
     "metadata": {},
     "output_type": "execute_result"
    }
   ],
   "source": [
    "result"
   ]
  },
  {
   "cell_type": "code",
   "execution_count": 6,
   "metadata": {},
   "outputs": [
    {
     "data": {
      "text/plain": [
       "1606802400000.0"
      ]
     },
     "execution_count": 6,
     "metadata": {},
     "output_type": "execute_result"
    }
   ],
   "source": [
    "from_date.timestamp() * 1000"
   ]
  },
  {
   "cell_type": "code",
   "execution_count": 15,
   "metadata": {},
   "outputs": [
    {
     "data": {
      "text/plain": [
       "True"
      ]
     },
     "execution_count": 15,
     "metadata": {},
     "output_type": "execute_result"
    }
   ],
   "source": [
    "val=1637107200001\n",
    "any(val == sublist[0] or val < sublist[0] for sublist in li)"
   ]
  },
  {
   "cell_type": "code",
   "execution_count": 17,
   "metadata": {},
   "outputs": [
    {
     "data": {
      "text/plain": [
       "[1637280000000, 0.070254, 0.071401, 0.070043, 0.071291, 7841.4376]"
      ]
     },
     "execution_count": 17,
     "metadata": {},
     "output_type": "execute_result"
    }
   ],
   "source": [
    "li[len(li)-1]"
   ]
  },
  {
   "cell_type": "code",
   "execution_count": 6,
   "metadata": {},
   "outputs": [],
   "source": [
    "db_retriever = gcd.DatabaseRetriver(gcd.SQLite3OHLCVDatabase(True))\n",
    "symbol = 'ETH/BTC'\n",
    "timeframe = '1D'\n",
    "from_date = datetime(2020, 12, 1)\n",
    "to_date = datetime(2020, 12, 3)"
   ]
  },
  {
   "cell_type": "code",
   "execution_count": 7,
   "metadata": {},
   "outputs": [
    {
     "data": {
      "text/html": [
       "<div>\n",
       "<style scoped>\n",
       "    .dataframe tbody tr th:only-of-type {\n",
       "        vertical-align: middle;\n",
       "    }\n",
       "\n",
       "    .dataframe tbody tr th {\n",
       "        vertical-align: top;\n",
       "    }\n",
       "\n",
       "    .dataframe thead th {\n",
       "        text-align: right;\n",
       "    }\n",
       "</style>\n",
       "<table border=\"1\" class=\"dataframe\">\n",
       "  <thead>\n",
       "    <tr style=\"text-align: right;\">\n",
       "      <th></th>\n",
       "      <th>Open</th>\n",
       "      <th>High</th>\n",
       "      <th>Low</th>\n",
       "      <th>Close</th>\n",
       "      <th>Volume</th>\n",
       "      <th>Symbol</th>\n",
       "      <th>Is_Final_Row</th>\n",
       "    </tr>\n",
       "    <tr>\n",
       "      <th>Timestamp</th>\n",
       "      <th></th>\n",
       "      <th></th>\n",
       "      <th></th>\n",
       "      <th></th>\n",
       "      <th></th>\n",
       "      <th></th>\n",
       "      <th></th>\n",
       "    </tr>\n",
       "  </thead>\n",
       "  <tbody>\n",
       "    <tr>\n",
       "      <th>2020-12-01 00:00:00</th>\n",
       "      <td>0.031310</td>\n",
       "      <td>0.032223</td>\n",
       "      <td>0.030125</td>\n",
       "      <td>0.031189</td>\n",
       "      <td>463240.518</td>\n",
       "      <td>ETH/BTC</td>\n",
       "      <td>NaN</td>\n",
       "    </tr>\n",
       "    <tr>\n",
       "      <th>2020-12-02 00:00:00</th>\n",
       "      <td>0.031189</td>\n",
       "      <td>0.031621</td>\n",
       "      <td>0.030974</td>\n",
       "      <td>0.031091</td>\n",
       "      <td>239428.833</td>\n",
       "      <td>ETH/BTC</td>\n",
       "      <td>NaN</td>\n",
       "    </tr>\n",
       "    <tr>\n",
       "      <th>2020-12-03 00:00:00</th>\n",
       "      <td>0.031091</td>\n",
       "      <td>0.031826</td>\n",
       "      <td>0.030961</td>\n",
       "      <td>0.031709</td>\n",
       "      <td>310741.578</td>\n",
       "      <td>ETH/BTC</td>\n",
       "      <td>NaN</td>\n",
       "    </tr>\n",
       "  </tbody>\n",
       "</table>\n",
       "</div>"
      ],
      "text/plain": [
       "                         Open      High       Low     Close      Volume  \\\n",
       "Timestamp                                                                 \n",
       "2020-12-01 00:00:00  0.031310  0.032223  0.030125  0.031189  463240.518   \n",
       "2020-12-02 00:00:00  0.031189  0.031621  0.030974  0.031091  239428.833   \n",
       "2020-12-03 00:00:00  0.031091  0.031826  0.030961  0.031709  310741.578   \n",
       "\n",
       "                      Symbol  Is_Final_Row  \n",
       "Timestamp                                   \n",
       "2020-12-01 00:00:00  ETH/BTC           NaN  \n",
       "2020-12-02 00:00:00  ETH/BTC           NaN  \n",
       "2020-12-03 00:00:00  ETH/BTC           NaN  "
      ]
     },
     "execution_count": 7,
     "metadata": {},
     "output_type": "execute_result"
    }
   ],
   "source": [
    "db_data = db_retriever.fetch_ohlcv(symbol, timeframe, from_date, to_date)\n",
    "db_data"
   ]
  },
  {
   "cell_type": "code",
   "execution_count": 8,
   "metadata": {},
   "outputs": [
    {
     "data": {
      "text/plain": [
       "Open            float64\n",
       "High            float64\n",
       "Low             float64\n",
       "Close           float64\n",
       "Volume          float64\n",
       "Symbol           object\n",
       "Is_Final_Row    float64\n",
       "dtype: object"
      ]
     },
     "execution_count": 8,
     "metadata": {},
     "output_type": "execute_result"
    }
   ],
   "source": [
    "db_data.dtypes"
   ]
  },
  {
   "cell_type": "code",
   "execution_count": 9,
   "metadata": {},
   "outputs": [
    {
     "data": {
      "text/plain": [
       "'SELECT * FROM TIMEFRAME_1D \\n            WHERE Symbol = \\'ETH/BTC\\'\\n            and TIMESTAMP >= \"2020-12-01 00:00:00\"\\n            and TIMESTAMP <= \"2020-12-03 00:00:00\"'"
      ]
     },
     "execution_count": 9,
     "metadata": {},
     "output_type": "execute_result"
    }
   ],
   "source": [
    "query = db_retriever.get_query(symbol, timeframe, from_date, to_date)\n",
    "query"
   ]
  },
  {
   "cell_type": "code",
   "execution_count": 10,
   "metadata": {},
   "outputs": [
    {
     "data": {
      "text/html": [
       "<div>\n",
       "<style scoped>\n",
       "    .dataframe tbody tr th:only-of-type {\n",
       "        vertical-align: middle;\n",
       "    }\n",
       "\n",
       "    .dataframe tbody tr th {\n",
       "        vertical-align: top;\n",
       "    }\n",
       "\n",
       "    .dataframe thead th {\n",
       "        text-align: right;\n",
       "    }\n",
       "</style>\n",
       "<table border=\"1\" class=\"dataframe\">\n",
       "  <thead>\n",
       "    <tr style=\"text-align: right;\">\n",
       "      <th></th>\n",
       "      <th>Open</th>\n",
       "      <th>High</th>\n",
       "      <th>Low</th>\n",
       "      <th>Close</th>\n",
       "      <th>Volume</th>\n",
       "      <th>Symbol</th>\n",
       "      <th>Is_Final_Row</th>\n",
       "    </tr>\n",
       "    <tr>\n",
       "      <th>Timestamp</th>\n",
       "      <th></th>\n",
       "      <th></th>\n",
       "      <th></th>\n",
       "      <th></th>\n",
       "      <th></th>\n",
       "      <th></th>\n",
       "      <th></th>\n",
       "    </tr>\n",
       "  </thead>\n",
       "  <tbody>\n",
       "    <tr>\n",
       "      <th>2020-12-01 00:00:00</th>\n",
       "      <td>0.031310</td>\n",
       "      <td>0.032223</td>\n",
       "      <td>0.030125</td>\n",
       "      <td>0.031189</td>\n",
       "      <td>463240.518</td>\n",
       "      <td>ETH/BTC</td>\n",
       "      <td>None</td>\n",
       "    </tr>\n",
       "    <tr>\n",
       "      <th>2020-12-02 00:00:00</th>\n",
       "      <td>0.031189</td>\n",
       "      <td>0.031621</td>\n",
       "      <td>0.030974</td>\n",
       "      <td>0.031091</td>\n",
       "      <td>239428.833</td>\n",
       "      <td>ETH/BTC</td>\n",
       "      <td>None</td>\n",
       "    </tr>\n",
       "    <tr>\n",
       "      <th>2020-12-03 00:00:00</th>\n",
       "      <td>0.031091</td>\n",
       "      <td>0.031826</td>\n",
       "      <td>0.030961</td>\n",
       "      <td>0.031709</td>\n",
       "      <td>310741.578</td>\n",
       "      <td>ETH/BTC</td>\n",
       "      <td>None</td>\n",
       "    </tr>\n",
       "  </tbody>\n",
       "</table>\n",
       "</div>"
      ],
      "text/plain": [
       "                         Open      High       Low     Close      Volume  \\\n",
       "Timestamp                                                                 \n",
       "2020-12-01 00:00:00  0.031310  0.032223  0.030125  0.031189  463240.518   \n",
       "2020-12-02 00:00:00  0.031189  0.031621  0.030974  0.031091  239428.833   \n",
       "2020-12-03 00:00:00  0.031091  0.031826  0.030961  0.031709  310741.578   \n",
       "\n",
       "                      Symbol Is_Final_Row  \n",
       "Timestamp                                  \n",
       "2020-12-01 00:00:00  ETH/BTC         None  \n",
       "2020-12-02 00:00:00  ETH/BTC         None  \n",
       "2020-12-03 00:00:00  ETH/BTC         None  "
      ]
     },
     "execution_count": 10,
     "metadata": {},
     "output_type": "execute_result"
    }
   ],
   "source": [
    "query_result = db_retriever.database.get_query_result_as_dataframe(query)\n",
    "query_result"
   ]
  },
  {
   "cell_type": "code",
   "execution_count": 11,
   "metadata": {},
   "outputs": [
    {
     "data": {
      "text/plain": [
       "Open            float64\n",
       "High            float64\n",
       "Low             float64\n",
       "Close           float64\n",
       "Volume          float64\n",
       "Symbol           object\n",
       "Is_Final_Row     object\n",
       "dtype: object"
      ]
     },
     "execution_count": 11,
     "metadata": {},
     "output_type": "execute_result"
    }
   ],
   "source": [
    "query_result.dtypes"
   ]
  },
  {
   "cell_type": "code",
   "execution_count": 13,
   "metadata": {},
   "outputs": [
    {
     "data": {
      "text/plain": [
       "str"
      ]
     },
     "execution_count": 13,
     "metadata": {},
     "output_type": "execute_result"
    }
   ],
   "source": [
    "type(query_result.index[0])"
   ]
  },
  {
   "cell_type": "code",
   "execution_count": null,
   "metadata": {},
   "outputs": [],
   "source": []
  }
 ],
 "metadata": {
  "interpreter": {
   "hash": "b54cb9753f1fc2478effd5c05200ae4f0e3c44cd8f27e179dabba8365c7dc822"
  },
  "kernelspec": {
   "display_name": "Python 3.9.1 64-bit",
   "name": "python3"
  },
  "language_info": {
   "codemirror_mode": {
    "name": "ipython",
    "version": 3
   },
   "file_extension": ".py",
   "mimetype": "text/x-python",
   "name": "python",
   "nbconvert_exporter": "python",
   "pygments_lexer": "ipython3",
   "version": "3.9.1"
  }
 },
 "nbformat": 4,
 "nbformat_minor": 4
}
