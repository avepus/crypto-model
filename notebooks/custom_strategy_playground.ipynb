{
 "metadata": {
  "language_info": {
   "codemirror_mode": {
    "name": "ipython",
    "version": 3
   },
   "file_extension": ".py",
   "mimetype": "text/x-python",
   "name": "python",
   "nbconvert_exporter": "python",
   "pygments_lexer": "ipython3",
   "version": "3.9.1"
  },
  "orig_nbformat": 2,
  "kernelspec": {
   "name": "python3",
   "display_name": "Python 3.9.1 64-bit",
   "metadata": {
    "interpreter": {
     "hash": "b54cb9753f1fc2478effd5c05200ae4f0e3c44cd8f27e179dabba8365c7dc822"
    }
   }
  }
 },
 "nbformat": 4,
 "nbformat_minor": 2,
 "cells": [
  {
   "cell_type": "code",
   "execution_count": 1,
   "metadata": {},
   "outputs": [],
   "source": [
    "import backtrader as bt\n",
    "import backtrader.analyzers as btanalyzers\n",
    "import rba_tools as rba\n",
    "import rba_tools.backtest.backtrader_extensions.indicators as rbsind\n",
    "import pandas as pd\n",
    "import numpy as np"
   ]
  },
  {
   "cell_type": "code",
   "execution_count": 2,
   "metadata": {},
   "outputs": [],
   "source": [
    "class TestStrategy(bt.Strategy):\n",
    "\n",
    "    def __init__(self):\n",
    "        ma = bt.ind.SMA(period = 50)\n",
    "        self.slope = rbsind.Slope(ma)\n",
    "\n",
    "    def next(self):\n",
    "        if self.slope[0] > 0 and self.slope[1] < 0:\n",
    "            self.buy()\n",
    "        elif self.slope[0] < 0 and self.slope[1] > 0:\n",
    "            self.close()"
   ]
  },
  {
   "cell_type": "code",
   "execution_count": 3,
   "metadata": {},
   "outputs": [],
   "source": [
    "cerebro = bt.Cerebro()"
   ]
  },
  {
   "cell_type": "code",
   "execution_count": 4,
   "metadata": {},
   "outputs": [
    {
     "output_type": "execute_result",
     "data": {
      "text/plain": [
       "<backtrader.feeds.pandafeed.PandasData at 0x1cef12649a0>"
      ]
     },
     "metadata": {},
     "execution_count": 4
    }
   ],
   "source": [
    "binance = rba.getBinanceExchange()\n",
    "dataframe = rba.get_DataFrame(['ETH/BTC'], binance, '1/1/18', '12/31/19')\n",
    "data = bt.feeds.PandasData(dataname=dataframe,\n",
    "                               # datetime='Date',\n",
    "                               nocase=True,\n",
    "                               )\n",
    "cerebro.adddata(data)"
   ]
  },
  {
   "cell_type": "code",
   "execution_count": 5,
   "metadata": {},
   "outputs": [
    {
     "output_type": "execute_result",
     "data": {
      "text/plain": [
       "0"
      ]
     },
     "metadata": {},
     "execution_count": 5
    }
   ],
   "source": [
    "cerebro.addstrategy(TestStrategy)"
   ]
  },
  {
   "cell_type": "code",
   "execution_count": 6,
   "metadata": {},
   "outputs": [],
   "source": [
    "cerebro.broker.setcash(1000.0)"
   ]
  },
  {
   "cell_type": "code",
   "execution_count": 7,
   "metadata": {},
   "outputs": [],
   "source": [
    "cerebro.addsizer(bt.sizers.PercentSizer, percents = 10)"
   ]
  },
  {
   "cell_type": "code",
   "execution_count": 8,
   "metadata": {},
   "outputs": [],
   "source": [
    "cerebro.addanalyzer(btanalyzers.TradeAnalyzer, _name = 'trades') #good for summary stats on trades\n",
    "cerebro.addanalyzer(btanalyzers.PositionsValue, _name = 'pos', cash=True) #this is a good one. Shows position values over time\n",
    "cerebro.addanalyzer(btanalyzers.AnnualReturn, _name = 'annReturns')"
   ]
  },
  {
   "cell_type": "code",
   "execution_count": 9,
   "metadata": {},
   "outputs": [],
   "source": [
    "back = cerebro.run()"
   ]
  },
  {
   "cell_type": "code",
   "execution_count": 10,
   "metadata": {},
   "outputs": [
    {
     "output_type": "execute_result",
     "data": {
      "text/plain": [
       "1000.0"
      ]
     },
     "metadata": {},
     "execution_count": 10
    }
   ],
   "source": [
    "cerebro.broker.getvalue()"
   ]
  },
  {
   "cell_type": "code",
   "execution_count": 11,
   "metadata": {},
   "outputs": [
    {
     "output_type": "stream",
     "name": "stdout",
     "text": [
      "<backtrader.indicators.sma.SMA object at 0x000001CEFCF63FA0>\n<rba_tools.backtest.backtrader_extensions.indicators.Slope object at 0x000001CEF1264DC0>\n"
     ]
    }
   ],
   "source": [
    "for strat in back[0].getindicators():\n",
    "    print(strat)\n",
    "ind = back[0].getindicators()[1]"
   ]
  },
  {
   "cell_type": "code",
   "execution_count": 12,
   "metadata": {},
   "outputs": [
    {
     "output_type": "execute_result",
     "data": {
      "text/plain": [
       "<rba_tools.backtest.backtrader_extensions.indicators.Slope at 0x1cef1264dc0>"
      ]
     },
     "metadata": {},
     "execution_count": 12
    }
   ],
   "source": [
    "ind"
   ]
  },
  {
   "cell_type": "code",
   "execution_count": 13,
   "metadata": {},
   "outputs": [
    {
     "output_type": "execute_result",
     "data": {
      "text/plain": [
       "array('d', [nan, nan, nan, nan, nan, nan, nan, nan, nan, nan, nan, nan, nan, nan, nan, nan, nan, nan, nan, nan, nan, nan, nan, nan, nan, nan, nan, nan, nan, nan, nan, nan, nan, nan, nan, nan, nan, nan, nan, nan, nan, nan, nan, nan, nan, nan, nan, nan, nan, nan, nan, nan, nan, nan, nan, nan, nan, nan, nan, nan, nan, nan, nan, nan, nan, nan, nan, nan, nan, nan, nan, nan, nan, nan, nan, nan, nan, nan, nan, nan, nan, nan, nan, nan, nan, nan, nan, nan, nan, nan, nan, nan, nan, nan, nan, nan, nan, nan, nan, nan, nan, nan, nan, nan, nan, nan, nan, nan, nan, nan, nan, nan, nan, nan, nan, nan, nan, nan, nan, nan, nan, nan, nan, nan, nan, nan, nan, nan, nan, nan, nan, nan, nan, nan, nan, nan, nan, nan, nan, nan, nan, nan, nan, nan, nan, nan, nan, nan, nan, nan, nan, nan, nan, nan, nan, nan, nan, nan, nan, nan, nan, nan, nan, nan, nan, nan, nan, nan, nan, nan, nan, nan, nan, nan, nan, nan, nan, nan, nan, nan, nan, nan, nan, nan, nan, nan, nan, nan, nan, nan, nan, nan, nan, nan, nan, nan, nan, nan, nan, nan, nan, nan, nan, nan, nan, nan, nan, nan, nan, nan, nan, nan, nan, nan, nan, nan, nan, nan, nan, nan, nan, nan, nan, nan, nan, nan, nan, nan, nan, nan, nan, nan, nan, nan, nan, nan, nan, nan, nan, nan, nan, nan, nan, nan, nan, nan, nan, nan, nan, nan, nan, nan, nan, nan, nan, nan, nan, nan, nan, nan, nan, nan, nan, nan, nan, nan, nan, nan, nan, nan, nan, nan, nan, nan, nan, nan, nan, nan, nan, nan, nan, nan, nan, nan, nan, nan, nan, nan, nan, nan, nan, nan, nan, nan, nan, nan, nan, nan, nan, nan, nan, nan, nan, nan, nan, nan, nan, nan, nan, nan, nan, nan, nan, nan, nan, nan, nan, nan, nan, nan, nan, nan, nan, nan, nan, nan, nan, nan, nan, nan, nan, nan, nan, nan, nan, nan, nan, nan, nan, nan, nan, nan, nan, nan, nan, nan, nan, nan, nan, nan, nan, nan, nan, nan, nan, nan, nan, nan, nan, nan, nan, nan, nan, nan, nan, nan, nan, nan, nan, nan, nan, nan, nan, nan, nan, nan, nan, nan, nan, nan, nan, nan, nan, nan, nan, nan, nan, nan, nan, nan, nan, nan, nan, nan, nan, nan, nan, nan, nan, nan, nan, nan, nan, nan, nan, nan, nan, nan, nan, nan, nan, nan, nan, nan, nan, nan, nan, nan, nan, nan, nan, nan, nan, nan, nan, nan, nan, nan, nan, nan, nan, nan, nan, nan, nan, nan, nan, nan, nan, nan, nan, nan, nan, nan, nan, nan, nan, nan, nan, nan, nan, nan, nan, nan, nan, nan, nan, nan, nan, nan, nan, nan, nan, nan, nan, nan, nan, nan, nan, nan, nan, nan, nan, nan, nan, nan, nan, nan, nan, nan, nan, nan, nan, nan, nan, nan, nan, nan, nan, nan, nan, nan, nan, nan, nan, nan, nan, nan, nan, nan, nan, nan, nan, nan, nan, nan, nan, nan, nan, nan, nan, nan, nan, nan, nan, nan, nan, nan, nan, nan, nan, nan, nan, nan, nan, nan, nan, nan, nan, nan, nan, nan, nan, nan, nan, nan, nan, nan, nan, nan, nan, nan, nan, nan, nan, nan, nan, nan, nan, nan, nan, nan, nan, nan, nan, nan, nan, nan, nan, nan, nan, nan, nan, nan, nan, nan, nan, nan, nan, nan, nan, nan, nan, nan, nan, nan, nan, nan, nan, nan, nan, nan, nan, nan, nan, nan, nan, nan, nan, nan, nan, nan, nan, nan, nan, nan, nan, nan, nan, nan, nan, nan, nan, nan, nan, nan, nan, nan, nan, nan, nan, nan, nan, nan, nan, nan, nan, nan, nan, nan, nan, nan, nan, nan, nan, nan, nan, nan, nan, nan, nan, nan, nan, nan, nan, nan, nan, nan, nan, nan, nan, nan, nan, nan, nan, nan, nan, nan, nan, nan, nan, nan, nan, nan, nan, nan, nan, nan, nan, nan, nan, nan, nan, nan, nan, nan, nan, nan, nan, nan, nan, nan, nan, nan, nan, nan, nan, nan, nan, nan, nan, nan, nan, nan, nan, nan, nan, nan, nan, nan, nan, nan, nan, nan, nan, nan, nan, nan, nan, nan, nan, nan, nan, nan, nan, nan, nan, nan, nan, nan, nan, nan, nan, nan, nan, nan, nan, nan, nan, nan, nan, nan, nan, nan, nan, nan, nan, nan, nan, nan])"
      ]
     },
     "metadata": {},
     "execution_count": 13
    }
   ],
   "source": [
    "ind.lines[0].array"
   ]
  },
  {
   "cell_type": "code",
   "execution_count": 14,
   "metadata": {},
   "outputs": [
    {
     "output_type": "execute_result",
     "data": {
      "text/plain": [
       "array('d', [nan, nan, nan, nan, nan, nan, nan, nan, nan, nan, nan, nan, nan, nan, nan, nan, nan, nan, nan, nan, nan, nan, nan, nan, nan, nan, nan, nan, nan, nan, nan, nan, nan, nan, nan, nan, nan, nan, nan, nan, nan, nan, nan, nan, nan, nan, nan, nan, nan, 0.0908075, 0.09125655999999999, 0.0916937, 0.09207456, 0.09251236, 0.09310148, 0.09368235999999999, 0.09397724, 0.09410363999999999, 0.09396274, 0.09387944, 0.09371032, 0.09337847999999999, 0.09293174, 0.09241194, 0.09204926000000001, 0.09172616, 0.09140202, 0.09115922, 0.09090954, 0.0906212, 0.09033015999999999, 0.08999370000000001, 0.08966476, 0.08927396, 0.08883772000000001, 0.08833930000000001, 0.08770528000000001, 0.0868949, 0.08605610000000001, 0.08519488000000001, 0.08424484, 0.08320164000000001, 0.08234264, 0.08147002, 0.08064695999999999, 0.07978106, 0.07886568000000001, 0.07795962000000001, 0.07710198, 0.07621850000000001, 0.07533578, 0.0744195, 0.07359276000000001, 0.07273506, 0.07191612, 0.07118652, 0.07045548, 0.06984094, 0.06926426000000001, 0.0687957, 0.06845768, 0.06810302, 0.06772294000000001, 0.06729747999999999, 0.06685446, 0.06636776, 0.06596022, 0.06560208000000001, 0.06532338, 0.06512212, 0.06493, 0.06484848, 0.06478396, 0.06476424, 0.06463602, 0.06454904, 0.06449042, 0.06438422, 0.06429854, 0.0642342, 0.06418722, 0.06416912, 0.06427846, 0.06441834, 0.06463036, 0.06487622, 0.0651714, 0.06550945999999999, 0.0658724, 0.06621598000000001, 0.0665883, 0.06698316, 0.06744424, 0.06788643999999999, 0.0683572, 0.0689009, 0.06943772, 0.07003841999999999, 0.07058373999999999, 0.0711249, 0.07167682, 0.07219434, 0.07261466, 0.07308951999999999, 0.07353367999999999, 0.07401448000000001, 0.07445260000000001, 0.0747536, 0.075095, 0.07539216, 0.07569814, 0.07599004, 0.07628426, 0.07663188, 0.0769326, 0.07726004, 0.07757114, 0.07785654, 0.07805816, 0.0782472, 0.07843984, 0.07857274, 0.07864294, 0.07869686, 0.0788707, 0.07897064000000001, 0.07906088, 0.07913898, 0.07921636, 0.07936186, 0.07946692, 0.07954442, 0.07947364, 0.07939536, 0.07921428, 0.0790383, 0.07884682, 0.0786534, 0.07847509999999999, 0.07827336, 0.07808322, 0.0778909, 0.0776506, 0.07738816, 0.07714152, 0.07687982, 0.0766443, 0.07640042, 0.07615746, 0.07589502000000001, 0.07560514, 0.07539164000000001, 0.0752308, 0.0750334, 0.07484954, 0.07466536, 0.07453636000000001, 0.0744579, 0.07423842, 0.07398075999999999, 0.0736616, 0.07336535999999999, 0.07305546, 0.07261582, 0.07217766, 0.071735, 0.07131648, 0.07089144, 0.07045516, 0.07000854000000001, 0.06957506, 0.06914542, 0.06873914, 0.06831854, 0.06787988, 0.06751412, 0.06714546, 0.06677202, 0.06635384, 0.06588882, 0.0654153, 0.06492798, 0.06441952, 0.06388824, 0.0633157, 0.06274784, 0.06222804, 0.061697379999999996, 0.06122554, 0.060744179999999995, 0.06024702, 0.059690459999999994, 0.059118659999999996, 0.05855186, 0.0579792, 0.05738792, 0.05678858, 0.056168880000000004, 0.0555516, 0.0549702, 0.054417520000000004, 0.05383582, 0.053258520000000004, 0.0526888, 0.052112160000000005, 0.05149314000000001, 0.05084308, 0.050160859999999995, 0.0495672, 0.04898576, 0.04839724, 0.04778112, 0.047168419999999996, 0.046592079999999994, 0.046030100000000004, 0.045524880000000004, 0.04500269999999999, 0.0445349, 0.0440734, 0.04356554, 0.043106099999999994, 0.042646119999999996, 0.04223156, 0.041873719999999996, 0.041464020000000004, 0.04103204, 0.04056146, 0.040074740000000005, 0.0396123, 0.03916616, 0.038721519999999995, 0.0383437, 0.03802734, 0.037720159999999996, 0.03750328, 0.037281140000000004, 0.037059959999999996, 0.036839659999999996, 0.03655774, 0.03632142, 0.03608678, 0.03590664, 0.03572236, 0.03548436, 0.035264319999999995, 0.03505946, 0.03485614, 0.03467254, 0.0344759, 0.0342734, 0.034076379999999996, 0.0338908, 0.03371942, 0.033528340000000004, 0.03334682, 0.0331792, 0.03302944, 0.03297178, 0.03289314, 0.03284904, 0.03284468, 0.03283824, 0.03283712, 0.03287222, 0.03291754, 0.03289674, 0.0328798, 0.03285278, 0.032827, 0.0328767, 0.03288498, 0.03288568, 0.03285212, 0.03278168, 0.03272422, 0.032654800000000005, 0.03261176, 0.03256402, 0.03254146, 0.03248228, 0.03243958, 0.03237004, 0.0322792, 0.032165059999999995, 0.032067359999999996, 0.03196834, 0.031858620000000004, 0.03175476, 0.03165264, 0.0315415, 0.03142736, 0.03131718, 0.031182699999999997, 0.0311332, 0.03107104, 0.03099542, 0.0309339, 0.03085544, 0.030764, 0.030651519999999998, 0.030575079999999998, 0.0304773, 0.030371899999999997, 0.0302656, 0.030156580000000002, 0.0300473, 0.029944799999999997, 0.02984034, 0.02973494, 0.02963102, 0.02953472, 0.029463780000000002, 0.029379580000000002, 0.029317660000000002, 0.02925516, 0.029209179999999998, 0.02923886, 0.02927386, 0.0293038, 0.02931126, 0.02928306, 0.029331040000000003, 0.02939384, 0.02945582, 0.029507020000000002, 0.0295798, 0.029718300000000003, 0.02986168, 0.030023019999999997, 0.030207799999999996, 0.030352999999999998, 0.030472779999999998, 0.03060598, 0.0307664, 0.030870039999999998, 0.03098344, 0.0311057, 0.03117828, 0.03129762, 0.03139424, 0.03149574, 0.03159252, 0.03170626, 0.03181192, 0.0319126, 0.03200738, 0.0321078, 0.03220708, 0.03231392, 0.032440500000000004, 0.0325405, 0.03264192, 0.0327303, 0.0328191, 0.032926079999999996, 0.03302692, 0.033120500000000004, 0.03323088, 0.03333006, 0.033427, 0.03350922, 0.0335733, 0.03364898, 0.03373868, 0.03382806, 0.03392474, 0.03393366, 0.03391876, 0.033913, 0.03389858, 0.0339359, 0.03390936, 0.03391928, 0.033941940000000004, 0.0339654, 0.03398096, 0.03393288, 0.0338996, 0.033863979999999995, 0.033759359999999995, 0.03370822, 0.03367176, 0.03363316, 0.03359612, 0.03360682, 0.03360838, 0.033606159999999996, 0.03362576, 0.03363466, 0.03367612, 0.0337058, 0.033723960000000004, 0.03375718, 0.033779699999999996, 0.03380076, 0.0338337, 0.03385498, 0.03388166, 0.033925580000000004, 0.03398298, 0.034032719999999995, 0.0340914, 0.0341669, 0.0342424, 0.03429384, 0.03435578, 0.03442464, 0.03447598, 0.03453586, 0.03459404, 0.03466622, 0.03473696, 0.03482004, 0.03486216, 0.03490124, 0.034902999999999997, 0.0349097, 0.03488426, 0.03485098, 0.034839419999999996, 0.0348203, 0.03481588, 0.03476886, 0.03469962, 0.03463288, 0.03453888, 0.03444566, 0.034348079999999996, 0.03423318, 0.03416384, 0.03408298, 0.03400484, 0.03395676, 0.03390364, 0.0338492, 0.03379658, 0.033747440000000004, 0.03368694, 0.0335867, 0.03346806, 0.0333561, 0.033266580000000004, 0.033165, 0.03306594, 0.03298896, 0.03289578, 0.03280352, 0.03270368, 0.03256926, 0.03243038, 0.03233576, 0.03222404, 0.0321049, 0.03196762, 0.03183232, 0.03168796, 0.0315424, 0.03136352, 0.03122772, 0.03115548, 0.03113724, 0.03111694, 0.03106278, 0.0310053, 0.030946639999999997, 0.0309061, 0.0308728, 0.0308473, 0.03082986, 0.030794799999999997, 0.0307524, 0.03069672, 0.030636260000000002, 0.0305801, 0.03052818, 0.030500319999999997, 0.030472540000000003, 0.03044282, 0.030407479999999997, 0.0303987, 0.030391119999999997, 0.03039304, 0.03035772, 0.030317439999999998, 0.0302698, 0.03024654, 0.03022958, 0.03025652, 0.03026768, 0.030281919999999997, 0.03029546, 0.030291899999999997, 0.03028396, 0.030274480000000003, 0.03024566, 0.03022074, 0.030211019999999998, 0.03020784, 0.030211960000000003, 0.03021128, 0.03014772, 0.03008772, 0.03004386, 0.02999448, 0.02998612, 0.02998806, 0.030003600000000002, 0.03003854, 0.02999816, 0.02989806, 0.0297493, 0.029597159999999997, 0.0294876, 0.02936112, 0.029220359999999997, 0.02905666, 0.028891140000000003, 0.02873494, 0.0285833, 0.02840346, 0.028211020000000003, 0.028014459999999998, 0.02782832, 0.027631179999999998, 0.02743612, 0.02723486, 0.02704156, 0.02684598, 0.026660740000000002, 0.02647592, 0.02628768, 0.026094, 0.0259075, 0.025734499999999997, 0.025572479999999998, 0.025392260000000003, 0.02520582, 0.024980799999999997, 0.02477466, 0.02457828, 0.02437614, 0.024173, 0.023980559999999998, 0.02377532, 0.02356468, 0.023349039999999998, 0.02313478, 0.0229305, 0.02273586, 0.02255614, 0.02238992, 0.02223676, 0.02206778, 0.02193, 0.021773220000000003, 0.02160434, 0.0214143, 0.021246079999999997, 0.02111876, 0.02098454, 0.020837400000000002, 0.02069312, 0.02052256, 0.02038064, 0.020246300000000002, 0.0201249, 0.020003000000000003, 0.01989378, 0.01977166, 0.01967192, 0.01958744, 0.01949638, 0.01938926, 0.01929274, 0.01921198, 0.01913594, 0.01906062, 0.018996060000000002, 0.01891632, 0.01882026, 0.0187266, 0.01864534, 0.018574919999999998, 0.018516440000000002, 0.018480780000000002, 0.01845686, 0.01845352, 0.018464460000000002, 0.018481380000000002, 0.01849186, 0.01850094, 0.01849582, 0.01850486, 0.01853888, 0.01859512, 0.01866378, 0.0187195, 0.018781000000000003, 0.0188335, 0.0188806, 0.01893326, 0.01899976, 0.019075500000000002, 0.01914514, 0.019207099999999998, 0.01927854, 0.0193631, 0.01944032, 0.0195007, 0.019560420000000002, 0.01962162, 0.0197011, 0.01977992, 0.01984876, 0.019931920000000002, 0.0200107, 0.020091440000000002, 0.020159780000000002, 0.02023316, 0.0203159, 0.0204139, 0.02051588, 0.020606279999999998, 0.0206668, 0.02071294, 0.02075862, 0.02081316, 0.02085708, 0.02090462, 0.020953740000000002, 0.020997580000000002, 0.0210282, 0.021056599999999998, 0.0210772, 0.02107848, 0.0210697, 0.02105852, 0.02104946, 0.02103686, 0.021039219999999997, 0.021048559999999997, 0.0210874, 0.02111188, 0.02112524, 0.02112966, 0.02113892, 0.02115332, 0.021149619999999997, 0.02115754, 0.02114844, 0.02113516, 0.0211189, 0.0210907, 0.02106744, 0.0210404, 0.02100486, 0.02096136, 0.02091374, 0.02087784, 0.02085278, 0.02082286, 0.02077892, 0.02074078, 0.02070504, 0.02066042, 0.02061858, 0.020586820000000002, 0.02056224, 0.02054068, 0.02051148, 0.02047914, 0.02044548, 0.02042766, 0.020439080000000002, 0.02043838, 0.02041192, 0.020371999999999998, 0.02033022, 0.020288300000000002, 0.02024826, 0.02020682, 0.0201613, 0.02011798, 0.020059979999999998, 0.0199995, 0.01994264, 0.019874080000000002, 0.01981796, 0.01976308, 0.01969858])"
      ]
     },
     "metadata": {},
     "execution_count": 14
    }
   ],
   "source": [
    "back[0].getindicators()[0].lines[0].array"
   ]
  },
  {
   "cell_type": "code",
   "execution_count": null,
   "metadata": {},
   "outputs": [],
   "source": []
  }
 ]
}