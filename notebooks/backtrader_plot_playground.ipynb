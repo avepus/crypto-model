{
 "cells": [
  {
   "cell_type": "code",
   "execution_count": 1,
   "metadata": {},
   "outputs": [],
   "source": [
    "#%matplotlib widget\n",
    "import backtrader as bt\n",
    "import backtrader.analyzers as btanalyzers\n",
    "import rba_tools as rba\n",
    "import pandas as pd\n",
    "import numpy as np\n",
    "#import matplotlib\n",
    "from datetime import datetime,date,timedelta\n",
    "from backtrader.utils import num2date\n",
    "import rba_tools.backtest.rba_backtrader_set as rbs\n",
    "import plotly.graph_objects as go"
   ]
  },
  {
   "cell_type": "code",
   "execution_count": 2,
   "metadata": {},
   "outputs": [],
   "source": [
    "class MaCrossStrategy(bt.Strategy):\n",
    "\n",
    "    def __init__(self):\n",
    "        ma_fast = bt.ind.SMA(period = 10)\n",
    "        ma_slow = bt.ind.SMA(period = 50)\n",
    "\n",
    "        self.crossover = bt.ind.CrossOver(ma_fast, ma_slow)\n",
    "\n",
    "    def next(self):\n",
    "        if not self.position:\n",
    "            if self.crossover > 0:\n",
    "                self.buy()\n",
    "        elif self.crossover < 0:\n",
    "            self.close()"
   ]
  },
  {
   "cell_type": "code",
   "execution_count": 3,
   "metadata": {},
   "outputs": [],
   "source": [
    "cerebro = bt.Cerebro()\n",
    "puller = rba.retriever.get_crypto_data.DataPuller.kraken_puller()\n",
    "symbol = 'ETH/USD'\n",
    "from_date = '1/1/20'\n",
    "to_date = '12/31/20'"
   ]
  },
  {
   "cell_type": "code",
   "execution_count": 4,
   "metadata": {},
   "outputs": [
    {
     "data": {
      "text/plain": [
       "<backtrader.feeds.pandafeed.PandasData at 0x249da653580>"
      ]
     },
     "execution_count": 4,
     "metadata": {},
     "output_type": "execute_result"
    }
   ],
   "source": [
    "dataframe = puller.fetch_df(symbol, 'h', from_date, to_date)\n",
    "data = bt.feeds.PandasData(dataname=dataframe,\n",
    "                               # datetime='Date',\n",
    "                               nocase=True,\n",
    "                               )\n",
    "cerebro.adddata(data)\n",
    "cerebro.addstrategy(MaCrossStrategy)\n",
    "cerebro.broker.setcash(1000.0)\n",
    "cerebro.addsizer(bt.sizers.PercentSizer, percents = 10)"
   ]
  },
  {
   "cell_type": "code",
   "execution_count": 5,
   "metadata": {},
   "outputs": [
    {
     "data": {
      "text/plain": [
       "0"
      ]
     },
     "execution_count": 5,
     "metadata": {},
     "output_type": "execute_result"
    }
   ],
   "source": [
    "back = cerebro.run()"
   ]
  }
 ],
 "metadata": {
  "interpreter": {
   "hash": "b54cb9753f1fc2478effd5c05200ae4f0e3c44cd8f27e179dabba8365c7dc822"
  },
  "kernelspec": {
   "display_name": "Python 3.9.1 64-bit",
   "language": "python",
   "name": "python3"
  },
  "language_info": {
   "codemirror_mode": {
    "name": "ipython",
    "version": 3
   },
   "file_extension": ".py",
   "mimetype": "text/x-python",
   "name": "python",
   "nbconvert_exporter": "python",
   "pygments_lexer": "ipython3",
   "version": "3.9.1"
  },
  "metadata": {
   "interpreter": {
    "hash": "b54cb9753f1fc2478effd5c05200ae4f0e3c44cd8f27e179dabba8365c7dc822"
   }
  },
  "orig_nbformat": 2
 },
 "nbformat": 4,
 "nbformat_minor": 2
}
