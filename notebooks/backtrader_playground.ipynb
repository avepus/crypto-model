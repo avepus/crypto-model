{
 "metadata": {
  "language_info": {
   "codemirror_mode": {
    "name": "ipython",
    "version": 3
   },
   "file_extension": ".py",
   "mimetype": "text/x-python",
   "name": "python",
   "nbconvert_exporter": "python",
   "pygments_lexer": "ipython3",
   "version": "3.9.1-final"
  },
  "orig_nbformat": 2,
  "kernelspec": {
   "name": "python3",
   "display_name": "Python 3.9.1 64-bit",
   "metadata": {
    "interpreter": {
     "hash": "b54cb9753f1fc2478effd5c05200ae4f0e3c44cd8f27e179dabba8365c7dc822"
    }
   }
  }
 },
 "nbformat": 4,
 "nbformat_minor": 2,
 "cells": [
  {
   "cell_type": "code",
   "execution_count": 2,
   "metadata": {},
   "outputs": [],
   "source": [
    "#%matplotlib widget\n",
    "import backtrader as bt\n",
    "import backtrader.analyzers as btanalyzers\n",
    "import rba_tools as rba\n",
    "import pandas as pd\n",
    "import numpy as np\n",
    "#import matplotlib\n",
    "from datetime import datetime\n",
    "from datetime import date\n",
    "from datetime import timedelta"
   ]
  },
  {
   "cell_type": "code",
   "execution_count": 3,
   "metadata": {},
   "outputs": [],
   "source": [
    "class MaCrossStrategy(bt.Strategy):\n",
    "\n",
    "    def __init__(self):\n",
    "        ma_fast = bt.ind.SMA(period = 10)\n",
    "        ma_slow = bt.ind.SMA(period = 50)\n",
    "\n",
    "        self.crossover = bt.ind.CrossOver(ma_fast, ma_slow)\n",
    "\n",
    "    def next(self):\n",
    "        if not self.position:\n",
    "            if self.crossover > 0:\n",
    "                self.buy()\n",
    "        elif self.crossover < 0:\n",
    "            self.close()"
   ]
  },
  {
   "cell_type": "code",
   "execution_count": 4,
   "metadata": {},
   "outputs": [],
   "source": [
    "cerebro = bt.Cerebro()"
   ]
  },
  {
   "cell_type": "code",
   "execution_count": 5,
   "metadata": {},
   "outputs": [
    {
     "output_type": "execute_result",
     "data": {
      "text/plain": [
       "<backtrader.feeds.pandafeed.PandasData at 0x20663b0d190>"
      ]
     },
     "metadata": {},
     "execution_count": 5
    }
   ],
   "source": [
    "binance = rba.getBinanceExchange()\n",
    "dataframe = rba.get_DataFrame(['ETH/BTC'], binance, '1/1/18', '12/31/19')\n",
    "data = bt.feeds.PandasData(dataname=dataframe,\n",
    "                               # datetime='Date',\n",
    "                               nocase=True,\n",
    "                               )\n",
    "cerebro.adddata(data)"
   ]
  },
  {
   "cell_type": "code",
   "execution_count": 6,
   "metadata": {},
   "outputs": [
    {
     "output_type": "execute_result",
     "data": {
      "text/plain": [
       "<backtrader.feeds.pandafeed.PandasData at 0x20663b71f10>"
      ]
     },
     "metadata": {},
     "execution_count": 6
    }
   ],
   "source": [
    "dataframe2 = rba.get_DataFrame(['LTC/BTC'], binance, '1/1/18', '12/31/19')\n",
    "data2 = bt.feeds.PandasData(dataname=dataframe2,\n",
    "                               # datetime='Date',\n",
    "                               nocase=True,\n",
    "                               )\n",
    "cerebro.adddata(data2)"
   ]
  },
  {
   "cell_type": "code",
   "execution_count": 7,
   "metadata": {},
   "outputs": [
    {
     "output_type": "execute_result",
     "data": {
      "text/plain": [
       "0"
      ]
     },
     "metadata": {},
     "execution_count": 7
    }
   ],
   "source": [
    "cerebro.addstrategy(MaCrossStrategy)"
   ]
  },
  {
   "cell_type": "code",
   "execution_count": 8,
   "metadata": {},
   "outputs": [],
   "source": [
    "cerebro.broker.setcash(1000000.0)"
   ]
  },
  {
   "cell_type": "code",
   "execution_count": 9,
   "metadata": {},
   "outputs": [],
   "source": [
    "cerebro.addsizer(bt.sizers.PercentSizer, percents = 10)"
   ]
  },
  {
   "cell_type": "code",
   "execution_count": 10,
   "metadata": {},
   "outputs": [],
   "source": [
    "#cerebro.addanalyzer(btanalyzers.SharpeRatio, _name = 'sharpe')\n",
    "#cerebro.addanalyzer(btanalyzers.Transactions, _name = 'trans')\n",
    "#cerebro.addanalyzer(btanalyzers.Returns, _name = 'returns')\n",
    "cerebro.addanalyzer(btanalyzers.TradeAnalyzer, _name = 'trades') #good for summary stats on trades\n",
    "cerebro.addanalyzer(btanalyzers.PositionsValue, _name = 'pos') #this is a good one. Shows position values over time\n",
    "cerebro.addanalyzer(btanalyzers.AnnualReturn, _name = 'annReturns')"
   ]
  },
  {
   "cell_type": "code",
   "execution_count": 11,
   "metadata": {},
   "outputs": [],
   "source": [
    "back = cerebro.run()"
   ]
  },
  {
   "cell_type": "code",
   "execution_count": 12,
   "metadata": {},
   "outputs": [
    {
     "output_type": "execute_result",
     "data": {
      "text/plain": [
       "971104.7165789388"
      ]
     },
     "metadata": {},
     "execution_count": 12
    }
   ],
   "source": [
    "cerebro.broker.getvalue()"
   ]
  },
  {
   "cell_type": "code",
   "execution_count": 13,
   "metadata": {},
   "outputs": [
    {
     "output_type": "stream",
     "name": "stdout",
     "text": [
      "<backtrader.analyzers.tradeanalyzer.TradeAnalyzer object at 0x0000020663C2ED30>\n<backtrader.analyzers.positions.PositionsValue object at 0x0000020663C2ED90>\n<backtrader.analyzers.annualreturn.AnnualReturn object at 0x0000020663C2EDF0>\n"
     ]
    }
   ],
   "source": [
    "for x in back[0].analyzers:\n",
    "    print(x)"
   ]
  },
  {
   "cell_type": "code",
   "execution_count": 14,
   "metadata": {},
   "outputs": [],
   "source": [
    "mytrades = back[0].analyzers.trades.get_analysis()"
   ]
  },
  {
   "cell_type": "code",
   "execution_count": 15,
   "metadata": {},
   "outputs": [],
   "source": [
    "def pintdictdict(indict,indent=0):\n",
    "    indent += 1\n",
    "    for x in indict:\n",
    "        print('\\n','   ' * indent,x,end='',sep='')\n",
    "        val = indict[x]\n",
    "        if isinstance(val,bt.utils.autodict.AutoOrderedDict):\n",
    "            pintdictdict(val,indent)\n",
    "        else:\n",
    "            print('=',val,sep='',end='')"
   ]
  },
  {
   "cell_type": "code",
   "execution_count": 16,
   "metadata": {},
   "outputs": [
    {
     "output_type": "stream",
     "name": "stdout",
     "text": [
      "\n   total\n      total=8\n      open=0\n      closed=8\n   streak\n      won\n         current=0\n         longest=1\n      lost\n         current=7\n         longest=7\n   pnl\n      gross\n         total=-28895.28342106143\n         average=-3611.910427632679\n      net\n         total=-28895.28342106143\n         average=-3611.910427632679\n   won\n      total=1\n      pnl\n         total=17762.26659598281\n         average=17762.26659598281\n         max=17762.26659598281\n   lost\n      total=7\n      pnl\n         total=-46657.55001704424\n         average=-6665.364288149177\n         max=-10683.950281394302\n   long\n      total=8\n      pnl\n         total=-28895.28342106143\n         average=-3611.910427632679\n         won\n            total=17762.26659598281\n            average=17762.26659598281\n            max=17762.26659598281\n         lost\n            total=-46657.55001704424\n            average=-6665.364288149177\n            max=-10683.950281394302\n      won=1\n      lost=7\n   short\n      total=0\n      pnl\n         total=0.0\n         average=0.0\n         won\n            total=0.0\n            average=0.0\n            max=0.0\n         lost\n            total=0.0\n            average=0.0\n            max=0.0\n      won=0\n      lost=0\n   len\n      total=203\n      average=25.375\n      max=45\n      min=5\n      won\n         total=45\n         average=45.0\n         max=45\n         min=45\n      lost\n         total=158\n         average=22.571428571428573\n         max=41\n         min=5\n      long\n         total=203\n         average=25.375\n         max=45\n         min=5\n         won\n            total=45\n            average=45.0\n            max=45\n            min=45\n         lost\n            total=158\n            average=22.571428571428573\n            max=41\n            min=5\n      short\n         total=0\n         average=0.0\n         max=0\n         min=9223372036854775807\n         won\n            total=0\n            average=0.0\n            max=0\n            min=9223372036854775807\n         lost\n            total=0\n            average=0.0\n            max=0\n            min=9223372036854775807"
     ]
    }
   ],
   "source": [
    "pintdictdict(mytrades)"
   ]
  },
  {
   "cell_type": "code",
   "execution_count": 17,
   "metadata": {},
   "outputs": [
    {
     "output_type": "execute_result",
     "data": {
      "text/plain": [
       "OrderedDict([(2018, 0.01613699725686879), (2019, -0.04431713518895353)])"
      ]
     },
     "metadata": {},
     "execution_count": 17
    }
   ],
   "source": [
    "annReturns = back[0].analyzers.annReturns.get_analysis()\n",
    "annReturns"
   ]
  },
  {
   "cell_type": "code",
   "execution_count": 18,
   "metadata": {},
   "outputs": [
    {
     "output_type": "stream",
     "name": "stdout",
     "text": [
      "2019-02-17 = [0.0, 0.0]\n2019-02-18 = [0.0, 0.0]\n2019-02-19 = [98102.75252712643, 0.0]\n2019-02-20 = [99968.11854810042, 0.0]\n2019-02-21 = [98880.43377655827, 0.0]\n2019-02-22 = [99366.8186129727, 0.0]\n2019-02-23 = [102386.68050939191, 0.0]\n2019-02-24 = [94342.62359946109, 0.0]\n2019-02-25 = [96242.73139446469, 0.0]\n2019-02-26 = [95582.63768790226, 0.0]\n2019-02-27 = [94513.66002545298, 0.0]\n2019-02-28 = [94831.68088003164, 0.0]\n2019-03-01 = [94572.4537968877, 0.0]\n2019-03-02 = [92728.46732916268, 0.0]\n2019-03-03 = [91646.12744593278, 0.0]\n"
     ]
    }
   ],
   "source": [
    "pos = back[0].analyzers.pos.get_analysis()\n",
    "for d in [date(2019, 2, 17) + timedelta(days=x) for x in range(15)]:\n",
    "    print(d,'=',pos[d])"
   ]
  },
  {
   "cell_type": "code",
   "execution_count": 19,
   "metadata": {},
   "outputs": [
    {
     "output_type": "stream",
     "name": "stdout",
     "text": [
      "<backtrader.observers.broker.Broker object at 0x0000020663C25E20>\n<backtrader.observers.trades.DataTrades object at 0x0000020663C2E670>\n"
     ]
    }
   ],
   "source": [
    "for x in back[0].stats:\n",
    "    print(x)"
   ]
  },
  {
   "cell_type": "code",
   "execution_count": 20,
   "metadata": {},
   "outputs": [],
   "source": [
    "datatrades = back[0].stats[1]\n",
    "broker = back[0].stats[0]"
   ]
  },
  {
   "cell_type": "code",
   "execution_count": 96,
   "metadata": {},
   "outputs": [
    {
     "output_type": "stream",
     "name": "stdout",
     "text": [
      "<class 'backtrader.observers.broker.Broker'>\nx.plotinfo.plot = True\nx.plotinfo.plotskip = False\nx.plotinfo.subplot = True\n<class 'backtrader.observers.trades.DataTrades'>\nx.plotinfo.plot = True\nx.plotinfo.plotskip = False\nx.plotinfo.subplot = True\n"
     ]
    }
   ],
   "source": [
    "for x in back[0].stats:\n",
    "    print(type(x))\n",
    "    print('x.plotinfo.plot =',x.plotinfo.plot)\n",
    "    print('x.plotinfo.plotskip =',x.plotinfo.plotskip)\n",
    "    print('x.plotinfo.subplot =',x.plotinfo.subplot)"
   ]
  },
  {
   "cell_type": "code",
   "execution_count": 97,
   "metadata": {},
   "outputs": [
    {
     "output_type": "execute_result",
     "data": {
      "text/plain": [
       "<backtrader.observers.trades.DataTrades at 0x20663c2e670>"
      ]
     },
     "metadata": {},
     "execution_count": 97
    }
   ],
   "source": [
    "myobs = back[0].stats[1]\n",
    "myobs"
   ]
  },
  {
   "cell_type": "code",
   "execution_count": 107,
   "metadata": {},
   "outputs": [
    {
     "output_type": "execute_result",
     "data": {
      "text/plain": [
       "True"
      ]
     },
     "metadata": {},
     "execution_count": 107
    }
   ],
   "source": [
    "isinstance(myobs ,bt.observers.trades.DataTrades)"
   ]
  },
  {
   "cell_type": "code",
   "execution_count": 98,
   "metadata": {},
   "outputs": [],
   "source": [
    "ind = myobs"
   ]
  },
  {
   "cell_type": "code",
   "execution_count": 99,
   "metadata": {},
   "outputs": [
    {
     "output_type": "stream",
     "name": "stdout",
     "text": [
      "lineidx = 0\nlinealias = \nind.plotlines = <backtrader.metabase.AutoInfoClass_pl_LineSeries_pl_LineIterator_pl_DataAccessor_pl_ObserverBase_pl_Observer_pl_DataTrades_9dc2048420004a7bb9c1de0ebf333b9f object at 0x0000020663C2EC70>\nlineplotinfo = None\n2 lineplotinfo = <backtrader.metabase.AutoInfoClass_9dc2048420004a7bb9c1de0ebf333b9f_ object at 0x0000020663C2ECA0>\npltmethod = plot\nlineidx = 1\nlinealias = \nind.plotlines = <backtrader.metabase.AutoInfoClass_pl_LineSeries_pl_LineIterator_pl_DataAccessor_pl_ObserverBase_pl_Observer_pl_DataTrades_9dc2048420004a7bb9c1de0ebf333b9f object at 0x0000020663C2EC70>\nlineplotinfo = None\n2 lineplotinfo = <backtrader.metabase.AutoInfoClass_9dc2048420004a7bb9c1de0ebf333b9f_ object at 0x0000020663C2ECA0>\npltmethod = plot\n"
     ]
    }
   ],
   "source": [
    "for lineidx in range(ind.size()):\n",
    "            print('lineidx =',lineidx)\n",
    "            line = ind.lines[lineidx]\n",
    "            linealias = ind.lines._getlinealias(lineidx)\n",
    "            print('linealias =',linealias)\n",
    "            lineplotinfo = getattr(ind.plotlines, '_%d' % lineidx, None)\n",
    "            print('ind.plotlines =',ind.plotlines)\n",
    "            print('lineplotinfo =',lineplotinfo)\n",
    "            if not lineplotinfo:\n",
    "                lineplotinfo = getattr(ind.plotlines, linealias, None)\n",
    "                print('2 lineplotinfo =',lineplotinfo)\n",
    "            if not lineplotinfo:\n",
    "                lineplotinfo = AutoInfoClass()\n",
    "                print('3 lineplotinfo =',lineplotinfo)\n",
    "            pltmethod = lineplotinfo._get('_method', 'plot')\n",
    "            print('pltmethod =',pltmethod)\n",
    "            if pltmethod != 'plot':\n",
    "                toskip += 1 - lineplotinfo._get('_plotskip', False)"
   ]
  },
  {
   "cell_type": "code",
   "execution_count": 100,
   "metadata": {},
   "outputs": [
    {
     "output_type": "stream",
     "name": "stdout",
     "text": [
      "[ 17762.26659598  -4050.46051866  -5153.06062077  -9919.81319643\n  -8832.42793599 -10683.95028139  -2157.22029591  -5860.61716789]\n8\n[]\n0\n"
     ]
    }
   ],
   "source": [
    "for line in myobs.lines:\n",
    "    npary = np.frombuffer(line.array)\n",
    "    print(npary[~np.isnan(npary)])\n",
    "    print(len(npary[~np.isnan(npary)]))"
   ]
  },
  {
   "cell_type": "code",
   "execution_count": 101,
   "metadata": {},
   "outputs": [
    {
     "output_type": "execute_result",
     "data": {
      "text/plain": [
       "array([nan, nan, nan, ..., nan, nan, nan])"
      ]
     },
     "metadata": {},
     "execution_count": 101
    }
   ],
   "source": [
    "npary = np.frombuffer(myobs.lines[0].array)\n",
    "npary"
   ]
  },
  {
   "cell_type": "code",
   "execution_count": 102,
   "metadata": {},
   "outputs": [
    {
     "output_type": "execute_result",
     "data": {
      "text/plain": [
       "array([ 17762.26659598,  -4050.46051866,  -5153.06062077,  -9919.81319643,\n",
       "        -8832.42793599, -10683.95028139,  -2157.22029591,  -5860.61716789])"
      ]
     },
     "metadata": {},
     "execution_count": 102
    }
   ],
   "source": [
    "npary[~np.isnan(npary)]"
   ]
  },
  {
   "cell_type": "code",
   "execution_count": 103,
   "metadata": {},
   "outputs": [
    {
     "output_type": "execute_result",
     "data": {
      "text/plain": [
       "<backtrader.linebuffer.LineBuffer at 0x20663c2e910>"
      ]
     },
     "metadata": {},
     "execution_count": 103
    }
   ],
   "source": [
    "myline = myobs.lines[0]\n",
    "myline"
   ]
  },
  {
   "cell_type": "code",
   "execution_count": 104,
   "metadata": {},
   "outputs": [
    {
     "output_type": "execute_result",
     "data": {
      "text/plain": [
       "array('d', [nan, nan, nan, nan, nan, nan, nan, nan, nan, nan, nan, nan, nan, nan, nan, nan, nan, nan, nan, nan, nan, nan, nan, nan, nan, nan, nan, nan, nan, nan, nan, nan, nan, nan, nan, nan, nan, nan, nan, nan, nan, nan, nan, nan, nan, nan, nan, nan, nan, nan, nan, nan, nan, nan, nan, nan, nan, nan, nan, nan, nan, nan, nan, nan, nan, nan, nan, nan, nan, nan, nan, nan, nan, nan, nan, nan, nan, nan, nan, nan, nan, nan, nan, nan, nan, nan, nan, nan, nan, nan, nan, nan, nan, nan, nan, nan, nan, nan, nan, nan, nan, nan, nan, nan, nan, nan, nan, nan, nan, nan, nan, nan, nan, nan, nan, nan, nan, nan, nan, nan, nan, nan, nan, nan, nan, nan, nan, nan, nan, nan, nan, nan, nan, nan, nan, nan, nan, nan, nan, nan, nan, nan, nan, nan, nan, nan, nan, nan, nan, nan, nan, nan, nan, nan, nan, nan, 17762.26659598281, nan, nan, nan, nan, nan, nan, -4050.460518664533, nan, nan, nan, nan, nan, nan, nan, nan, nan, nan, nan, nan, nan, nan, nan, nan, nan, nan, nan, nan, nan, nan, nan, nan, nan, nan, nan, nan, nan, nan, nan, nan, nan, nan, nan, nan, nan, nan, nan, nan, nan, nan, nan, nan, nan, nan, nan, nan, nan, nan, nan, nan, nan, nan, nan, nan, nan, nan, nan, nan, nan, nan, nan, nan, nan, nan, nan, nan, nan, nan, nan, nan, nan, nan, nan, nan, nan, nan, nan, nan, nan, nan, nan, nan, nan, nan, nan, nan, nan, nan, nan, nan, nan, nan, nan, nan, nan, nan, nan, nan, nan, nan, nan, nan, nan, nan, nan, nan, nan, nan, nan, nan, nan, nan, nan, nan, nan, nan, nan, nan, nan, nan, nan, nan, nan, nan, nan, nan, nan, nan, nan, nan, nan, nan, nan, nan, nan, nan, nan, nan, nan, nan, nan, nan, nan, nan, nan, nan, nan, nan, nan, nan, nan, nan, nan, nan, nan, -5153.060620768923, nan, nan, nan, nan, nan, nan, nan, nan, nan, nan, nan, nan, nan, nan, nan, nan, nan, nan, nan, nan, nan, nan, nan, nan, nan, nan, nan, nan, nan, nan, nan, nan, nan, nan, nan, nan, nan, nan, nan, nan, nan, nan, nan, nan, nan, nan, nan, nan, nan, nan, nan, nan, nan, nan, nan, nan, nan, nan, nan, nan, nan, nan, nan, nan, nan, nan, nan, nan, nan, nan, nan, -9919.813196433519, nan, nan, nan, nan, nan, nan, nan, nan, nan, nan, nan, nan, nan, nan, nan, nan, nan, nan, nan, nan, nan, nan, nan, nan, nan, nan, nan, nan, nan, nan, nan, nan, nan, nan, nan, nan, nan, nan, nan, nan, nan, nan, nan, nan, nan, nan, nan, nan, nan, nan, nan, nan, nan, nan, -8832.427935987153, nan, nan, nan, nan, nan, nan, nan, nan, nan, nan, nan, nan, nan, nan, nan, nan, nan, nan, nan, nan, nan, nan, nan, nan, nan, nan, nan, nan, nan, nan, nan, nan, nan, nan, nan, nan, nan, nan, nan, nan, nan, nan, nan, nan, nan, nan, nan, nan, nan, nan, nan, nan, nan, nan, nan, nan, nan, nan, nan, nan, nan, nan, nan, nan, nan, nan, nan, nan, nan, nan, nan, nan, nan, nan, nan, nan, nan, nan, nan, nan, nan, nan, nan, nan, nan, nan, nan, nan, -10683.950281394302, nan, nan, nan, nan, nan, nan, nan, nan, nan, nan, nan, nan, nan, nan, nan, nan, nan, nan, nan, nan, nan, nan, nan, nan, nan, nan, nan, nan, nan, nan, nan, nan, nan, nan, nan, nan, nan, nan, nan, nan, nan, nan, nan, nan, nan, nan, nan, nan, nan, nan, nan, nan, nan, nan, nan, nan, nan, nan, nan, nan, nan, nan, nan, nan, nan, nan, nan, nan, nan, nan, nan, nan, nan, nan, nan, nan, nan, nan, nan, nan, nan, nan, nan, nan, nan, nan, nan, nan, nan, nan, nan, nan, nan, nan, nan, nan, nan, nan, nan, nan, nan, nan, nan, nan, nan, nan, nan, nan, nan, nan, nan, nan, nan, nan, nan, nan, nan, nan, nan, nan, nan, nan, nan, nan, nan, nan, nan, nan, nan, nan, -2157.220295905148, nan, nan, nan, nan, nan, nan, nan, nan, nan, nan, nan, nan, nan, nan, nan, nan, nan, nan, nan, nan, nan, nan, nan, nan, nan, nan, nan, nan, -5860.617167890665, nan, nan, nan, nan, nan, nan, nan, nan, nan, nan, nan, nan, nan, nan, nan, nan, nan, nan, nan, nan, nan, nan, nan, nan, nan, nan, nan, nan, nan, nan, nan, nan, nan, nan, nan, nan, nan, nan, nan, nan, nan, nan, nan, nan, nan, nan, nan, nan, nan, nan, nan, nan, nan, nan, nan, nan, nan, nan, nan, nan, nan, nan, nan, nan, nan, nan, nan, nan, nan, nan, nan, nan, nan, nan, nan, nan, nan, nan, nan, nan, nan, nan, nan, nan, nan, nan, nan, nan, nan, nan, nan, nan, nan, nan, nan, nan, nan, nan, nan, nan, nan, nan, nan, nan, nan, nan, nan, nan, nan, nan, nan, nan, nan, nan, nan, nan, nan, nan, nan, nan, nan, nan, nan, nan, nan, nan, nan, nan, nan, nan, nan, nan, nan, nan, nan, nan, nan, nan, nan, nan, nan, nan, nan, nan, nan, nan, nan, nan, nan, nan, nan, nan, nan, nan, nan, nan, nan, nan, nan, nan, nan, nan, nan, nan, nan, nan, nan, nan, nan, nan, nan, nan, nan, nan, nan, nan, nan, nan, nan, nan, nan, nan, nan, nan, nan, nan, nan, nan, nan, nan, nan, nan, nan, nan, nan, nan, nan, nan, nan, nan, nan, nan, nan, nan, nan, nan, nan, nan, nan, nan, nan, nan, nan, nan, nan, nan, nan, nan, nan, nan, nan, nan, nan, nan, nan, nan, nan, nan, nan, nan, nan, nan, nan, nan, nan, nan, nan, nan, nan, nan, nan, nan, nan, nan, nan, nan, nan, nan, nan, nan, nan, nan, nan, nan, nan, nan, nan, nan, nan, nan, nan, nan, nan, nan, nan, nan, nan, nan, nan, nan, nan, nan, nan, nan, nan, nan, nan, nan, nan, nan, nan, nan, nan, nan, nan, nan, nan, nan, nan, nan, nan, nan, nan, nan, nan, nan, nan, nan, nan, nan, nan, nan])"
      ]
     },
     "metadata": {},
     "execution_count": 104
    }
   ],
   "source": [
    "myline.array[0:1000]"
   ]
  },
  {
   "cell_type": "code",
   "execution_count": 105,
   "metadata": {},
   "outputs": [
    {
     "output_type": "execute_result",
     "data": {
      "text/plain": [
       "      trades\n",
       "0        NaN\n",
       "1        NaN\n",
       "2        NaN\n",
       "3        NaN\n",
       "4        NaN\n",
       "...      ...\n",
       "1458     NaN\n",
       "1459     NaN\n",
       "1460     NaN\n",
       "1461     NaN\n",
       "1462     NaN\n",
       "\n",
       "[1463 rows x 1 columns]"
      ],
      "text/html": "<div>\n<style scoped>\n    .dataframe tbody tr th:only-of-type {\n        vertical-align: middle;\n    }\n\n    .dataframe tbody tr th {\n        vertical-align: top;\n    }\n\n    .dataframe thead th {\n        text-align: right;\n    }\n</style>\n<table border=\"1\" class=\"dataframe\">\n  <thead>\n    <tr style=\"text-align: right;\">\n      <th></th>\n      <th>trades</th>\n    </tr>\n  </thead>\n  <tbody>\n    <tr>\n      <th>0</th>\n      <td>NaN</td>\n    </tr>\n    <tr>\n      <th>1</th>\n      <td>NaN</td>\n    </tr>\n    <tr>\n      <th>2</th>\n      <td>NaN</td>\n    </tr>\n    <tr>\n      <th>3</th>\n      <td>NaN</td>\n    </tr>\n    <tr>\n      <th>4</th>\n      <td>NaN</td>\n    </tr>\n    <tr>\n      <th>...</th>\n      <td>...</td>\n    </tr>\n    <tr>\n      <th>1458</th>\n      <td>NaN</td>\n    </tr>\n    <tr>\n      <th>1459</th>\n      <td>NaN</td>\n    </tr>\n    <tr>\n      <th>1460</th>\n      <td>NaN</td>\n    </tr>\n    <tr>\n      <th>1461</th>\n      <td>NaN</td>\n    </tr>\n    <tr>\n      <th>1462</th>\n      <td>NaN</td>\n    </tr>\n  </tbody>\n</table>\n<p>1463 rows × 1 columns</p>\n</div>"
     },
     "metadata": {},
     "execution_count": 105
    }
   ],
   "source": [
    "data = {'trades': myline.array}\n",
    "df = pd.DataFrame(data=data)\n",
    "df"
   ]
  },
  {
   "cell_type": "code",
   "execution_count": 106,
   "metadata": {},
   "outputs": [
    {
     "output_type": "execute_result",
     "data": {
      "text/plain": [
       "           trades\n",
       "156  17762.266596\n",
       "163  -4050.460519\n",
       "321  -5153.060621\n",
       "393  -9919.813196\n",
       "448  -8832.427936\n",
       "537 -10683.950281\n",
       "668  -2157.220296\n",
       "697  -5860.617168"
      ],
      "text/html": "<div>\n<style scoped>\n    .dataframe tbody tr th:only-of-type {\n        vertical-align: middle;\n    }\n\n    .dataframe tbody tr th {\n        vertical-align: top;\n    }\n\n    .dataframe thead th {\n        text-align: right;\n    }\n</style>\n<table border=\"1\" class=\"dataframe\">\n  <thead>\n    <tr style=\"text-align: right;\">\n      <th></th>\n      <th>trades</th>\n    </tr>\n  </thead>\n  <tbody>\n    <tr>\n      <th>156</th>\n      <td>17762.266596</td>\n    </tr>\n    <tr>\n      <th>163</th>\n      <td>-4050.460519</td>\n    </tr>\n    <tr>\n      <th>321</th>\n      <td>-5153.060621</td>\n    </tr>\n    <tr>\n      <th>393</th>\n      <td>-9919.813196</td>\n    </tr>\n    <tr>\n      <th>448</th>\n      <td>-8832.427936</td>\n    </tr>\n    <tr>\n      <th>537</th>\n      <td>-10683.950281</td>\n    </tr>\n    <tr>\n      <th>668</th>\n      <td>-2157.220296</td>\n    </tr>\n    <tr>\n      <th>697</th>\n      <td>-5860.617168</td>\n    </tr>\n  </tbody>\n</table>\n</div>"
     },
     "metadata": {},
     "execution_count": 106
    }
   ],
   "source": [
    "df.loc[np.isnan(df['trades']) == False]"
   ]
  },
  {
   "cell_type": "code",
   "execution_count": 118,
   "metadata": {},
   "outputs": [
    {
     "output_type": "stream",
     "name": "stdout",
     "text": [
      "<backtrader.observers.broker.Broker object at 0x0000020663C25E20>\n<backtrader.observers.trades.DataTrades object at 0x0000020663C2E670>\n[nan nan nan ... nan nan nan]\n"
     ]
    }
   ],
   "source": [
    "def get_trades_from_cerebro_run(cerebro_run):\n",
    "    data = None\n",
    "    for strat in cerebro_run[0].stats:\n",
    "        print(strat)\n",
    "        if isinstance(strat, bt.observers.trades.DataTrades):\n",
    "            for line in strat.lines:\n",
    "                npary = np.frombuffer(line.array)\n",
    "                if len(npary[~np.isnan(npary)]) > 0:\n",
    "                    data = npary\n",
    "    return data\n",
    "print(get_trades_from_cerebro_run(back))"
   ]
  },
  {
   "cell_type": "code",
   "execution_count": 111,
   "metadata": {
    "tags": []
   },
   "outputs": [
    {
     "output_type": "stream",
     "name": "stdout",
     "text": [
      "Broker\nBuySell\nBuySell\nDataTrades\n"
     ]
    }
   ],
   "source": [
    "def get_cerebro_data(cerebro):\n",
    "    #assumption that there is only one strategy\n",
    "    strat = cerebro.runstrats[0][0]\n",
    "    ret = []\n",
    "    data = {}\n",
    "    for observer in strat.getobservers():\n",
    "        print(observer.__class__.__name__)\n",
    "        for line in observer.lines:\n",
    "            ret.append(np.frombuffer(line.array))\n",
    "            observer_name = observer.__class__.__name__\n",
    "            data[observer_name] = line.array\n",
    "    return pd.DataFrame(data=data)\n",
    "mylist = get_cerebro_data(cerebro)"
   ]
  },
  {
   "cell_type": "code",
   "execution_count": 57,
   "metadata": {},
   "outputs": [
    {
     "output_type": "execute_result",
     "data": {
      "text/plain": [
       "             Broker  BuySell  DataTrades\n",
       "0    1000000.000000      NaN         NaN\n",
       "1    1000000.000000      NaN         NaN\n",
       "2    1000000.000000      NaN         NaN\n",
       "3    1000000.000000      NaN         NaN\n",
       "4    1000000.000000      NaN         NaN\n",
       "..              ...      ...         ...\n",
       "727   971104.716579      NaN         NaN\n",
       "728   971104.716579      NaN         NaN\n",
       "729   971104.716579      NaN         NaN\n",
       "730   971104.716579      NaN         NaN\n",
       "731   971104.716579      NaN         NaN\n",
       "\n",
       "[732 rows x 3 columns]"
      ],
      "text/html": "<div>\n<style scoped>\n    .dataframe tbody tr th:only-of-type {\n        vertical-align: middle;\n    }\n\n    .dataframe tbody tr th {\n        vertical-align: top;\n    }\n\n    .dataframe thead th {\n        text-align: right;\n    }\n</style>\n<table border=\"1\" class=\"dataframe\">\n  <thead>\n    <tr style=\"text-align: right;\">\n      <th></th>\n      <th>Broker</th>\n      <th>BuySell</th>\n      <th>DataTrades</th>\n    </tr>\n  </thead>\n  <tbody>\n    <tr>\n      <th>0</th>\n      <td>1000000.000000</td>\n      <td>NaN</td>\n      <td>NaN</td>\n    </tr>\n    <tr>\n      <th>1</th>\n      <td>1000000.000000</td>\n      <td>NaN</td>\n      <td>NaN</td>\n    </tr>\n    <tr>\n      <th>2</th>\n      <td>1000000.000000</td>\n      <td>NaN</td>\n      <td>NaN</td>\n    </tr>\n    <tr>\n      <th>3</th>\n      <td>1000000.000000</td>\n      <td>NaN</td>\n      <td>NaN</td>\n    </tr>\n    <tr>\n      <th>4</th>\n      <td>1000000.000000</td>\n      <td>NaN</td>\n      <td>NaN</td>\n    </tr>\n    <tr>\n      <th>...</th>\n      <td>...</td>\n      <td>...</td>\n      <td>...</td>\n    </tr>\n    <tr>\n      <th>727</th>\n      <td>971104.716579</td>\n      <td>NaN</td>\n      <td>NaN</td>\n    </tr>\n    <tr>\n      <th>728</th>\n      <td>971104.716579</td>\n      <td>NaN</td>\n      <td>NaN</td>\n    </tr>\n    <tr>\n      <th>729</th>\n      <td>971104.716579</td>\n      <td>NaN</td>\n      <td>NaN</td>\n    </tr>\n    <tr>\n      <th>730</th>\n      <td>971104.716579</td>\n      <td>NaN</td>\n      <td>NaN</td>\n    </tr>\n    <tr>\n      <th>731</th>\n      <td>971104.716579</td>\n      <td>NaN</td>\n      <td>NaN</td>\n    </tr>\n  </tbody>\n</table>\n<p>732 rows × 3 columns</p>\n</div>"
     },
     "metadata": {},
     "execution_count": 57
    }
   ],
   "source": [
    "mylist.dropna(how='all')"
   ]
  },
  {
   "cell_type": "code",
   "execution_count": 58,
   "metadata": {},
   "outputs": [],
   "source": [
    "nobroke = mylist.drop('Broker',axis=1)"
   ]
  },
  {
   "cell_type": "code",
   "execution_count": 59,
   "metadata": {},
   "outputs": [
    {
     "output_type": "execute_result",
     "data": {
      "text/plain": [
       "      BuySell  DataTrades\n",
       "0         NaN         NaN\n",
       "1         NaN         NaN\n",
       "2         NaN         NaN\n",
       "3         NaN         NaN\n",
       "4         NaN         NaN\n",
       "...       ...         ...\n",
       "1458      NaN         NaN\n",
       "1459      NaN         NaN\n",
       "1460      NaN         NaN\n",
       "1461      NaN         NaN\n",
       "1462      NaN         NaN\n",
       "\n",
       "[1463 rows x 2 columns]"
      ],
      "text/html": "<div>\n<style scoped>\n    .dataframe tbody tr th:only-of-type {\n        vertical-align: middle;\n    }\n\n    .dataframe tbody tr th {\n        vertical-align: top;\n    }\n\n    .dataframe thead th {\n        text-align: right;\n    }\n</style>\n<table border=\"1\" class=\"dataframe\">\n  <thead>\n    <tr style=\"text-align: right;\">\n      <th></th>\n      <th>BuySell</th>\n      <th>DataTrades</th>\n    </tr>\n  </thead>\n  <tbody>\n    <tr>\n      <th>0</th>\n      <td>NaN</td>\n      <td>NaN</td>\n    </tr>\n    <tr>\n      <th>1</th>\n      <td>NaN</td>\n      <td>NaN</td>\n    </tr>\n    <tr>\n      <th>2</th>\n      <td>NaN</td>\n      <td>NaN</td>\n    </tr>\n    <tr>\n      <th>3</th>\n      <td>NaN</td>\n      <td>NaN</td>\n    </tr>\n    <tr>\n      <th>4</th>\n      <td>NaN</td>\n      <td>NaN</td>\n    </tr>\n    <tr>\n      <th>...</th>\n      <td>...</td>\n      <td>...</td>\n    </tr>\n    <tr>\n      <th>1458</th>\n      <td>NaN</td>\n      <td>NaN</td>\n    </tr>\n    <tr>\n      <th>1459</th>\n      <td>NaN</td>\n      <td>NaN</td>\n    </tr>\n    <tr>\n      <th>1460</th>\n      <td>NaN</td>\n      <td>NaN</td>\n    </tr>\n    <tr>\n      <th>1461</th>\n      <td>NaN</td>\n      <td>NaN</td>\n    </tr>\n    <tr>\n      <th>1462</th>\n      <td>NaN</td>\n      <td>NaN</td>\n    </tr>\n  </tbody>\n</table>\n<p>1463 rows × 2 columns</p>\n</div>"
     },
     "metadata": {},
     "execution_count": 59
    }
   ],
   "source": [
    "nobroke"
   ]
  },
  {
   "cell_type": "code",
   "execution_count": 60,
   "metadata": {},
   "outputs": [
    {
     "output_type": "execute_result",
     "data": {
      "text/plain": [
       "Empty DataFrame\n",
       "Columns: [BuySell, DataTrades]\n",
       "Index: []"
      ],
      "text/html": "<div>\n<style scoped>\n    .dataframe tbody tr th:only-of-type {\n        vertical-align: middle;\n    }\n\n    .dataframe tbody tr th {\n        vertical-align: top;\n    }\n\n    .dataframe thead th {\n        text-align: right;\n    }\n</style>\n<table border=\"1\" class=\"dataframe\">\n  <thead>\n    <tr style=\"text-align: right;\">\n      <th></th>\n      <th>BuySell</th>\n      <th>DataTrades</th>\n    </tr>\n  </thead>\n  <tbody>\n  </tbody>\n</table>\n</div>"
     },
     "metadata": {},
     "execution_count": 60
    }
   ],
   "source": [
    "nobroke.loc[np.isnan(nobroke['DataTrades']) == False]"
   ]
  },
  {
   "cell_type": "code",
   "execution_count": 94,
   "metadata": {},
   "outputs": [
    {
     "output_type": "execute_result",
     "data": {
      "text/plain": [
       "<backtrader.observers.trades.DataTrades at 0x20663c2e670>"
      ]
     },
     "metadata": {},
     "execution_count": 94
    }
   ],
   "source": [
    "myobs = back[0].stats[1]\n",
    "myobs"
   ]
  },
  {
   "cell_type": "code",
   "execution_count": 95,
   "metadata": {},
   "outputs": [
    {
     "output_type": "stream",
     "name": "stdout",
     "text": [
      "[ 17762.26659598  -4050.46051866  -5153.06062077  -9919.81319643\n  -8832.42793599 -10683.95028139  -2157.22029591  -5860.61716789]\n8\n[]\n0\n"
     ]
    }
   ],
   "source": [
    "for line in myobs.lines:\n",
    "    npary = np.frombuffer(line.array)\n",
    "    print(npary[~np.isnan(npary)])\n",
    "    print(len(npary[~np.isnan(npary)]))"
   ]
  },
  {
   "cell_type": "code",
   "execution_count": null,
   "metadata": {},
   "outputs": [],
   "source": []
  }
 ]
}