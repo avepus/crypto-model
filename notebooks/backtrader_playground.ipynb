{
 "metadata": {
  "language_info": {
   "codemirror_mode": {
    "name": "ipython",
    "version": 3
   },
   "file_extension": ".py",
   "mimetype": "text/x-python",
   "name": "python",
   "nbconvert_exporter": "python",
   "pygments_lexer": "ipython3",
   "version": "3.9.1-final"
  },
  "orig_nbformat": 2,
  "kernelspec": {
   "name": "python3",
   "display_name": "Python 3.9.1 64-bit",
   "metadata": {
    "interpreter": {
     "hash": "b54cb9753f1fc2478effd5c05200ae4f0e3c44cd8f27e179dabba8365c7dc822"
    }
   }
  }
 },
 "nbformat": 4,
 "nbformat_minor": 2,
 "cells": [
  {
   "cell_type": "code",
   "execution_count": 1,
   "metadata": {},
   "outputs": [],
   "source": [
    "#%matplotlib widget\n",
    "import backtrader as bt\n",
    "import backtrader.analyzers as btanalyzers\n",
    "import rba_tools as rba\n",
    "import pandas as pd\n",
    "#import matplotlib\n",
    "from datetime import datetime"
   ]
  },
  {
   "cell_type": "code",
   "execution_count": 2,
   "metadata": {},
   "outputs": [],
   "source": [
    "class MaCrossStrategy(bt.Strategy):\n",
    "\n",
    "    def __init__(self):\n",
    "        ma_fast = bt.ind.SMA(period = 10)\n",
    "        ma_slow = bt.ind.SMA(period = 50)\n",
    "\n",
    "        self.crossover = bt.ind.CrossOver(ma_fast, ma_slow)\n",
    "\n",
    "    def next(self):\n",
    "        if not self.position:\n",
    "            if self.crossover > 0:\n",
    "                self.buy()\n",
    "        elif self.crossover < 0:\n",
    "            self.close()"
   ]
  },
  {
   "cell_type": "code",
   "execution_count": 3,
   "metadata": {},
   "outputs": [],
   "source": [
    "cerebro = bt.Cerebro()"
   ]
  },
  {
   "cell_type": "code",
   "execution_count": 4,
   "metadata": {},
   "outputs": [
    {
     "output_type": "execute_result",
     "data": {
      "text/plain": [
       "<backtrader.feeds.pandafeed.PandasData at 0x1fc335465e0>"
      ]
     },
     "metadata": {},
     "execution_count": 4
    }
   ],
   "source": [
    "binance = rba.getBinanceExchange()\n",
    "dataframe = rba.get_DataFrame(['ETH/BTC'], binance, '1/1/18', '12/31/19')\n",
    "data = bt.feeds.PandasData(dataname=dataframe,\n",
    "                               # datetime='Date',\n",
    "                               nocase=True,\n",
    "                               )\n",
    "cerebro.adddata(data)"
   ]
  },
  {
   "cell_type": "code",
   "execution_count": 5,
   "metadata": {},
   "outputs": [
    {
     "output_type": "execute_result",
     "data": {
      "text/plain": [
       "<backtrader.feeds.pandafeed.PandasData at 0x1fc7e6a0f70>"
      ]
     },
     "metadata": {},
     "execution_count": 5
    }
   ],
   "source": [
    "dataframe2 = rba.get_DataFrame(['LTC/BTC'], binance, '1/1/18', '12/31/19')\n",
    "data2 = bt.feeds.PandasData(dataname=dataframe2,\n",
    "                               # datetime='Date',\n",
    "                               nocase=True,\n",
    "                               )\n",
    "cerebro.adddata(data2)"
   ]
  },
  {
   "cell_type": "code",
   "execution_count": 6,
   "metadata": {},
   "outputs": [
    {
     "output_type": "execute_result",
     "data": {
      "text/plain": [
       "0"
      ]
     },
     "metadata": {},
     "execution_count": 6
    }
   ],
   "source": [
    "cerebro.addstrategy(MaCrossStrategy)"
   ]
  },
  {
   "cell_type": "code",
   "execution_count": 7,
   "metadata": {},
   "outputs": [],
   "source": [
    "cerebro.broker.setcash(1000000.0)"
   ]
  },
  {
   "cell_type": "code",
   "execution_count": 8,
   "metadata": {},
   "outputs": [],
   "source": [
    "cerebro.addsizer(bt.sizers.PercentSizer, percents = 10)"
   ]
  },
  {
   "cell_type": "code",
   "execution_count": 9,
   "metadata": {},
   "outputs": [],
   "source": [
    "cerebro.addanalyzer(btanalyzers.SharpeRatio, _name = 'sharpe')\n",
    "cerebro.addanalyzer(btanalyzers.Transactions, _name = 'trans')\n",
    "cerebro.addanalyzer(btanalyzers.TradeAnalyzer, _name = 'trades')"
   ]
  },
  {
   "cell_type": "code",
   "execution_count": 10,
   "metadata": {},
   "outputs": [],
   "source": [
    "back = cerebro.run()"
   ]
  },
  {
   "cell_type": "code",
   "execution_count": 11,
   "metadata": {},
   "outputs": [
    {
     "output_type": "execute_result",
     "data": {
      "text/plain": [
       "971104.7165789388"
      ]
     },
     "metadata": {},
     "execution_count": 11
    }
   ],
   "source": [
    "cerebro.broker.getvalue()"
   ]
  },
  {
   "cell_type": "code",
   "execution_count": 12,
   "metadata": {},
   "outputs": [
    {
     "output_type": "execute_result",
     "data": {
      "text/plain": [
       "OrderedDict([('sharperatio', -0.8928682155011799)])"
      ]
     },
     "metadata": {},
     "execution_count": 12
    }
   ],
   "source": [
    "back[0].analyzers.sharpe.get_analysis()"
   ]
  },
  {
   "cell_type": "code",
   "execution_count": 13,
   "metadata": {},
   "outputs": [
    {
     "output_type": "execute_result",
     "data": {
      "text/plain": [
       "OrderedDict([(datetime.datetime(2018, 4, 22, 0, 0),\n",
       "              [[1472580.5501560937, 0.067836, 0, '', -99893.97420038877]]),\n",
       "             (datetime.datetime(2018, 6, 6, 0, 0),\n",
       "              [[-1472580.5501560937, 0.079898, 0, '', 117656.24079637157]]),\n",
       "             (datetime.datetime(2018, 6, 8, 0, 0),\n",
       "              [[1293250.4848865066, 0.078696, 0, '', -101773.64015862852]]),\n",
       "             (datetime.datetime(2018, 6, 13, 0, 0),\n",
       "              [[-1293250.4848865066, 0.075564, 0, '', 97723.17963996399]]),\n",
       "             (datetime.datetime(2018, 11, 13, 0, 0),\n",
       "              [[3072785.104811514, 0.032987, 0, '', -101361.96225241742]]),\n",
       "             (datetime.datetime(2018, 11, 18, 0, 0),\n",
       "              [[-3072785.104811514, 0.03131, 0, '', 96208.90163164849]]),\n",
       "             (datetime.datetime(2018, 12, 26, 0, 0),\n",
       "              [[2960254.6094997046, 0.034069, 0, '', -100852.91429104544]]),\n",
       "             (datetime.datetime(2019, 1, 29, 0, 0),\n",
       "              [[-2960254.6094997046, 0.030718, 0, '', 90933.10109461192]]),\n",
       "             (datetime.datetime(2019, 2, 19, 0, 0),\n",
       "              [[2672444.1561231967, 0.037394, 0, '', -99933.37677407081]]),\n",
       "             (datetime.datetime(2019, 3, 25, 0, 0),\n",
       "              [[-2672444.1561231967, 0.034089, 0, '', 91100.94883808366]]),\n",
       "             (datetime.datetime(2019, 5, 23, 0, 0),\n",
       "              [[3097695.065640562, 0.031952, 0, '', -98977.55273734724]]),\n",
       "             (datetime.datetime(2019, 6, 21, 0, 0),\n",
       "              [[-3097695.065640562, 0.028503, 0, '', 88293.60245595295]]),\n",
       "             (datetime.datetime(2019, 9, 19, 0, 0),\n",
       "              [[4730746.26294987, 0.020702, 0, '', -97935.90913558821]]),\n",
       "             (datetime.datetime(2019, 10, 30, 0, 0),\n",
       "              [[-4730746.26294987, 0.020246, 0, '', 95778.68883968306]]),\n",
       "             (datetime.datetime(2019, 11, 18, 0, 0),\n",
       "              [[4518594.578173208, 0.021621, 0, '', -97696.53337468294]]),\n",
       "             (datetime.datetime(2019, 11, 28, 0, 0),\n",
       "              [[-4518594.578173208, 0.020324, 0, '', 91835.91620679227]])])"
      ]
     },
     "metadata": {},
     "execution_count": 13
    }
   ],
   "source": [
    "back[0].analyzers.trans.get_analysis()"
   ]
  },
  {
   "cell_type": "code",
   "execution_count": 14,
   "metadata": {},
   "outputs": [
    {
     "output_type": "execute_result",
     "data": {
      "text/plain": [
       "AutoOrderedDict([('total',\n",
       "                  AutoOrderedDict([('total', 8), ('open', 0), ('closed', 8)])),\n",
       "                 ('streak',\n",
       "                  AutoOrderedDict([('won',\n",
       "                                    AutoOrderedDict([('current', 0),\n",
       "                                                     ('longest', 1)])),\n",
       "                                   ('lost',\n",
       "                                    AutoOrderedDict([('current', 7),\n",
       "                                                     ('longest', 7)]))])),\n",
       "                 ('pnl',\n",
       "                  AutoOrderedDict([('gross',\n",
       "                                    AutoOrderedDict([('total',\n",
       "                                                      -28895.28342106143),\n",
       "                                                     ('average',\n",
       "                                                      -3611.910427632679)])),\n",
       "                                   ('net',\n",
       "                                    AutoOrderedDict([('total',\n",
       "                                                      -28895.28342106143),\n",
       "                                                     ('average',\n",
       "                                                      -3611.910427632679)]))])),\n",
       "                 ('won',\n",
       "                  AutoOrderedDict([('total', 1),\n",
       "                                   ('pnl',\n",
       "                                    AutoOrderedDict([('total',\n",
       "                                                      17762.26659598281),\n",
       "                                                     ('average',\n",
       "                                                      17762.26659598281),\n",
       "                                                     ('max',\n",
       "                                                      17762.26659598281)]))])),\n",
       "                 ('lost',\n",
       "                  AutoOrderedDict([('total', 7),\n",
       "                                   ('pnl',\n",
       "                                    AutoOrderedDict([('total',\n",
       "                                                      -46657.55001704424),\n",
       "                                                     ('average',\n",
       "                                                      -6665.364288149177),\n",
       "                                                     ('max',\n",
       "                                                      -10683.950281394302)]))])),\n",
       "                 ('long',\n",
       "                  AutoOrderedDict([('total', 8),\n",
       "                                   ('pnl',\n",
       "                                    AutoOrderedDict([('total',\n",
       "                                                      -28895.28342106143),\n",
       "                                                     ('average',\n",
       "                                                      -3611.910427632679),\n",
       "                                                     ('won',\n",
       "                                                      AutoOrderedDict([('total',\n",
       "                                                                        17762.26659598281),\n",
       "                                                                       ('average',\n",
       "                                                                        17762.26659598281),\n",
       "                                                                       ('max',\n",
       "                                                                        17762.26659598281)])),\n",
       "                                                     ('lost',\n",
       "                                                      AutoOrderedDict([('total',\n",
       "                                                                        -46657.55001704424),\n",
       "                                                                       ('average',\n",
       "                                                                        -6665.364288149177),\n",
       "                                                                       ('max',\n",
       "                                                                        -10683.950281394302)]))])),\n",
       "                                   ('won', 1),\n",
       "                                   ('lost', 7)])),\n",
       "                 ('short',\n",
       "                  AutoOrderedDict([('total', 0),\n",
       "                                   ('pnl',\n",
       "                                    AutoOrderedDict([('total', 0.0),\n",
       "                                                     ('average', 0.0),\n",
       "                                                     ('won',\n",
       "                                                      AutoOrderedDict([('total',\n",
       "                                                                        0.0),\n",
       "                                                                       ('average',\n",
       "                                                                        0.0),\n",
       "                                                                       ('max',\n",
       "                                                                        0.0)])),\n",
       "                                                     ('lost',\n",
       "                                                      AutoOrderedDict([('total',\n",
       "                                                                        0.0),\n",
       "                                                                       ('average',\n",
       "                                                                        0.0),\n",
       "                                                                       ('max',\n",
       "                                                                        0.0)]))])),\n",
       "                                   ('won', 0),\n",
       "                                   ('lost', 0)])),\n",
       "                 ('len',\n",
       "                  AutoOrderedDict([('total', 203),\n",
       "                                   ('average', 25.375),\n",
       "                                   ('max', 45),\n",
       "                                   ('min', 5),\n",
       "                                   ('won',\n",
       "                                    AutoOrderedDict([('total', 45),\n",
       "                                                     ('average', 45.0),\n",
       "                                                     ('max', 45),\n",
       "                                                     ('min', 45)])),\n",
       "                                   ('lost',\n",
       "                                    AutoOrderedDict([('total', 158),\n",
       "                                                     ('average',\n",
       "                                                      22.571428571428573),\n",
       "                                                     ('max', 41),\n",
       "                                                     ('min', 5)])),\n",
       "                                   ('long',\n",
       "                                    AutoOrderedDict([('total', 203),\n",
       "                                                     ('average', 25.375),\n",
       "                                                     ('max', 45),\n",
       "                                                     ('min', 5),\n",
       "                                                     ('won',\n",
       "                                                      AutoOrderedDict([('total',\n",
       "                                                                        45),\n",
       "                                                                       ('average',\n",
       "                                                                        45.0),\n",
       "                                                                       ('max',\n",
       "                                                                        45),\n",
       "                                                                       ('min',\n",
       "                                                                        45)])),\n",
       "                                                     ('lost',\n",
       "                                                      AutoOrderedDict([('total',\n",
       "                                                                        158),\n",
       "                                                                       ('average',\n",
       "                                                                        22.571428571428573),\n",
       "                                                                       ('max',\n",
       "                                                                        41),\n",
       "                                                                       ('min',\n",
       "                                                                        5)]))])),\n",
       "                                   ('short',\n",
       "                                    AutoOrderedDict([('total', 0),\n",
       "                                                     ('average', 0.0),\n",
       "                                                     ('max', 0),\n",
       "                                                     ('min',\n",
       "                                                      9223372036854775807),\n",
       "                                                     ('won',\n",
       "                                                      AutoOrderedDict([('total',\n",
       "                                                                        0),\n",
       "                                                                       ('average',\n",
       "                                                                        0.0),\n",
       "                                                                       ('max',\n",
       "                                                                        0),\n",
       "                                                                       ('min',\n",
       "                                                                        9223372036854775807)])),\n",
       "                                                     ('lost',\n",
       "                                                      AutoOrderedDict([('total',\n",
       "                                                                        0),\n",
       "                                                                       ('average',\n",
       "                                                                        0.0),\n",
       "                                                                       ('max',\n",
       "                                                                        0),\n",
       "                                                                       ('min',\n",
       "                                                                        9223372036854775807)]))]))]))])"
      ]
     },
     "metadata": {},
     "execution_count": 14
    }
   ],
   "source": [
    "back[0].analyzers.trades.get_analysis()"
   ]
  },
  {
   "cell_type": "code",
   "execution_count": 14,
   "metadata": {},
   "outputs": [],
   "source": []
  },
  {
   "cell_type": "code",
   "execution_count": 15,
   "metadata": {},
   "outputs": [],
   "source": [
    "myplot = cerebro.plot(iplot=False)"
   ]
  },
  {
   "cell_type": "code",
   "execution_count": 20,
   "metadata": {},
   "outputs": [
    {
     "output_type": "execute_result",
     "data": {
      "text/plain": [
       "0.017953"
      ]
     },
     "metadata": {},
     "execution_count": 20
    }
   ],
   "source": [
    "back[0].data.close[0]"
   ]
  },
  {
   "cell_type": "code",
   "execution_count": null,
   "metadata": {},
   "outputs": [],
   "source": []
  }
 ]
}