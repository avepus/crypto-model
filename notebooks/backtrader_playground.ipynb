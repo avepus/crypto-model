{
 "metadata": {
  "language_info": {
   "codemirror_mode": {
    "name": "ipython",
    "version": 3
   },
   "file_extension": ".py",
   "mimetype": "text/x-python",
   "name": "python",
   "nbconvert_exporter": "python",
   "pygments_lexer": "ipython3",
   "version": "3.9.1-final"
  },
  "orig_nbformat": 2,
  "kernelspec": {
   "name": "python3",
   "display_name": "Python 3.9.1 64-bit",
   "metadata": {
    "interpreter": {
     "hash": "b54cb9753f1fc2478effd5c05200ae4f0e3c44cd8f27e179dabba8365c7dc822"
    }
   }
  }
 },
 "nbformat": 4,
 "nbformat_minor": 2,
 "cells": [
  {
   "cell_type": "code",
   "execution_count": 1,
   "metadata": {},
   "outputs": [],
   "source": [
    "#%matplotlib widget\n",
    "import backtrader as bt\n",
    "import backtrader.analyzers as btanalyzers\n",
    "import rba_tools as rba\n",
    "import pandas as pd\n",
    "import numpy as np\n",
    "#import matplotlib\n",
    "from datetime import datetime\n",
    "from datetime import date\n",
    "from datetime import timedelta\n",
    "from backtrader.utils import num2date"
   ]
  },
  {
   "cell_type": "code",
   "execution_count": 2,
   "metadata": {},
   "outputs": [],
   "source": [
    "class MaCrossStrategy(bt.Strategy):\n",
    "\n",
    "    def __init__(self):\n",
    "        ma_fast = bt.ind.SMA(period = 10)\n",
    "        ma_slow = bt.ind.SMA(period = 50)\n",
    "\n",
    "        self.crossover = bt.ind.CrossOver(ma_fast, ma_slow)\n",
    "\n",
    "    def next(self):\n",
    "        if not self.position:\n",
    "            if self.crossover > 0:\n",
    "                self.buy()\n",
    "        elif self.crossover < 0:\n",
    "            self.close()"
   ]
  },
  {
   "cell_type": "code",
   "execution_count": 3,
   "metadata": {},
   "outputs": [],
   "source": [
    "cerebro = bt.Cerebro()"
   ]
  },
  {
   "cell_type": "code",
   "execution_count": 4,
   "metadata": {},
   "outputs": [
    {
     "output_type": "stream",
     "name": "stdout",
     "text": [
      "Query failed: \n",
      "SELECT * FROM OHLCV_DATA \n",
      "        WHERE Symbol in ('ETH/BTC')\n",
      "        and TIMESTAMP >= 1514764800000\n",
      "        and TIMESTAMP <= 1577750400000\n",
      "Execution failed on sql 'SELECT * FROM OHLCV_DATA \n",
      "        WHERE Symbol in ('ETH/BTC')\n",
      "        and TIMESTAMP >= 1514764800000\n",
      "        and TIMESTAMP <= 1577750400000': no such table: OHLCV_DATA\n",
      "Fetching ETH/BTC market data from Binance. call #1\n",
      "lastCall = 1614525023901 fetching data...\n",
      "Fetching ETH/BTC market data from Binance. call #2\n",
      "lastCall = 1614525025157 fetching data...\n"
     ]
    },
    {
     "output_type": "execute_result",
     "data": {
      "text/plain": [
       "<backtrader.feeds.pandafeed.PandasData at 0x25bfbc06f10>"
      ]
     },
     "metadata": {},
     "execution_count": 4
    }
   ],
   "source": [
    "binance = rba.getBinanceExchange()\n",
    "dataframe = rba.get_DataFrame(['ETH/BTC'], binance, '1/1/18', '12/31/19')\n",
    "data = bt.feeds.PandasData(dataname=dataframe,\n",
    "                               # datetime='Date',\n",
    "                               nocase=True,\n",
    "                               )\n",
    "cerebro.adddata(data)"
   ]
  },
  {
   "cell_type": "code",
   "execution_count": 5,
   "metadata": {},
   "outputs": [
    {
     "output_type": "stream",
     "name": "stdout",
     "text": [
      "Fetching LTC/BTC market data from Binance. call #1\n",
      "lastCall = 1614525025912 fetching data...\n",
      "Fetching LTC/BTC market data from Binance. call #2\n",
      "lastCall = 1614525026778 fetching data...\n"
     ]
    },
    {
     "output_type": "execute_result",
     "data": {
      "text/plain": [
       "<backtrader.feeds.pandafeed.PandasData at 0x25bfbb90eb0>"
      ]
     },
     "metadata": {},
     "execution_count": 5
    }
   ],
   "source": [
    "dataframe2 = rba.get_DataFrame(['LTC/BTC'], binance, '1/1/18', '12/31/19')\n",
    "data2 = bt.feeds.PandasData(dataname=dataframe2,\n",
    "                               # datetime='Date',\n",
    "                               nocase=True,\n",
    "                               )\n",
    "cerebro.adddata(data2)"
   ]
  },
  {
   "cell_type": "code",
   "execution_count": 6,
   "metadata": {},
   "outputs": [
    {
     "output_type": "execute_result",
     "data": {
      "text/plain": [
       "0"
      ]
     },
     "metadata": {},
     "execution_count": 6
    }
   ],
   "source": [
    "cerebro.addstrategy(MaCrossStrategy)"
   ]
  },
  {
   "cell_type": "code",
   "execution_count": 7,
   "metadata": {},
   "outputs": [],
   "source": [
    "cerebro.broker.setcash(1000000.0)"
   ]
  },
  {
   "cell_type": "code",
   "execution_count": 8,
   "metadata": {},
   "outputs": [],
   "source": [
    "cerebro.addsizer(bt.sizers.PercentSizer, percents = 10)"
   ]
  },
  {
   "cell_type": "code",
   "execution_count": 9,
   "metadata": {},
   "outputs": [],
   "source": [
    "#cerebro.addanalyzer(btanalyzers.SharpeRatio, _name = 'sharpe')\n",
    "#cerebro.addanalyzer(btanalyzers.Transactions, _name = 'trans')\n",
    "#cerebro.addanalyzer(btanalyzers.Returns, _name = 'returns')\n",
    "cerebro.addanalyzer(btanalyzers.TradeAnalyzer, _name = 'trades') #good for summary stats on trades\n",
    "cerebro.addanalyzer(btanalyzers.PositionsValue, _name = 'pos', cash=True) #this is a good one. Shows position values over time\n",
    "cerebro.addanalyzer(btanalyzers.AnnualReturn, _name = 'annReturns')"
   ]
  },
  {
   "cell_type": "code",
   "execution_count": 10,
   "metadata": {},
   "outputs": [],
   "source": [
    "back = cerebro.run()"
   ]
  },
  {
   "cell_type": "code",
   "execution_count": 11,
   "metadata": {},
   "outputs": [
    {
     "output_type": "execute_result",
     "data": {
      "text/plain": [
       "971104.7165789388"
      ]
     },
     "metadata": {},
     "execution_count": 11
    }
   ],
   "source": [
    "cerebro.broker.getvalue()"
   ]
  },
  {
   "cell_type": "code",
   "execution_count": 12,
   "metadata": {},
   "outputs": [
    {
     "output_type": "stream",
     "name": "stdout",
     "text": [
      "<backtrader.analyzers.tradeanalyzer.TradeAnalyzer object at 0x0000025BFBC49C10>\n<backtrader.analyzers.positions.PositionsValue object at 0x0000025BFBC49B80>\n<backtrader.analyzers.annualreturn.AnnualReturn object at 0x0000025BFBC49C70>\n"
     ]
    }
   ],
   "source": [
    "for x in back[0].analyzers:\n",
    "    print(x)"
   ]
  },
  {
   "cell_type": "code",
   "execution_count": 13,
   "metadata": {},
   "outputs": [],
   "source": [
    "mytrades = back[0].analyzers.trades.get_analysis()"
   ]
  },
  {
   "cell_type": "code",
   "execution_count": 14,
   "metadata": {},
   "outputs": [],
   "source": [
    "def pintdictdict(indict,indent=0):\n",
    "    indent += 1\n",
    "    for x in indict:\n",
    "        print('\\n','   ' * indent,x,end='',sep='')\n",
    "        val = indict[x]\n",
    "        if isinstance(val,bt.utils.autodict.AutoOrderedDict):\n",
    "            pintdictdict(val,indent)\n",
    "        else:\n",
    "            print('=',val,sep='',end='')"
   ]
  },
  {
   "cell_type": "code",
   "execution_count": 15,
   "metadata": {},
   "outputs": [
    {
     "output_type": "stream",
     "name": "stdout",
     "text": [
      "\n   total\n      total=8\n      open=0\n      closed=8\n   streak\n      won\n         current=0\n         longest=1\n      lost\n         current=7\n         longest=7\n   pnl\n      gross\n         total=-28895.28342106143\n         average=-3611.910427632679\n      net\n         total=-28895.28342106143\n         average=-3611.910427632679\n   won\n      total=1\n      pnl\n         total=17762.26659598281\n         average=17762.26659598281\n         max=17762.26659598281\n   lost\n      total=7\n      pnl\n         total=-46657.55001704424\n         average=-6665.364288149177\n         max=-10683.950281394302\n   long\n      total=8\n      pnl\n         total=-28895.28342106143\n         average=-3611.910427632679\n         won\n            total=17762.26659598281\n            average=17762.26659598281\n            max=17762.26659598281\n         lost\n            total=-46657.55001704424\n            average=-6665.364288149177\n            max=-10683.950281394302\n      won=1\n      lost=7\n   short\n      total=0\n      pnl\n         total=0.0\n         average=0.0\n         won\n            total=0.0\n            average=0.0\n            max=0.0\n         lost\n            total=0.0\n            average=0.0\n            max=0.0\n      won=0\n      lost=0\n   len\n      total=203\n      average=25.375\n      max=45\n      min=5\n      won\n         total=45\n         average=45.0\n         max=45\n         min=45\n      lost\n         total=158\n         average=22.571428571428573\n         max=41\n         min=5\n      long\n         total=203\n         average=25.375\n         max=45\n         min=5\n         won\n            total=45\n            average=45.0\n            max=45\n            min=45\n         lost\n            total=158\n            average=22.571428571428573\n            max=41\n            min=5\n      short\n         total=0\n         average=0.0\n         max=0\n         min=9223372036854775807\n         won\n            total=0\n            average=0.0\n            max=0\n            min=9223372036854775807\n         lost\n            total=0\n            average=0.0\n            max=0\n            min=9223372036854775807"
     ]
    }
   ],
   "source": [
    "pintdictdict(mytrades)"
   ]
  },
  {
   "cell_type": "code",
   "execution_count": 16,
   "metadata": {},
   "outputs": [
    {
     "output_type": "execute_result",
     "data": {
      "text/plain": [
       "OrderedDict([(2018, 0.012901438968685675), (2019, -0.0412643528597445)])"
      ]
     },
     "metadata": {},
     "execution_count": 16
    }
   ],
   "source": [
    "annReturns = back[0].analyzers.annReturns.get_analysis()\n",
    "annReturns"
   ]
  },
  {
   "cell_type": "code",
   "execution_count": 17,
   "metadata": {},
   "outputs": [
    {
     "output_type": "stream",
     "name": "stdout",
     "text": [
      "2019-02-17 = [0.0, 0.0, 998638.932260116]\n2019-02-18 = [0.0, 0.0, 998638.932260116]\n2019-02-19 = [98102.75252712643, 0.0, 898705.5554860452]\n2019-02-20 = [99968.11854810042, 0.0, 898705.5554860452]\n2019-02-21 = [98880.43377655827, 0.0, 898705.5554860452]\n2019-02-22 = [99366.8186129727, 0.0, 898705.5554860452]\n2019-02-23 = [102386.68050939191, 0.0, 898705.5554860452]\n2019-02-24 = [94342.62359946109, 0.0, 898705.5554860452]\n2019-02-25 = [96242.73139446469, 0.0, 898705.5554860452]\n2019-02-26 = [95582.63768790226, 0.0, 898705.5554860452]\n2019-02-27 = [94513.66002545298, 0.0, 898705.5554860452]\n2019-02-28 = [94831.68088003164, 0.0, 898705.5554860452]\n2019-03-01 = [94572.4537968877, 0.0, 898705.5554860452]\n2019-03-02 = [92728.46732916268, 0.0, 898705.5554860452]\n2019-03-03 = [91646.12744593278, 0.0, 898705.5554860452]\n"
     ]
    }
   ],
   "source": [
    "pos = back[0].analyzers.pos.get_analysis()\n",
    "for d in [date(2019, 2, 17) + timedelta(days=x) for x in range(15)]:\n",
    "    print(d,'=',pos[d])"
   ]
  },
  {
   "cell_type": "code",
   "execution_count": 18,
   "metadata": {},
   "outputs": [
    {
     "output_type": "stream",
     "name": "stdout",
     "text": [
      "<backtrader.observers.broker.Broker object at 0x0000025BFD699310>\n<backtrader.observers.trades.DataTrades object at 0x0000025BFD699B20>\n"
     ]
    }
   ],
   "source": [
    "for x in back[0].stats:\n",
    "    print(x)"
   ]
  },
  {
   "cell_type": "code",
   "execution_count": 19,
   "metadata": {},
   "outputs": [],
   "source": [
    "datatrades = back[0].stats[1]\n",
    "broker = back[0].stats[0]"
   ]
  },
  {
   "cell_type": "code",
   "execution_count": 20,
   "metadata": {},
   "outputs": [
    {
     "output_type": "stream",
     "name": "stdout",
     "text": [
      "<class 'backtrader.observers.broker.Broker'>\nx.plotinfo.plot = True\nx.plotinfo.plotskip = False\nx.plotinfo.subplot = True\n<class 'backtrader.observers.trades.DataTrades'>\nx.plotinfo.plot = True\nx.plotinfo.plotskip = False\nx.plotinfo.subplot = True\n"
     ]
    }
   ],
   "source": [
    "for x in back[0].stats:\n",
    "    print(type(x))\n",
    "    print('x.plotinfo.plot =',x.plotinfo.plot)\n",
    "    print('x.plotinfo.plotskip =',x.plotinfo.plotskip)\n",
    "    print('x.plotinfo.subplot =',x.plotinfo.subplot)"
   ]
  },
  {
   "cell_type": "code",
   "execution_count": 21,
   "metadata": {},
   "outputs": [
    {
     "output_type": "execute_result",
     "data": {
      "text/plain": [
       "<backtrader.observers.trades.DataTrades at 0x25bfd699b20>"
      ]
     },
     "metadata": {},
     "execution_count": 21
    }
   ],
   "source": [
    "myobs = back[0].stats[1]\n",
    "myobs"
   ]
  },
  {
   "cell_type": "code",
   "execution_count": 22,
   "metadata": {},
   "outputs": [
    {
     "output_type": "execute_result",
     "data": {
      "text/plain": [
       "True"
      ]
     },
     "metadata": {},
     "execution_count": 22
    }
   ],
   "source": [
    "isinstance(myobs ,bt.observers.trades.DataTrades)"
   ]
  },
  {
   "cell_type": "code",
   "execution_count": 23,
   "metadata": {},
   "outputs": [],
   "source": [
    "ind = myobs"
   ]
  },
  {
   "cell_type": "code",
   "execution_count": 24,
   "metadata": {},
   "outputs": [
    {
     "output_type": "stream",
     "name": "stdout",
     "text": [
      "lineidx = 0\nlinealias = \nind.plotlines = <backtrader.metabase.AutoInfoClass_pl_LineSeries_pl_LineIterator_pl_DataAccessor_pl_ObserverBase_pl_Observer_pl_DataTrades_fa247901b11648bc8efcec780322021e object at 0x0000025BFBC49940>\nlineplotinfo = None\n2 lineplotinfo = <backtrader.metabase.AutoInfoClass_fa247901b11648bc8efcec780322021e_ object at 0x0000025BFBC49A00>\npltmethod = plot\nlineidx = 1\nlinealias = \nind.plotlines = <backtrader.metabase.AutoInfoClass_pl_LineSeries_pl_LineIterator_pl_DataAccessor_pl_ObserverBase_pl_Observer_pl_DataTrades_fa247901b11648bc8efcec780322021e object at 0x0000025BFBC49940>\nlineplotinfo = None\n2 lineplotinfo = <backtrader.metabase.AutoInfoClass_fa247901b11648bc8efcec780322021e_ object at 0x0000025BFBC49A00>\npltmethod = plot\n"
     ]
    }
   ],
   "source": [
    "for lineidx in range(ind.size()):\n",
    "            print('lineidx =',lineidx)\n",
    "            line = ind.lines[lineidx]\n",
    "            linealias = ind.lines._getlinealias(lineidx)\n",
    "            print('linealias =',linealias)\n",
    "            lineplotinfo = getattr(ind.plotlines, '_%d' % lineidx, None)\n",
    "            print('ind.plotlines =',ind.plotlines)\n",
    "            print('lineplotinfo =',lineplotinfo)\n",
    "            if not lineplotinfo:\n",
    "                lineplotinfo = getattr(ind.plotlines, linealias, None)\n",
    "                print('2 lineplotinfo =',lineplotinfo)\n",
    "            if not lineplotinfo:\n",
    "                lineplotinfo = AutoInfoClass()\n",
    "                print('3 lineplotinfo =',lineplotinfo)\n",
    "            pltmethod = lineplotinfo._get('_method', 'plot')\n",
    "            print('pltmethod =',pltmethod)\n",
    "            if pltmethod != 'plot':\n",
    "                toskip += 1 - lineplotinfo._get('_plotskip', False)"
   ]
  },
  {
   "cell_type": "code",
   "execution_count": 25,
   "metadata": {},
   "outputs": [
    {
     "output_type": "stream",
     "name": "stdout",
     "text": [
      "[ 17762.26659598  -4050.46051866  -5153.06062077  -9919.81319643\n  -8832.42793599 -10683.95028139  -2157.22029591  -5860.61716789]\n8\n[]\n0\n"
     ]
    }
   ],
   "source": [
    "for line in myobs.lines:\n",
    "    npary = np.frombuffer(line.array)\n",
    "    print(npary[~np.isnan(npary)])\n",
    "    print(len(npary[~np.isnan(npary)]))"
   ]
  },
  {
   "cell_type": "code",
   "execution_count": 26,
   "metadata": {},
   "outputs": [
    {
     "output_type": "execute_result",
     "data": {
      "text/plain": [
       "array([nan, nan, nan, ..., nan, nan, nan])"
      ]
     },
     "metadata": {},
     "execution_count": 26
    }
   ],
   "source": [
    "npary = np.frombuffer(myobs.lines[0].array)\n",
    "npary"
   ]
  },
  {
   "cell_type": "code",
   "execution_count": 27,
   "metadata": {},
   "outputs": [
    {
     "output_type": "execute_result",
     "data": {
      "text/plain": [
       "array([ 17762.26659598,  -4050.46051866,  -5153.06062077,  -9919.81319643,\n",
       "        -8832.42793599, -10683.95028139,  -2157.22029591,  -5860.61716789])"
      ]
     },
     "metadata": {},
     "execution_count": 27
    }
   ],
   "source": [
    "npary[~np.isnan(npary)]"
   ]
  },
  {
   "cell_type": "code",
   "execution_count": 28,
   "metadata": {},
   "outputs": [
    {
     "output_type": "execute_result",
     "data": {
      "text/plain": [
       "<backtrader.linebuffer.LineBuffer at 0x25bfd699dc0>"
      ]
     },
     "metadata": {},
     "execution_count": 28
    }
   ],
   "source": [
    "myline = myobs.lines[0]\n",
    "myline"
   ]
  },
  {
   "cell_type": "code",
   "execution_count": 29,
   "metadata": {},
   "outputs": [
    {
     "output_type": "execute_result",
     "data": {
      "text/plain": [
       "array('d', [nan, nan, nan, nan, nan, nan, nan, nan, nan, nan, nan, nan, nan, nan, nan, nan, nan, nan, nan, nan, nan, nan, nan, nan, nan, nan, nan, nan, nan, nan, nan, nan, nan, nan, nan, nan, nan, nan, nan, nan, nan, nan, nan, nan, nan, nan, nan, nan, nan, nan, nan, nan, nan, nan, nan, nan, nan, nan, nan, nan, nan, nan, nan, nan, nan, nan, nan, nan, nan, nan, nan, nan, nan, nan, nan, nan, nan, nan, nan, nan, nan, nan, nan, nan, nan, nan, nan, nan, nan, nan, nan, nan, nan, nan, nan, nan, nan, nan, nan, nan, nan, nan, nan, nan, nan, nan, nan, nan, nan, nan, nan, nan, nan, nan, nan, nan, nan, nan, nan, nan, nan, nan, nan, nan, nan, nan, nan, nan, nan, nan, nan, nan, nan, nan, nan, nan, nan, nan, nan, nan, nan, nan, nan, nan, nan, nan, nan, nan, nan, nan, nan, nan, nan, nan, nan, nan, 17762.26659598281, nan, nan, nan, nan, nan, nan, -4050.460518664533, nan, nan, nan, nan, nan, nan, nan, nan, nan, nan, nan, nan, nan, nan, nan, nan, nan, nan, nan, nan, nan, nan, nan, nan, nan, nan, nan, nan, nan, nan, nan, nan, nan, nan, nan, nan, nan, nan, nan, nan, nan, nan, nan, nan, nan, nan, nan, nan, nan, nan, nan, nan, nan, nan, nan, nan, nan, nan, nan, nan, nan, nan, nan, nan, nan, nan, nan, nan, nan, nan, nan, nan, nan, nan, nan, nan, nan, nan, nan, nan, nan, nan, nan, nan, nan, nan, nan, nan, nan, nan, nan, nan, nan, nan, nan, nan, nan, nan, nan, nan, nan, nan, nan, nan, nan, nan, nan, nan, nan, nan, nan, nan, nan, nan, nan, nan, nan, nan, nan, nan, nan, nan, nan, nan, nan, nan, nan, nan, nan, nan, nan, nan, nan, nan, nan, nan, nan, nan, nan, nan, nan, nan, nan, nan, nan, nan, nan, nan, nan, nan, nan, nan, nan, nan, nan, nan, nan, -5153.060620768923, nan, nan, nan, nan, nan, nan, nan, nan, nan, nan, nan, nan, nan, nan, nan, nan, nan, nan, nan, nan, nan, nan, nan, nan, nan, nan, nan, nan, nan, nan, nan, nan, nan, nan, nan, nan, nan, nan, nan, nan, nan, nan, nan, nan, nan, nan, nan, nan, nan, nan, nan, nan, nan, nan, nan, nan, nan, nan, nan, nan, nan, nan, nan, nan, nan, nan, nan, nan, nan, nan, nan, -9919.813196433519, nan, nan, nan, nan, nan, nan, nan, nan, nan, nan, nan, nan, nan, nan, nan, nan, nan, nan, nan, nan, nan, nan, nan, nan, nan, nan, nan, nan, nan, nan, nan, nan, nan, nan, nan, nan, nan, nan, nan, nan, nan, nan, nan, nan, nan, nan, nan, nan, nan, nan, nan, nan, nan, nan, -8832.427935987153, nan, nan, nan, nan, nan, nan, nan, nan, nan, nan, nan, nan, nan, nan, nan, nan, nan, nan, nan, nan, nan, nan, nan, nan, nan, nan, nan, nan, nan, nan, nan, nan, nan, nan, nan, nan, nan, nan, nan, nan, nan, nan, nan, nan, nan, nan, nan, nan, nan, nan, nan, nan, nan, nan, nan, nan, nan, nan, nan, nan, nan, nan, nan, nan, nan, nan, nan, nan, nan, nan, nan, nan, nan, nan, nan, nan, nan, nan, nan, nan, nan, nan, nan, nan, nan, nan, nan, -10683.950281394302, nan, nan, nan, nan, nan, nan, nan, nan, nan, nan, nan, nan, nan, nan, nan, nan, nan, nan, nan, nan, nan, nan, nan, nan, nan, nan, nan, nan, nan, nan, nan, nan, nan, nan, nan, nan, nan, nan, nan, nan, nan, nan, nan, nan, nan, nan, nan, nan, nan, nan, nan, nan, nan, nan, nan, nan, nan, nan, nan, nan, nan, nan, nan, nan, nan, nan, nan, nan, nan, nan, nan, nan, nan, nan, nan, nan, nan, nan, nan, nan, nan, nan, nan, nan, nan, nan, nan, nan, nan, nan, nan, nan, nan, nan, nan, nan, nan, nan, nan, nan, nan, nan, nan, nan, nan, nan, nan, nan, nan, nan, nan, nan, nan, nan, nan, nan, nan, nan, nan, nan, nan, nan, nan, nan, nan, nan, nan, nan, nan, nan, -2157.220295905148, nan, nan, nan, nan, nan, nan, nan, nan, nan, nan, nan, nan, nan, nan, nan, nan, nan, nan, nan, nan, nan, nan, nan, nan, nan, nan, nan, nan, -5860.617167890665, nan, nan, nan, nan, nan, nan, nan, nan, nan, nan, nan, nan, nan, nan, nan, nan, nan, nan, nan, nan, nan, nan, nan, nan, nan, nan, nan, nan, nan, nan, nan, nan, nan, nan, nan, nan, nan, nan, nan, nan, nan, nan, nan, nan, nan, nan, nan, nan, nan, nan, nan, nan, nan, nan, nan, nan, nan, nan, nan, nan, nan, nan, nan, nan, nan, nan, nan, nan, nan, nan, nan, nan, nan, nan, nan, nan, nan, nan, nan, nan, nan, nan, nan, nan, nan, nan, nan, nan, nan, nan, nan, nan, nan, nan, nan, nan, nan, nan, nan, nan, nan, nan, nan, nan, nan, nan, nan, nan, nan, nan, nan, nan, nan, nan, nan, nan, nan, nan, nan, nan, nan, nan, nan, nan, nan, nan, nan, nan, nan, nan, nan, nan, nan, nan, nan, nan, nan, nan, nan, nan, nan, nan, nan, nan, nan, nan, nan, nan, nan, nan, nan, nan, nan, nan, nan, nan, nan, nan, nan, nan, nan, nan, nan, nan, nan, nan, nan, nan, nan, nan, nan, nan, nan, nan, nan, nan, nan, nan, nan, nan, nan, nan, nan, nan, nan, nan, nan, nan, nan, nan, nan, nan, nan, nan, nan, nan, nan, nan, nan, nan, nan, nan, nan, nan, nan, nan, nan, nan, nan, nan, nan, nan, nan, nan, nan, nan, nan, nan, nan, nan, nan, nan, nan, nan, nan, nan, nan, nan, nan, nan, nan, nan, nan, nan, nan, nan, nan, nan, nan, nan, nan, nan, nan, nan, nan, nan, nan, nan, nan, nan, nan, nan, nan, nan, nan, nan, nan, nan, nan, nan, nan, nan, nan, nan, nan, nan, nan, nan, nan, nan, nan, nan, nan, nan, nan, nan, nan, nan, nan, nan, nan, nan, nan, nan, nan, nan, nan, nan, nan, nan, nan, nan, nan, nan, nan, nan, nan, nan, nan, nan, nan, nan, nan])"
      ]
     },
     "metadata": {},
     "execution_count": 29
    }
   ],
   "source": [
    "myline.array[0:1000]"
   ]
  },
  {
   "cell_type": "code",
   "execution_count": 30,
   "metadata": {},
   "outputs": [
    {
     "output_type": "execute_result",
     "data": {
      "text/plain": [
       "      trades\n",
       "0        NaN\n",
       "1        NaN\n",
       "2        NaN\n",
       "3        NaN\n",
       "4        NaN\n",
       "...      ...\n",
       "1455     NaN\n",
       "1456     NaN\n",
       "1457     NaN\n",
       "1458     NaN\n",
       "1459     NaN\n",
       "\n",
       "[1460 rows x 1 columns]"
      ],
      "text/html": "<div>\n<style scoped>\n    .dataframe tbody tr th:only-of-type {\n        vertical-align: middle;\n    }\n\n    .dataframe tbody tr th {\n        vertical-align: top;\n    }\n\n    .dataframe thead th {\n        text-align: right;\n    }\n</style>\n<table border=\"1\" class=\"dataframe\">\n  <thead>\n    <tr style=\"text-align: right;\">\n      <th></th>\n      <th>trades</th>\n    </tr>\n  </thead>\n  <tbody>\n    <tr>\n      <th>0</th>\n      <td>NaN</td>\n    </tr>\n    <tr>\n      <th>1</th>\n      <td>NaN</td>\n    </tr>\n    <tr>\n      <th>2</th>\n      <td>NaN</td>\n    </tr>\n    <tr>\n      <th>3</th>\n      <td>NaN</td>\n    </tr>\n    <tr>\n      <th>4</th>\n      <td>NaN</td>\n    </tr>\n    <tr>\n      <th>...</th>\n      <td>...</td>\n    </tr>\n    <tr>\n      <th>1455</th>\n      <td>NaN</td>\n    </tr>\n    <tr>\n      <th>1456</th>\n      <td>NaN</td>\n    </tr>\n    <tr>\n      <th>1457</th>\n      <td>NaN</td>\n    </tr>\n    <tr>\n      <th>1458</th>\n      <td>NaN</td>\n    </tr>\n    <tr>\n      <th>1459</th>\n      <td>NaN</td>\n    </tr>\n  </tbody>\n</table>\n<p>1460 rows × 1 columns</p>\n</div>"
     },
     "metadata": {},
     "execution_count": 30
    }
   ],
   "source": [
    "data = {'trades': myline.array}\n",
    "df = pd.DataFrame(data=data)\n",
    "df"
   ]
  },
  {
   "cell_type": "code",
   "execution_count": 31,
   "metadata": {},
   "outputs": [
    {
     "output_type": "execute_result",
     "data": {
      "text/plain": [
       "           trades\n",
       "156  17762.266596\n",
       "163  -4050.460519\n",
       "321  -5153.060621\n",
       "393  -9919.813196\n",
       "448  -8832.427936\n",
       "536 -10683.950281\n",
       "667  -2157.220296\n",
       "696  -5860.617168"
      ],
      "text/html": "<div>\n<style scoped>\n    .dataframe tbody tr th:only-of-type {\n        vertical-align: middle;\n    }\n\n    .dataframe tbody tr th {\n        vertical-align: top;\n    }\n\n    .dataframe thead th {\n        text-align: right;\n    }\n</style>\n<table border=\"1\" class=\"dataframe\">\n  <thead>\n    <tr style=\"text-align: right;\">\n      <th></th>\n      <th>trades</th>\n    </tr>\n  </thead>\n  <tbody>\n    <tr>\n      <th>156</th>\n      <td>17762.266596</td>\n    </tr>\n    <tr>\n      <th>163</th>\n      <td>-4050.460519</td>\n    </tr>\n    <tr>\n      <th>321</th>\n      <td>-5153.060621</td>\n    </tr>\n    <tr>\n      <th>393</th>\n      <td>-9919.813196</td>\n    </tr>\n    <tr>\n      <th>448</th>\n      <td>-8832.427936</td>\n    </tr>\n    <tr>\n      <th>536</th>\n      <td>-10683.950281</td>\n    </tr>\n    <tr>\n      <th>667</th>\n      <td>-2157.220296</td>\n    </tr>\n    <tr>\n      <th>696</th>\n      <td>-5860.617168</td>\n    </tr>\n  </tbody>\n</table>\n</div>"
     },
     "metadata": {},
     "execution_count": 31
    }
   ],
   "source": [
    "df.loc[np.isnan(df['trades']) == False]"
   ]
  },
  {
   "cell_type": "code",
   "execution_count": 32,
   "metadata": {},
   "outputs": [
    {
     "output_type": "stream",
     "name": "stdout",
     "text": [
      "[nan nan nan ... nan nan nan]\n[ 17762.26659598  -4050.46051866  -5153.06062077  -9919.81319643\n  -8832.42793599 -10683.95028139  -2157.22029591  -5860.61716789]\n"
     ]
    }
   ],
   "source": [
    "def get_trades_from_cerebro_run(cerebro_run):\n",
    "    data = None\n",
    "    for strat in cerebro_run[0].stats:\n",
    "        if isinstance(strat, bt.observers.trades.DataTrades):\n",
    "            for line in strat.lines:\n",
    "                npary = np.frombuffer(line.array)\n",
    "                if len(npary[~np.isnan(npary)]) > 0:\n",
    "                    data = npary\n",
    "    return data\n",
    "result = get_trades_from_cerebro_run(back)\n",
    "print(result)\n",
    "print(result[~np.isnan(result)])"
   ]
  },
  {
   "cell_type": "code",
   "execution_count": 33,
   "metadata": {},
   "outputs": [
    {
     "output_type": "stream",
     "name": "stdout",
     "text": [
      "[1000000. 1000000. 1000000. ...      nan      nan      nan]\n1460\n"
     ]
    }
   ],
   "source": [
    "def get_broker_cash_from_cerebro_run(cerebro_run):\n",
    "    data = None\n",
    "    for strat in cerebro_run[0].stats:\n",
    "        if isinstance(strat, bt.observers.broker.Broker):\n",
    "            #assumes we want line 0 which I think is safe for Broker?\n",
    "            npary = np.frombuffer(strat.lines[0].array)\n",
    "            data = npary\n",
    "    return data\n",
    "result = get_broker_cash_from_cerebro_run(back)\n",
    "print(result)\n",
    "print(len(result))"
   ]
  },
  {
   "cell_type": "code",
   "execution_count": 43,
   "metadata": {},
   "outputs": [
    {
     "output_type": "stream",
     "name": "stdout",
     "text": [
      "[ 0.  0.  0. ... nan nan nan]\n"
     ]
    }
   ],
   "source": []
  },
  {
   "cell_type": "code",
   "execution_count": 34,
   "metadata": {
    "tags": []
   },
   "outputs": [],
   "source": [
    "def get_pos_analysis(cerebro_run):\n",
    "    for analyzer in cerebro_run[0].analyzers:\n",
    "        if isinstance(analyzer, btanalyzers.PositionsValue):\n",
    "            return analyzer.get_analysis().copy()"
   ]
  },
  {
   "cell_type": "code",
   "execution_count": 35,
   "metadata": {
    "tags": []
   },
   "outputs": [
    {
     "output_type": "execute_result",
     "data": {
      "text/plain": [
       "array([1000000.  , 1000000.  , 1000000.  , 1000000.  , 1000000.  ,\n",
       "       1000000.  , 1000000.  , 1000000.  , 1000000.  , 1000000.  ,\n",
       "       1000000.  , 1000000.  , 1000000.  , 1000000.  , 1000000.  ,\n",
       "       1000000.  , 1000000.  , 1000000.  , 1000000.  , 1000000.  ,\n",
       "       1000000.  , 1000000.  , 1000000.  , 1000000.  , 1000000.  ,\n",
       "       1000000.  , 1000000.  , 1000000.  , 1000000.  , 1000000.  ,\n",
       "       1000000.  , 1000000.  , 1000000.  , 1000000.  , 1000000.  ,\n",
       "       1000000.  , 1000000.  , 1000000.  , 1000000.  , 1000000.  ,\n",
       "       1000000.  , 1000000.  , 1000000.  , 1000000.  , 1000000.  ,\n",
       "       1000000.  , 1000000.  , 1000000.  , 1000000.  , 1000000.  ,\n",
       "       1000000.  , 1000000.  , 1000000.  , 1000000.  , 1000000.  ,\n",
       "       1000000.  , 1000000.  , 1000000.  , 1000000.  , 1000000.  ,\n",
       "       1000000.  , 1000000.  , 1000000.  , 1000000.  , 1000000.  ,\n",
       "       1000000.  , 1000000.  , 1000000.  , 1000000.  , 1000000.  ,\n",
       "       1000000.  , 1000000.  , 1000000.  , 1000000.  , 1000000.  ,\n",
       "       1000000.  , 1000000.  , 1000000.  , 1000000.  , 1000000.  ,\n",
       "       1000000.  , 1000000.  , 1000000.  , 1000000.  , 1000000.  ,\n",
       "       1000000.  , 1000000.  , 1000000.  , 1000000.  , 1000000.  ,\n",
       "       1000000.  , 1000000.  , 1000000.  , 1000000.  , 1000000.  ,\n",
       "       1000000.  , 1000000.  , 1000000.  , 1000000.  , 1000000.  ,\n",
       "       1000000.  , 1000000.  , 1000000.  , 1000000.  , 1000000.  ,\n",
       "       1000000.  , 1000000.  , 1000000.  , 1000000.  , 1000000.  ,\n",
       "       1000000.  , 1004146.79, 1006211.34, 1007433.59, 1002560.82,\n",
       "       1005176.12, 1006251.1 , 1007850.33, 1008069.74, 1006921.13,\n",
       "       1009224.24, 1009752.9 , 1017850.62, 1019178.89, 1022449.49,\n",
       "       1021152.15, 1018501.5 , 1020309.83, 1019012.49, 1018205.51,\n",
       "       1018744.48, 1019043.41, 1023808.68, 1023795.43, 1022705.72,\n",
       "       1024832.13, 1022283.09, 1023936.8 , 1024807.09, 1023680.57,\n",
       "       1022539.32, 1018533.9 , 1013562.47, 1017034.81, 1015724.22,\n",
       "       1017852.09, 1014546.15, 1006337.99, 1011926.43, 1011413.97,\n",
       "       1013815.75, 1013465.28, 1014010.13, 1018257.05, 1016329.45,\n",
       "       1017762.27, 1017762.27, 1017762.27, 1017833.4 , 1018295.09,\n",
       "       1016267.27, 1015953.01, 1013711.81, 1013711.81, 1013711.81,\n",
       "       1013711.81, 1013711.81, 1013711.81, 1013711.81, 1013711.81,\n",
       "       1013711.81, 1013711.81, 1013711.81, 1013711.81, 1013711.81,\n",
       "       1013711.81, 1013711.81, 1013711.81, 1013711.81, 1013711.81,\n",
       "       1013711.81, 1013711.81, 1013711.81, 1013711.81, 1013711.81,\n",
       "       1013711.81, 1013711.81, 1013711.81, 1013711.81, 1013711.81,\n",
       "       1013711.81, 1013711.81, 1013711.81, 1013711.81, 1013711.81,\n",
       "       1013711.81, 1013711.81, 1013711.81, 1013711.81, 1013711.81,\n",
       "       1013711.81, 1013711.81, 1013711.81, 1013711.81, 1013711.81,\n",
       "       1013711.81, 1013711.81, 1013711.81, 1013711.81, 1013711.81,\n",
       "       1013711.81, 1013711.81, 1013711.81, 1013711.81, 1013711.81,\n",
       "       1013711.81, 1013711.81, 1013711.81, 1013711.81, 1013711.81,\n",
       "       1013711.81, 1013711.81, 1013711.81, 1013711.81, 1013711.81,\n",
       "       1013711.81, 1013711.81, 1013711.81, 1013711.81, 1013711.81,\n",
       "       1013711.81, 1013711.81, 1013711.81, 1013711.81, 1013711.81,\n",
       "       1013711.81, 1013711.81, 1013711.81, 1013711.81, 1013711.81,\n",
       "       1013711.81, 1013711.81, 1013711.81, 1013711.81, 1013711.81,\n",
       "       1013711.81, 1013711.81, 1013711.81, 1013711.81, 1013711.81,\n",
       "       1013711.81, 1013711.81, 1013711.81, 1013711.81, 1013711.81,\n",
       "       1013711.81, 1013711.81, 1013711.81, 1013711.81, 1013711.81,\n",
       "       1013711.81, 1013711.81, 1013711.81, 1013711.81, 1013711.81,\n",
       "       1013711.81, 1013711.81, 1013711.81, 1013711.81, 1013711.81,\n",
       "       1013711.81, 1013711.81, 1013711.81, 1013711.81, 1013711.81,\n",
       "       1013711.81, 1013711.81, 1013711.81, 1013711.81, 1013711.81,\n",
       "       1013711.81, 1013711.81, 1013711.81, 1013711.81, 1013711.81,\n",
       "       1013711.81, 1013711.81, 1013711.81, 1013711.81, 1013711.81,\n",
       "       1013711.81, 1013711.81, 1013711.81, 1013711.81, 1013711.81,\n",
       "       1013711.81, 1013711.81, 1013711.81, 1013711.81, 1013711.81,\n",
       "       1013711.81, 1013711.81, 1013711.81, 1013711.81, 1013711.81,\n",
       "       1013711.81, 1013711.81, 1013711.81, 1013711.81, 1013711.81,\n",
       "       1013711.81, 1013711.81, 1013711.81, 1013711.81, 1013711.81,\n",
       "       1013711.81, 1012150.83, 1009686.46, 1010758.86, 1008509.58,\n",
       "       1008558.75, 1008558.75, 1008558.75, 1008558.75, 1008558.75,\n",
       "       1008558.75, 1008558.75, 1008558.75, 1008558.75, 1008558.75,\n",
       "       1008558.75, 1008558.75, 1008558.75, 1008558.75, 1008558.75,\n",
       "       1008558.75, 1008558.75, 1008558.75, 1008558.75, 1008558.75,\n",
       "       1008558.75, 1008558.75, 1008558.75, 1008558.75, 1008558.75,\n",
       "       1008558.75, 1008558.75, 1008558.75, 1008558.75, 1008558.75,\n",
       "       1008558.75, 1008558.75, 1008558.75, 1008558.75, 1008558.75,\n",
       "       1008558.75, 1008558.75, 1008558.75, 1008558.75, 1009070.87,\n",
       "       1002132.03, 1012054.81, 1014227.63, 1014970.66, 1012901.44,\n",
       "       1016137.  , 1024351.7 , 1022699.88, 1026391.32, 1027693.83,\n",
       "       1021882.85, 1018978.84, 1018111.49, 1018232.86, 1010879.59,\n",
       "       1010189.85, 1009550.43, 1004935.39, 1011329.54, 1006880.28,\n",
       "       1007869.01, 1007309.52, 1005832.35, 1006699.71, 1006027.73,\n",
       "       1004698.57, 1005406.07, 1004722.26, 1004233.81, 1003336.86,\n",
       "       1003443.43, 1001146.27,  998641.89,  998638.93,  998638.93,\n",
       "        998638.93,  998638.93,  998638.93,  998638.93,  998638.93,\n",
       "        998638.93,  998638.93,  998638.93,  998638.93,  998638.93,\n",
       "        998638.93,  998638.93,  998638.93,  998638.93,  998638.93,\n",
       "        998638.93,  998638.93,  998638.93,  998638.93,  996808.31,\n",
       "        998673.67,  997585.99,  998072.37, 1001092.24,  993048.18,\n",
       "        994948.29,  994288.19,  993219.22,  993537.24,  993278.01,\n",
       "        991434.02,  990351.68,  989100.98,  993443.7 ,  993777.76,\n",
       "        993096.28,  991051.86,  991730.66,  991083.93,  990282.2 ,\n",
       "        990669.7 ,  989750.38,  989854.61,  991717.3 ,  992708.78,\n",
       "        991781.44,  990902.21,  990888.84,  990621.6 ,  989255.98,\n",
       "        989817.19,  990290.22,  989798.49,  989806.5 ,  989806.5 ,\n",
       "        989806.5 ,  989806.5 ,  989806.5 ,  989806.5 ,  989806.5 ,\n",
       "        989806.5 ,  989806.5 ,  989806.5 ,  989806.5 ,  989806.5 ,\n",
       "        989806.5 ,  989806.5 ,  989806.5 ,  989806.5 ,  989806.5 ,\n",
       "        989806.5 ,  989806.5 ,  989806.5 ,  989806.5 ,  989806.5 ,\n",
       "        989806.5 ,  989806.5 ,  989806.5 ,  989806.5 ,  989806.5 ,\n",
       "        989806.5 ,  989806.5 ,  989806.5 ,  989806.5 ,  989806.5 ,\n",
       "        989806.5 ,  989806.5 ,  989806.5 ,  989806.5 ,  989806.5 ,\n",
       "        989806.5 ,  989806.5 ,  989806.5 ,  989806.5 ,  989806.5 ,\n",
       "        989806.5 ,  989806.5 ,  989806.5 ,  989806.5 ,  989806.5 ,\n",
       "        989806.5 ,  989806.5 ,  989806.5 ,  989806.5 ,  989806.5 ,\n",
       "        989806.5 ,  989806.5 ,  989806.5 ,  989806.5 ,  989806.5 ,\n",
       "        989806.5 ,  989806.5 ,  987362.42,  987619.53,  987446.06,\n",
       "        985891.02,  986603.49,  987185.85,  987161.07,  986163.61,\n",
       "        987830.17,  986702.61,  986290.62,  986237.96,  988084.19,\n",
       "        988688.24,  989815.8 ,  987464.65,  986284.43,  984639.55,\n",
       "        986560.12,  986820.33,  990410.55,  986845.11,  984859.49,\n",
       "        984995.78,  983453.13,  981693.64,  981095.79,  980590.86,\n",
       "        979134.94,  979122.55,  979122.55,  979122.55,  979122.55,\n",
       "        979122.55,  979122.55,  979122.55,  979122.55,  979122.55,\n",
       "        979122.55,  979122.55,  979122.55,  979122.55,  979122.55,\n",
       "        979122.55,  979122.55,  979122.55,  979122.55,  979122.55,\n",
       "        979122.55,  979122.55,  979122.55,  979122.55,  979122.55,\n",
       "        979122.55,  979122.55,  979122.55,  979122.55,  979122.55,\n",
       "        979122.55,  979122.55,  979122.55,  979122.55,  979122.55,\n",
       "        979122.55,  979122.55,  979122.55,  979122.55,  979122.55,\n",
       "        979122.55,  979122.55,  979122.55,  979122.55,  979122.55,\n",
       "        979122.55,  979122.55,  979122.55,  979122.55,  979122.55,\n",
       "        979122.55,  979122.55,  979122.55,  979122.55,  979122.55,\n",
       "        979122.55,  979122.55,  979122.55,  979122.55,  979122.55,\n",
       "        979122.55,  979122.55,  979122.55,  979122.55,  979122.55,\n",
       "        979122.55,  979122.55,  979122.55,  979122.55,  979122.55,\n",
       "        979122.55,  979122.55,  979122.55,  979122.55,  979122.55,\n",
       "        979122.55,  979122.55,  979122.55,  979122.55,  979122.55,\n",
       "        979122.55,  979122.55,  979122.55,  979122.55,  979122.55,\n",
       "        979122.55,  979122.55,  979122.55,  979122.55,  979122.55,\n",
       "        979122.55,  982892.96,  982628.04,  983063.27,  980816.16,\n",
       "        979330.71,  973379.43,  976572.68,  978540.67,  981748.12,\n",
       "        981279.77,  980731.01,  984397.34,  981393.31,  983209.92,\n",
       "        981672.43,  983276.15,  983758.69,  983626.22,  985069.1 ,\n",
       "        985736.14,  987604.78,  986866.79,  984662.26,  983583.65,\n",
       "        984666.99,  987022.9 ,  985826.02,  984473.03,  985035.99,\n",
       "        984051.99,  983460.65,  981994.12,  981606.2 ,  982178.62,\n",
       "        984042.53,  983541.07,  980357.28,  973157.08,  972452.2 ,\n",
       "        974538.46,  976965.33,  976965.33,  976965.33,  976965.33,\n",
       "        976965.33,  976965.33,  976965.33,  976965.33,  976965.33,\n",
       "        976965.33,  976965.33,  976965.33,  976965.33,  976965.33,\n",
       "        976965.33,  976965.33,  976965.33,  976965.33,  976965.33,\n",
       "        976965.33,  977602.46,  977015.04,  976771.03,  974660.85,\n",
       "        972247.92,  973106.45,  970869.75,  971859.32,  972383.48,\n",
       "        971100.2 ,  971104.72,  971104.72,  971104.72,  971104.72,\n",
       "        971104.72,  971104.72,  971104.72,  971104.72,  971104.72,\n",
       "        971104.72,  971104.72,  971104.72,  971104.72,  971104.72,\n",
       "        971104.72,  971104.72,  971104.72,  971104.72,  971104.72,\n",
       "        971104.72,  971104.72,  971104.72,  971104.72,  971104.72,\n",
       "        971104.72,  971104.72,  971104.72,  971104.72,  971104.72,\n",
       "        971104.72,  971104.72,  971104.72,  971104.72,  971104.72])"
      ]
     },
     "metadata": {},
     "execution_count": 35
    }
   ],
   "source": [
    "def get_cash_including_position(cerebro_run):\n",
    "    #this assumes that PositionsValue analyzer exists with parameter cash=True (this is not the default) and headers=False (this is the default)\n",
    "    pos_analysis = get_pos_analysis(cerebro_run)\n",
    "    data = []\n",
    "    for key, value in pos_analysis.items():\n",
    "        data.append(sum(value))\n",
    "    return np.round_(np.array(data),2)\n",
    "result = get_cash_including_position(back)\n",
    "result"
   ]
  },
  {
   "cell_type": "code",
   "execution_count": 36,
   "metadata": {},
   "outputs": [
    {
     "output_type": "stream",
     "name": "stdout",
     "text": [
      "[ 0.    0.    0.    0.    0.    0.    0.    0.    0.    0.    0.    0.\n  0.    0.    0.    0.    0.    0.    0.    0.    0.    0.    0.    0.\n  0.    0.    0.    0.    0.    0.    0.    0.    0.    0.    0.    0.\n  0.    0.    0.    0.    0.    0.    0.    0.    0.    0.    0.    0.\n  0.    0.    0.    0.    0.    0.    0.    0.    0.    0.    0.    0.\n  0.    0.    0.    0.    0.    0.    0.    0.    0.    0.    0.    0.\n  0.    0.    0.    0.    0.    0.    0.    0.    0.    0.    0.    0.\n  0.    0.    0.    0.    0.    0.    0.    0.    0.    0.    0.    0.\n  0.    0.    0.    0.    0.    0.    0.    0.    0.    0.    0.    0.\n  0.    0.    0.    0.41  0.62  0.74  0.26  0.52  0.63  0.79  0.81  0.69\n  0.92  0.98  1.79  1.92  2.24  2.12  1.85  2.03  1.9   1.82  1.87  1.9\n  2.38  2.38  2.27  2.48  2.23  2.39  2.48  2.37  2.25  1.85  1.36  1.7\n  1.57  1.79  1.45  0.63  1.19  1.14  1.38  1.35  1.4   1.83  1.63  1.78\n  1.78  1.78  1.78  1.83  1.63  1.6   1.37  1.37  1.37  1.37  1.37  1.37\n  1.37  1.37  1.37  1.37  1.37  1.37  1.37  1.37  1.37  1.37  1.37  1.37\n  1.37  1.37  1.37  1.37  1.37  1.37  1.37  1.37  1.37  1.37  1.37  1.37\n  1.37  1.37  1.37  1.37  1.37  1.37  1.37  1.37  1.37  1.37  1.37  1.37\n  1.37  1.37  1.37  1.37  1.37  1.37  1.37  1.37  1.37  1.37  1.37  1.37\n  1.37  1.37  1.37  1.37  1.37  1.37  1.37  1.37  1.37  1.37  1.37  1.37\n  1.37  1.37  1.37  1.37  1.37  1.37  1.37  1.37  1.37  1.37  1.37  1.37\n  1.37  1.37  1.37  1.37  1.37  1.37  1.37  1.37  1.37  1.37  1.37  1.37\n  1.37  1.37  1.37  1.37  1.37  1.37  1.37  1.37  1.37  1.37  1.37  1.37\n  1.37  1.37  1.37  1.37  1.37  1.37  1.37  1.37  1.37  1.37  1.37  1.37\n  1.37  1.37  1.37  1.37  1.37  1.37  1.37  1.37  1.37  1.37  1.37  1.37\n  1.37  1.37  1.37  1.37  1.37  1.37  1.37  1.37  1.37  1.37  1.37  1.37\n  1.37  1.37  1.37  1.37  1.37  1.37  1.37  1.37  1.37  1.37  1.37  1.37\n  1.37  1.37  1.37  1.37  1.22  0.97  1.08  0.85  0.86  0.86  0.86  0.86\n  0.86  0.86  0.86  0.86  0.86  0.86  0.86  0.86  0.86  0.86  0.86  0.86\n  0.86  0.86  0.86  0.86  0.86  0.86  0.86  0.86  0.86  0.86  0.86  0.86\n  0.86  0.86  0.86  0.86  0.86  0.86  0.86  0.86  0.86  0.86  0.86  0.91\n  0.21  1.21  1.42  1.5   1.29  1.61  2.44  2.27  2.64  2.77  2.19  1.9\n  1.81  1.82  1.09  1.02  0.96  0.49  1.13  0.69  0.79  0.73  0.58  0.67\n  0.6   0.47  0.54  0.47  0.42  0.33  0.34  0.11 -0.14 -0.14 -0.14 -0.14\n -0.14 -0.14 -0.14 -0.14 -0.14 -0.14 -0.14 -0.14 -0.14 -0.14 -0.14 -0.14\n -0.14 -0.14 -0.14 -0.14 -0.14 -0.14 -0.32 -0.13 -0.24 -0.19  0.11 -0.7\n -0.51 -0.57 -0.68 -0.65 -0.67 -0.86 -0.96 -1.09 -0.66 -0.62 -0.69 -0.89\n -0.83 -0.89 -0.97 -0.93 -1.02 -1.01 -0.83 -0.73 -0.82 -0.91 -0.91 -0.94\n -1.07 -1.02 -0.97 -1.02 -1.02 -1.02 -1.02 -1.02 -1.02 -1.02 -1.02 -1.02\n -1.02 -1.02 -1.02 -1.02 -1.02 -1.02 -1.02 -1.02 -1.02 -1.02 -1.02 -1.02\n -1.02 -1.02 -1.02 -1.02 -1.02 -1.02 -1.02 -1.02 -1.02 -1.02 -1.02 -1.02\n -1.02 -1.02 -1.02 -1.02 -1.02 -1.02 -1.02 -1.02 -1.02 -1.02 -1.02 -1.02\n -1.02 -1.02 -1.02 -1.02 -1.02 -1.02 -1.02 -1.02 -1.02 -1.02 -1.02 -1.02\n -1.02 -1.02 -1.02 -1.26 -1.24 -1.26 -1.41 -1.34 -1.28 -1.28 -1.38 -1.22\n -1.33 -1.37 -1.38 -1.19 -1.13 -1.02 -1.25 -1.37 -1.54 -1.34 -1.32 -0.96\n -1.32 -1.51 -1.5  -1.65 -1.83 -1.89 -1.94 -2.09 -2.09 -2.09 -2.09 -2.09\n -2.09 -2.09 -2.09 -2.09 -2.09 -2.09 -2.09 -2.09 -2.09 -2.09 -2.09 -2.09\n -2.09 -2.09 -2.09 -2.09 -2.09 -2.09 -2.09 -2.09 -2.09 -2.09 -2.09 -2.09\n -2.09 -2.09 -2.09 -2.09 -2.09 -2.09 -2.09 -2.09 -2.09 -2.09 -2.09 -2.09\n -2.09 -2.09 -2.09 -2.09 -2.09 -2.09 -2.09 -2.09 -2.09 -2.09 -2.09 -2.09\n -2.09 -2.09 -2.09 -2.09 -2.09 -2.09 -2.09 -2.09 -2.09 -2.09 -2.09 -2.09\n -2.09 -2.09 -2.09 -2.09 -2.09 -2.09 -2.09 -2.09 -2.09 -2.09 -2.09 -2.09\n -2.09 -2.09 -2.09 -2.09 -2.09 -2.09 -2.09 -2.09 -2.09 -2.09 -2.09 -2.09\n -2.09 -2.09 -1.71 -1.74 -1.69 -1.92 -2.07 -2.66 -2.34 -2.15 -1.83 -1.87\n -1.93 -1.56 -1.86 -1.68 -1.83 -1.67 -1.62 -1.64 -1.49 -1.43 -1.24 -1.31\n -1.53 -1.64 -1.53 -1.3  -1.42 -1.55 -1.5  -1.59 -1.65 -1.8  -1.84 -1.78\n -1.6  -1.65 -1.96 -2.68 -2.75 -2.55 -2.3  -2.3  -2.3  -2.3  -2.3  -2.3\n -2.3  -2.3  -2.3  -2.3  -2.3  -2.3  -2.3  -2.3  -2.3  -2.3  -2.3  -2.3\n -2.3  -2.3  -2.24 -2.3  -2.32 -2.53 -2.78 -2.69 -2.91 -2.81 -2.76 -2.89\n -2.89 -2.89 -2.89 -2.89 -2.89 -2.89 -2.89 -2.89 -2.89 -2.89 -2.89 -2.89\n -2.89 -2.89 -2.89 -2.89 -2.89 -2.89 -2.89 -2.89 -2.89 -2.89 -2.89 -2.89\n -2.89 -2.89 -2.89 -2.89 -2.89 -2.89 -2.89 -2.89 -2.89 -2.89]\n"
     ]
    }
   ],
   "source": [
    "def get_percent_cash_change(cerebro_run):\n",
    "    cash_vals = get_cash_including_position(cerebro_run)\n",
    "    start_val = cash_vals[0]\n",
    "    return np.round((cash_vals / start_val - 1) * 100,2)\n",
    "result = get_percent_cash_change(back)\n",
    "print(result)"
   ]
  },
  {
   "cell_type": "code",
   "execution_count": 37,
   "metadata": {},
   "outputs": [
    {
     "output_type": "execute_result",
     "data": {
      "text/plain": [
       "array([ 0.  ,  0.  ,  0.  ,  0.  ,  0.  ,  0.  ,  0.  ,  0.  ,  0.  ,\n",
       "        0.  ,  0.  ,  0.  ,  0.  ,  0.  ,  0.  ,  0.  ,  0.  ,  0.  ,\n",
       "        0.  ,  0.  ,  0.  ,  0.  ,  0.  ,  0.  ,  0.  ,  0.  ,  0.  ,\n",
       "        0.  ,  0.  ,  0.  ,  0.  ,  0.  ,  0.  ,  0.  ,  0.  ,  0.  ,\n",
       "        0.  ,  0.  ,  0.  ,  0.  ,  0.  ,  0.  ,  0.  ,  0.  ,  0.  ,\n",
       "        0.  ,  0.  ,  0.  ,  0.  ,  0.  ,  0.  ,  0.  ,  0.  ,  0.  ,\n",
       "        0.  ,  0.  ,  0.  ,  0.  ,  0.  ,  0.  ,  0.  ,  0.  ,  0.  ,\n",
       "        0.  ,  0.  ,  0.  ,  0.  ,  0.  ,  0.  ,  0.  ,  0.  ,  0.  ,\n",
       "        0.  ,  0.  ,  0.  ,  0.  ,  0.  ,  0.  ,  0.  ,  0.  ,  0.  ,\n",
       "        0.  ,  0.  ,  0.  ,  0.  ,  0.  ,  0.  ,  0.  ,  0.  ,  0.  ,\n",
       "        0.  ,  0.  ,  0.  ,  0.  ,  0.  ,  0.  ,  0.  ,  0.  ,  0.  ,\n",
       "        0.  ,  0.  ,  0.  ,  0.  ,  0.  ,  0.  ,  0.  ,  0.  ,  0.  ,\n",
       "        0.  ,  0.  ,  0.  ,  0.41,  0.62,  0.74,  0.26,  0.52,  0.63,\n",
       "        0.79,  0.81,  0.69,  0.92,  0.98,  1.79,  1.92,  2.24,  2.12,\n",
       "        1.85,  2.03,  1.9 ,  1.82,  1.87,  1.9 ,  2.38,  2.38,  2.27,\n",
       "        2.48,  2.23,  2.39,  2.48,  2.37,  2.25,  1.85,  1.36,  1.7 ,\n",
       "        1.57,  1.79,  1.45,  0.63,  1.19,  1.14,  1.38,  1.35,  1.4 ,\n",
       "        1.83,  1.63,  1.78,  1.78,  1.78,  1.78,  1.83,  1.63,  1.6 ,\n",
       "        1.37,  1.37,  1.37,  1.37,  1.37,  1.37,  1.37,  1.37,  1.37,\n",
       "        1.37,  1.37,  1.37,  1.37,  1.37,  1.37,  1.37,  1.37,  1.37,\n",
       "        1.37,  1.37,  1.37,  1.37,  1.37,  1.37,  1.37,  1.37,  1.37,\n",
       "        1.37,  1.37,  1.37,  1.37,  1.37,  1.37,  1.37,  1.37,  1.37,\n",
       "        1.37,  1.37,  1.37,  1.37,  1.37,  1.37,  1.37,  1.37,  1.37,\n",
       "        1.37,  1.37,  1.37,  1.37,  1.37,  1.37,  1.37,  1.37,  1.37,\n",
       "        1.37,  1.37,  1.37,  1.37,  1.37,  1.37,  1.37,  1.37,  1.37,\n",
       "        1.37,  1.37,  1.37,  1.37,  1.37,  1.37,  1.37,  1.37,  1.37,\n",
       "        1.37,  1.37,  1.37,  1.37,  1.37,  1.37,  1.37,  1.37,  1.37,\n",
       "        1.37,  1.37,  1.37,  1.37,  1.37,  1.37,  1.37,  1.37,  1.37,\n",
       "        1.37,  1.37,  1.37,  1.37,  1.37,  1.37,  1.37,  1.37,  1.37,\n",
       "        1.37,  1.37,  1.37,  1.37,  1.37,  1.37,  1.37,  1.37,  1.37,\n",
       "        1.37,  1.37,  1.37,  1.37,  1.37,  1.37,  1.37,  1.37,  1.37,\n",
       "        1.37,  1.37,  1.37,  1.37,  1.37,  1.37,  1.37,  1.37,  1.37,\n",
       "        1.37,  1.37,  1.37,  1.37,  1.37,  1.37,  1.37,  1.37,  1.37,\n",
       "        1.37,  1.37,  1.37,  1.37,  1.37,  1.37,  1.37,  1.37,  1.37,\n",
       "        1.37,  1.37,  1.37,  1.37,  1.37,  1.37,  1.37,  1.37,  1.37,\n",
       "        1.37,  1.22,  0.97,  1.08,  0.85,  0.86,  0.86,  0.86,  0.86,\n",
       "        0.86,  0.86,  0.86,  0.86,  0.86,  0.86,  0.86,  0.86,  0.86,\n",
       "        0.86,  0.86,  0.86,  0.86,  0.86,  0.86,  0.86,  0.86,  0.86,\n",
       "        0.86,  0.86,  0.86,  0.86,  0.86,  0.86,  0.86,  0.86,  0.86,\n",
       "        0.86,  0.86,  0.86,  0.86,  0.86,  0.86,  0.86,  0.86,  0.91,\n",
       "        0.21,  1.21,  1.42,  1.5 ,  1.29,  1.61,  2.44,  2.27,  2.64,\n",
       "        2.77,  2.19,  1.9 ,  1.81,  1.82,  1.09,  1.02,  0.96,  0.49,\n",
       "        1.13,  0.69,  0.79,  0.73,  0.58,  0.67,  0.6 ,  0.47,  0.54,\n",
       "        0.47,  0.42,  0.33,  0.34,  0.11, -0.14, -0.14, -0.14, -0.14,\n",
       "       -0.14, -0.14, -0.14, -0.14, -0.14, -0.14, -0.14, -0.14, -0.14,\n",
       "       -0.14, -0.14, -0.14, -0.14, -0.14, -0.14, -0.14, -0.14, -0.14,\n",
       "       -0.32, -0.13, -0.24, -0.19,  0.11, -0.7 , -0.51, -0.57, -0.68,\n",
       "       -0.65, -0.67, -0.86, -0.96, -1.09, -0.66, -0.62, -0.69, -0.89,\n",
       "       -0.83, -0.89, -0.97, -0.93, -1.02, -1.01, -0.83, -0.73, -0.82,\n",
       "       -0.91, -0.91, -0.94, -1.07, -1.02, -0.97, -1.02, -1.02, -1.02,\n",
       "       -1.02, -1.02, -1.02, -1.02, -1.02, -1.02, -1.02, -1.02, -1.02,\n",
       "       -1.02, -1.02, -1.02, -1.02, -1.02, -1.02, -1.02, -1.02, -1.02,\n",
       "       -1.02, -1.02, -1.02, -1.02, -1.02, -1.02, -1.02, -1.02, -1.02,\n",
       "       -1.02, -1.02, -1.02, -1.02, -1.02, -1.02, -1.02, -1.02, -1.02,\n",
       "       -1.02, -1.02, -1.02, -1.02, -1.02, -1.02, -1.02, -1.02, -1.02,\n",
       "       -1.02, -1.02, -1.02, -1.02, -1.02, -1.02, -1.02, -1.02, -1.02,\n",
       "       -1.02, -1.02, -1.02, -1.26, -1.24, -1.26, -1.41, -1.34, -1.28,\n",
       "       -1.28, -1.38, -1.22, -1.33, -1.37, -1.38, -1.19, -1.13, -1.02,\n",
       "       -1.25, -1.37, -1.54, -1.34, -1.32, -0.96, -1.32, -1.51, -1.5 ,\n",
       "       -1.65, -1.83, -1.89, -1.94, -2.09, -2.09, -2.09, -2.09, -2.09,\n",
       "       -2.09, -2.09, -2.09, -2.09, -2.09, -2.09, -2.09, -2.09, -2.09,\n",
       "       -2.09, -2.09, -2.09, -2.09, -2.09, -2.09, -2.09, -2.09, -2.09,\n",
       "       -2.09, -2.09, -2.09, -2.09, -2.09, -2.09, -2.09, -2.09, -2.09,\n",
       "       -2.09, -2.09, -2.09, -2.09, -2.09, -2.09, -2.09, -2.09, -2.09,\n",
       "       -2.09, -2.09, -2.09, -2.09, -2.09, -2.09, -2.09, -2.09, -2.09,\n",
       "       -2.09, -2.09, -2.09, -2.09, -2.09, -2.09, -2.09, -2.09, -2.09,\n",
       "       -2.09, -2.09, -2.09, -2.09, -2.09, -2.09, -2.09, -2.09, -2.09,\n",
       "       -2.09, -2.09, -2.09, -2.09, -2.09, -2.09, -2.09, -2.09, -2.09,\n",
       "       -2.09, -2.09, -2.09, -2.09, -2.09, -2.09, -2.09, -2.09, -2.09,\n",
       "       -2.09, -2.09, -2.09, -2.09, -2.09, -1.71, -1.74, -1.69, -1.92,\n",
       "       -2.07, -2.66, -2.34, -2.15, -1.83, -1.87, -1.93, -1.56, -1.86,\n",
       "       -1.68, -1.83, -1.67, -1.62, -1.64, -1.49, -1.43, -1.24, -1.31,\n",
       "       -1.53, -1.64, -1.53, -1.3 , -1.42, -1.55, -1.5 , -1.59, -1.65,\n",
       "       -1.8 , -1.84, -1.78, -1.6 , -1.65, -1.96, -2.68, -2.75, -2.55,\n",
       "       -2.3 , -2.3 , -2.3 , -2.3 , -2.3 , -2.3 , -2.3 , -2.3 , -2.3 ,\n",
       "       -2.3 , -2.3 , -2.3 , -2.3 , -2.3 , -2.3 , -2.3 , -2.3 , -2.3 ,\n",
       "       -2.3 , -2.3 , -2.24, -2.3 , -2.32, -2.53, -2.78, -2.69, -2.91,\n",
       "       -2.81, -2.76, -2.89, -2.89, -2.89, -2.89, -2.89, -2.89, -2.89,\n",
       "       -2.89, -2.89, -2.89, -2.89, -2.89, -2.89, -2.89, -2.89, -2.89,\n",
       "       -2.89, -2.89, -2.89, -2.89, -2.89, -2.89, -2.89, -2.89, -2.89,\n",
       "       -2.89, -2.89, -2.89, -2.89, -2.89, -2.89, -2.89, -2.89, -2.89,\n",
       "       -2.89])"
      ]
     },
     "metadata": {},
     "execution_count": 37
    }
   ],
   "source": [
    "result"
   ]
  },
  {
   "cell_type": "code",
   "execution_count": 38,
   "metadata": {},
   "outputs": [],
   "source": [
    "import rba_tools.backtest.rba_backtrader_set as rbs"
   ]
  },
  {
   "cell_type": "code",
   "execution_count": 39,
   "metadata": {},
   "outputs": [
    {
     "output_type": "execute_result",
     "data": {
      "text/plain": [
       "array([datetime.datetime(2018, 1, 1, 0, 0),\n",
       "       datetime.datetime(2018, 1, 2, 0, 0),\n",
       "       datetime.datetime(2018, 1, 3, 0, 0),\n",
       "       datetime.datetime(2018, 1, 4, 0, 0),\n",
       "       datetime.datetime(2018, 1, 5, 0, 0),\n",
       "       datetime.datetime(2018, 1, 6, 0, 0),\n",
       "       datetime.datetime(2018, 1, 7, 0, 0),\n",
       "       datetime.datetime(2018, 1, 8, 0, 0),\n",
       "       datetime.datetime(2018, 1, 9, 0, 0),\n",
       "       datetime.datetime(2018, 1, 10, 0, 0)], dtype=object)"
      ]
     },
     "metadata": {},
     "execution_count": 39
    }
   ],
   "source": [
    "rbs.get_datetime_array(back)[0:10]"
   ]
  },
  {
   "cell_type": "code",
   "execution_count": 40,
   "metadata": {},
   "outputs": [
    {
     "output_type": "error",
     "ename": "ValueError",
     "evalue": "could not broadcast input array from shape (1460) into shape (730)",
     "traceback": [
      "\u001b[1;31m---------------------------------------------------------------------------\u001b[0m",
      "\u001b[1;31mValueError\u001b[0m                                Traceback (most recent call last)",
      "\u001b[1;32m<ipython-input-40-9d3743678fa7>\u001b[0m in \u001b[0;36m<module>\u001b[1;34m\u001b[0m\n\u001b[0;32m      7\u001b[0m             }\n\u001b[0;32m      8\u001b[0m     \u001b[1;32mreturn\u001b[0m \u001b[0mpd\u001b[0m\u001b[1;33m.\u001b[0m\u001b[0mDataFrame\u001b[0m\u001b[1;33m(\u001b[0m\u001b[0mdata\u001b[0m\u001b[1;33m=\u001b[0m\u001b[0mdata\u001b[0m\u001b[1;33m,\u001b[0m \u001b[0mindex\u001b[0m\u001b[1;33m=\u001b[0m\u001b[0mindex\u001b[0m\u001b[1;33m)\u001b[0m\u001b[1;33m\u001b[0m\u001b[1;33m\u001b[0m\u001b[0m\n\u001b[1;32m----> 9\u001b[1;33m \u001b[0msummarize_cerebro_run\u001b[0m\u001b[1;33m(\u001b[0m\u001b[0mback\u001b[0m\u001b[1;33m)\u001b[0m\u001b[1;33m\u001b[0m\u001b[1;33m\u001b[0m\u001b[0m\n\u001b[0m",
      "\u001b[1;32m<ipython-input-40-9d3743678fa7>\u001b[0m in \u001b[0;36msummarize_cerebro_run\u001b[1;34m(cerebro_run)\u001b[0m\n\u001b[0;32m      6\u001b[0m              \u001b[1;34m'trades'\u001b[0m \u001b[1;33m:\u001b[0m \u001b[0mrbs\u001b[0m\u001b[1;33m.\u001b[0m\u001b[0mget_trades_from_cerebro_run\u001b[0m\u001b[1;33m(\u001b[0m\u001b[0mcerebro_run\u001b[0m\u001b[1;33m)\u001b[0m\u001b[1;33m\u001b[0m\u001b[1;33m\u001b[0m\u001b[0m\n\u001b[0;32m      7\u001b[0m             }\n\u001b[1;32m----> 8\u001b[1;33m     \u001b[1;32mreturn\u001b[0m \u001b[0mpd\u001b[0m\u001b[1;33m.\u001b[0m\u001b[0mDataFrame\u001b[0m\u001b[1;33m(\u001b[0m\u001b[0mdata\u001b[0m\u001b[1;33m=\u001b[0m\u001b[0mdata\u001b[0m\u001b[1;33m,\u001b[0m \u001b[0mindex\u001b[0m\u001b[1;33m=\u001b[0m\u001b[0mindex\u001b[0m\u001b[1;33m)\u001b[0m\u001b[1;33m\u001b[0m\u001b[1;33m\u001b[0m\u001b[0m\n\u001b[0m\u001b[0;32m      9\u001b[0m \u001b[0msummarize_cerebro_run\u001b[0m\u001b[1;33m(\u001b[0m\u001b[0mback\u001b[0m\u001b[1;33m)\u001b[0m\u001b[1;33m\u001b[0m\u001b[1;33m\u001b[0m\u001b[0m\n",
      "\u001b[1;32m~\\AppData\\Local\\Programs\\Python\\Python39\\lib\\site-packages\\pandas\\core\\frame.py\u001b[0m in \u001b[0;36m__init__\u001b[1;34m(self, data, index, columns, dtype, copy)\u001b[0m\n\u001b[0;32m    527\u001b[0m \u001b[1;33m\u001b[0m\u001b[0m\n\u001b[0;32m    528\u001b[0m         \u001b[1;32melif\u001b[0m \u001b[0misinstance\u001b[0m\u001b[1;33m(\u001b[0m\u001b[0mdata\u001b[0m\u001b[1;33m,\u001b[0m \u001b[0mdict\u001b[0m\u001b[1;33m)\u001b[0m\u001b[1;33m:\u001b[0m\u001b[1;33m\u001b[0m\u001b[1;33m\u001b[0m\u001b[0m\n\u001b[1;32m--> 529\u001b[1;33m             \u001b[0mmgr\u001b[0m \u001b[1;33m=\u001b[0m \u001b[0minit_dict\u001b[0m\u001b[1;33m(\u001b[0m\u001b[0mdata\u001b[0m\u001b[1;33m,\u001b[0m \u001b[0mindex\u001b[0m\u001b[1;33m,\u001b[0m \u001b[0mcolumns\u001b[0m\u001b[1;33m,\u001b[0m \u001b[0mdtype\u001b[0m\u001b[1;33m=\u001b[0m\u001b[0mdtype\u001b[0m\u001b[1;33m)\u001b[0m\u001b[1;33m\u001b[0m\u001b[1;33m\u001b[0m\u001b[0m\n\u001b[0m\u001b[0;32m    530\u001b[0m         \u001b[1;32melif\u001b[0m \u001b[0misinstance\u001b[0m\u001b[1;33m(\u001b[0m\u001b[0mdata\u001b[0m\u001b[1;33m,\u001b[0m \u001b[0mma\u001b[0m\u001b[1;33m.\u001b[0m\u001b[0mMaskedArray\u001b[0m\u001b[1;33m)\u001b[0m\u001b[1;33m:\u001b[0m\u001b[1;33m\u001b[0m\u001b[1;33m\u001b[0m\u001b[0m\n\u001b[0;32m    531\u001b[0m             \u001b[1;32mimport\u001b[0m \u001b[0mnumpy\u001b[0m\u001b[1;33m.\u001b[0m\u001b[0mma\u001b[0m\u001b[1;33m.\u001b[0m\u001b[0mmrecords\u001b[0m \u001b[1;32mas\u001b[0m \u001b[0mmrecords\u001b[0m\u001b[1;33m\u001b[0m\u001b[1;33m\u001b[0m\u001b[0m\n",
      "\u001b[1;32m~\\AppData\\Local\\Programs\\Python\\Python39\\lib\\site-packages\\pandas\\core\\internals\\construction.py\u001b[0m in \u001b[0;36minit_dict\u001b[1;34m(data, index, columns, dtype)\u001b[0m\n\u001b[0;32m    285\u001b[0m             \u001b[0marr\u001b[0m \u001b[1;32mif\u001b[0m \u001b[1;32mnot\u001b[0m \u001b[0mis_datetime64tz_dtype\u001b[0m\u001b[1;33m(\u001b[0m\u001b[0marr\u001b[0m\u001b[1;33m)\u001b[0m \u001b[1;32melse\u001b[0m \u001b[0marr\u001b[0m\u001b[1;33m.\u001b[0m\u001b[0mcopy\u001b[0m\u001b[1;33m(\u001b[0m\u001b[1;33m)\u001b[0m \u001b[1;32mfor\u001b[0m \u001b[0marr\u001b[0m \u001b[1;32min\u001b[0m \u001b[0marrays\u001b[0m\u001b[1;33m\u001b[0m\u001b[1;33m\u001b[0m\u001b[0m\n\u001b[0;32m    286\u001b[0m         ]\n\u001b[1;32m--> 287\u001b[1;33m     \u001b[1;32mreturn\u001b[0m \u001b[0marrays_to_mgr\u001b[0m\u001b[1;33m(\u001b[0m\u001b[0marrays\u001b[0m\u001b[1;33m,\u001b[0m \u001b[0mdata_names\u001b[0m\u001b[1;33m,\u001b[0m \u001b[0mindex\u001b[0m\u001b[1;33m,\u001b[0m \u001b[0mcolumns\u001b[0m\u001b[1;33m,\u001b[0m \u001b[0mdtype\u001b[0m\u001b[1;33m=\u001b[0m\u001b[0mdtype\u001b[0m\u001b[1;33m)\u001b[0m\u001b[1;33m\u001b[0m\u001b[1;33m\u001b[0m\u001b[0m\n\u001b[0m\u001b[0;32m    288\u001b[0m \u001b[1;33m\u001b[0m\u001b[0m\n\u001b[0;32m    289\u001b[0m \u001b[1;33m\u001b[0m\u001b[0m\n",
      "\u001b[1;32m~\\AppData\\Local\\Programs\\Python\\Python39\\lib\\site-packages\\pandas\\core\\internals\\construction.py\u001b[0m in \u001b[0;36marrays_to_mgr\u001b[1;34m(arrays, arr_names, index, columns, dtype, verify_integrity)\u001b[0m\n\u001b[0;32m     93\u001b[0m     \u001b[0maxes\u001b[0m \u001b[1;33m=\u001b[0m \u001b[1;33m[\u001b[0m\u001b[0mcolumns\u001b[0m\u001b[1;33m,\u001b[0m \u001b[0mindex\u001b[0m\u001b[1;33m]\u001b[0m\u001b[1;33m\u001b[0m\u001b[1;33m\u001b[0m\u001b[0m\n\u001b[0;32m     94\u001b[0m \u001b[1;33m\u001b[0m\u001b[0m\n\u001b[1;32m---> 95\u001b[1;33m     \u001b[1;32mreturn\u001b[0m \u001b[0mcreate_block_manager_from_arrays\u001b[0m\u001b[1;33m(\u001b[0m\u001b[0marrays\u001b[0m\u001b[1;33m,\u001b[0m \u001b[0marr_names\u001b[0m\u001b[1;33m,\u001b[0m \u001b[0maxes\u001b[0m\u001b[1;33m)\u001b[0m\u001b[1;33m\u001b[0m\u001b[1;33m\u001b[0m\u001b[0m\n\u001b[0m\u001b[0;32m     96\u001b[0m \u001b[1;33m\u001b[0m\u001b[0m\n\u001b[0;32m     97\u001b[0m \u001b[1;33m\u001b[0m\u001b[0m\n",
      "\u001b[1;32m~\\AppData\\Local\\Programs\\Python\\Python39\\lib\\site-packages\\pandas\\core\\internals\\managers.py\u001b[0m in \u001b[0;36mcreate_block_manager_from_arrays\u001b[1;34m(arrays, names, axes)\u001b[0m\n\u001b[0;32m   1704\u001b[0m         \u001b[1;32mreturn\u001b[0m \u001b[0mmgr\u001b[0m\u001b[1;33m\u001b[0m\u001b[1;33m\u001b[0m\u001b[0m\n\u001b[0;32m   1705\u001b[0m     \u001b[1;32mexcept\u001b[0m \u001b[0mValueError\u001b[0m \u001b[1;32mas\u001b[0m \u001b[0me\u001b[0m\u001b[1;33m:\u001b[0m\u001b[1;33m\u001b[0m\u001b[1;33m\u001b[0m\u001b[0m\n\u001b[1;32m-> 1706\u001b[1;33m         \u001b[1;32mraise\u001b[0m \u001b[0mconstruction_error\u001b[0m\u001b[1;33m(\u001b[0m\u001b[0mlen\u001b[0m\u001b[1;33m(\u001b[0m\u001b[0marrays\u001b[0m\u001b[1;33m)\u001b[0m\u001b[1;33m,\u001b[0m \u001b[0marrays\u001b[0m\u001b[1;33m[\u001b[0m\u001b[1;36m0\u001b[0m\u001b[1;33m]\u001b[0m\u001b[1;33m.\u001b[0m\u001b[0mshape\u001b[0m\u001b[1;33m,\u001b[0m \u001b[0maxes\u001b[0m\u001b[1;33m,\u001b[0m \u001b[0me\u001b[0m\u001b[1;33m)\u001b[0m\u001b[1;33m\u001b[0m\u001b[1;33m\u001b[0m\u001b[0m\n\u001b[0m\u001b[0;32m   1707\u001b[0m \u001b[1;33m\u001b[0m\u001b[0m\n\u001b[0;32m   1708\u001b[0m \u001b[1;33m\u001b[0m\u001b[0m\n",
      "\u001b[1;32m~\\AppData\\Local\\Programs\\Python\\Python39\\lib\\site-packages\\pandas\\core\\internals\\managers.py\u001b[0m in \u001b[0;36mcreate_block_manager_from_arrays\u001b[1;34m(arrays, names, axes)\u001b[0m\n\u001b[0;32m   1699\u001b[0m     \u001b[0marrays\u001b[0m \u001b[1;33m=\u001b[0m \u001b[1;33m[\u001b[0m\u001b[0mx\u001b[0m \u001b[1;32mif\u001b[0m \u001b[1;32mnot\u001b[0m \u001b[0misinstance\u001b[0m\u001b[1;33m(\u001b[0m\u001b[0mx\u001b[0m\u001b[1;33m,\u001b[0m \u001b[0mABCPandasArray\u001b[0m\u001b[1;33m)\u001b[0m \u001b[1;32melse\u001b[0m \u001b[0mx\u001b[0m\u001b[1;33m.\u001b[0m\u001b[0mto_numpy\u001b[0m\u001b[1;33m(\u001b[0m\u001b[1;33m)\u001b[0m \u001b[1;32mfor\u001b[0m \u001b[0mx\u001b[0m \u001b[1;32min\u001b[0m \u001b[0marrays\u001b[0m\u001b[1;33m]\u001b[0m\u001b[1;33m\u001b[0m\u001b[1;33m\u001b[0m\u001b[0m\n\u001b[0;32m   1700\u001b[0m     \u001b[1;32mtry\u001b[0m\u001b[1;33m:\u001b[0m\u001b[1;33m\u001b[0m\u001b[1;33m\u001b[0m\u001b[0m\n\u001b[1;32m-> 1701\u001b[1;33m         \u001b[0mblocks\u001b[0m \u001b[1;33m=\u001b[0m \u001b[0m_form_blocks\u001b[0m\u001b[1;33m(\u001b[0m\u001b[0marrays\u001b[0m\u001b[1;33m,\u001b[0m \u001b[0mnames\u001b[0m\u001b[1;33m,\u001b[0m \u001b[0maxes\u001b[0m\u001b[1;33m)\u001b[0m\u001b[1;33m\u001b[0m\u001b[1;33m\u001b[0m\u001b[0m\n\u001b[0m\u001b[0;32m   1702\u001b[0m         \u001b[0mmgr\u001b[0m \u001b[1;33m=\u001b[0m \u001b[0mBlockManager\u001b[0m\u001b[1;33m(\u001b[0m\u001b[0mblocks\u001b[0m\u001b[1;33m,\u001b[0m \u001b[0maxes\u001b[0m\u001b[1;33m)\u001b[0m\u001b[1;33m\u001b[0m\u001b[1;33m\u001b[0m\u001b[0m\n\u001b[0;32m   1703\u001b[0m         \u001b[0mmgr\u001b[0m\u001b[1;33m.\u001b[0m\u001b[0m_consolidate_inplace\u001b[0m\u001b[1;33m(\u001b[0m\u001b[1;33m)\u001b[0m\u001b[1;33m\u001b[0m\u001b[1;33m\u001b[0m\u001b[0m\n",
      "\u001b[1;32m~\\AppData\\Local\\Programs\\Python\\Python39\\lib\\site-packages\\pandas\\core\\internals\\managers.py\u001b[0m in \u001b[0;36m_form_blocks\u001b[1;34m(arrays, names, axes)\u001b[0m\n\u001b[0;32m   1757\u001b[0m     \u001b[0mblocks\u001b[0m\u001b[1;33m:\u001b[0m \u001b[0mList\u001b[0m\u001b[1;33m[\u001b[0m\u001b[0mBlock\u001b[0m\u001b[1;33m]\u001b[0m \u001b[1;33m=\u001b[0m \u001b[1;33m[\u001b[0m\u001b[1;33m]\u001b[0m\u001b[1;33m\u001b[0m\u001b[1;33m\u001b[0m\u001b[0m\n\u001b[0;32m   1758\u001b[0m     \u001b[1;32mif\u001b[0m \u001b[0mlen\u001b[0m\u001b[1;33m(\u001b[0m\u001b[0mitems_dict\u001b[0m\u001b[1;33m[\u001b[0m\u001b[1;34m\"FloatBlock\"\u001b[0m\u001b[1;33m]\u001b[0m\u001b[1;33m)\u001b[0m\u001b[1;33m:\u001b[0m\u001b[1;33m\u001b[0m\u001b[1;33m\u001b[0m\u001b[0m\n\u001b[1;32m-> 1759\u001b[1;33m         \u001b[0mfloat_blocks\u001b[0m \u001b[1;33m=\u001b[0m \u001b[0m_multi_blockify\u001b[0m\u001b[1;33m(\u001b[0m\u001b[0mitems_dict\u001b[0m\u001b[1;33m[\u001b[0m\u001b[1;34m\"FloatBlock\"\u001b[0m\u001b[1;33m]\u001b[0m\u001b[1;33m)\u001b[0m\u001b[1;33m\u001b[0m\u001b[1;33m\u001b[0m\u001b[0m\n\u001b[0m\u001b[0;32m   1760\u001b[0m         \u001b[0mblocks\u001b[0m\u001b[1;33m.\u001b[0m\u001b[0mextend\u001b[0m\u001b[1;33m(\u001b[0m\u001b[0mfloat_blocks\u001b[0m\u001b[1;33m)\u001b[0m\u001b[1;33m\u001b[0m\u001b[1;33m\u001b[0m\u001b[0m\n\u001b[0;32m   1761\u001b[0m \u001b[1;33m\u001b[0m\u001b[0m\n",
      "\u001b[1;32m~\\AppData\\Local\\Programs\\Python\\Python39\\lib\\site-packages\\pandas\\core\\internals\\managers.py\u001b[0m in \u001b[0;36m_multi_blockify\u001b[1;34m(tuples, dtype)\u001b[0m\n\u001b[0;32m   1850\u001b[0m     \u001b[1;32mfor\u001b[0m \u001b[0mdtype\u001b[0m\u001b[1;33m,\u001b[0m \u001b[0mtup_block\u001b[0m \u001b[1;32min\u001b[0m \u001b[0mgrouper\u001b[0m\u001b[1;33m:\u001b[0m\u001b[1;33m\u001b[0m\u001b[1;33m\u001b[0m\u001b[0m\n\u001b[0;32m   1851\u001b[0m \u001b[1;33m\u001b[0m\u001b[0m\n\u001b[1;32m-> 1852\u001b[1;33m         \u001b[0mvalues\u001b[0m\u001b[1;33m,\u001b[0m \u001b[0mplacement\u001b[0m \u001b[1;33m=\u001b[0m \u001b[0m_stack_arrays\u001b[0m\u001b[1;33m(\u001b[0m\u001b[0mlist\u001b[0m\u001b[1;33m(\u001b[0m\u001b[0mtup_block\u001b[0m\u001b[1;33m)\u001b[0m\u001b[1;33m,\u001b[0m \u001b[0mdtype\u001b[0m\u001b[1;33m)\u001b[0m\u001b[1;33m\u001b[0m\u001b[1;33m\u001b[0m\u001b[0m\n\u001b[0m\u001b[0;32m   1853\u001b[0m \u001b[1;33m\u001b[0m\u001b[0m\n\u001b[0;32m   1854\u001b[0m         \u001b[0mblock\u001b[0m \u001b[1;33m=\u001b[0m \u001b[0mmake_block\u001b[0m\u001b[1;33m(\u001b[0m\u001b[0mvalues\u001b[0m\u001b[1;33m,\u001b[0m \u001b[0mplacement\u001b[0m\u001b[1;33m=\u001b[0m\u001b[0mplacement\u001b[0m\u001b[1;33m,\u001b[0m \u001b[0mndim\u001b[0m\u001b[1;33m=\u001b[0m\u001b[1;36m2\u001b[0m\u001b[1;33m)\u001b[0m\u001b[1;33m\u001b[0m\u001b[1;33m\u001b[0m\u001b[0m\n",
      "\u001b[1;32m~\\AppData\\Local\\Programs\\Python\\Python39\\lib\\site-packages\\pandas\\core\\internals\\managers.py\u001b[0m in \u001b[0;36m_stack_arrays\u001b[1;34m(tuples, dtype)\u001b[0m\n\u001b[0;32m   1880\u001b[0m     \u001b[0mstacked\u001b[0m \u001b[1;33m=\u001b[0m \u001b[0mnp\u001b[0m\u001b[1;33m.\u001b[0m\u001b[0mempty\u001b[0m\u001b[1;33m(\u001b[0m\u001b[0mshape\u001b[0m\u001b[1;33m,\u001b[0m \u001b[0mdtype\u001b[0m\u001b[1;33m=\u001b[0m\u001b[0mdtype\u001b[0m\u001b[1;33m)\u001b[0m\u001b[1;33m\u001b[0m\u001b[1;33m\u001b[0m\u001b[0m\n\u001b[0;32m   1881\u001b[0m     \u001b[1;32mfor\u001b[0m \u001b[0mi\u001b[0m\u001b[1;33m,\u001b[0m \u001b[0marr\u001b[0m \u001b[1;32min\u001b[0m \u001b[0menumerate\u001b[0m\u001b[1;33m(\u001b[0m\u001b[0marrays\u001b[0m\u001b[1;33m)\u001b[0m\u001b[1;33m:\u001b[0m\u001b[1;33m\u001b[0m\u001b[1;33m\u001b[0m\u001b[0m\n\u001b[1;32m-> 1882\u001b[1;33m         \u001b[0mstacked\u001b[0m\u001b[1;33m[\u001b[0m\u001b[0mi\u001b[0m\u001b[1;33m]\u001b[0m \u001b[1;33m=\u001b[0m \u001b[0m_asarray_compat\u001b[0m\u001b[1;33m(\u001b[0m\u001b[0marr\u001b[0m\u001b[1;33m)\u001b[0m\u001b[1;33m\u001b[0m\u001b[1;33m\u001b[0m\u001b[0m\n\u001b[0m\u001b[0;32m   1883\u001b[0m \u001b[1;33m\u001b[0m\u001b[0m\n\u001b[0;32m   1884\u001b[0m     \u001b[1;32mreturn\u001b[0m \u001b[0mstacked\u001b[0m\u001b[1;33m,\u001b[0m \u001b[0mplacement\u001b[0m\u001b[1;33m\u001b[0m\u001b[1;33m\u001b[0m\u001b[0m\n",
      "\u001b[1;31mValueError\u001b[0m: could not broadcast input array from shape (1460) into shape (730)"
     ]
    }
   ],
   "source": [
    "def summarize_cerebro_run(cerebro_run):\n",
    "    #get pandas dataframe of summarized data\n",
    "    index = rbs.get_datetime_array(cerebro_run)\n",
    "    data = { 'cash' : rbs.get_cash_including_position(cerebro_run),\n",
    "             'percent_change' : rbs.get_percent_cash_change(cerebro_run),\n",
    "             'trades' : rbs.get_trades_from_cerebro_run(cerebro_run)\n",
    "            }\n",
    "    return pd.DataFrame(data=data, index=index)\n",
    "summarize_cerebro_run(back)"
   ]
  },
  {
   "cell_type": "code",
   "execution_count": 41,
   "metadata": {},
   "outputs": [
    {
     "output_type": "stream",
     "name": "stdout",
     "text": [
      "730\n730\n730\n1460\n"
     ]
    }
   ],
   "source": [
    "print(len(rbs.get_datetime_array(back)))\n",
    "print(len(rbs.get_cash_including_position(back)))\n",
    "print(len(rbs.get_percent_cash_change(back)))\n",
    "print(len(rbs.get_trades_from_cerebro_run(back)))"
   ]
  },
  {
   "cell_type": "code",
   "execution_count": null,
   "metadata": {},
   "outputs": [],
   "source": []
  }
 ]
}