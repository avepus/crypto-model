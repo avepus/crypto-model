{
 "metadata": {
  "language_info": {
   "codemirror_mode": {
    "name": "ipython",
    "version": 3
   },
   "file_extension": ".py",
   "mimetype": "text/x-python",
   "name": "python",
   "nbconvert_exporter": "python",
   "pygments_lexer": "ipython3",
   "version": "3.9.1-final"
  },
  "orig_nbformat": 2,
  "kernelspec": {
   "name": "python3",
   "display_name": "Python 3.9.1 64-bit",
   "metadata": {
    "interpreter": {
     "hash": "b54cb9753f1fc2478effd5c05200ae4f0e3c44cd8f27e179dabba8365c7dc822"
    }
   }
  }
 },
 "nbformat": 4,
 "nbformat_minor": 2,
 "cells": [
  {
   "cell_type": "code",
   "execution_count": 72,
   "metadata": {},
   "outputs": [],
   "source": [
    "#%matplotlib widget\n",
    "import backtrader as bt\n",
    "import backtrader.analyzers as btanalyzers\n",
    "import rba_tools as rba\n",
    "import pandas as pd\n",
    "import numpy as np\n",
    "#import matplotlib\n",
    "from datetime import datetime\n",
    "from datetime import date\n",
    "from datetime import timedelta"
   ]
  },
  {
   "cell_type": "code",
   "execution_count": 2,
   "metadata": {},
   "outputs": [],
   "source": [
    "class MaCrossStrategy(bt.Strategy):\n",
    "\n",
    "    def __init__(self):\n",
    "        ma_fast = bt.ind.SMA(period = 10)\n",
    "        ma_slow = bt.ind.SMA(period = 50)\n",
    "\n",
    "        self.crossover = bt.ind.CrossOver(ma_fast, ma_slow)\n",
    "\n",
    "    def next(self):\n",
    "        if not self.position:\n",
    "            if self.crossover > 0:\n",
    "                self.buy()\n",
    "        elif self.crossover < 0:\n",
    "            self.close()"
   ]
  },
  {
   "cell_type": "code",
   "execution_count": 3,
   "metadata": {},
   "outputs": [],
   "source": [
    "cerebro = bt.Cerebro()"
   ]
  },
  {
   "cell_type": "code",
   "execution_count": 4,
   "metadata": {},
   "outputs": [
    {
     "output_type": "execute_result",
     "data": {
      "text/plain": [
       "<backtrader.feeds.pandafeed.PandasData at 0x20c706e5610>"
      ]
     },
     "metadata": {},
     "execution_count": 4
    }
   ],
   "source": [
    "binance = rba.getBinanceExchange()\n",
    "dataframe = rba.get_DataFrame(['ETH/BTC'], binance, '1/1/18', '12/31/19')\n",
    "data = bt.feeds.PandasData(dataname=dataframe,\n",
    "                               # datetime='Date',\n",
    "                               nocase=True,\n",
    "                               )\n",
    "cerebro.adddata(data)"
   ]
  },
  {
   "cell_type": "code",
   "execution_count": 5,
   "metadata": {},
   "outputs": [
    {
     "output_type": "execute_result",
     "data": {
      "text/plain": [
       "<backtrader.feeds.pandafeed.PandasData at 0x20c7b8d7f10>"
      ]
     },
     "metadata": {},
     "execution_count": 5
    }
   ],
   "source": [
    "dataframe2 = rba.get_DataFrame(['LTC/BTC'], binance, '1/1/18', '12/31/19')\n",
    "data2 = bt.feeds.PandasData(dataname=dataframe2,\n",
    "                               # datetime='Date',\n",
    "                               nocase=True,\n",
    "                               )\n",
    "cerebro.adddata(data2)"
   ]
  },
  {
   "cell_type": "code",
   "execution_count": 6,
   "metadata": {},
   "outputs": [
    {
     "output_type": "execute_result",
     "data": {
      "text/plain": [
       "0"
      ]
     },
     "metadata": {},
     "execution_count": 6
    }
   ],
   "source": [
    "cerebro.addstrategy(MaCrossStrategy)"
   ]
  },
  {
   "cell_type": "code",
   "execution_count": 7,
   "metadata": {},
   "outputs": [],
   "source": [
    "cerebro.broker.setcash(1000000.0)"
   ]
  },
  {
   "cell_type": "code",
   "execution_count": 8,
   "metadata": {},
   "outputs": [],
   "source": [
    "cerebro.addsizer(bt.sizers.PercentSizer, percents = 10)"
   ]
  },
  {
   "cell_type": "code",
   "execution_count": 9,
   "metadata": {},
   "outputs": [],
   "source": [
    "#cerebro.addanalyzer(btanalyzers.SharpeRatio, _name = 'sharpe')\n",
    "#cerebro.addanalyzer(btanalyzers.Transactions, _name = 'trans')\n",
    "#cerebro.addanalyzer(btanalyzers.Returns, _name = 'returns')\n",
    "cerebro.addanalyzer(btanalyzers.TradeAnalyzer, _name = 'trades') #good for summary stats on trades\n",
    "cerebro.addanalyzer(btanalyzers.PositionsValue, _name = 'pos', cash=True) #this is a good one. Shows position values over time\n",
    "cerebro.addanalyzer(btanalyzers.AnnualReturn, _name = 'annReturns')"
   ]
  },
  {
   "cell_type": "code",
   "execution_count": 10,
   "metadata": {},
   "outputs": [],
   "source": [
    "back = cerebro.run()"
   ]
  },
  {
   "cell_type": "code",
   "execution_count": 11,
   "metadata": {},
   "outputs": [
    {
     "output_type": "execute_result",
     "data": {
      "text/plain": [
       "971104.7165789388"
      ]
     },
     "metadata": {},
     "execution_count": 11
    }
   ],
   "source": [
    "cerebro.broker.getvalue()"
   ]
  },
  {
   "cell_type": "code",
   "execution_count": 12,
   "metadata": {},
   "outputs": [
    {
     "output_type": "stream",
     "name": "stdout",
     "text": [
      "<backtrader.analyzers.tradeanalyzer.TradeAnalyzer object at 0x0000020C7B98CD60>\n<backtrader.analyzers.positions.PositionsValue object at 0x0000020C7B98CDF0>\n<backtrader.analyzers.annualreturn.AnnualReturn object at 0x0000020C7B98CE50>\n"
     ]
    }
   ],
   "source": [
    "for x in back[0].analyzers:\n",
    "    print(x)"
   ]
  },
  {
   "cell_type": "code",
   "execution_count": 13,
   "metadata": {},
   "outputs": [],
   "source": [
    "mytrades = back[0].analyzers.trades.get_analysis()"
   ]
  },
  {
   "cell_type": "code",
   "execution_count": 14,
   "metadata": {},
   "outputs": [],
   "source": [
    "def pintdictdict(indict,indent=0):\n",
    "    indent += 1\n",
    "    for x in indict:\n",
    "        print('\\n','   ' * indent,x,end='',sep='')\n",
    "        val = indict[x]\n",
    "        if isinstance(val,bt.utils.autodict.AutoOrderedDict):\n",
    "            pintdictdict(val,indent)\n",
    "        else:\n",
    "            print('=',val,sep='',end='')"
   ]
  },
  {
   "cell_type": "code",
   "execution_count": 15,
   "metadata": {},
   "outputs": [
    {
     "output_type": "stream",
     "name": "stdout",
     "text": [
      "\n   total\n      total=8\n      open=0\n      closed=8\n   streak\n      won\n         current=0\n         longest=1\n      lost\n         current=7\n         longest=7\n   pnl\n      gross\n         total=-28895.28342106143\n         average=-3611.910427632679\n      net\n         total=-28895.28342106143\n         average=-3611.910427632679\n   won\n      total=1\n      pnl\n         total=17762.26659598281\n         average=17762.26659598281\n         max=17762.26659598281\n   lost\n      total=7\n      pnl\n         total=-46657.55001704424\n         average=-6665.364288149177\n         max=-10683.950281394302\n   long\n      total=8\n      pnl\n         total=-28895.28342106143\n         average=-3611.910427632679\n         won\n            total=17762.26659598281\n            average=17762.26659598281\n            max=17762.26659598281\n         lost\n            total=-46657.55001704424\n            average=-6665.364288149177\n            max=-10683.950281394302\n      won=1\n      lost=7\n   short\n      total=0\n      pnl\n         total=0.0\n         average=0.0\n         won\n            total=0.0\n            average=0.0\n            max=0.0\n         lost\n            total=0.0\n            average=0.0\n            max=0.0\n      won=0\n      lost=0\n   len\n      total=203\n      average=25.375\n      max=45\n      min=5\n      won\n         total=45\n         average=45.0\n         max=45\n         min=45\n      lost\n         total=158\n         average=22.571428571428573\n         max=41\n         min=5\n      long\n         total=203\n         average=25.375\n         max=45\n         min=5\n         won\n            total=45\n            average=45.0\n            max=45\n            min=45\n         lost\n            total=158\n            average=22.571428571428573\n            max=41\n            min=5\n      short\n         total=0\n         average=0.0\n         max=0\n         min=9223372036854775807\n         won\n            total=0\n            average=0.0\n            max=0\n            min=9223372036854775807\n         lost\n            total=0\n            average=0.0\n            max=0\n            min=9223372036854775807"
     ]
    }
   ],
   "source": [
    "pintdictdict(mytrades)"
   ]
  },
  {
   "cell_type": "code",
   "execution_count": 16,
   "metadata": {},
   "outputs": [
    {
     "output_type": "execute_result",
     "data": {
      "text/plain": [
       "OrderedDict([(2018, 0.01613699725686879), (2019, -0.04431713518895353)])"
      ]
     },
     "metadata": {},
     "execution_count": 16
    }
   ],
   "source": [
    "annReturns = back[0].analyzers.annReturns.get_analysis()\n",
    "annReturns"
   ]
  },
  {
   "cell_type": "code",
   "execution_count": 17,
   "metadata": {},
   "outputs": [
    {
     "output_type": "stream",
     "name": "stdout",
     "text": [
      "2019-02-17 = [0.0, 0.0, 998638.932260116]\n2019-02-18 = [0.0, 0.0, 998638.932260116]\n2019-02-19 = [98102.75252712643, 0.0, 898705.5554860452]\n2019-02-20 = [99968.11854810042, 0.0, 898705.5554860452]\n2019-02-21 = [98880.43377655827, 0.0, 898705.5554860452]\n2019-02-22 = [99366.8186129727, 0.0, 898705.5554860452]\n2019-02-23 = [102386.68050939191, 0.0, 898705.5554860452]\n2019-02-24 = [94342.62359946109, 0.0, 898705.5554860452]\n2019-02-25 = [96242.73139446469, 0.0, 898705.5554860452]\n2019-02-26 = [95582.63768790226, 0.0, 898705.5554860452]\n2019-02-27 = [94513.66002545298, 0.0, 898705.5554860452]\n2019-02-28 = [94831.68088003164, 0.0, 898705.5554860452]\n2019-03-01 = [94572.4537968877, 0.0, 898705.5554860452]\n2019-03-02 = [92728.46732916268, 0.0, 898705.5554860452]\n2019-03-03 = [91646.12744593278, 0.0, 898705.5554860452]\n"
     ]
    }
   ],
   "source": [
    "pos = back[0].analyzers.pos.get_analysis()\n",
    "for d in [date(2019, 2, 17) + timedelta(days=x) for x in range(15)]:\n",
    "    print(d,'=',pos[d])"
   ]
  },
  {
   "cell_type": "code",
   "execution_count": 18,
   "metadata": {},
   "outputs": [
    {
     "output_type": "stream",
     "name": "stdout",
     "text": [
      "<backtrader.observers.broker.Broker object at 0x0000020C7B985E50>\n<backtrader.observers.trades.DataTrades object at 0x0000020C7B98C6A0>\n"
     ]
    }
   ],
   "source": [
    "for x in back[0].stats:\n",
    "    print(x)"
   ]
  },
  {
   "cell_type": "code",
   "execution_count": 19,
   "metadata": {},
   "outputs": [],
   "source": [
    "datatrades = back[0].stats[1]\n",
    "broker = back[0].stats[0]"
   ]
  },
  {
   "cell_type": "code",
   "execution_count": 20,
   "metadata": {},
   "outputs": [
    {
     "output_type": "stream",
     "name": "stdout",
     "text": [
      "<class 'backtrader.observers.broker.Broker'>\nx.plotinfo.plot = True\nx.plotinfo.plotskip = False\nx.plotinfo.subplot = True\n<class 'backtrader.observers.trades.DataTrades'>\nx.plotinfo.plot = True\nx.plotinfo.plotskip = False\nx.plotinfo.subplot = True\n"
     ]
    }
   ],
   "source": [
    "for x in back[0].stats:\n",
    "    print(type(x))\n",
    "    print('x.plotinfo.plot =',x.plotinfo.plot)\n",
    "    print('x.plotinfo.plotskip =',x.plotinfo.plotskip)\n",
    "    print('x.plotinfo.subplot =',x.plotinfo.subplot)"
   ]
  },
  {
   "cell_type": "code",
   "execution_count": 21,
   "metadata": {},
   "outputs": [
    {
     "output_type": "execute_result",
     "data": {
      "text/plain": [
       "<backtrader.observers.trades.DataTrades at 0x20c7b98c6a0>"
      ]
     },
     "metadata": {},
     "execution_count": 21
    }
   ],
   "source": [
    "myobs = back[0].stats[1]\n",
    "myobs"
   ]
  },
  {
   "cell_type": "code",
   "execution_count": 22,
   "metadata": {},
   "outputs": [
    {
     "output_type": "execute_result",
     "data": {
      "text/plain": [
       "True"
      ]
     },
     "metadata": {},
     "execution_count": 22
    }
   ],
   "source": [
    "isinstance(myobs ,bt.observers.trades.DataTrades)"
   ]
  },
  {
   "cell_type": "code",
   "execution_count": 23,
   "metadata": {},
   "outputs": [],
   "source": [
    "ind = myobs"
   ]
  },
  {
   "cell_type": "code",
   "execution_count": 24,
   "metadata": {},
   "outputs": [
    {
     "output_type": "stream",
     "name": "stdout",
     "text": [
      "lineidx = 0\nlinealias = \nind.plotlines = <backtrader.metabase.AutoInfoClass_pl_LineSeries_pl_LineIterator_pl_DataAccessor_pl_ObserverBase_pl_Observer_pl_DataTrades_44e4388a6017422b9937c44e07029ee2 object at 0x0000020C7B98CCA0>\nlineplotinfo = None\n2 lineplotinfo = <backtrader.metabase.AutoInfoClass_44e4388a6017422b9937c44e07029ee2_ object at 0x0000020C7B98CCD0>\npltmethod = plot\nlineidx = 1\nlinealias = \nind.plotlines = <backtrader.metabase.AutoInfoClass_pl_LineSeries_pl_LineIterator_pl_DataAccessor_pl_ObserverBase_pl_Observer_pl_DataTrades_44e4388a6017422b9937c44e07029ee2 object at 0x0000020C7B98CCA0>\nlineplotinfo = None\n2 lineplotinfo = <backtrader.metabase.AutoInfoClass_44e4388a6017422b9937c44e07029ee2_ object at 0x0000020C7B98CCD0>\npltmethod = plot\n"
     ]
    }
   ],
   "source": [
    "for lineidx in range(ind.size()):\n",
    "            print('lineidx =',lineidx)\n",
    "            line = ind.lines[lineidx]\n",
    "            linealias = ind.lines._getlinealias(lineidx)\n",
    "            print('linealias =',linealias)\n",
    "            lineplotinfo = getattr(ind.plotlines, '_%d' % lineidx, None)\n",
    "            print('ind.plotlines =',ind.plotlines)\n",
    "            print('lineplotinfo =',lineplotinfo)\n",
    "            if not lineplotinfo:\n",
    "                lineplotinfo = getattr(ind.plotlines, linealias, None)\n",
    "                print('2 lineplotinfo =',lineplotinfo)\n",
    "            if not lineplotinfo:\n",
    "                lineplotinfo = AutoInfoClass()\n",
    "                print('3 lineplotinfo =',lineplotinfo)\n",
    "            pltmethod = lineplotinfo._get('_method', 'plot')\n",
    "            print('pltmethod =',pltmethod)\n",
    "            if pltmethod != 'plot':\n",
    "                toskip += 1 - lineplotinfo._get('_plotskip', False)"
   ]
  },
  {
   "cell_type": "code",
   "execution_count": 25,
   "metadata": {},
   "outputs": [
    {
     "output_type": "stream",
     "name": "stdout",
     "text": [
      "[ 17762.26659598  -4050.46051866  -5153.06062077  -9919.81319643\n  -8832.42793599 -10683.95028139  -2157.22029591  -5860.61716789]\n8\n[]\n0\n"
     ]
    }
   ],
   "source": [
    "for line in myobs.lines:\n",
    "    npary = np.frombuffer(line.array)\n",
    "    print(npary[~np.isnan(npary)])\n",
    "    print(len(npary[~np.isnan(npary)]))"
   ]
  },
  {
   "cell_type": "code",
   "execution_count": 26,
   "metadata": {},
   "outputs": [
    {
     "output_type": "execute_result",
     "data": {
      "text/plain": [
       "array([nan, nan, nan, ..., nan, nan, nan])"
      ]
     },
     "metadata": {},
     "execution_count": 26
    }
   ],
   "source": [
    "npary = np.frombuffer(myobs.lines[0].array)\n",
    "npary"
   ]
  },
  {
   "cell_type": "code",
   "execution_count": 27,
   "metadata": {},
   "outputs": [
    {
     "output_type": "execute_result",
     "data": {
      "text/plain": [
       "array([ 17762.26659598,  -4050.46051866,  -5153.06062077,  -9919.81319643,\n",
       "        -8832.42793599, -10683.95028139,  -2157.22029591,  -5860.61716789])"
      ]
     },
     "metadata": {},
     "execution_count": 27
    }
   ],
   "source": [
    "npary[~np.isnan(npary)]"
   ]
  },
  {
   "cell_type": "code",
   "execution_count": 28,
   "metadata": {},
   "outputs": [
    {
     "output_type": "execute_result",
     "data": {
      "text/plain": [
       "<backtrader.linebuffer.LineBuffer at 0x20c7b98c940>"
      ]
     },
     "metadata": {},
     "execution_count": 28
    }
   ],
   "source": [
    "myline = myobs.lines[0]\n",
    "myline"
   ]
  },
  {
   "cell_type": "code",
   "execution_count": 29,
   "metadata": {},
   "outputs": [
    {
     "output_type": "execute_result",
     "data": {
      "text/plain": [
       "array('d', [nan, nan, nan, nan, nan, nan, nan, nan, nan, nan, nan, nan, nan, nan, nan, nan, nan, nan, nan, nan, nan, nan, nan, nan, nan, nan, nan, nan, nan, nan, nan, nan, nan, nan, nan, nan, nan, nan, nan, nan, nan, nan, nan, nan, nan, nan, nan, nan, nan, nan, nan, nan, nan, nan, nan, nan, nan, nan, nan, nan, nan, nan, nan, nan, nan, nan, nan, nan, nan, nan, nan, nan, nan, nan, nan, nan, nan, nan, nan, nan, nan, nan, nan, nan, nan, nan, nan, nan, nan, nan, nan, nan, nan, nan, nan, nan, nan, nan, nan, nan, nan, nan, nan, nan, nan, nan, nan, nan, nan, nan, nan, nan, nan, nan, nan, nan, nan, nan, nan, nan, nan, nan, nan, nan, nan, nan, nan, nan, nan, nan, nan, nan, nan, nan, nan, nan, nan, nan, nan, nan, nan, nan, nan, nan, nan, nan, nan, nan, nan, nan, nan, nan, nan, nan, nan, nan, 17762.26659598281, nan, nan, nan, nan, nan, nan, -4050.460518664533, nan, nan, nan, nan, nan, nan, nan, nan, nan, nan, nan, nan, nan, nan, nan, nan, nan, nan, nan, nan, nan, nan, nan, nan, nan, nan, nan, nan, nan, nan, nan, nan, nan, nan, nan, nan, nan, nan, nan, nan, nan, nan, nan, nan, nan, nan, nan, nan, nan, nan, nan, nan, nan, nan, nan, nan, nan, nan, nan, nan, nan, nan, nan, nan, nan, nan, nan, nan, nan, nan, nan, nan, nan, nan, nan, nan, nan, nan, nan, nan, nan, nan, nan, nan, nan, nan, nan, nan, nan, nan, nan, nan, nan, nan, nan, nan, nan, nan, nan, nan, nan, nan, nan, nan, nan, nan, nan, nan, nan, nan, nan, nan, nan, nan, nan, nan, nan, nan, nan, nan, nan, nan, nan, nan, nan, nan, nan, nan, nan, nan, nan, nan, nan, nan, nan, nan, nan, nan, nan, nan, nan, nan, nan, nan, nan, nan, nan, nan, nan, nan, nan, nan, nan, nan, nan, nan, nan, -5153.060620768923, nan, nan, nan, nan, nan, nan, nan, nan, nan, nan, nan, nan, nan, nan, nan, nan, nan, nan, nan, nan, nan, nan, nan, nan, nan, nan, nan, nan, nan, nan, nan, nan, nan, nan, nan, nan, nan, nan, nan, nan, nan, nan, nan, nan, nan, nan, nan, nan, nan, nan, nan, nan, nan, nan, nan, nan, nan, nan, nan, nan, nan, nan, nan, nan, nan, nan, nan, nan, nan, nan, nan, -9919.813196433519, nan, nan, nan, nan, nan, nan, nan, nan, nan, nan, nan, nan, nan, nan, nan, nan, nan, nan, nan, nan, nan, nan, nan, nan, nan, nan, nan, nan, nan, nan, nan, nan, nan, nan, nan, nan, nan, nan, nan, nan, nan, nan, nan, nan, nan, nan, nan, nan, nan, nan, nan, nan, nan, nan, -8832.427935987153, nan, nan, nan, nan, nan, nan, nan, nan, nan, nan, nan, nan, nan, nan, nan, nan, nan, nan, nan, nan, nan, nan, nan, nan, nan, nan, nan, nan, nan, nan, nan, nan, nan, nan, nan, nan, nan, nan, nan, nan, nan, nan, nan, nan, nan, nan, nan, nan, nan, nan, nan, nan, nan, nan, nan, nan, nan, nan, nan, nan, nan, nan, nan, nan, nan, nan, nan, nan, nan, nan, nan, nan, nan, nan, nan, nan, nan, nan, nan, nan, nan, nan, nan, nan, nan, nan, nan, nan, -10683.950281394302, nan, nan, nan, nan, nan, nan, nan, nan, nan, nan, nan, nan, nan, nan, nan, nan, nan, nan, nan, nan, nan, nan, nan, nan, nan, nan, nan, nan, nan, nan, nan, nan, nan, nan, nan, nan, nan, nan, nan, nan, nan, nan, nan, nan, nan, nan, nan, nan, nan, nan, nan, nan, nan, nan, nan, nan, nan, nan, nan, nan, nan, nan, nan, nan, nan, nan, nan, nan, nan, nan, nan, nan, nan, nan, nan, nan, nan, nan, nan, nan, nan, nan, nan, nan, nan, nan, nan, nan, nan, nan, nan, nan, nan, nan, nan, nan, nan, nan, nan, nan, nan, nan, nan, nan, nan, nan, nan, nan, nan, nan, nan, nan, nan, nan, nan, nan, nan, nan, nan, nan, nan, nan, nan, nan, nan, nan, nan, nan, nan, nan, -2157.220295905148, nan, nan, nan, nan, nan, nan, nan, nan, nan, nan, nan, nan, nan, nan, nan, nan, nan, nan, nan, nan, nan, nan, nan, nan, nan, nan, nan, nan, -5860.617167890665, nan, nan, nan, nan, nan, nan, nan, nan, nan, nan, nan, nan, nan, nan, nan, nan, nan, nan, nan, nan, nan, nan, nan, nan, nan, nan, nan, nan, nan, nan, nan, nan, nan, nan, nan, nan, nan, nan, nan, nan, nan, nan, nan, nan, nan, nan, nan, nan, nan, nan, nan, nan, nan, nan, nan, nan, nan, nan, nan, nan, nan, nan, nan, nan, nan, nan, nan, nan, nan, nan, nan, nan, nan, nan, nan, nan, nan, nan, nan, nan, nan, nan, nan, nan, nan, nan, nan, nan, nan, nan, nan, nan, nan, nan, nan, nan, nan, nan, nan, nan, nan, nan, nan, nan, nan, nan, nan, nan, nan, nan, nan, nan, nan, nan, nan, nan, nan, nan, nan, nan, nan, nan, nan, nan, nan, nan, nan, nan, nan, nan, nan, nan, nan, nan, nan, nan, nan, nan, nan, nan, nan, nan, nan, nan, nan, nan, nan, nan, nan, nan, nan, nan, nan, nan, nan, nan, nan, nan, nan, nan, nan, nan, nan, nan, nan, nan, nan, nan, nan, nan, nan, nan, nan, nan, nan, nan, nan, nan, nan, nan, nan, nan, nan, nan, nan, nan, nan, nan, nan, nan, nan, nan, nan, nan, nan, nan, nan, nan, nan, nan, nan, nan, nan, nan, nan, nan, nan, nan, nan, nan, nan, nan, nan, nan, nan, nan, nan, nan, nan, nan, nan, nan, nan, nan, nan, nan, nan, nan, nan, nan, nan, nan, nan, nan, nan, nan, nan, nan, nan, nan, nan, nan, nan, nan, nan, nan, nan, nan, nan, nan, nan, nan, nan, nan, nan, nan, nan, nan, nan, nan, nan, nan, nan, nan, nan, nan, nan, nan, nan, nan, nan, nan, nan, nan, nan, nan, nan, nan, nan, nan, nan, nan, nan, nan, nan, nan, nan, nan, nan, nan, nan, nan, nan, nan, nan, nan, nan, nan, nan, nan, nan, nan])"
      ]
     },
     "metadata": {},
     "execution_count": 29
    }
   ],
   "source": [
    "myline.array[0:1000]"
   ]
  },
  {
   "cell_type": "code",
   "execution_count": 30,
   "metadata": {},
   "outputs": [
    {
     "output_type": "execute_result",
     "data": {
      "text/plain": [
       "      trades\n",
       "0        NaN\n",
       "1        NaN\n",
       "2        NaN\n",
       "3        NaN\n",
       "4        NaN\n",
       "...      ...\n",
       "1458     NaN\n",
       "1459     NaN\n",
       "1460     NaN\n",
       "1461     NaN\n",
       "1462     NaN\n",
       "\n",
       "[1463 rows x 1 columns]"
      ],
      "text/html": "<div>\n<style scoped>\n    .dataframe tbody tr th:only-of-type {\n        vertical-align: middle;\n    }\n\n    .dataframe tbody tr th {\n        vertical-align: top;\n    }\n\n    .dataframe thead th {\n        text-align: right;\n    }\n</style>\n<table border=\"1\" class=\"dataframe\">\n  <thead>\n    <tr style=\"text-align: right;\">\n      <th></th>\n      <th>trades</th>\n    </tr>\n  </thead>\n  <tbody>\n    <tr>\n      <th>0</th>\n      <td>NaN</td>\n    </tr>\n    <tr>\n      <th>1</th>\n      <td>NaN</td>\n    </tr>\n    <tr>\n      <th>2</th>\n      <td>NaN</td>\n    </tr>\n    <tr>\n      <th>3</th>\n      <td>NaN</td>\n    </tr>\n    <tr>\n      <th>4</th>\n      <td>NaN</td>\n    </tr>\n    <tr>\n      <th>...</th>\n      <td>...</td>\n    </tr>\n    <tr>\n      <th>1458</th>\n      <td>NaN</td>\n    </tr>\n    <tr>\n      <th>1459</th>\n      <td>NaN</td>\n    </tr>\n    <tr>\n      <th>1460</th>\n      <td>NaN</td>\n    </tr>\n    <tr>\n      <th>1461</th>\n      <td>NaN</td>\n    </tr>\n    <tr>\n      <th>1462</th>\n      <td>NaN</td>\n    </tr>\n  </tbody>\n</table>\n<p>1463 rows × 1 columns</p>\n</div>"
     },
     "metadata": {},
     "execution_count": 30
    }
   ],
   "source": [
    "data = {'trades': myline.array}\n",
    "df = pd.DataFrame(data=data)\n",
    "df"
   ]
  },
  {
   "cell_type": "code",
   "execution_count": 31,
   "metadata": {},
   "outputs": [
    {
     "output_type": "execute_result",
     "data": {
      "text/plain": [
       "           trades\n",
       "156  17762.266596\n",
       "163  -4050.460519\n",
       "321  -5153.060621\n",
       "393  -9919.813196\n",
       "448  -8832.427936\n",
       "537 -10683.950281\n",
       "668  -2157.220296\n",
       "697  -5860.617168"
      ],
      "text/html": "<div>\n<style scoped>\n    .dataframe tbody tr th:only-of-type {\n        vertical-align: middle;\n    }\n\n    .dataframe tbody tr th {\n        vertical-align: top;\n    }\n\n    .dataframe thead th {\n        text-align: right;\n    }\n</style>\n<table border=\"1\" class=\"dataframe\">\n  <thead>\n    <tr style=\"text-align: right;\">\n      <th></th>\n      <th>trades</th>\n    </tr>\n  </thead>\n  <tbody>\n    <tr>\n      <th>156</th>\n      <td>17762.266596</td>\n    </tr>\n    <tr>\n      <th>163</th>\n      <td>-4050.460519</td>\n    </tr>\n    <tr>\n      <th>321</th>\n      <td>-5153.060621</td>\n    </tr>\n    <tr>\n      <th>393</th>\n      <td>-9919.813196</td>\n    </tr>\n    <tr>\n      <th>448</th>\n      <td>-8832.427936</td>\n    </tr>\n    <tr>\n      <th>537</th>\n      <td>-10683.950281</td>\n    </tr>\n    <tr>\n      <th>668</th>\n      <td>-2157.220296</td>\n    </tr>\n    <tr>\n      <th>697</th>\n      <td>-5860.617168</td>\n    </tr>\n  </tbody>\n</table>\n</div>"
     },
     "metadata": {},
     "execution_count": 31
    }
   ],
   "source": [
    "df.loc[np.isnan(df['trades']) == False]"
   ]
  },
  {
   "cell_type": "code",
   "execution_count": 32,
   "metadata": {},
   "outputs": [
    {
     "output_type": "stream",
     "name": "stdout",
     "text": [
      "[nan nan nan ... nan nan nan]\n[ 17762.26659598  -4050.46051866  -5153.06062077  -9919.81319643\n  -8832.42793599 -10683.95028139  -2157.22029591  -5860.61716789]\n"
     ]
    }
   ],
   "source": [
    "def get_trades_from_cerebro_run(cerebro_run):\n",
    "    data = None\n",
    "    for strat in cerebro_run[0].stats:\n",
    "        if isinstance(strat, bt.observers.trades.DataTrades):\n",
    "            for line in strat.lines:\n",
    "                npary = np.frombuffer(line.array)\n",
    "                if len(npary[~np.isnan(npary)]) > 0:\n",
    "                    data = npary\n",
    "    return data\n",
    "result = get_trades_from_cerebro_run(back)\n",
    "print(result)\n",
    "print(result[~np.isnan(result)])"
   ]
  },
  {
   "cell_type": "code",
   "execution_count": 44,
   "metadata": {},
   "outputs": [
    {
     "output_type": "stream",
     "name": "stdout",
     "text": [
      "[1000000. 1000000. 1000000. ...      nan      nan      nan]\n1463\n"
     ]
    }
   ],
   "source": [
    "def get_broker_cash_from_cerebro_run(cerebro_run):\n",
    "    data = None\n",
    "    for strat in cerebro_run[0].stats:\n",
    "        if isinstance(strat, bt.observers.broker.Broker):\n",
    "            #assumes we want line 0 which I think is safe for Broker?\n",
    "            npary = np.frombuffer(strat.lines[0].array)\n",
    "            data = npary\n",
    "    return data\n",
    "result = get_broker_cash_from_cerebro_run(back)\n",
    "print(result)\n",
    "print(len(result))"
   ]
  },
  {
   "cell_type": "code",
   "execution_count": 43,
   "metadata": {},
   "outputs": [
    {
     "output_type": "stream",
     "name": "stdout",
     "text": [
      "[ 0.  0.  0. ... nan nan nan]\n"
     ]
    }
   ],
   "source": []
  },
  {
   "cell_type": "code",
   "execution_count": 47,
   "metadata": {
    "tags": []
   },
   "outputs": [],
   "source": [
    "def get_pos_analysis(cerebro_run):\n",
    "    for analyzer in cerebro_run[0].analyzers:\n",
    "        if isinstance(analyzer, btanalyzers.PositionsValue):\n",
    "            return analyzer.get_analysis().copy()"
   ]
  },
  {
   "cell_type": "code",
   "execution_count": 69,
   "metadata": {
    "tags": []
   },
   "outputs": [
    {
     "output_type": "execute_result",
     "data": {
      "text/plain": [
       "array([1000000.  , 1000000.  , 1000000.  , 1000000.  , 1000000.  ,\n",
       "       1000000.  , 1000000.  , 1000000.  , 1000000.  , 1000000.  ,\n",
       "       1000000.  , 1000000.  , 1000000.  , 1000000.  , 1000000.  ,\n",
       "       1000000.  , 1000000.  , 1000000.  , 1000000.  , 1000000.  ,\n",
       "       1000000.  , 1000000.  , 1000000.  , 1000000.  , 1000000.  ,\n",
       "       1000000.  , 1000000.  , 1000000.  , 1000000.  , 1000000.  ,\n",
       "       1000000.  , 1000000.  , 1000000.  , 1000000.  , 1000000.  ,\n",
       "       1000000.  , 1000000.  , 1000000.  , 1000000.  , 1000000.  ,\n",
       "       1000000.  , 1000000.  , 1000000.  , 1000000.  , 1000000.  ,\n",
       "       1000000.  , 1000000.  , 1000000.  , 1000000.  , 1000000.  ,\n",
       "       1000000.  , 1000000.  , 1000000.  , 1000000.  , 1000000.  ,\n",
       "       1000000.  , 1000000.  , 1000000.  , 1000000.  , 1000000.  ,\n",
       "       1000000.  , 1000000.  , 1000000.  , 1000000.  , 1000000.  ,\n",
       "       1000000.  , 1000000.  , 1000000.  , 1000000.  , 1000000.  ,\n",
       "       1000000.  , 1000000.  , 1000000.  , 1000000.  , 1000000.  ,\n",
       "       1000000.  , 1000000.  , 1000000.  , 1000000.  , 1000000.  ,\n",
       "       1000000.  , 1000000.  , 1000000.  , 1000000.  , 1000000.  ,\n",
       "       1000000.  , 1000000.  , 1000000.  , 1000000.  , 1000000.  ,\n",
       "       1000000.  , 1000000.  , 1000000.  , 1000000.  , 1000000.  ,\n",
       "       1000000.  , 1000000.  , 1000000.  , 1000000.  , 1000000.  ,\n",
       "       1000000.  , 1000000.  , 1000000.  , 1000000.  , 1000000.  ,\n",
       "       1000000.  , 1000000.  , 1000000.  , 1000000.  , 1000000.  ,\n",
       "       1000000.  , 1004146.79, 1006211.34, 1007433.59, 1002560.82,\n",
       "       1005176.12, 1006251.1 , 1007850.33, 1008069.74, 1006921.13,\n",
       "       1009224.24, 1009752.9 , 1017850.62, 1019178.89, 1022449.49,\n",
       "       1021152.15, 1018501.5 , 1020309.83, 1019012.49, 1018205.51,\n",
       "       1018744.48, 1019043.41, 1023808.68, 1023795.43, 1022705.72,\n",
       "       1024832.13, 1022283.09, 1023936.8 , 1024807.09, 1023680.57,\n",
       "       1022539.32, 1018533.9 , 1013562.47, 1017034.81, 1015724.22,\n",
       "       1017852.09, 1014546.15, 1006337.99, 1011926.43, 1011413.97,\n",
       "       1013815.75, 1013465.28, 1014010.13, 1018257.05, 1016329.45,\n",
       "       1017762.27, 1017762.27, 1017762.27, 1017833.4 , 1018295.09,\n",
       "       1016267.27, 1015953.01, 1013711.81, 1013711.81, 1013711.81,\n",
       "       1013711.81, 1013711.81, 1013711.81, 1013711.81, 1013711.81,\n",
       "       1013711.81, 1013711.81, 1013711.81, 1013711.81, 1013711.81,\n",
       "       1013711.81, 1013711.81, 1013711.81, 1013711.81, 1013711.81,\n",
       "       1013711.81, 1013711.81, 1013711.81, 1013711.81, 1013711.81,\n",
       "       1013711.81, 1013711.81, 1013711.81, 1013711.81, 1013711.81,\n",
       "       1013711.81, 1013711.81, 1013711.81, 1013711.81, 1013711.81,\n",
       "       1013711.81, 1013711.81, 1013711.81, 1013711.81, 1013711.81,\n",
       "       1013711.81, 1013711.81, 1013711.81, 1013711.81, 1013711.81,\n",
       "       1013711.81, 1013711.81, 1013711.81, 1013711.81, 1013711.81,\n",
       "       1013711.81, 1013711.81, 1013711.81, 1013711.81, 1013711.81,\n",
       "       1013711.81, 1013711.81, 1013711.81, 1013711.81, 1013711.81,\n",
       "       1013711.81, 1013711.81, 1013711.81, 1013711.81, 1013711.81,\n",
       "       1013711.81, 1013711.81, 1013711.81, 1013711.81, 1013711.81,\n",
       "       1013711.81, 1013711.81, 1013711.81, 1013711.81, 1013711.81,\n",
       "       1013711.81, 1013711.81, 1013711.81, 1013711.81, 1013711.81,\n",
       "       1013711.81, 1013711.81, 1013711.81, 1013711.81, 1013711.81,\n",
       "       1013711.81, 1013711.81, 1013711.81, 1013711.81, 1013711.81,\n",
       "       1013711.81, 1013711.81, 1013711.81, 1013711.81, 1013711.81,\n",
       "       1013711.81, 1013711.81, 1013711.81, 1013711.81, 1013711.81,\n",
       "       1013711.81, 1013711.81, 1013711.81, 1013711.81, 1013711.81,\n",
       "       1013711.81, 1013711.81, 1013711.81, 1013711.81, 1013711.81,\n",
       "       1013711.81, 1013711.81, 1013711.81, 1013711.81, 1013711.81,\n",
       "       1013711.81, 1013711.81, 1013711.81, 1013711.81, 1013711.81,\n",
       "       1013711.81, 1013711.81, 1013711.81, 1013711.81, 1013711.81,\n",
       "       1013711.81, 1013711.81, 1013711.81, 1013711.81, 1013711.81,\n",
       "       1013711.81, 1013711.81, 1013711.81, 1013711.81, 1013711.81,\n",
       "       1013711.81, 1013711.81, 1013711.81, 1013711.81, 1013711.81,\n",
       "       1013711.81, 1013711.81, 1013711.81, 1013711.81, 1013711.81,\n",
       "       1013711.81, 1013711.81, 1013711.81, 1013711.81, 1013711.81,\n",
       "       1013711.81, 1013711.81, 1013711.81, 1013711.81, 1013711.81,\n",
       "       1013711.81, 1012150.83, 1009686.46, 1010758.86, 1008509.58,\n",
       "       1008558.75, 1008558.75, 1008558.75, 1008558.75, 1008558.75,\n",
       "       1008558.75, 1008558.75, 1008558.75, 1008558.75, 1008558.75,\n",
       "       1008558.75, 1008558.75, 1008558.75, 1008558.75, 1008558.75,\n",
       "       1008558.75, 1008558.75, 1008558.75, 1008558.75, 1008558.75,\n",
       "       1008558.75, 1008558.75, 1008558.75, 1008558.75, 1008558.75,\n",
       "       1008558.75, 1008558.75, 1008558.75, 1008558.75, 1008558.75,\n",
       "       1008558.75, 1008558.75, 1008558.75, 1008558.75, 1008558.75,\n",
       "       1008558.75, 1008558.75, 1008558.75, 1008558.75, 1009070.87,\n",
       "       1002132.03, 1012054.81, 1014227.63, 1014970.66, 1012901.44,\n",
       "       1016137.  , 1024351.7 , 1022699.88, 1026391.32, 1027693.83,\n",
       "       1021882.85, 1018978.84, 1018111.49, 1018232.86, 1010879.59,\n",
       "       1010189.85, 1009550.43, 1004935.39, 1011329.54, 1006880.28,\n",
       "       1007869.01, 1007309.52, 1005832.35, 1006699.71, 1006027.73,\n",
       "       1004698.57, 1005406.07, 1004722.26, 1004233.81, 1003336.86,\n",
       "       1003443.43, 1001146.27,  998641.89,  998638.93,  998638.93,\n",
       "        998638.93,  998638.93,  998638.93,  998638.93,  998638.93,\n",
       "        998638.93,  998638.93,  998638.93,  998638.93,  998638.93,\n",
       "        998638.93,  998638.93,  998638.93,  998638.93,  998638.93,\n",
       "        998638.93,  998638.93,  998638.93,  998638.93,  996808.31,\n",
       "        998673.67,  997585.99,  998072.37, 1001092.24,  993048.18,\n",
       "        994948.29,  994288.19,  993219.22,  993537.24,  993278.01,\n",
       "        991434.02,  990351.68,  989100.98,  993443.7 ,  993777.76,\n",
       "        993096.28,  991051.86,  991730.66,  991083.93,  990282.2 ,\n",
       "        990669.7 ,  989750.38,  989854.61,  991717.3 ,  992708.78,\n",
       "        991781.44,  990902.21,  990888.84,  990621.6 ,  989255.98,\n",
       "        989817.19,  990290.22,  989798.49,  989806.5 ,  989806.5 ,\n",
       "        989806.5 ,  989806.5 ,  989806.5 ,  989806.5 ,  989806.5 ,\n",
       "        989806.5 ,  989806.5 ,  989806.5 ,  989806.5 ,  989806.5 ,\n",
       "        989806.5 ,  989806.5 ,  989806.5 ,  989806.5 ,  989806.5 ,\n",
       "        989806.5 ,  989806.5 ,  989806.5 ,  989806.5 ,  989806.5 ,\n",
       "        989806.5 ,  989806.5 ,  989806.5 ,  989806.5 ,  989806.5 ,\n",
       "        989806.5 ,  989806.5 ,  989806.5 ,  989806.5 ,  989806.5 ,\n",
       "        989806.5 ,  989806.5 ,  989806.5 ,  989806.5 ,  989806.5 ,\n",
       "        989806.5 ,  989806.5 ,  989806.5 ,  989806.5 ,  989806.5 ,\n",
       "        989806.5 ,  989806.5 ,  989806.5 ,  989806.5 ,  989806.5 ,\n",
       "        989806.5 ,  989806.5 ,  989806.5 ,  989806.5 ,  989806.5 ,\n",
       "        989806.5 ,  989806.5 ,  989806.5 ,  989806.5 ,  989806.5 ,\n",
       "        989806.5 ,  989806.5 ,  987362.42,  987619.53,  987446.06,\n",
       "        985891.02,  986603.49,  987185.85,  987161.07,  986163.61,\n",
       "        987830.17,  986702.61,  986290.62,  986237.96,  988084.19,\n",
       "        988688.24,  989815.8 ,  987464.65,  986284.43,  984639.55,\n",
       "        986560.12,  986820.33,  990410.55,  986845.11,  984859.49,\n",
       "        984995.78,  983453.13,  981693.64,  981095.79,  980590.86,\n",
       "        979134.94,  979122.55,  979122.55,  979122.55,  979122.55,\n",
       "        979122.55,  979122.55,  979122.55,  979122.55,  979122.55,\n",
       "        979122.55,  979122.55,  979122.55,  979122.55,  979122.55,\n",
       "        979122.55,  979122.55,  979122.55,  979122.55,  979122.55,\n",
       "        979122.55,  979122.55,  979122.55,  979122.55,  979122.55,\n",
       "        979122.55,  979122.55,  979122.55,  979122.55,  979122.55,\n",
       "        979122.55,  979122.55,  979122.55,  979122.55,  979122.55,\n",
       "        979122.55,  979122.55,  979122.55,  979122.55,  979122.55,\n",
       "        979122.55,  979122.55,  979122.55,  979122.55,  979122.55,\n",
       "        979122.55,  979122.55,  979122.55,  979122.55,  979122.55,\n",
       "        979122.55,  979122.55,  979122.55,  979122.55,  979122.55,\n",
       "        979122.55,  979122.55,  979122.55,  979122.55,  979122.55,\n",
       "        979122.55,  979122.55,  979122.55,  979122.55,  979122.55,\n",
       "        979122.55,  979122.55,  979122.55,  979122.55,  979122.55,\n",
       "        979122.55,  979122.55,  979122.55,  979122.55,  979122.55,\n",
       "        979122.55,  979122.55,  979122.55,  979122.55,  979122.55,\n",
       "        979122.55,  979122.55,  979122.55,  979122.55,  979122.55,\n",
       "        979122.55,  979122.55,  979122.55,  979122.55,  979122.55,\n",
       "        979122.55,  982892.96,  982628.04,  983063.27,  980816.16,\n",
       "        979330.71,  973379.43,  976572.68,  978540.67,  981748.12,\n",
       "        981279.77,  980731.01,  984397.34,  981393.31,  983209.92,\n",
       "        981672.43,  983276.15,  983758.69,  983626.22,  985069.1 ,\n",
       "        985736.14,  987604.78,  986866.79,  984662.26,  983583.65,\n",
       "        984666.99,  987022.9 ,  985826.02,  984473.03,  985035.99,\n",
       "        984051.99,  983460.65,  981994.12,  981606.2 ,  982178.62,\n",
       "        984042.53,  983541.07,  980357.28,  973157.08,  972452.2 ,\n",
       "        974538.46,  976965.33,  976965.33,  976965.33,  976965.33,\n",
       "        976965.33,  976965.33,  976965.33,  976965.33,  976965.33,\n",
       "        976965.33,  976965.33,  976965.33,  976965.33,  976965.33,\n",
       "        976965.33,  976965.33,  976965.33,  976965.33,  976965.33,\n",
       "        976965.33,  977602.46,  977015.04,  976771.03,  974660.85,\n",
       "        972247.92,  973106.45,  970869.75,  971859.32,  972383.48,\n",
       "        971100.2 ,  971104.72,  971104.72,  971104.72,  971104.72,\n",
       "        971104.72,  971104.72,  971104.72,  971104.72,  971104.72,\n",
       "        971104.72,  971104.72,  971104.72,  971104.72,  971104.72,\n",
       "        971104.72,  971104.72,  971104.72,  971104.72,  971104.72,\n",
       "        971104.72,  971104.72,  971104.72,  971104.72,  971104.72,\n",
       "        971104.72,  971104.72,  971104.72,  971104.72,  971104.72,\n",
       "        971104.72,  971104.72,  971104.72,  971104.72,  971104.72])"
      ]
     },
     "metadata": {},
     "execution_count": 69
    }
   ],
   "source": [
    "def get_cash_including_position(cerebro_run):\n",
    "    #this assumes that PositionsValue analyzer exists with parameter cash=True (this is not the default) and headers=False (this is the default)\n",
    "    pos_analysis = get_pos_analysis(cerebro_run)\n",
    "    data = []\n",
    "    for key, value in pos_analysis.items():\n",
    "        data.append(sum(value))\n",
    "    return np.round_(np.array(data),2)\n",
    "result = get_cash_including_position(back)\n",
    "result"
   ]
  },
  {
   "cell_type": "code",
   "execution_count": 71,
   "metadata": {},
   "outputs": [
    {
     "output_type": "stream",
     "name": "stdout",
     "text": [
      "[ 0.    0.    0.    0.    0.    0.    0.    0.    0.    0.    0.    0.\n  0.    0.    0.    0.    0.    0.    0.    0.    0.    0.    0.    0.\n  0.    0.    0.    0.    0.    0.    0.    0.    0.    0.    0.    0.\n  0.    0.    0.    0.    0.    0.    0.    0.    0.    0.    0.    0.\n  0.    0.    0.    0.    0.    0.    0.    0.    0.    0.    0.    0.\n  0.    0.    0.    0.    0.    0.    0.    0.    0.    0.    0.    0.\n  0.    0.    0.    0.    0.    0.    0.    0.    0.    0.    0.    0.\n  0.    0.    0.    0.    0.    0.    0.    0.    0.    0.    0.    0.\n  0.    0.    0.    0.    0.    0.    0.    0.    0.    0.    0.    0.\n  0.    0.    0.    0.41  0.62  0.74  0.26  0.52  0.63  0.79  0.81  0.69\n  0.92  0.98  1.79  1.92  2.24  2.12  1.85  2.03  1.9   1.82  1.87  1.9\n  2.38  2.38  2.27  2.48  2.23  2.39  2.48  2.37  2.25  1.85  1.36  1.7\n  1.57  1.79  1.45  0.63  1.19  1.14  1.38  1.35  1.4   1.83  1.63  1.78\n  1.78  1.78  1.78  1.83  1.63  1.6   1.37  1.37  1.37  1.37  1.37  1.37\n  1.37  1.37  1.37  1.37  1.37  1.37  1.37  1.37  1.37  1.37  1.37  1.37\n  1.37  1.37  1.37  1.37  1.37  1.37  1.37  1.37  1.37  1.37  1.37  1.37\n  1.37  1.37  1.37  1.37  1.37  1.37  1.37  1.37  1.37  1.37  1.37  1.37\n  1.37  1.37  1.37  1.37  1.37  1.37  1.37  1.37  1.37  1.37  1.37  1.37\n  1.37  1.37  1.37  1.37  1.37  1.37  1.37  1.37  1.37  1.37  1.37  1.37\n  1.37  1.37  1.37  1.37  1.37  1.37  1.37  1.37  1.37  1.37  1.37  1.37\n  1.37  1.37  1.37  1.37  1.37  1.37  1.37  1.37  1.37  1.37  1.37  1.37\n  1.37  1.37  1.37  1.37  1.37  1.37  1.37  1.37  1.37  1.37  1.37  1.37\n  1.37  1.37  1.37  1.37  1.37  1.37  1.37  1.37  1.37  1.37  1.37  1.37\n  1.37  1.37  1.37  1.37  1.37  1.37  1.37  1.37  1.37  1.37  1.37  1.37\n  1.37  1.37  1.37  1.37  1.37  1.37  1.37  1.37  1.37  1.37  1.37  1.37\n  1.37  1.37  1.37  1.37  1.37  1.37  1.37  1.37  1.37  1.37  1.37  1.37\n  1.37  1.37  1.37  1.37  1.22  0.97  1.08  0.85  0.86  0.86  0.86  0.86\n  0.86  0.86  0.86  0.86  0.86  0.86  0.86  0.86  0.86  0.86  0.86  0.86\n  0.86  0.86  0.86  0.86  0.86  0.86  0.86  0.86  0.86  0.86  0.86  0.86\n  0.86  0.86  0.86  0.86  0.86  0.86  0.86  0.86  0.86  0.86  0.86  0.91\n  0.21  1.21  1.42  1.5   1.29  1.61  2.44  2.27  2.64  2.77  2.19  1.9\n  1.81  1.82  1.09  1.02  0.96  0.49  1.13  0.69  0.79  0.73  0.58  0.67\n  0.6   0.47  0.54  0.47  0.42  0.33  0.34  0.11 -0.14 -0.14 -0.14 -0.14\n -0.14 -0.14 -0.14 -0.14 -0.14 -0.14 -0.14 -0.14 -0.14 -0.14 -0.14 -0.14\n -0.14 -0.14 -0.14 -0.14 -0.14 -0.14 -0.32 -0.13 -0.24 -0.19  0.11 -0.7\n -0.51 -0.57 -0.68 -0.65 -0.67 -0.86 -0.96 -1.09 -0.66 -0.62 -0.69 -0.89\n -0.83 -0.89 -0.97 -0.93 -1.02 -1.01 -0.83 -0.73 -0.82 -0.91 -0.91 -0.94\n -1.07 -1.02 -0.97 -1.02 -1.02 -1.02 -1.02 -1.02 -1.02 -1.02 -1.02 -1.02\n -1.02 -1.02 -1.02 -1.02 -1.02 -1.02 -1.02 -1.02 -1.02 -1.02 -1.02 -1.02\n -1.02 -1.02 -1.02 -1.02 -1.02 -1.02 -1.02 -1.02 -1.02 -1.02 -1.02 -1.02\n -1.02 -1.02 -1.02 -1.02 -1.02 -1.02 -1.02 -1.02 -1.02 -1.02 -1.02 -1.02\n -1.02 -1.02 -1.02 -1.02 -1.02 -1.02 -1.02 -1.02 -1.02 -1.02 -1.02 -1.02\n -1.02 -1.02 -1.02 -1.26 -1.24 -1.26 -1.41 -1.34 -1.28 -1.28 -1.38 -1.22\n -1.33 -1.37 -1.38 -1.19 -1.13 -1.02 -1.25 -1.37 -1.54 -1.34 -1.32 -0.96\n -1.32 -1.51 -1.5  -1.65 -1.83 -1.89 -1.94 -2.09 -2.09 -2.09 -2.09 -2.09\n -2.09 -2.09 -2.09 -2.09 -2.09 -2.09 -2.09 -2.09 -2.09 -2.09 -2.09 -2.09\n -2.09 -2.09 -2.09 -2.09 -2.09 -2.09 -2.09 -2.09 -2.09 -2.09 -2.09 -2.09\n -2.09 -2.09 -2.09 -2.09 -2.09 -2.09 -2.09 -2.09 -2.09 -2.09 -2.09 -2.09\n -2.09 -2.09 -2.09 -2.09 -2.09 -2.09 -2.09 -2.09 -2.09 -2.09 -2.09 -2.09\n -2.09 -2.09 -2.09 -2.09 -2.09 -2.09 -2.09 -2.09 -2.09 -2.09 -2.09 -2.09\n -2.09 -2.09 -2.09 -2.09 -2.09 -2.09 -2.09 -2.09 -2.09 -2.09 -2.09 -2.09\n -2.09 -2.09 -2.09 -2.09 -2.09 -2.09 -2.09 -2.09 -2.09 -2.09 -2.09 -2.09\n -2.09 -2.09 -1.71 -1.74 -1.69 -1.92 -2.07 -2.66 -2.34 -2.15 -1.83 -1.87\n -1.93 -1.56 -1.86 -1.68 -1.83 -1.67 -1.62 -1.64 -1.49 -1.43 -1.24 -1.31\n -1.53 -1.64 -1.53 -1.3  -1.42 -1.55 -1.5  -1.59 -1.65 -1.8  -1.84 -1.78\n -1.6  -1.65 -1.96 -2.68 -2.75 -2.55 -2.3  -2.3  -2.3  -2.3  -2.3  -2.3\n -2.3  -2.3  -2.3  -2.3  -2.3  -2.3  -2.3  -2.3  -2.3  -2.3  -2.3  -2.3\n -2.3  -2.3  -2.24 -2.3  -2.32 -2.53 -2.78 -2.69 -2.91 -2.81 -2.76 -2.89\n -2.89 -2.89 -2.89 -2.89 -2.89 -2.89 -2.89 -2.89 -2.89 -2.89 -2.89 -2.89\n -2.89 -2.89 -2.89 -2.89 -2.89 -2.89 -2.89 -2.89 -2.89 -2.89 -2.89 -2.89\n -2.89 -2.89 -2.89 -2.89 -2.89 -2.89 -2.89 -2.89 -2.89 -2.89]\n"
     ]
    }
   ],
   "source": [
    "def get_percent_cash_change(cerebro_run):\n",
    "    cash_vals = get_cash_including_position(cerebro_run)\n",
    "    start_val = cash_vals[0]\n",
    "    return np.round((cash_vals / start_val - 1) * 100,2)\n",
    "result = get_percent_cash_change(back)\n",
    "print(result)"
   ]
  },
  {
   "cell_type": "code",
   "execution_count": 64,
   "metadata": {},
   "outputs": [
    {
     "output_type": "execute_result",
     "data": {
      "text/plain": [
       "array([1000000.        , 1000000.        , 1000000.        ,\n",
       "       1000000.        , 1000000.        , 1000000.        ,\n",
       "       1000000.        , 1000000.        , 1000000.        ,\n",
       "       1000000.        , 1000000.        , 1000000.        ,\n",
       "       1000000.        , 1000000.        , 1000000.        ,\n",
       "       1000000.        , 1000000.        , 1000000.        ,\n",
       "       1000000.        , 1000000.        , 1000000.        ,\n",
       "       1000000.        , 1000000.        , 1000000.        ,\n",
       "       1000000.        , 1000000.        , 1000000.        ,\n",
       "       1000000.        , 1000000.        , 1000000.        ,\n",
       "       1000000.        , 1000000.        , 1000000.        ,\n",
       "       1000000.        , 1000000.        , 1000000.        ,\n",
       "       1000000.        , 1000000.        , 1000000.        ,\n",
       "       1000000.        , 1000000.        , 1000000.        ,\n",
       "       1000000.        , 1000000.        , 1000000.        ,\n",
       "       1000000.        , 1000000.        , 1000000.        ,\n",
       "       1000000.        , 1000000.        , 1000000.        ,\n",
       "       1000000.        , 1000000.        , 1000000.        ,\n",
       "       1000000.        , 1000000.        , 1000000.        ,\n",
       "       1000000.        , 1000000.        , 1000000.        ,\n",
       "       1000000.        , 1000000.        , 1000000.        ,\n",
       "       1000000.        , 1000000.        , 1000000.        ,\n",
       "       1000000.        , 1000000.        , 1000000.        ,\n",
       "       1000000.        , 1000000.        , 1000000.        ,\n",
       "       1000000.        , 1000000.        , 1000000.        ,\n",
       "       1000000.        , 1000000.        , 1000000.        ,\n",
       "       1000000.        , 1000000.        , 1000000.        ,\n",
       "       1000000.        , 1000000.        , 1000000.        ,\n",
       "       1000000.        , 1000000.        , 1000000.        ,\n",
       "       1000000.        , 1000000.        , 1000000.        ,\n",
       "       1000000.        , 1000000.        , 1000000.        ,\n",
       "       1000000.        , 1000000.        , 1000000.        ,\n",
       "       1000000.        , 1000000.        , 1000000.        ,\n",
       "       1000000.        , 1000000.        , 1000000.        ,\n",
       "       1000000.        , 1000000.        , 1000000.        ,\n",
       "       1000000.        , 1000000.        , 1000000.        ,\n",
       "       1000000.        , 1000000.        , 1000000.        ,\n",
       "       1004146.78682924, 1006211.34476056, 1007433.58661719,\n",
       "       1002560.81757672, 1005176.1206338 , 1006251.10443541,\n",
       "       1007850.32691288, 1008069.74141486, 1006921.12858573,\n",
       "       1009224.24456618, 1009752.90098368, 1017850.62142899,\n",
       "       1019178.88908523, 1022449.49048713, 1021152.14702244,\n",
       "       1018501.50203216, 1020309.83094775, 1019012.48748307,\n",
       "       1018205.51334158, 1018744.47782294, 1019043.41167462,\n",
       "       1023808.68233492, 1023795.42910997, 1022705.71950286,\n",
       "       1024832.12581728, 1022283.08888496, 1023936.79684279,\n",
       "       1024807.09194793, 1023680.56782706, 1022539.31790069,\n",
       "       1018533.89880426, 1013562.46686694, 1017034.81180421,\n",
       "       1015724.21511457, 1017852.09400954, 1014546.15067444,\n",
       "       1006337.98668787, 1011926.42987571, 1011413.97184426,\n",
       "       1013815.75072156, 1013465.27655063, 1014010.13135419,\n",
       "       1018257.05366084, 1016329.44572068, 1017762.26659598,\n",
       "       1017762.26659598, 1017762.26659598, 1017833.39537265,\n",
       "       1018295.08579576, 1016267.26903545, 1015953.00916763,\n",
       "       1013711.80607732, 1013711.80607732, 1013711.80607732,\n",
       "       1013711.80607732, 1013711.80607732, 1013711.80607732,\n",
       "       1013711.80607732, 1013711.80607732, 1013711.80607732,\n",
       "       1013711.80607732, 1013711.80607732, 1013711.80607732,\n",
       "       1013711.80607732, 1013711.80607732, 1013711.80607732,\n",
       "       1013711.80607732, 1013711.80607732, 1013711.80607732,\n",
       "       1013711.80607732, 1013711.80607732, 1013711.80607732,\n",
       "       1013711.80607732, 1013711.80607732, 1013711.80607732,\n",
       "       1013711.80607732, 1013711.80607732, 1013711.80607732,\n",
       "       1013711.80607732, 1013711.80607732, 1013711.80607732,\n",
       "       1013711.80607732, 1013711.80607732, 1013711.80607732,\n",
       "       1013711.80607732, 1013711.80607732, 1013711.80607732,\n",
       "       1013711.80607732, 1013711.80607732, 1013711.80607732,\n",
       "       1013711.80607732, 1013711.80607732, 1013711.80607732,\n",
       "       1013711.80607732, 1013711.80607732, 1013711.80607732,\n",
       "       1013711.80607732, 1013711.80607732, 1013711.80607732,\n",
       "       1013711.80607732, 1013711.80607732, 1013711.80607732,\n",
       "       1013711.80607732, 1013711.80607732, 1013711.80607732,\n",
       "       1013711.80607732, 1013711.80607732, 1013711.80607732,\n",
       "       1013711.80607732, 1013711.80607732, 1013711.80607732,\n",
       "       1013711.80607732, 1013711.80607732, 1013711.80607732,\n",
       "       1013711.80607732, 1013711.80607732, 1013711.80607732,\n",
       "       1013711.80607732, 1013711.80607732, 1013711.80607732,\n",
       "       1013711.80607732, 1013711.80607732, 1013711.80607732,\n",
       "       1013711.80607732, 1013711.80607732, 1013711.80607732,\n",
       "       1013711.80607732, 1013711.80607732, 1013711.80607732,\n",
       "       1013711.80607732, 1013711.80607732, 1013711.80607732,\n",
       "       1013711.80607732, 1013711.80607732, 1013711.80607732,\n",
       "       1013711.80607732, 1013711.80607732, 1013711.80607732,\n",
       "       1013711.80607732, 1013711.80607732, 1013711.80607732,\n",
       "       1013711.80607732, 1013711.80607732, 1013711.80607732,\n",
       "       1013711.80607732, 1013711.80607732, 1013711.80607732,\n",
       "       1013711.80607732, 1013711.80607732, 1013711.80607732,\n",
       "       1013711.80607732, 1013711.80607732, 1013711.80607732,\n",
       "       1013711.80607732, 1013711.80607732, 1013711.80607732,\n",
       "       1013711.80607732, 1013711.80607732, 1013711.80607732,\n",
       "       1013711.80607732, 1013711.80607732, 1013711.80607732,\n",
       "       1013711.80607732, 1013711.80607732, 1013711.80607732,\n",
       "       1013711.80607732, 1013711.80607732, 1013711.80607732,\n",
       "       1013711.80607732, 1013711.80607732, 1013711.80607732,\n",
       "       1013711.80607732, 1013711.80607732, 1013711.80607732,\n",
       "       1013711.80607732, 1013711.80607732, 1013711.80607732,\n",
       "       1013711.80607732, 1013711.80607732, 1013711.80607732,\n",
       "       1013711.80607732, 1013711.80607732, 1013711.80607732,\n",
       "       1013711.80607732, 1013711.80607732, 1013711.80607732,\n",
       "       1013711.80607732, 1013711.80607732, 1013711.80607732,\n",
       "       1013711.80607732, 1013711.80607732, 1013711.80607732,\n",
       "       1013711.80607732, 1013711.80607732, 1013711.80607732,\n",
       "       1013711.80607732, 1013711.80607732, 1013711.80607732,\n",
       "       1013711.80607732, 1013711.80607732, 1013711.80607732,\n",
       "       1013711.80607732, 1013711.80607732, 1013711.80607732,\n",
       "       1013711.80607732, 1012150.83124407, 1009686.45759002,\n",
       "       1010758.85959159, 1008509.58089487, 1008558.74545655,\n",
       "       1008558.74545655, 1008558.74545655, 1008558.74545655,\n",
       "       1008558.74545655, 1008558.74545655, 1008558.74545655,\n",
       "       1008558.74545655, 1008558.74545655, 1008558.74545655,\n",
       "       1008558.74545655, 1008558.74545655, 1008558.74545655,\n",
       "       1008558.74545655, 1008558.74545655, 1008558.74545655,\n",
       "       1008558.74545655, 1008558.74545655, 1008558.74545655,\n",
       "       1008558.74545655, 1008558.74545655, 1008558.74545655,\n",
       "       1008558.74545655, 1008558.74545655, 1008558.74545655,\n",
       "       1008558.74545655, 1008558.74545655, 1008558.74545655,\n",
       "       1008558.74545655, 1008558.74545655, 1008558.74545655,\n",
       "       1008558.74545655, 1008558.74545655, 1008558.74545655,\n",
       "       1008558.74545655, 1008558.74545655, 1008558.74545655,\n",
       "       1008558.74545655, 1008558.74545655, 1009070.86950399,\n",
       "       1002132.03269933, 1012054.80615037, 1014227.63303374,\n",
       "       1014970.65694073, 1012901.43896869, 1016136.99725687,\n",
       "       1024351.70379823, 1022699.88172613, 1026391.31922418,\n",
       "       1027693.83125236, 1021882.85145391, 1018978.84168199,\n",
       "       1018111.48708141, 1018232.85752039, 1010879.5850704 ,\n",
       "       1010189.84574638, 1009550.43075073, 1004935.39381452,\n",
       "       1011329.54377104, 1006880.28109296, 1007869.00613254,\n",
       "       1007309.51801134, 1005832.3509612 , 1006699.70556178,\n",
       "       1006027.72776543, 1004698.57344576, 1005406.07429743,\n",
       "       1004722.25548264, 1004233.81347207, 1003336.85632539,\n",
       "       1003443.42549133, 1001146.26791436,  998641.89251473,\n",
       "        998638.93226012,  998638.93226012,  998638.93226012,\n",
       "        998638.93226012,  998638.93226012,  998638.93226012,\n",
       "        998638.93226012,  998638.93226012,  998638.93226012,\n",
       "        998638.93226012,  998638.93226012,  998638.93226012,\n",
       "        998638.93226012,  998638.93226012,  998638.93226012,\n",
       "        998638.93226012,  998638.93226012,  998638.93226012,\n",
       "        998638.93226012,  998638.93226012,  998638.93226012,\n",
       "        996808.30801317,  998673.67403415,  997585.9892626 ,\n",
       "        998072.37409902, 1001092.23599544,  993048.17908551,\n",
       "        994948.28688051,  994288.19317395,  993219.2155115 ,\n",
       "        993537.23636608,  993278.00928293,  991434.02281521,\n",
       "        990351.68293198,  989100.97906691,  993443.70082061,\n",
       "        993777.75634013,  993096.28308032,  991051.86330088,\n",
       "        991730.66411654,  991083.93263076,  990282.19938392,\n",
       "        990669.70378656,  989750.38299685,  989854.60831894,\n",
       "        991717.30189576,  992708.77867768,  991781.4405555 ,\n",
       "        990902.20642814,  990888.84420736,  990621.59979175,\n",
       "        989255.98082797,  989817.19410075,  990290.21671639,\n",
       "        989798.48699166,  989806.50432413,  989806.50432413,\n",
       "        989806.50432413,  989806.50432413,  989806.50432413,\n",
       "        989806.50432413,  989806.50432413,  989806.50432413,\n",
       "        989806.50432413,  989806.50432413,  989806.50432413,\n",
       "        989806.50432413,  989806.50432413,  989806.50432413,\n",
       "        989806.50432413,  989806.50432413,  989806.50432413,\n",
       "        989806.50432413,  989806.50432413,  989806.50432413,\n",
       "        989806.50432413,  989806.50432413,  989806.50432413,\n",
       "        989806.50432413,  989806.50432413,  989806.50432413,\n",
       "        989806.50432413,  989806.50432413,  989806.50432413,\n",
       "        989806.50432413,  989806.50432413,  989806.50432413,\n",
       "        989806.50432413,  989806.50432413,  989806.50432413,\n",
       "        989806.50432413,  989806.50432413,  989806.50432413,\n",
       "        989806.50432413,  989806.50432413,  989806.50432413,\n",
       "        989806.50432413,  989806.50432413,  989806.50432413,\n",
       "        989806.50432413,  989806.50432413,  989806.50432413,\n",
       "        989806.50432413,  989806.50432413,  989806.50432413,\n",
       "        989806.50432413,  989806.50432413,  989806.50432413,\n",
       "        989806.50432413,  989806.50432413,  989806.50432413,\n",
       "        989806.50432413,  989806.50432413,  989806.50432413,\n",
       "        987362.42291734,  987619.53160779,  987446.06068411,\n",
       "        985891.01776116,  986603.48762626,  987185.8542986 ,\n",
       "        987161.07273807,  986163.61492694,  987830.17487225,\n",
       "        986702.61386836,  986290.62042463,  986237.95960851,\n",
       "        988084.18586763,  988688.23640543,  989815.79740933,\n",
       "        987464.6468545 ,  986284.4250345 ,  984639.54895464,\n",
       "        986560.11989534,  986820.32628085,  990410.55486193,\n",
       "        986845.10784138,  984859.4853043 ,  984995.78388719,\n",
       "        983453.1317445 ,  981693.64094722,  981095.78579955,\n",
       "        980590.86150385,  979134.944823  ,  979122.55404273,\n",
       "        979122.55404273,  979122.55404273,  979122.55404273,\n",
       "        979122.55404273,  979122.55404273,  979122.55404273,\n",
       "        979122.55404273,  979122.55404273,  979122.55404273,\n",
       "        979122.55404273,  979122.55404273,  979122.55404273,\n",
       "        979122.55404273,  979122.55404273,  979122.55404273,\n",
       "        979122.55404273,  979122.55404273,  979122.55404273,\n",
       "        979122.55404273,  979122.55404273,  979122.55404273,\n",
       "        979122.55404273,  979122.55404273,  979122.55404273,\n",
       "        979122.55404273,  979122.55404273,  979122.55404273,\n",
       "        979122.55404273,  979122.55404273,  979122.55404273,\n",
       "        979122.55404273,  979122.55404273,  979122.55404273,\n",
       "        979122.55404273,  979122.55404273,  979122.55404273,\n",
       "        979122.55404273,  979122.55404273,  979122.55404273,\n",
       "        979122.55404273,  979122.55404273,  979122.55404273,\n",
       "        979122.55404273,  979122.55404273,  979122.55404273,\n",
       "        979122.55404273,  979122.55404273,  979122.55404273,\n",
       "        979122.55404273,  979122.55404273,  979122.55404273,\n",
       "        979122.55404273,  979122.55404273,  979122.55404273,\n",
       "        979122.55404273,  979122.55404273,  979122.55404273,\n",
       "        979122.55404273,  979122.55404273,  979122.55404273,\n",
       "        979122.55404273,  979122.55404273,  979122.55404273,\n",
       "        979122.55404273,  979122.55404273,  979122.55404273,\n",
       "        979122.55404273,  979122.55404273,  979122.55404273,\n",
       "        979122.55404273,  979122.55404273,  979122.55404273,\n",
       "        979122.55404273,  979122.55404273,  979122.55404273,\n",
       "        979122.55404273,  979122.55404273,  979122.55404273,\n",
       "        979122.55404273,  979122.55404273,  979122.55404273,\n",
       "        979122.55404273,  979122.55404273,  979122.55404273,\n",
       "        979122.55404273,  979122.55404273,  979122.55404273,\n",
       "        979122.55404273,  979122.55404273,  982892.95881431,\n",
       "        982628.03702358,  983063.26567977,  980816.16120487,\n",
       "        979330.7068783 ,  973379.42807951,  976572.681807  ,\n",
       "        978540.67225239,  981748.11821867,  981279.77433864,\n",
       "        980731.00777214,  984397.33612592,  981393.31224895,\n",
       "        983209.91881392,  981672.42627846,  983276.1492616 ,\n",
       "        983758.68538043,  983626.22448506,  985069.10209526,\n",
       "        985736.13731834,  987604.7820922 ,  986866.78567518,\n",
       "        984662.25791665,  983583.6477687 ,  984666.98866291,\n",
       "        987022.90030186,  985826.02149733,  984473.02806613,\n",
       "        985035.98687142,  984051.99164873,  983460.64836586,\n",
       "        981994.11702435,  981606.19583078,  982178.6161286 ,\n",
       "        984042.5301562 ,  983541.07105233,  980357.27881736,\n",
       "        973157.08300515,  972452.20181198,  974538.46091394,\n",
       "        976965.33374683,  976965.33374683,  976965.33374683,\n",
       "        976965.33374683,  976965.33374683,  976965.33374683,\n",
       "        976965.33374683,  976965.33374683,  976965.33374683,\n",
       "        976965.33374683,  976965.33374683,  976965.33374683,\n",
       "        976965.33374683,  976965.33374683,  976965.33374683,\n",
       "        976965.33374683,  976965.33374683,  976965.33374683,\n",
       "        976965.33374683,  976965.33374683,  977602.45558235,\n",
       "        977015.03828719,  976771.03417997,  974660.85051196,\n",
       "        972247.92100722,  973106.45397707,  970869.74966087,\n",
       "        971859.32187349,  972383.47884456,  971100.19798436,\n",
       "        971104.71657894,  971104.71657894,  971104.71657894,\n",
       "        971104.71657894,  971104.71657894,  971104.71657894,\n",
       "        971104.71657894,  971104.71657894,  971104.71657894,\n",
       "        971104.71657894,  971104.71657894,  971104.71657894,\n",
       "        971104.71657894,  971104.71657894,  971104.71657894,\n",
       "        971104.71657894,  971104.71657894,  971104.71657894,\n",
       "        971104.71657894,  971104.71657894,  971104.71657894,\n",
       "        971104.71657894,  971104.71657894,  971104.71657894,\n",
       "        971104.71657894,  971104.71657894,  971104.71657894,\n",
       "        971104.71657894,  971104.71657894,  971104.71657894,\n",
       "        971104.71657894,  971104.71657894,  971104.71657894,\n",
       "        971104.71657894])"
      ]
     },
     "metadata": {},
     "execution_count": 64
    }
   ],
   "source": [
    "result"
   ]
  },
  {
   "cell_type": "code",
   "execution_count": null,
   "metadata": {},
   "outputs": [],
   "source": []
  }
 ]
}