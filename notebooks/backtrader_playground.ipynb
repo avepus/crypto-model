{
 "metadata": {
  "language_info": {
   "codemirror_mode": {
    "name": "ipython",
    "version": 3
   },
   "file_extension": ".py",
   "mimetype": "text/x-python",
   "name": "python",
   "nbconvert_exporter": "python",
   "pygments_lexer": "ipython3",
   "version": "3.9.1-final"
  },
  "orig_nbformat": 2,
  "kernelspec": {
   "name": "python3",
   "display_name": "Python 3.9.1 64-bit",
   "metadata": {
    "interpreter": {
     "hash": "b54cb9753f1fc2478effd5c05200ae4f0e3c44cd8f27e179dabba8365c7dc822"
    }
   }
  }
 },
 "nbformat": 4,
 "nbformat_minor": 2,
 "cells": [
  {
   "cell_type": "code",
   "execution_count": 1,
   "metadata": {},
   "outputs": [],
   "source": [
    "#%matplotlib widget\n",
    "import backtrader as bt\n",
    "import backtrader.analyzers as btanalyzers\n",
    "import rba_tools as rba\n",
    "import pandas as pd\n",
    "import numpy as np\n",
    "#import matplotlib\n",
    "from datetime import datetime\n",
    "from datetime import date\n",
    "from datetime import timedelta\n",
    "from backtrader.utils import num2date"
   ]
  },
  {
   "cell_type": "code",
   "execution_count": 2,
   "metadata": {},
   "outputs": [],
   "source": [
    "class MaCrossStrategy(bt.Strategy):\n",
    "\n",
    "    def __init__(self):\n",
    "        ma_fast = bt.ind.SMA(period = 10)\n",
    "        ma_slow = bt.ind.SMA(period = 50)\n",
    "\n",
    "        self.crossover = bt.ind.CrossOver(ma_fast, ma_slow)\n",
    "\n",
    "    def next(self):\n",
    "        if not self.position:\n",
    "            if self.crossover > 0:\n",
    "                self.buy()\n",
    "        elif self.crossover < 0:\n",
    "            self.close()"
   ]
  },
  {
   "cell_type": "code",
   "execution_count": 3,
   "metadata": {},
   "outputs": [],
   "source": [
    "cerebro = bt.Cerebro()"
   ]
  },
  {
   "cell_type": "code",
   "execution_count": 4,
   "metadata": {},
   "outputs": [
    {
     "output_type": "execute_result",
     "data": {
      "text/plain": [
       "<backtrader.feeds.pandafeed.PandasData at 0x16859683790>"
      ]
     },
     "metadata": {},
     "execution_count": 4
    }
   ],
   "source": [
    "binance = rba.getBinanceExchange()\n",
    "dataframe = rba.get_DataFrame(['ETH/BTC'], binance, '1/1/18', '12/31/19')\n",
    "data = bt.feeds.PandasData(dataname=dataframe,\n",
    "                               # datetime='Date',\n",
    "                               nocase=True,\n",
    "                               )\n",
    "cerebro.adddata(data)"
   ]
  },
  {
   "cell_type": "code",
   "execution_count": 5,
   "metadata": {},
   "outputs": [],
   "source": [
    "#dataframe2 = rba.get_DataFrame(['LTC/BTC'], binance, '1/1/18', '12/31/19')\n",
    "#data2 = bt.feeds.PandasData(dataname=dataframe2,\n",
    "#                               # datetime='Date',\n",
    "#                               nocase=True,\n",
    "#                               )\n",
    "#cerebro.adddata(data2)"
   ]
  },
  {
   "cell_type": "code",
   "execution_count": 6,
   "metadata": {},
   "outputs": [],
   "source": [
    "#add observers before running strategy but after feed"
   ]
  },
  {
   "cell_type": "code",
   "execution_count": 7,
   "metadata": {},
   "outputs": [
    {
     "output_type": "execute_result",
     "data": {
      "text/plain": [
       "0"
      ]
     },
     "metadata": {},
     "execution_count": 7
    }
   ],
   "source": [
    "cerebro.addstrategy(MaCrossStrategy)"
   ]
  },
  {
   "cell_type": "code",
   "execution_count": 8,
   "metadata": {},
   "outputs": [],
   "source": [
    "cerebro.broker.setcash(1000.0)"
   ]
  },
  {
   "cell_type": "code",
   "execution_count": 9,
   "metadata": {},
   "outputs": [],
   "source": [
    "cerebro.addsizer(bt.sizers.PercentSizer, percents = 10)"
   ]
  },
  {
   "cell_type": "code",
   "execution_count": 10,
   "metadata": {},
   "outputs": [],
   "source": [
    "#cerebro.addanalyzer(btanalyzers.SharpeRatio, _name = 'sharpe')\n",
    "#cerebro.addanalyzer(btanalyzers.Transactions, _name = 'trans')\n",
    "#cerebro.addanalyzer(btanalyzers.Returns, _name = 'returns')\n",
    "cerebro.addanalyzer(btanalyzers.TradeAnalyzer, _name = 'trades') #good for summary stats on trades\n",
    "cerebro.addanalyzer(btanalyzers.PositionsValue, _name = 'pos', cash=True) #this is a good one. Shows position values over time\n",
    "cerebro.addanalyzer(btanalyzers.AnnualReturn, _name = 'annReturns')"
   ]
  },
  {
   "cell_type": "code",
   "execution_count": 11,
   "metadata": {},
   "outputs": [],
   "source": [
    "back = cerebro.run()"
   ]
  },
  {
   "cell_type": "code",
   "execution_count": 12,
   "metadata": {},
   "outputs": [
    {
     "output_type": "execute_result",
     "data": {
      "text/plain": [
       "971.1047165789386"
      ]
     },
     "metadata": {},
     "execution_count": 12
    }
   ],
   "source": [
    "cerebro.broker.getvalue()"
   ]
  },
  {
   "cell_type": "code",
   "execution_count": 13,
   "metadata": {},
   "outputs": [
    {
     "output_type": "stream",
     "name": "stdout",
     "text": [
      "<backtrader.analyzers.tradeanalyzer.TradeAnalyzer object at 0x000001687CBF12E0>\n<backtrader.analyzers.positions.PositionsValue object at 0x000001687CBF1340>\n<backtrader.analyzers.annualreturn.AnnualReturn object at 0x000001687CBF13A0>\n"
     ]
    }
   ],
   "source": [
    "for x in back[0].analyzers:\n",
    "    print(x)"
   ]
  },
  {
   "cell_type": "code",
   "execution_count": 14,
   "metadata": {},
   "outputs": [],
   "source": [
    "mytrades = back[0].analyzers.trades.get_analysis()"
   ]
  },
  {
   "cell_type": "code",
   "execution_count": 15,
   "metadata": {},
   "outputs": [],
   "source": [
    "def pintdictdict(indict,indent=0):\n",
    "    indent += 1\n",
    "    for x in indict:\n",
    "        print('\\n','   ' * indent,x,end='',sep='')\n",
    "        val = indict[x]\n",
    "        if isinstance(val,bt.utils.autodict.AutoOrderedDict):\n",
    "            pintdictdict(val,indent)\n",
    "        else:\n",
    "            print('=',val,sep='',end='')"
   ]
  },
  {
   "cell_type": "code",
   "execution_count": 16,
   "metadata": {},
   "outputs": [
    {
     "output_type": "stream",
     "name": "stdout",
     "text": [
      "\n   total\n      total=8\n      open=0\n      closed=8\n   streak\n      won\n         current=0\n         longest=1\n      lost\n         current=7\n         longest=7\n   pnl\n      gross\n         total=-28.89528342106143\n         average=-3.6119104276326786\n      net\n         total=-28.89528342106143\n         average=-3.6119104276326786\n   won\n      total=1\n      pnl\n         total=17.76226659598281\n         average=17.76226659598281\n         max=17.76226659598281\n   lost\n      total=7\n      pnl\n         total=-46.657550017044244\n         average=-6.665364288149178\n         max=-10.6839502813943\n   long\n      total=8\n      pnl\n         total=-28.89528342106143\n         average=-3.6119104276326786\n         won\n            total=17.76226659598281\n            average=17.76226659598281\n            max=17.76226659598281\n         lost\n            total=-46.657550017044244\n            average=-6.665364288149178\n            max=-10.6839502813943\n      won=1\n      lost=7\n   short\n      total=0\n      pnl\n         total=0.0\n         average=0.0\n         won\n            total=0.0\n            average=0.0\n            max=0.0\n         lost\n            total=0.0\n            average=0.0\n            max=0.0\n      won=0\n      lost=0\n   len\n      total=203\n      average=25.375\n      max=45\n      min=5\n      won\n         total=45\n         average=45.0\n         max=45\n         min=45\n      lost\n         total=158\n         average=22.571428571428573\n         max=41\n         min=5\n      long\n         total=203\n         average=25.375\n         max=45\n         min=5\n         won\n            total=45\n            average=45.0\n            max=45\n            min=45\n         lost\n            total=158\n            average=22.571428571428573\n            max=41\n            min=5\n      short\n         total=0\n         average=0.0\n         max=0\n         min=9223372036854775807\n         won\n            total=0\n            average=0.0\n            max=0\n            min=9223372036854775807\n         lost\n            total=0\n            average=0.0\n            max=0\n            min=9223372036854775807"
     ]
    }
   ],
   "source": [
    "pintdictdict(mytrades)"
   ]
  },
  {
   "cell_type": "code",
   "execution_count": 17,
   "metadata": {},
   "outputs": [
    {
     "output_type": "execute_result",
     "data": {
      "text/plain": [
       "OrderedDict([(2018, 0.012901438968685452), (2019, -0.0412643528597445)])"
      ]
     },
     "metadata": {},
     "execution_count": 17
    }
   ],
   "source": [
    "annReturns = back[0].analyzers.annReturns.get_analysis()\n",
    "annReturns"
   ]
  },
  {
   "cell_type": "code",
   "execution_count": 18,
   "metadata": {},
   "outputs": [
    {
     "output_type": "stream",
     "name": "stdout",
     "text": [
      "2019-02-17 = [0.0, 998.6389322601159]\n2019-02-18 = [0.0, 998.6389322601159]\n2019-02-19 = [98.1027525271264, 898.7055554860451]\n2019-02-20 = [99.9681185481004, 898.7055554860451]\n2019-02-21 = [98.88043377655825, 898.7055554860451]\n2019-02-22 = [99.36681861297268, 898.7055554860451]\n2019-02-23 = [102.38668050939188, 898.7055554860451]\n2019-02-24 = [94.34262359946106, 898.7055554860451]\n2019-02-25 = [96.24273139446467, 898.7055554860451]\n2019-02-26 = [95.58263768790223, 898.7055554860451]\n2019-02-27 = [94.51366002545296, 898.7055554860451]\n2019-02-28 = [94.83168088003163, 898.7055554860451]\n2019-03-01 = [94.57245379688767, 898.7055554860451]\n2019-03-02 = [92.72846732916265, 898.7055554860451]\n2019-03-03 = [91.64612744593275, 898.7055554860451]\n"
     ]
    }
   ],
   "source": [
    "pos = back[0].analyzers.pos.get_analysis()\n",
    "for d in [date(2019, 2, 17) + timedelta(days=x) for x in range(15)]:\n",
    "    print(d,'=',pos[d])"
   ]
  },
  {
   "cell_type": "code",
   "execution_count": 19,
   "metadata": {},
   "outputs": [
    {
     "output_type": "stream",
     "name": "stdout",
     "text": [
      "<backtrader.observers.broker.Broker object at 0x000001687CBE9AC0>\n<backtrader.observers.trades.Trades object at 0x000001687CBF1070>\n"
     ]
    }
   ],
   "source": [
    "for x in back[0].stats:\n",
    "    print(x)"
   ]
  },
  {
   "cell_type": "code",
   "execution_count": 20,
   "metadata": {},
   "outputs": [],
   "source": [
    "datatrades = back[0].stats[1]\n",
    "broker = back[0].stats[0]"
   ]
  },
  {
   "cell_type": "code",
   "execution_count": 21,
   "metadata": {},
   "outputs": [
    {
     "output_type": "stream",
     "name": "stdout",
     "text": [
      "<class 'backtrader.observers.broker.Broker'>\nx.plotinfo.plot = True\nx.plotinfo.plotskip = False\nx.plotinfo.subplot = True\n<class 'backtrader.observers.trades.Trades'>\nx.plotinfo.plot = True\nx.plotinfo.plotskip = False\nx.plotinfo.subplot = True\n"
     ]
    }
   ],
   "source": [
    "for x in back[0].stats:\n",
    "    print(type(x))\n",
    "    print('x.plotinfo.plot =',x.plotinfo.plot)\n",
    "    print('x.plotinfo.plotskip =',x.plotinfo.plotskip)\n",
    "    print('x.plotinfo.subplot =',x.plotinfo.subplot)"
   ]
  },
  {
   "cell_type": "code",
   "execution_count": 22,
   "metadata": {},
   "outputs": [
    {
     "output_type": "execute_result",
     "data": {
      "text/plain": [
       "<backtrader.observers.trades.Trades at 0x1687cbf1070>"
      ]
     },
     "metadata": {},
     "execution_count": 22
    }
   ],
   "source": [
    "myobs = back[0].stats[1]\n",
    "myobs"
   ]
  },
  {
   "cell_type": "code",
   "execution_count": 23,
   "metadata": {},
   "outputs": [
    {
     "output_type": "execute_result",
     "data": {
      "text/plain": [
       "False"
      ]
     },
     "metadata": {},
     "execution_count": 23
    }
   ],
   "source": [
    "isinstance(myobs ,bt.observers.trades.DataTrades)"
   ]
  },
  {
   "cell_type": "code",
   "execution_count": 24,
   "metadata": {},
   "outputs": [],
   "source": [
    "ind = myobs"
   ]
  },
  {
   "cell_type": "code",
   "execution_count": 25,
   "metadata": {},
   "outputs": [
    {
     "output_type": "stream",
     "name": "stdout",
     "text": [
      "lineidx = 0\nlinealias = pnlplus\nind.plotlines = <backtrader.metabase.AutoInfoClass_pl_LineSeries_pl_LineIterator_pl_DataAccessor_pl_ObserverBase_pl_Observer_pl_Trades object at 0x000001687CBF1130>\nlineplotinfo = None\n2 lineplotinfo = <backtrader.metabase.AutoInfoClass_pl_Trades_pnlplus object at 0x000001687CBF1220>\npltmethod = plot\nlineidx = 1\nlinealias = pnlminus\nind.plotlines = <backtrader.metabase.AutoInfoClass_pl_LineSeries_pl_LineIterator_pl_DataAccessor_pl_ObserverBase_pl_Observer_pl_Trades object at 0x000001687CBF1130>\nlineplotinfo = None\n2 lineplotinfo = <backtrader.metabase.AutoInfoClass_pl_Trades_pnlminus object at 0x000001687CBF1280>\npltmethod = plot\n"
     ]
    }
   ],
   "source": [
    "for lineidx in range(ind.size()):\n",
    "            print('lineidx =',lineidx)\n",
    "            line = ind.lines[lineidx]\n",
    "            linealias = ind.lines._getlinealias(lineidx)\n",
    "            print('linealias =',linealias)\n",
    "            lineplotinfo = getattr(ind.plotlines, '_%d' % lineidx, None)\n",
    "            print('ind.plotlines =',ind.plotlines)\n",
    "            print('lineplotinfo =',lineplotinfo)\n",
    "            if not lineplotinfo:\n",
    "                lineplotinfo = getattr(ind.plotlines, linealias, None)\n",
    "                print('2 lineplotinfo =',lineplotinfo)\n",
    "            if not lineplotinfo:\n",
    "                lineplotinfo = AutoInfoClass()\n",
    "                print('3 lineplotinfo =',lineplotinfo)\n",
    "            pltmethod = lineplotinfo._get('_method', 'plot')\n",
    "            print('pltmethod =',pltmethod)\n",
    "            if pltmethod != 'plot':\n",
    "                toskip += 1 - lineplotinfo._get('_plotskip', False)"
   ]
  },
  {
   "cell_type": "code",
   "execution_count": 26,
   "metadata": {},
   "outputs": [
    {
     "output_type": "stream",
     "name": "stdout",
     "text": [
      "1460\n",
      "[17.7622666]\n",
      "1\n",
      "1460\n",
      "[ -4.05046052  -5.15306062  -9.9198132   -8.83242794 -10.68395028\n",
      "  -2.1572203   -5.86061717]\n",
      "7\n"
     ]
    }
   ],
   "source": [
    "for line in myobs.lines:\n",
    "    npary = np.frombuffer(line.array)\n",
    "    print(len(npary))\n",
    "    print(npary[~np.isnan(npary)])\n",
    "    print(len(npary[~np.isnan(npary)]))"
   ]
  },
  {
   "cell_type": "code",
   "execution_count": 27,
   "metadata": {},
   "outputs": [
    {
     "output_type": "execute_result",
     "data": {
      "text/plain": [
       "array([nan, nan, nan, ..., nan, nan, nan])"
      ]
     },
     "metadata": {},
     "execution_count": 27
    }
   ],
   "source": [
    "npary = np.frombuffer(myobs.lines[0].array)\n",
    "npary"
   ]
  },
  {
   "cell_type": "code",
   "execution_count": 28,
   "metadata": {},
   "outputs": [
    {
     "output_type": "execute_result",
     "data": {
      "text/plain": [
       "array([17.7622666])"
      ]
     },
     "metadata": {},
     "execution_count": 28
    }
   ],
   "source": [
    "npary[~np.isnan(npary)]"
   ]
  },
  {
   "cell_type": "code",
   "execution_count": 29,
   "metadata": {},
   "outputs": [
    {
     "output_type": "execute_result",
     "data": {
      "text/plain": [
       "<backtrader.linebuffer.LineBuffer at 0x1687cbf1190>"
      ]
     },
     "metadata": {},
     "execution_count": 29
    }
   ],
   "source": [
    "myline = myobs.lines[0]\n",
    "myline"
   ]
  },
  {
   "cell_type": "code",
   "execution_count": 30,
   "metadata": {},
   "outputs": [
    {
     "output_type": "execute_result",
     "data": {
      "text/plain": [
       "array('d', [nan, nan, nan, nan, nan, nan, nan, nan, nan, nan, nan, nan, nan, nan, nan, nan, nan, nan, nan, nan, nan, nan, nan, nan, nan, nan, nan, nan, nan, nan, nan, nan, nan, nan, nan, nan, nan, nan, nan, nan, nan, nan, nan, nan, nan, nan, nan, nan, nan, nan, nan, nan, nan, nan, nan, nan, nan, nan, nan, nan, nan, nan, nan, nan, nan, nan, nan, nan, nan, nan, nan, nan, nan, nan, nan, nan, nan, nan, nan, nan, nan, nan, nan, nan, nan, nan, nan, nan, nan, nan, nan, nan, nan, nan, nan, nan, nan, nan, nan, nan, nan, nan, nan, nan, nan, nan, nan, nan, nan, nan, nan, nan, nan, nan, nan, nan, nan, nan, nan, nan, nan, nan, nan, nan, nan, nan, nan, nan, nan, nan, nan, nan, nan, nan, nan, nan, nan, nan, nan, nan, nan, nan, nan, nan, nan, nan, nan, nan, nan, nan, nan, nan, nan, nan, nan, nan, 17.76226659598281, nan, nan, nan, nan, nan, nan, nan, nan, nan, nan, nan, nan, nan, nan, nan, nan, nan, nan, nan, nan, nan, nan, nan, nan, nan, nan, nan, nan, nan, nan, nan, nan, nan, nan, nan, nan, nan, nan, nan, nan, nan, nan, nan, nan, nan, nan, nan, nan, nan, nan, nan, nan, nan, nan, nan, nan, nan, nan, nan, nan, nan, nan, nan, nan, nan, nan, nan, nan, nan, nan, nan, nan, nan, nan, nan, nan, nan, nan, nan, nan, nan, nan, nan, nan, nan, nan, nan, nan, nan, nan, nan, nan, nan, nan, nan, nan, nan, nan, nan, nan, nan, nan, nan, nan, nan, nan, nan, nan, nan, nan, nan, nan, nan, nan, nan, nan, nan, nan, nan, nan, nan, nan, nan, nan, nan, nan, nan, nan, nan, nan, nan, nan, nan, nan, nan, nan, nan, nan, nan, nan, nan, nan, nan, nan, nan, nan, nan, nan, nan, nan, nan, nan, nan, nan, nan, nan, nan, nan, nan, nan, nan, nan, nan, nan, nan, nan, nan, nan, nan, nan, nan, nan, nan, nan, nan, nan, nan, nan, nan, nan, nan, nan, nan, nan, nan, nan, nan, nan, nan, nan, nan, nan, nan, nan, nan, nan, nan, nan, nan, nan, nan, nan, nan, nan, nan, nan, nan, nan, nan, nan, nan, nan, nan, nan, nan, nan, nan, nan, nan, nan, nan, nan, nan, nan, nan, nan, nan, nan, nan, nan, nan, nan, nan, nan, nan, nan, nan, nan, nan, nan, nan, nan, nan, nan, nan, nan, nan, nan, nan, nan, nan, nan, nan, nan, nan, nan, nan, nan, nan, nan, nan, nan, nan, nan, nan, nan, nan, nan, nan, nan, nan, nan, nan, nan, nan, nan, nan, nan, nan, nan, nan, nan, nan, nan, nan, nan, nan, nan, nan, nan, nan, nan, nan, nan, nan, nan, nan, nan, nan, nan, nan, nan, nan, nan, nan, nan, nan, nan, nan, nan, nan, nan, nan, nan, nan, nan, nan, nan, nan, nan, nan, nan, nan, nan, nan, nan, nan, nan, nan, nan, nan, nan, nan, nan, nan, nan, nan, nan, nan, nan, nan, nan, nan, nan, nan, nan, nan, nan, nan, nan, nan, nan, nan, nan, nan, nan, nan, nan, nan, nan, nan, nan, nan, nan, nan, nan, nan, nan, nan, nan, nan, nan, nan, nan, nan, nan, nan, nan, nan, nan, nan, nan, nan, nan, nan, nan, nan, nan, nan, nan, nan, nan, nan, nan, nan, nan, nan, nan, nan, nan, nan, nan, nan, nan, nan, nan, nan, nan, nan, nan, nan, nan, nan, nan, nan, nan, nan, nan, nan, nan, nan, nan, nan, nan, nan, nan, nan, nan, nan, nan, nan, nan, nan, nan, nan, nan, nan, nan, nan, nan, nan, nan, nan, nan, nan, nan, nan, nan, nan, nan, nan, nan, nan, nan, nan, nan, nan, nan, nan, nan, nan, nan, nan, nan, nan, nan, nan, nan, nan, nan, nan, nan, nan, nan, nan, nan, nan, nan, nan, nan, nan, nan, nan, nan, nan, nan, nan, nan, nan, nan, nan, nan, nan, nan, nan, nan, nan, nan, nan, nan, nan, nan, nan, nan, nan, nan, nan, nan, nan, nan, nan, nan, nan, nan, nan, nan, nan, nan, nan, nan, nan, nan, nan, nan, nan, nan, nan, nan, nan, nan, nan, nan, nan, nan, nan, nan, nan, nan, nan, nan, nan, nan, nan, nan, nan, nan, nan, nan, nan, nan, nan, nan, nan, nan, nan, nan, nan, nan, nan, nan, nan, nan, nan, nan, nan, nan, nan, nan, nan, nan, nan, nan, nan, nan, nan, nan, nan, nan, nan, nan, nan, nan, nan, nan, nan, nan, nan, nan, nan, nan, nan, nan, nan, nan, nan, nan, nan, nan, nan, nan, nan, nan, nan, nan, nan, nan, nan, nan, nan, nan, nan, nan, nan, nan, nan, nan, nan, nan, nan, nan, nan, nan, nan, nan, nan, nan, nan, nan, nan, nan, nan, nan, nan, nan, nan, nan, nan, nan, nan, nan, nan, nan, nan, nan, nan, nan, nan, nan, nan, nan, nan, nan, nan, nan, nan, nan, nan, nan, nan, nan, nan, nan, nan, nan, nan, nan, nan, nan, nan, nan, nan, nan, nan, nan, nan, nan, nan, nan, nan, nan, nan, nan, nan, nan, nan, nan, nan, nan, nan, nan, nan, nan, nan, nan, nan, nan, nan, nan, nan, nan, nan, nan, nan, nan, nan, nan, nan, nan, nan, nan, nan, nan, nan, nan, nan, nan, nan, nan, nan, nan, nan, nan, nan, nan, nan, nan, nan, nan, nan, nan, nan, nan, nan, nan, nan, nan, nan, nan, nan, nan, nan, nan, nan, nan, nan, nan, nan, nan, nan, nan, nan, nan, nan, nan, nan, nan, nan, nan, nan, nan, nan, nan, nan, nan, nan, nan, nan, nan, nan, nan, nan, nan, nan, nan, nan, nan, nan, nan, nan, nan, nan, nan, nan, nan, nan, nan, nan, nan, nan, nan, nan, nan, nan, nan, nan, nan, nan, nan, nan, nan, nan, nan, nan, nan, nan, nan, nan, nan, nan, nan, nan, nan, nan, nan, nan, nan, nan, nan, nan, nan, nan, nan, nan, nan, nan, nan, nan, nan, nan, nan, nan, nan, nan, nan, nan, nan, nan, nan, nan, nan, nan, nan, nan])"
      ]
     },
     "metadata": {},
     "execution_count": 30
    }
   ],
   "source": [
    "myline.array[0:1000]"
   ]
  },
  {
   "cell_type": "code",
   "execution_count": 31,
   "metadata": {},
   "outputs": [
    {
     "output_type": "execute_result",
     "data": {
      "text/plain": [
       "      trades\n",
       "0        NaN\n",
       "1        NaN\n",
       "2        NaN\n",
       "3        NaN\n",
       "4        NaN\n",
       "...      ...\n",
       "1455     NaN\n",
       "1456     NaN\n",
       "1457     NaN\n",
       "1458     NaN\n",
       "1459     NaN\n",
       "\n",
       "[1460 rows x 1 columns]"
      ],
      "text/html": "<div>\n<style scoped>\n    .dataframe tbody tr th:only-of-type {\n        vertical-align: middle;\n    }\n\n    .dataframe tbody tr th {\n        vertical-align: top;\n    }\n\n    .dataframe thead th {\n        text-align: right;\n    }\n</style>\n<table border=\"1\" class=\"dataframe\">\n  <thead>\n    <tr style=\"text-align: right;\">\n      <th></th>\n      <th>trades</th>\n    </tr>\n  </thead>\n  <tbody>\n    <tr>\n      <th>0</th>\n      <td>NaN</td>\n    </tr>\n    <tr>\n      <th>1</th>\n      <td>NaN</td>\n    </tr>\n    <tr>\n      <th>2</th>\n      <td>NaN</td>\n    </tr>\n    <tr>\n      <th>3</th>\n      <td>NaN</td>\n    </tr>\n    <tr>\n      <th>4</th>\n      <td>NaN</td>\n    </tr>\n    <tr>\n      <th>...</th>\n      <td>...</td>\n    </tr>\n    <tr>\n      <th>1455</th>\n      <td>NaN</td>\n    </tr>\n    <tr>\n      <th>1456</th>\n      <td>NaN</td>\n    </tr>\n    <tr>\n      <th>1457</th>\n      <td>NaN</td>\n    </tr>\n    <tr>\n      <th>1458</th>\n      <td>NaN</td>\n    </tr>\n    <tr>\n      <th>1459</th>\n      <td>NaN</td>\n    </tr>\n  </tbody>\n</table>\n<p>1460 rows × 1 columns</p>\n</div>"
     },
     "metadata": {},
     "execution_count": 31
    }
   ],
   "source": [
    "data = {'trades': myline.array}\n",
    "df = pd.DataFrame(data=data)\n",
    "df"
   ]
  },
  {
   "cell_type": "code",
   "execution_count": 32,
   "metadata": {},
   "outputs": [
    {
     "output_type": "execute_result",
     "data": {
      "text/plain": [
       "        trades\n",
       "156  17.762267"
      ],
      "text/html": "<div>\n<style scoped>\n    .dataframe tbody tr th:only-of-type {\n        vertical-align: middle;\n    }\n\n    .dataframe tbody tr th {\n        vertical-align: top;\n    }\n\n    .dataframe thead th {\n        text-align: right;\n    }\n</style>\n<table border=\"1\" class=\"dataframe\">\n  <thead>\n    <tr style=\"text-align: right;\">\n      <th></th>\n      <th>trades</th>\n    </tr>\n  </thead>\n  <tbody>\n    <tr>\n      <th>156</th>\n      <td>17.762267</td>\n    </tr>\n  </tbody>\n</table>\n</div>"
     },
     "metadata": {},
     "execution_count": 32
    }
   ],
   "source": [
    "df.loc[np.isnan(df['trades']) == False]"
   ]
  },
  {
   "cell_type": "code",
   "execution_count": 33,
   "metadata": {},
   "outputs": [
    {
     "output_type": "stream",
     "name": "stdout",
     "text": [
      "730\n[ 17.7622666   -4.05046052  -5.15306062  -9.9198132   -8.83242794\n -10.68395028  -2.1572203   -5.86061717]\n"
     ]
    }
   ],
   "source": [
    "def get_trades_from_cerebro_run(cerebro_run):\n",
    "    #get trades. Long is 'long' and shorts is 'short'. This is unconfirmed. Need to verify\n",
    "    array_list = []\n",
    "    for strat in cerebro_run[0].stats:\n",
    "        if isinstance(strat, bt.observers.trades.Trades):\n",
    "            for line in strat.lines:\n",
    "                pnl_data = np.frombuffer(line.array)\n",
    "                np.nan_to_num(pnl_data, copy=False, nan=0)\n",
    "                array_list.append(pnl_data)\n",
    "    summed_ary = sum(array_list)\n",
    "    summed_ary[summed_ary == 0] = np.nan\n",
    "    return summed_ary[:int(len(summed_ary) / 2)] #not sure what the deal is with the double sized array but this seems to work\n",
    "result = get_trades_from_cerebro_run(back)\n",
    "print(len(result))\n",
    "print(result[~np.isnan(result)])"
   ]
  },
  {
   "cell_type": "code",
   "execution_count": 34,
   "metadata": {},
   "outputs": [
    {
     "output_type": "stream",
     "name": "stdout",
     "text": [
      "count = 156 val = 17.76226659598281\ncount = 163 val = -4.050460518664533\ncount = 321 val = -5.153060620768923\ncount = 393 val = -9.91981319643352\ncount = 448 val = -8.83242793598715\ncount = 536 val = -10.6839502813943\ncount = 667 val = -2.1572202959051476\ncount = 696 val = -5.8606171678906644\n"
     ]
    }
   ],
   "source": [
    "count = 0\n",
    "for x in result:\n",
    "    if not np.isnan(x):\n",
    "        print('count =',count,'val =',x)\n",
    "    count +=1"
   ]
  },
  {
   "cell_type": "code",
   "execution_count": 35,
   "metadata": {},
   "outputs": [
    {
     "output_type": "execute_result",
     "data": {
      "text/plain": [
       "array([        nan,         nan,         nan,         nan,         nan,\n",
       "               nan,         nan,         nan,         nan,         nan,\n",
       "               nan,         nan,         nan,         nan,         nan,\n",
       "               nan,         nan,         nan,         nan,         nan,\n",
       "               nan,         nan,         nan,         nan,         nan,\n",
       "               nan,         nan,         nan,         nan,         nan,\n",
       "               nan,         nan,         nan,         nan,         nan,\n",
       "               nan,         nan,         nan,         nan,         nan,\n",
       "               nan,         nan,         nan,         nan,         nan,\n",
       "               nan,         nan,         nan,         nan,         nan,\n",
       "               nan,         nan,         nan,         nan,         nan,\n",
       "               nan,         nan,         nan,         nan,         nan,\n",
       "               nan,         nan,         nan,         nan,         nan,\n",
       "               nan,         nan,         nan,         nan,         nan,\n",
       "               nan,         nan,         nan,         nan,         nan,\n",
       "               nan,         nan,         nan,         nan,         nan,\n",
       "               nan,         nan,         nan,         nan,         nan,\n",
       "               nan,         nan,         nan,         nan,         nan,\n",
       "               nan,         nan,         nan,         nan,         nan,\n",
       "               nan,         nan,         nan,         nan,         nan,\n",
       "               nan,         nan,         nan,         nan,         nan,\n",
       "               nan,         nan,         nan,         nan,         nan,\n",
       "               nan,         nan,         nan,         nan,         nan,\n",
       "               nan,         nan,         nan,         nan,         nan,\n",
       "               nan,         nan,         nan,         nan,         nan,\n",
       "               nan,         nan,         nan,         nan,         nan,\n",
       "               nan,         nan,         nan,         nan,         nan,\n",
       "               nan,         nan,         nan,         nan,         nan,\n",
       "               nan,         nan,         nan,         nan,         nan,\n",
       "               nan,         nan,         nan,         nan,         nan,\n",
       "               nan,         nan,         nan,         nan,         nan,\n",
       "               nan, 17.7622666 ,         nan,         nan,         nan,\n",
       "               nan,         nan,         nan, -4.05046052,         nan,\n",
       "               nan,         nan,         nan,         nan,         nan,\n",
       "               nan,         nan,         nan,         nan,         nan,\n",
       "               nan,         nan,         nan,         nan,         nan,\n",
       "               nan,         nan,         nan,         nan,         nan,\n",
       "               nan,         nan,         nan,         nan,         nan,\n",
       "               nan,         nan,         nan,         nan,         nan,\n",
       "               nan,         nan,         nan,         nan,         nan,\n",
       "               nan,         nan,         nan,         nan,         nan,\n",
       "               nan,         nan,         nan,         nan,         nan,\n",
       "               nan,         nan,         nan,         nan,         nan,\n",
       "               nan,         nan,         nan,         nan,         nan,\n",
       "               nan,         nan,         nan,         nan,         nan,\n",
       "               nan,         nan,         nan,         nan,         nan,\n",
       "               nan,         nan,         nan,         nan,         nan,\n",
       "               nan,         nan,         nan,         nan,         nan,\n",
       "               nan,         nan,         nan,         nan,         nan,\n",
       "               nan,         nan,         nan,         nan,         nan,\n",
       "               nan,         nan,         nan,         nan,         nan,\n",
       "               nan,         nan,         nan,         nan,         nan,\n",
       "               nan,         nan,         nan,         nan,         nan,\n",
       "               nan,         nan,         nan,         nan,         nan,\n",
       "               nan,         nan,         nan,         nan,         nan,\n",
       "               nan,         nan,         nan,         nan,         nan,\n",
       "               nan,         nan,         nan,         nan,         nan,\n",
       "               nan,         nan,         nan,         nan,         nan,\n",
       "               nan,         nan,         nan,         nan,         nan,\n",
       "               nan,         nan,         nan,         nan,         nan,\n",
       "               nan,         nan,         nan,         nan,         nan,\n",
       "               nan,         nan,         nan,         nan,         nan,\n",
       "               nan,         nan,         nan,         nan,         nan,\n",
       "               nan,         nan,         nan,         nan,         nan,\n",
       "               nan, -5.15306062,         nan,         nan,         nan,\n",
       "               nan,         nan,         nan,         nan,         nan,\n",
       "               nan,         nan,         nan,         nan,         nan,\n",
       "               nan,         nan,         nan,         nan,         nan,\n",
       "               nan,         nan,         nan,         nan,         nan,\n",
       "               nan,         nan,         nan,         nan,         nan,\n",
       "               nan,         nan,         nan,         nan,         nan,\n",
       "               nan,         nan,         nan,         nan,         nan,\n",
       "               nan,         nan,         nan,         nan,         nan])"
      ]
     },
     "metadata": {},
     "execution_count": 35
    }
   ],
   "source": [
    "result[:int(len(result) / 2)]"
   ]
  },
  {
   "cell_type": "code",
   "execution_count": 63,
   "metadata": {},
   "outputs": [
    {
     "output_type": "stream",
     "name": "stdout",
     "text": [
      "730\n[0.06463373 0.07682113 0.03186377 0.03290787 0.036051   0.0302592\n 0.01995511 0.0211056 ]\n"
     ]
    }
   ],
   "source": [
    "def get_buy_sell_from_cerebro_run(cerebro_run, trade_type='buy'):\n",
    "    #get executed buy or sell orders. type can switch between buy and sell\n",
    "    data = None\n",
    "    for strat in cerebro_run[0].getobservers():\n",
    "        if isinstance(strat, bt.observers.buysell.BuySell):\n",
    "            line = 0 if trade_type == 'buy' else 1\n",
    "            data = np.frombuffer(strat.lines[line].array)\n",
    "    return data[:int(len(data) / 2)] #not sure what the deal is with the double sized array but this seems to work\n",
    "result = get_buy_sell_from_cerebro_run(back)\n",
    "print(len(result))\n",
    "print(result[~np.isnan(result)])"
   ]
  },
  {
   "cell_type": "code",
   "execution_count": 59,
   "metadata": {},
   "outputs": [
    {
     "output_type": "stream",
     "name": "stdout",
     "text": [
      "0\n"
     ]
    }
   ],
   "source": [
    "x = 0 if True else 1\n",
    "print(x)"
   ]
  },
  {
   "cell_type": "code",
   "execution_count": 36,
   "metadata": {},
   "outputs": [
    {
     "output_type": "stream",
     "name": "stdout",
     "text": [
      "[1000. 1000. 1000. ...   nan   nan   nan]\n1460\n"
     ]
    }
   ],
   "source": [
    "def get_broker_cash_from_cerebro_run(cerebro_run):\n",
    "    data = None\n",
    "    for strat in cerebro_run[0].stats:\n",
    "        if isinstance(strat, bt.observers.broker.Broker):\n",
    "            #assumes we want line 0 which I think is safe for Broker?\n",
    "            npary = np.frombuffer(strat.lines[0].array)\n",
    "            data = npary\n",
    "    return data\n",
    "result = get_broker_cash_from_cerebro_run(back)\n",
    "print(result)\n",
    "print(len(result))"
   ]
  },
  {
   "cell_type": "code",
   "execution_count": 43,
   "metadata": {},
   "outputs": [
    {
     "output_type": "stream",
     "name": "stdout",
     "text": [
      "[ 0.  0.  0. ... nan nan nan]\n"
     ]
    }
   ],
   "source": []
  },
  {
   "cell_type": "code",
   "execution_count": 37,
   "metadata": {
    "tags": []
   },
   "outputs": [],
   "source": [
    "def get_pos_analysis(cerebro_run):\n",
    "    for analyzer in cerebro_run[0].analyzers:\n",
    "        if isinstance(analyzer, btanalyzers.PositionsValue):\n",
    "            return analyzer.get_analysis().copy()"
   ]
  },
  {
   "cell_type": "code",
   "execution_count": 38,
   "metadata": {
    "tags": []
   },
   "outputs": [
    {
     "output_type": "execute_result",
     "data": {
      "text/plain": [
       "array([1000.  , 1000.  , 1000.  , 1000.  , 1000.  , 1000.  , 1000.  ,\n",
       "       1000.  , 1000.  , 1000.  , 1000.  , 1000.  , 1000.  , 1000.  ,\n",
       "       1000.  , 1000.  , 1000.  , 1000.  , 1000.  , 1000.  , 1000.  ,\n",
       "       1000.  , 1000.  , 1000.  , 1000.  , 1000.  , 1000.  , 1000.  ,\n",
       "       1000.  , 1000.  , 1000.  , 1000.  , 1000.  , 1000.  , 1000.  ,\n",
       "       1000.  , 1000.  , 1000.  , 1000.  , 1000.  , 1000.  , 1000.  ,\n",
       "       1000.  , 1000.  , 1000.  , 1000.  , 1000.  , 1000.  , 1000.  ,\n",
       "       1000.  , 1000.  , 1000.  , 1000.  , 1000.  , 1000.  , 1000.  ,\n",
       "       1000.  , 1000.  , 1000.  , 1000.  , 1000.  , 1000.  , 1000.  ,\n",
       "       1000.  , 1000.  , 1000.  , 1000.  , 1000.  , 1000.  , 1000.  ,\n",
       "       1000.  , 1000.  , 1000.  , 1000.  , 1000.  , 1000.  , 1000.  ,\n",
       "       1000.  , 1000.  , 1000.  , 1000.  , 1000.  , 1000.  , 1000.  ,\n",
       "       1000.  , 1000.  , 1000.  , 1000.  , 1000.  , 1000.  , 1000.  ,\n",
       "       1000.  , 1000.  , 1000.  , 1000.  , 1000.  , 1000.  , 1000.  ,\n",
       "       1000.  , 1000.  , 1000.  , 1000.  , 1000.  , 1000.  , 1000.  ,\n",
       "       1000.  , 1000.  , 1000.  , 1000.  , 1000.  , 1000.  , 1004.15,\n",
       "       1006.21, 1007.43, 1002.56, 1005.18, 1006.25, 1007.85, 1008.07,\n",
       "       1006.92, 1009.22, 1009.75, 1017.85, 1019.18, 1022.45, 1021.15,\n",
       "       1018.5 , 1020.31, 1019.01, 1018.21, 1018.74, 1019.04, 1023.81,\n",
       "       1023.8 , 1022.71, 1024.83, 1022.28, 1023.94, 1024.81, 1023.68,\n",
       "       1022.54, 1018.53, 1013.56, 1017.03, 1015.72, 1017.85, 1014.55,\n",
       "       1006.34, 1011.93, 1011.41, 1013.82, 1013.47, 1014.01, 1018.26,\n",
       "       1016.33, 1017.76, 1017.76, 1017.76, 1017.83, 1018.3 , 1016.27,\n",
       "       1015.95, 1013.71, 1013.71, 1013.71, 1013.71, 1013.71, 1013.71,\n",
       "       1013.71, 1013.71, 1013.71, 1013.71, 1013.71, 1013.71, 1013.71,\n",
       "       1013.71, 1013.71, 1013.71, 1013.71, 1013.71, 1013.71, 1013.71,\n",
       "       1013.71, 1013.71, 1013.71, 1013.71, 1013.71, 1013.71, 1013.71,\n",
       "       1013.71, 1013.71, 1013.71, 1013.71, 1013.71, 1013.71, 1013.71,\n",
       "       1013.71, 1013.71, 1013.71, 1013.71, 1013.71, 1013.71, 1013.71,\n",
       "       1013.71, 1013.71, 1013.71, 1013.71, 1013.71, 1013.71, 1013.71,\n",
       "       1013.71, 1013.71, 1013.71, 1013.71, 1013.71, 1013.71, 1013.71,\n",
       "       1013.71, 1013.71, 1013.71, 1013.71, 1013.71, 1013.71, 1013.71,\n",
       "       1013.71, 1013.71, 1013.71, 1013.71, 1013.71, 1013.71, 1013.71,\n",
       "       1013.71, 1013.71, 1013.71, 1013.71, 1013.71, 1013.71, 1013.71,\n",
       "       1013.71, 1013.71, 1013.71, 1013.71, 1013.71, 1013.71, 1013.71,\n",
       "       1013.71, 1013.71, 1013.71, 1013.71, 1013.71, 1013.71, 1013.71,\n",
       "       1013.71, 1013.71, 1013.71, 1013.71, 1013.71, 1013.71, 1013.71,\n",
       "       1013.71, 1013.71, 1013.71, 1013.71, 1013.71, 1013.71, 1013.71,\n",
       "       1013.71, 1013.71, 1013.71, 1013.71, 1013.71, 1013.71, 1013.71,\n",
       "       1013.71, 1013.71, 1013.71, 1013.71, 1013.71, 1013.71, 1013.71,\n",
       "       1013.71, 1013.71, 1013.71, 1013.71, 1013.71, 1013.71, 1013.71,\n",
       "       1013.71, 1013.71, 1013.71, 1013.71, 1013.71, 1013.71, 1013.71,\n",
       "       1013.71, 1013.71, 1013.71, 1013.71, 1013.71, 1013.71, 1013.71,\n",
       "       1013.71, 1013.71, 1013.71, 1013.71, 1013.71, 1013.71, 1013.71,\n",
       "       1013.71, 1013.71, 1013.71, 1013.71, 1013.71, 1013.71, 1013.71,\n",
       "       1013.71, 1012.15, 1009.69, 1010.76, 1008.51, 1008.56, 1008.56,\n",
       "       1008.56, 1008.56, 1008.56, 1008.56, 1008.56, 1008.56, 1008.56,\n",
       "       1008.56, 1008.56, 1008.56, 1008.56, 1008.56, 1008.56, 1008.56,\n",
       "       1008.56, 1008.56, 1008.56, 1008.56, 1008.56, 1008.56, 1008.56,\n",
       "       1008.56, 1008.56, 1008.56, 1008.56, 1008.56, 1008.56, 1008.56,\n",
       "       1008.56, 1008.56, 1008.56, 1008.56, 1008.56, 1008.56, 1008.56,\n",
       "       1008.56, 1008.56, 1009.07, 1002.13, 1012.05, 1014.23, 1014.97,\n",
       "       1012.9 , 1016.14, 1024.35, 1022.7 , 1026.39, 1027.69, 1021.88,\n",
       "       1018.98, 1018.11, 1018.23, 1010.88, 1010.19, 1009.55, 1004.94,\n",
       "       1011.33, 1006.88, 1007.87, 1007.31, 1005.83, 1006.7 , 1006.03,\n",
       "       1004.7 , 1005.41, 1004.72, 1004.23, 1003.34, 1003.44, 1001.15,\n",
       "        998.64,  998.64,  998.64,  998.64,  998.64,  998.64,  998.64,\n",
       "        998.64,  998.64,  998.64,  998.64,  998.64,  998.64,  998.64,\n",
       "        998.64,  998.64,  998.64,  998.64,  998.64,  998.64,  998.64,\n",
       "        998.64,  996.81,  998.67,  997.59,  998.07, 1001.09,  993.05,\n",
       "        994.95,  994.29,  993.22,  993.54,  993.28,  991.43,  990.35,\n",
       "        989.1 ,  993.44,  993.78,  993.1 ,  991.05,  991.73,  991.08,\n",
       "        990.28,  990.67,  989.75,  989.85,  991.72,  992.71,  991.78,\n",
       "        990.9 ,  990.89,  990.62,  989.26,  989.82,  990.29,  989.8 ,\n",
       "        989.81,  989.81,  989.81,  989.81,  989.81,  989.81,  989.81,\n",
       "        989.81,  989.81,  989.81,  989.81,  989.81,  989.81,  989.81,\n",
       "        989.81,  989.81,  989.81,  989.81,  989.81,  989.81,  989.81,\n",
       "        989.81,  989.81,  989.81,  989.81,  989.81,  989.81,  989.81,\n",
       "        989.81,  989.81,  989.81,  989.81,  989.81,  989.81,  989.81,\n",
       "        989.81,  989.81,  989.81,  989.81,  989.81,  989.81,  989.81,\n",
       "        989.81,  989.81,  989.81,  989.81,  989.81,  989.81,  989.81,\n",
       "        989.81,  989.81,  989.81,  989.81,  989.81,  989.81,  989.81,\n",
       "        989.81,  989.81,  989.81,  987.36,  987.62,  987.45,  985.89,\n",
       "        986.6 ,  987.19,  987.16,  986.16,  987.83,  986.7 ,  986.29,\n",
       "        986.24,  988.08,  988.69,  989.82,  987.46,  986.28,  984.64,\n",
       "        986.56,  986.82,  990.41,  986.85,  984.86,  985.  ,  983.45,\n",
       "        981.69,  981.1 ,  980.59,  979.13,  979.12,  979.12,  979.12,\n",
       "        979.12,  979.12,  979.12,  979.12,  979.12,  979.12,  979.12,\n",
       "        979.12,  979.12,  979.12,  979.12,  979.12,  979.12,  979.12,\n",
       "        979.12,  979.12,  979.12,  979.12,  979.12,  979.12,  979.12,\n",
       "        979.12,  979.12,  979.12,  979.12,  979.12,  979.12,  979.12,\n",
       "        979.12,  979.12,  979.12,  979.12,  979.12,  979.12,  979.12,\n",
       "        979.12,  979.12,  979.12,  979.12,  979.12,  979.12,  979.12,\n",
       "        979.12,  979.12,  979.12,  979.12,  979.12,  979.12,  979.12,\n",
       "        979.12,  979.12,  979.12,  979.12,  979.12,  979.12,  979.12,\n",
       "        979.12,  979.12,  979.12,  979.12,  979.12,  979.12,  979.12,\n",
       "        979.12,  979.12,  979.12,  979.12,  979.12,  979.12,  979.12,\n",
       "        979.12,  979.12,  979.12,  979.12,  979.12,  979.12,  979.12,\n",
       "        979.12,  979.12,  979.12,  979.12,  979.12,  979.12,  979.12,\n",
       "        979.12,  979.12,  979.12,  982.89,  982.63,  983.06,  980.82,\n",
       "        979.33,  973.38,  976.57,  978.54,  981.75,  981.28,  980.73,\n",
       "        984.4 ,  981.39,  983.21,  981.67,  983.28,  983.76,  983.63,\n",
       "        985.07,  985.74,  987.6 ,  986.87,  984.66,  983.58,  984.67,\n",
       "        987.02,  985.83,  984.47,  985.04,  984.05,  983.46,  981.99,\n",
       "        981.61,  982.18,  984.04,  983.54,  980.36,  973.16,  972.45,\n",
       "        974.54,  976.97,  976.97,  976.97,  976.97,  976.97,  976.97,\n",
       "        976.97,  976.97,  976.97,  976.97,  976.97,  976.97,  976.97,\n",
       "        976.97,  976.97,  976.97,  976.97,  976.97,  976.97,  976.97,\n",
       "        977.6 ,  977.02,  976.77,  974.66,  972.25,  973.11,  970.87,\n",
       "        971.86,  972.38,  971.1 ,  971.1 ,  971.1 ,  971.1 ,  971.1 ,\n",
       "        971.1 ,  971.1 ,  971.1 ,  971.1 ,  971.1 ,  971.1 ,  971.1 ,\n",
       "        971.1 ,  971.1 ,  971.1 ,  971.1 ,  971.1 ,  971.1 ,  971.1 ,\n",
       "        971.1 ,  971.1 ,  971.1 ,  971.1 ,  971.1 ,  971.1 ,  971.1 ,\n",
       "        971.1 ,  971.1 ,  971.1 ,  971.1 ,  971.1 ,  971.1 ,  971.1 ,\n",
       "        971.1 ,  971.1 ])"
      ]
     },
     "metadata": {},
     "execution_count": 38
    }
   ],
   "source": [
    "def get_cash_including_position(cerebro_run):\n",
    "    #this assumes that PositionsValue analyzer exists with parameter cash=True (this is not the default) and headers=False (this is the default)\n",
    "    pos_analysis = get_pos_analysis(cerebro_run)\n",
    "    data = []\n",
    "    for key, value in pos_analysis.items():\n",
    "        data.append(sum(value))\n",
    "    return np.round_(np.array(data),2)\n",
    "result = get_cash_including_position(back)\n",
    "result"
   ]
  },
  {
   "cell_type": "code",
   "execution_count": 39,
   "metadata": {},
   "outputs": [
    {
     "output_type": "stream",
     "name": "stdout",
     "text": [
      "[ 0.    0.    0.    0.    0.    0.    0.    0.    0.    0.    0.    0.\n  0.    0.    0.    0.    0.    0.    0.    0.    0.    0.    0.    0.\n  0.    0.    0.    0.    0.    0.    0.    0.    0.    0.    0.    0.\n  0.    0.    0.    0.    0.    0.    0.    0.    0.    0.    0.    0.\n  0.    0.    0.    0.    0.    0.    0.    0.    0.    0.    0.    0.\n  0.    0.    0.    0.    0.    0.    0.    0.    0.    0.    0.    0.\n  0.    0.    0.    0.    0.    0.    0.    0.    0.    0.    0.    0.\n  0.    0.    0.    0.    0.    0.    0.    0.    0.    0.    0.    0.\n  0.    0.    0.    0.    0.    0.    0.    0.    0.    0.    0.    0.\n  0.    0.    0.    0.41  0.62  0.74  0.26  0.52  0.63  0.78  0.81  0.69\n  0.92  0.97  1.78  1.92  2.25  2.12  1.85  2.03  1.9   1.82  1.87  1.9\n  2.38  2.38  2.27  2.48  2.23  2.39  2.48  2.37  2.25  1.85  1.36  1.7\n  1.57  1.78  1.46  0.63  1.19  1.14  1.38  1.35  1.4   1.83  1.63  1.78\n  1.78  1.78  1.78  1.83  1.63  1.6   1.37  1.37  1.37  1.37  1.37  1.37\n  1.37  1.37  1.37  1.37  1.37  1.37  1.37  1.37  1.37  1.37  1.37  1.37\n  1.37  1.37  1.37  1.37  1.37  1.37  1.37  1.37  1.37  1.37  1.37  1.37\n  1.37  1.37  1.37  1.37  1.37  1.37  1.37  1.37  1.37  1.37  1.37  1.37\n  1.37  1.37  1.37  1.37  1.37  1.37  1.37  1.37  1.37  1.37  1.37  1.37\n  1.37  1.37  1.37  1.37  1.37  1.37  1.37  1.37  1.37  1.37  1.37  1.37\n  1.37  1.37  1.37  1.37  1.37  1.37  1.37  1.37  1.37  1.37  1.37  1.37\n  1.37  1.37  1.37  1.37  1.37  1.37  1.37  1.37  1.37  1.37  1.37  1.37\n  1.37  1.37  1.37  1.37  1.37  1.37  1.37  1.37  1.37  1.37  1.37  1.37\n  1.37  1.37  1.37  1.37  1.37  1.37  1.37  1.37  1.37  1.37  1.37  1.37\n  1.37  1.37  1.37  1.37  1.37  1.37  1.37  1.37  1.37  1.37  1.37  1.37\n  1.37  1.37  1.37  1.37  1.37  1.37  1.37  1.37  1.37  1.37  1.37  1.37\n  1.37  1.37  1.37  1.37  1.37  1.37  1.37  1.37  1.37  1.37  1.37  1.37\n  1.37  1.37  1.37  1.37  1.21  0.97  1.08  0.85  0.86  0.86  0.86  0.86\n  0.86  0.86  0.86  0.86  0.86  0.86  0.86  0.86  0.86  0.86  0.86  0.86\n  0.86  0.86  0.86  0.86  0.86  0.86  0.86  0.86  0.86  0.86  0.86  0.86\n  0.86  0.86  0.86  0.86  0.86  0.86  0.86  0.86  0.86  0.86  0.86  0.91\n  0.21  1.2   1.42  1.5   1.29  1.61  2.43  2.27  2.64  2.77  2.19  1.9\n  1.81  1.82  1.09  1.02  0.95  0.49  1.13  0.69  0.79  0.73  0.58  0.67\n  0.6   0.47  0.54  0.47  0.42  0.33  0.34  0.11 -0.14 -0.14 -0.14 -0.14\n -0.14 -0.14 -0.14 -0.14 -0.14 -0.14 -0.14 -0.14 -0.14 -0.14 -0.14 -0.14\n -0.14 -0.14 -0.14 -0.14 -0.14 -0.14 -0.32 -0.13 -0.24 -0.19  0.11 -0.7\n -0.5  -0.57 -0.68 -0.65 -0.67 -0.86 -0.96 -1.09 -0.66 -0.62 -0.69 -0.9\n -0.83 -0.89 -0.97 -0.93 -1.02 -1.01 -0.83 -0.73 -0.82 -0.91 -0.91 -0.94\n -1.07 -1.02 -0.97 -1.02 -1.02 -1.02 -1.02 -1.02 -1.02 -1.02 -1.02 -1.02\n -1.02 -1.02 -1.02 -1.02 -1.02 -1.02 -1.02 -1.02 -1.02 -1.02 -1.02 -1.02\n -1.02 -1.02 -1.02 -1.02 -1.02 -1.02 -1.02 -1.02 -1.02 -1.02 -1.02 -1.02\n -1.02 -1.02 -1.02 -1.02 -1.02 -1.02 -1.02 -1.02 -1.02 -1.02 -1.02 -1.02\n -1.02 -1.02 -1.02 -1.02 -1.02 -1.02 -1.02 -1.02 -1.02 -1.02 -1.02 -1.02\n -1.02 -1.02 -1.02 -1.26 -1.24 -1.25 -1.41 -1.34 -1.28 -1.28 -1.38 -1.22\n -1.33 -1.37 -1.38 -1.19 -1.13 -1.02 -1.25 -1.37 -1.54 -1.34 -1.32 -0.96\n -1.31 -1.51 -1.5  -1.65 -1.83 -1.89 -1.94 -2.09 -2.09 -2.09 -2.09 -2.09\n -2.09 -2.09 -2.09 -2.09 -2.09 -2.09 -2.09 -2.09 -2.09 -2.09 -2.09 -2.09\n -2.09 -2.09 -2.09 -2.09 -2.09 -2.09 -2.09 -2.09 -2.09 -2.09 -2.09 -2.09\n -2.09 -2.09 -2.09 -2.09 -2.09 -2.09 -2.09 -2.09 -2.09 -2.09 -2.09 -2.09\n -2.09 -2.09 -2.09 -2.09 -2.09 -2.09 -2.09 -2.09 -2.09 -2.09 -2.09 -2.09\n -2.09 -2.09 -2.09 -2.09 -2.09 -2.09 -2.09 -2.09 -2.09 -2.09 -2.09 -2.09\n -2.09 -2.09 -2.09 -2.09 -2.09 -2.09 -2.09 -2.09 -2.09 -2.09 -2.09 -2.09\n -2.09 -2.09 -2.09 -2.09 -2.09 -2.09 -2.09 -2.09 -2.09 -2.09 -2.09 -2.09\n -2.09 -2.09 -1.71 -1.74 -1.69 -1.92 -2.07 -2.66 -2.34 -2.15 -1.82 -1.87\n -1.93 -1.56 -1.86 -1.68 -1.83 -1.67 -1.62 -1.64 -1.49 -1.43 -1.24 -1.31\n -1.53 -1.64 -1.53 -1.3  -1.42 -1.55 -1.5  -1.6  -1.65 -1.8  -1.84 -1.78\n -1.6  -1.65 -1.96 -2.68 -2.75 -2.55 -2.3  -2.3  -2.3  -2.3  -2.3  -2.3\n -2.3  -2.3  -2.3  -2.3  -2.3  -2.3  -2.3  -2.3  -2.3  -2.3  -2.3  -2.3\n -2.3  -2.3  -2.24 -2.3  -2.32 -2.53 -2.78 -2.69 -2.91 -2.81 -2.76 -2.89\n -2.89 -2.89 -2.89 -2.89 -2.89 -2.89 -2.89 -2.89 -2.89 -2.89 -2.89 -2.89\n -2.89 -2.89 -2.89 -2.89 -2.89 -2.89 -2.89 -2.89 -2.89 -2.89 -2.89 -2.89\n -2.89 -2.89 -2.89 -2.89 -2.89 -2.89 -2.89 -2.89 -2.89 -2.89]\n"
     ]
    }
   ],
   "source": [
    "def get_percent_cash_change(cerebro_run):\n",
    "    cash_vals = get_cash_including_position(cerebro_run)\n",
    "    start_val = cash_vals[0]\n",
    "    return np.round((cash_vals / start_val - 1) * 100,2)\n",
    "result = get_percent_cash_change(back)\n",
    "print(result)"
   ]
  },
  {
   "cell_type": "code",
   "execution_count": 40,
   "metadata": {},
   "outputs": [
    {
     "output_type": "execute_result",
     "data": {
      "text/plain": [
       "array([ 0.  ,  0.  ,  0.  ,  0.  ,  0.  ,  0.  ,  0.  ,  0.  ,  0.  ,\n",
       "        0.  ,  0.  ,  0.  ,  0.  ,  0.  ,  0.  ,  0.  ,  0.  ,  0.  ,\n",
       "        0.  ,  0.  ,  0.  ,  0.  ,  0.  ,  0.  ,  0.  ,  0.  ,  0.  ,\n",
       "        0.  ,  0.  ,  0.  ,  0.  ,  0.  ,  0.  ,  0.  ,  0.  ,  0.  ,\n",
       "        0.  ,  0.  ,  0.  ,  0.  ,  0.  ,  0.  ,  0.  ,  0.  ,  0.  ,\n",
       "        0.  ,  0.  ,  0.  ,  0.  ,  0.  ,  0.  ,  0.  ,  0.  ,  0.  ,\n",
       "        0.  ,  0.  ,  0.  ,  0.  ,  0.  ,  0.  ,  0.  ,  0.  ,  0.  ,\n",
       "        0.  ,  0.  ,  0.  ,  0.  ,  0.  ,  0.  ,  0.  ,  0.  ,  0.  ,\n",
       "        0.  ,  0.  ,  0.  ,  0.  ,  0.  ,  0.  ,  0.  ,  0.  ,  0.  ,\n",
       "        0.  ,  0.  ,  0.  ,  0.  ,  0.  ,  0.  ,  0.  ,  0.  ,  0.  ,\n",
       "        0.  ,  0.  ,  0.  ,  0.  ,  0.  ,  0.  ,  0.  ,  0.  ,  0.  ,\n",
       "        0.  ,  0.  ,  0.  ,  0.  ,  0.  ,  0.  ,  0.  ,  0.  ,  0.  ,\n",
       "        0.  ,  0.  ,  0.  ,  0.41,  0.62,  0.74,  0.26,  0.52,  0.63,\n",
       "        0.78,  0.81,  0.69,  0.92,  0.97,  1.78,  1.92,  2.25,  2.12,\n",
       "        1.85,  2.03,  1.9 ,  1.82,  1.87,  1.9 ,  2.38,  2.38,  2.27,\n",
       "        2.48,  2.23,  2.39,  2.48,  2.37,  2.25,  1.85,  1.36,  1.7 ,\n",
       "        1.57,  1.78,  1.46,  0.63,  1.19,  1.14,  1.38,  1.35,  1.4 ,\n",
       "        1.83,  1.63,  1.78,  1.78,  1.78,  1.78,  1.83,  1.63,  1.6 ,\n",
       "        1.37,  1.37,  1.37,  1.37,  1.37,  1.37,  1.37,  1.37,  1.37,\n",
       "        1.37,  1.37,  1.37,  1.37,  1.37,  1.37,  1.37,  1.37,  1.37,\n",
       "        1.37,  1.37,  1.37,  1.37,  1.37,  1.37,  1.37,  1.37,  1.37,\n",
       "        1.37,  1.37,  1.37,  1.37,  1.37,  1.37,  1.37,  1.37,  1.37,\n",
       "        1.37,  1.37,  1.37,  1.37,  1.37,  1.37,  1.37,  1.37,  1.37,\n",
       "        1.37,  1.37,  1.37,  1.37,  1.37,  1.37,  1.37,  1.37,  1.37,\n",
       "        1.37,  1.37,  1.37,  1.37,  1.37,  1.37,  1.37,  1.37,  1.37,\n",
       "        1.37,  1.37,  1.37,  1.37,  1.37,  1.37,  1.37,  1.37,  1.37,\n",
       "        1.37,  1.37,  1.37,  1.37,  1.37,  1.37,  1.37,  1.37,  1.37,\n",
       "        1.37,  1.37,  1.37,  1.37,  1.37,  1.37,  1.37,  1.37,  1.37,\n",
       "        1.37,  1.37,  1.37,  1.37,  1.37,  1.37,  1.37,  1.37,  1.37,\n",
       "        1.37,  1.37,  1.37,  1.37,  1.37,  1.37,  1.37,  1.37,  1.37,\n",
       "        1.37,  1.37,  1.37,  1.37,  1.37,  1.37,  1.37,  1.37,  1.37,\n",
       "        1.37,  1.37,  1.37,  1.37,  1.37,  1.37,  1.37,  1.37,  1.37,\n",
       "        1.37,  1.37,  1.37,  1.37,  1.37,  1.37,  1.37,  1.37,  1.37,\n",
       "        1.37,  1.37,  1.37,  1.37,  1.37,  1.37,  1.37,  1.37,  1.37,\n",
       "        1.37,  1.37,  1.37,  1.37,  1.37,  1.37,  1.37,  1.37,  1.37,\n",
       "        1.37,  1.21,  0.97,  1.08,  0.85,  0.86,  0.86,  0.86,  0.86,\n",
       "        0.86,  0.86,  0.86,  0.86,  0.86,  0.86,  0.86,  0.86,  0.86,\n",
       "        0.86,  0.86,  0.86,  0.86,  0.86,  0.86,  0.86,  0.86,  0.86,\n",
       "        0.86,  0.86,  0.86,  0.86,  0.86,  0.86,  0.86,  0.86,  0.86,\n",
       "        0.86,  0.86,  0.86,  0.86,  0.86,  0.86,  0.86,  0.86,  0.91,\n",
       "        0.21,  1.2 ,  1.42,  1.5 ,  1.29,  1.61,  2.43,  2.27,  2.64,\n",
       "        2.77,  2.19,  1.9 ,  1.81,  1.82,  1.09,  1.02,  0.95,  0.49,\n",
       "        1.13,  0.69,  0.79,  0.73,  0.58,  0.67,  0.6 ,  0.47,  0.54,\n",
       "        0.47,  0.42,  0.33,  0.34,  0.11, -0.14, -0.14, -0.14, -0.14,\n",
       "       -0.14, -0.14, -0.14, -0.14, -0.14, -0.14, -0.14, -0.14, -0.14,\n",
       "       -0.14, -0.14, -0.14, -0.14, -0.14, -0.14, -0.14, -0.14, -0.14,\n",
       "       -0.32, -0.13, -0.24, -0.19,  0.11, -0.7 , -0.5 , -0.57, -0.68,\n",
       "       -0.65, -0.67, -0.86, -0.96, -1.09, -0.66, -0.62, -0.69, -0.9 ,\n",
       "       -0.83, -0.89, -0.97, -0.93, -1.02, -1.01, -0.83, -0.73, -0.82,\n",
       "       -0.91, -0.91, -0.94, -1.07, -1.02, -0.97, -1.02, -1.02, -1.02,\n",
       "       -1.02, -1.02, -1.02, -1.02, -1.02, -1.02, -1.02, -1.02, -1.02,\n",
       "       -1.02, -1.02, -1.02, -1.02, -1.02, -1.02, -1.02, -1.02, -1.02,\n",
       "       -1.02, -1.02, -1.02, -1.02, -1.02, -1.02, -1.02, -1.02, -1.02,\n",
       "       -1.02, -1.02, -1.02, -1.02, -1.02, -1.02, -1.02, -1.02, -1.02,\n",
       "       -1.02, -1.02, -1.02, -1.02, -1.02, -1.02, -1.02, -1.02, -1.02,\n",
       "       -1.02, -1.02, -1.02, -1.02, -1.02, -1.02, -1.02, -1.02, -1.02,\n",
       "       -1.02, -1.02, -1.02, -1.26, -1.24, -1.25, -1.41, -1.34, -1.28,\n",
       "       -1.28, -1.38, -1.22, -1.33, -1.37, -1.38, -1.19, -1.13, -1.02,\n",
       "       -1.25, -1.37, -1.54, -1.34, -1.32, -0.96, -1.31, -1.51, -1.5 ,\n",
       "       -1.65, -1.83, -1.89, -1.94, -2.09, -2.09, -2.09, -2.09, -2.09,\n",
       "       -2.09, -2.09, -2.09, -2.09, -2.09, -2.09, -2.09, -2.09, -2.09,\n",
       "       -2.09, -2.09, -2.09, -2.09, -2.09, -2.09, -2.09, -2.09, -2.09,\n",
       "       -2.09, -2.09, -2.09, -2.09, -2.09, -2.09, -2.09, -2.09, -2.09,\n",
       "       -2.09, -2.09, -2.09, -2.09, -2.09, -2.09, -2.09, -2.09, -2.09,\n",
       "       -2.09, -2.09, -2.09, -2.09, -2.09, -2.09, -2.09, -2.09, -2.09,\n",
       "       -2.09, -2.09, -2.09, -2.09, -2.09, -2.09, -2.09, -2.09, -2.09,\n",
       "       -2.09, -2.09, -2.09, -2.09, -2.09, -2.09, -2.09, -2.09, -2.09,\n",
       "       -2.09, -2.09, -2.09, -2.09, -2.09, -2.09, -2.09, -2.09, -2.09,\n",
       "       -2.09, -2.09, -2.09, -2.09, -2.09, -2.09, -2.09, -2.09, -2.09,\n",
       "       -2.09, -2.09, -2.09, -2.09, -2.09, -1.71, -1.74, -1.69, -1.92,\n",
       "       -2.07, -2.66, -2.34, -2.15, -1.82, -1.87, -1.93, -1.56, -1.86,\n",
       "       -1.68, -1.83, -1.67, -1.62, -1.64, -1.49, -1.43, -1.24, -1.31,\n",
       "       -1.53, -1.64, -1.53, -1.3 , -1.42, -1.55, -1.5 , -1.6 , -1.65,\n",
       "       -1.8 , -1.84, -1.78, -1.6 , -1.65, -1.96, -2.68, -2.75, -2.55,\n",
       "       -2.3 , -2.3 , -2.3 , -2.3 , -2.3 , -2.3 , -2.3 , -2.3 , -2.3 ,\n",
       "       -2.3 , -2.3 , -2.3 , -2.3 , -2.3 , -2.3 , -2.3 , -2.3 , -2.3 ,\n",
       "       -2.3 , -2.3 , -2.24, -2.3 , -2.32, -2.53, -2.78, -2.69, -2.91,\n",
       "       -2.81, -2.76, -2.89, -2.89, -2.89, -2.89, -2.89, -2.89, -2.89,\n",
       "       -2.89, -2.89, -2.89, -2.89, -2.89, -2.89, -2.89, -2.89, -2.89,\n",
       "       -2.89, -2.89, -2.89, -2.89, -2.89, -2.89, -2.89, -2.89, -2.89,\n",
       "       -2.89, -2.89, -2.89, -2.89, -2.89, -2.89, -2.89, -2.89, -2.89,\n",
       "       -2.89])"
      ]
     },
     "metadata": {},
     "execution_count": 40
    }
   ],
   "source": [
    "result"
   ]
  },
  {
   "cell_type": "code",
   "execution_count": 41,
   "metadata": {},
   "outputs": [],
   "source": [
    "import rba_tools.backtest.rba_backtrader_set as rbs"
   ]
  },
  {
   "cell_type": "code",
   "execution_count": 42,
   "metadata": {},
   "outputs": [
    {
     "output_type": "execute_result",
     "data": {
      "text/plain": [
       "array([datetime.datetime(2018, 1, 1, 0, 0),\n",
       "       datetime.datetime(2018, 1, 2, 0, 0),\n",
       "       datetime.datetime(2018, 1, 3, 0, 0),\n",
       "       datetime.datetime(2018, 1, 4, 0, 0),\n",
       "       datetime.datetime(2018, 1, 5, 0, 0),\n",
       "       datetime.datetime(2018, 1, 6, 0, 0),\n",
       "       datetime.datetime(2018, 1, 7, 0, 0),\n",
       "       datetime.datetime(2018, 1, 8, 0, 0),\n",
       "       datetime.datetime(2018, 1, 9, 0, 0),\n",
       "       datetime.datetime(2018, 1, 10, 0, 0)], dtype=object)"
      ]
     },
     "metadata": {},
     "execution_count": 42
    }
   ],
   "source": [
    "rbs.get_datetime_array(back)[0:10]"
   ]
  },
  {
   "cell_type": "code",
   "execution_count": 65,
   "metadata": {},
   "outputs": [
    {
     "output_type": "execute_result",
     "data": {
      "text/plain": [
       "              cash  percent_change  trades  buy  sell\n",
       "2018-01-01  1000.0            0.00     NaN  NaN   NaN\n",
       "2018-01-02  1000.0            0.00     NaN  NaN   NaN\n",
       "2018-01-03  1000.0            0.00     NaN  NaN   NaN\n",
       "2018-01-04  1000.0            0.00     NaN  NaN   NaN\n",
       "2018-01-05  1000.0            0.00     NaN  NaN   NaN\n",
       "...            ...             ...     ...  ...   ...\n",
       "2019-12-27   971.1           -2.89     NaN  NaN   NaN\n",
       "2019-12-28   971.1           -2.89     NaN  NaN   NaN\n",
       "2019-12-29   971.1           -2.89     NaN  NaN   NaN\n",
       "2019-12-30   971.1           -2.89     NaN  NaN   NaN\n",
       "2019-12-31   971.1           -2.89     NaN  NaN   NaN\n",
       "\n",
       "[730 rows x 5 columns]"
      ],
      "text/html": "<div>\n<style scoped>\n    .dataframe tbody tr th:only-of-type {\n        vertical-align: middle;\n    }\n\n    .dataframe tbody tr th {\n        vertical-align: top;\n    }\n\n    .dataframe thead th {\n        text-align: right;\n    }\n</style>\n<table border=\"1\" class=\"dataframe\">\n  <thead>\n    <tr style=\"text-align: right;\">\n      <th></th>\n      <th>cash</th>\n      <th>percent_change</th>\n      <th>trades</th>\n      <th>buy</th>\n      <th>sell</th>\n    </tr>\n  </thead>\n  <tbody>\n    <tr>\n      <th>2018-01-01</th>\n      <td>1000.0</td>\n      <td>0.00</td>\n      <td>NaN</td>\n      <td>NaN</td>\n      <td>NaN</td>\n    </tr>\n    <tr>\n      <th>2018-01-02</th>\n      <td>1000.0</td>\n      <td>0.00</td>\n      <td>NaN</td>\n      <td>NaN</td>\n      <td>NaN</td>\n    </tr>\n    <tr>\n      <th>2018-01-03</th>\n      <td>1000.0</td>\n      <td>0.00</td>\n      <td>NaN</td>\n      <td>NaN</td>\n      <td>NaN</td>\n    </tr>\n    <tr>\n      <th>2018-01-04</th>\n      <td>1000.0</td>\n      <td>0.00</td>\n      <td>NaN</td>\n      <td>NaN</td>\n      <td>NaN</td>\n    </tr>\n    <tr>\n      <th>2018-01-05</th>\n      <td>1000.0</td>\n      <td>0.00</td>\n      <td>NaN</td>\n      <td>NaN</td>\n      <td>NaN</td>\n    </tr>\n    <tr>\n      <th>...</th>\n      <td>...</td>\n      <td>...</td>\n      <td>...</td>\n      <td>...</td>\n      <td>...</td>\n    </tr>\n    <tr>\n      <th>2019-12-27</th>\n      <td>971.1</td>\n      <td>-2.89</td>\n      <td>NaN</td>\n      <td>NaN</td>\n      <td>NaN</td>\n    </tr>\n    <tr>\n      <th>2019-12-28</th>\n      <td>971.1</td>\n      <td>-2.89</td>\n      <td>NaN</td>\n      <td>NaN</td>\n      <td>NaN</td>\n    </tr>\n    <tr>\n      <th>2019-12-29</th>\n      <td>971.1</td>\n      <td>-2.89</td>\n      <td>NaN</td>\n      <td>NaN</td>\n      <td>NaN</td>\n    </tr>\n    <tr>\n      <th>2019-12-30</th>\n      <td>971.1</td>\n      <td>-2.89</td>\n      <td>NaN</td>\n      <td>NaN</td>\n      <td>NaN</td>\n    </tr>\n    <tr>\n      <th>2019-12-31</th>\n      <td>971.1</td>\n      <td>-2.89</td>\n      <td>NaN</td>\n      <td>NaN</td>\n      <td>NaN</td>\n    </tr>\n  </tbody>\n</table>\n<p>730 rows × 5 columns</p>\n</div>"
     },
     "metadata": {},
     "execution_count": 65
    }
   ],
   "source": [
    "def summarize_cerebro_run(cerebro_run):\n",
    "    #get pandas dataframe of summarized data\n",
    "    index = rbs.get_datetime_array(cerebro_run)\n",
    "    data = { 'cash' : rbs.get_cash_including_position(cerebro_run),\n",
    "             'percent_change' : rbs.get_percent_cash_change(cerebro_run),\n",
    "             'trades' : rbs.get_trades_from_cerebro_run(cerebro_run),\n",
    "             'buy' : get_buy_sell_from_cerebro_run(cerebro_run, trade_type='buy'),\n",
    "             'sell' : get_buy_sell_from_cerebro_run(cerebro_run, trade_type='sell')\n",
    "            }\n",
    "    return pd.DataFrame(data=data, index=index)\n",
    "df = summarize_cerebro_run(back)\n",
    "df"
   ]
  },
  {
   "cell_type": "code",
   "execution_count": 66,
   "metadata": {},
   "outputs": [
    {
     "output_type": "execute_result",
     "data": {
      "text/plain": [
       "2018-01-01   NaN\n",
       "2018-01-02   NaN\n",
       "2018-01-03   NaN\n",
       "2018-01-04   NaN\n",
       "2018-01-05   NaN\n",
       "              ..\n",
       "2019-12-27   NaN\n",
       "2019-12-28   NaN\n",
       "2019-12-29   NaN\n",
       "2019-12-30   NaN\n",
       "2019-12-31   NaN\n",
       "Name: trades, Length: 730, dtype: float64"
      ]
     },
     "metadata": {},
     "execution_count": 66
    }
   ],
   "source": [
    "df['trades']"
   ]
  },
  {
   "cell_type": "code",
   "execution_count": 67,
   "metadata": {},
   "outputs": [
    {
     "output_type": "execute_result",
     "data": {
      "text/plain": [
       "               cash  percent_change     trades       buy      sell\n",
       "2018-06-01  1013.47            1.35        NaN       NaN       NaN\n",
       "2018-06-02  1014.01            1.40        NaN       NaN       NaN\n",
       "2018-06-03  1018.26            1.83        NaN       NaN       NaN\n",
       "2018-06-04  1016.33            1.63        NaN       NaN       NaN\n",
       "2018-06-05  1017.76            1.78        NaN       NaN       NaN\n",
       "2018-06-06  1017.76            1.78  17.762267       NaN  0.081301\n",
       "2018-06-07  1017.76            1.78        NaN       NaN       NaN\n",
       "2018-06-08  1017.83            1.78        NaN  0.076821       NaN\n",
       "2018-06-09  1018.30            1.83        NaN       NaN       NaN\n",
       "2018-06-10  1016.27            1.63        NaN       NaN       NaN\n",
       "2018-06-11  1015.95            1.60        NaN       NaN       NaN\n",
       "2018-06-12  1013.71            1.37        NaN       NaN       NaN\n",
       "2018-06-13  1013.71            1.37  -4.050461       NaN  0.077536\n",
       "2018-06-14  1013.71            1.37        NaN       NaN       NaN\n",
       "2018-06-15  1013.71            1.37        NaN       NaN       NaN\n",
       "2018-06-16  1013.71            1.37        NaN       NaN       NaN\n",
       "2018-06-17  1013.71            1.37        NaN       NaN       NaN\n",
       "2018-06-18  1013.71            1.37        NaN       NaN       NaN\n",
       "2018-06-19  1013.71            1.37        NaN       NaN       NaN\n",
       "2018-06-20  1013.71            1.37        NaN       NaN       NaN\n",
       "2018-06-21  1013.71            1.37        NaN       NaN       NaN\n",
       "2018-06-22  1013.71            1.37        NaN       NaN       NaN\n",
       "2018-06-23  1013.71            1.37        NaN       NaN       NaN\n",
       "2018-06-24  1013.71            1.37        NaN       NaN       NaN\n",
       "2018-06-25  1013.71            1.37        NaN       NaN       NaN\n",
       "2018-06-26  1013.71            1.37        NaN       NaN       NaN\n",
       "2018-06-27  1013.71            1.37        NaN       NaN       NaN\n",
       "2018-06-28  1013.71            1.37        NaN       NaN       NaN\n",
       "2018-06-29  1013.71            1.37        NaN       NaN       NaN\n",
       "2018-06-30  1013.71            1.37        NaN       NaN       NaN"
      ],
      "text/html": "<div>\n<style scoped>\n    .dataframe tbody tr th:only-of-type {\n        vertical-align: middle;\n    }\n\n    .dataframe tbody tr th {\n        vertical-align: top;\n    }\n\n    .dataframe thead th {\n        text-align: right;\n    }\n</style>\n<table border=\"1\" class=\"dataframe\">\n  <thead>\n    <tr style=\"text-align: right;\">\n      <th></th>\n      <th>cash</th>\n      <th>percent_change</th>\n      <th>trades</th>\n      <th>buy</th>\n      <th>sell</th>\n    </tr>\n  </thead>\n  <tbody>\n    <tr>\n      <th>2018-06-01</th>\n      <td>1013.47</td>\n      <td>1.35</td>\n      <td>NaN</td>\n      <td>NaN</td>\n      <td>NaN</td>\n    </tr>\n    <tr>\n      <th>2018-06-02</th>\n      <td>1014.01</td>\n      <td>1.40</td>\n      <td>NaN</td>\n      <td>NaN</td>\n      <td>NaN</td>\n    </tr>\n    <tr>\n      <th>2018-06-03</th>\n      <td>1018.26</td>\n      <td>1.83</td>\n      <td>NaN</td>\n      <td>NaN</td>\n      <td>NaN</td>\n    </tr>\n    <tr>\n      <th>2018-06-04</th>\n      <td>1016.33</td>\n      <td>1.63</td>\n      <td>NaN</td>\n      <td>NaN</td>\n      <td>NaN</td>\n    </tr>\n    <tr>\n      <th>2018-06-05</th>\n      <td>1017.76</td>\n      <td>1.78</td>\n      <td>NaN</td>\n      <td>NaN</td>\n      <td>NaN</td>\n    </tr>\n    <tr>\n      <th>2018-06-06</th>\n      <td>1017.76</td>\n      <td>1.78</td>\n      <td>17.762267</td>\n      <td>NaN</td>\n      <td>0.081301</td>\n    </tr>\n    <tr>\n      <th>2018-06-07</th>\n      <td>1017.76</td>\n      <td>1.78</td>\n      <td>NaN</td>\n      <td>NaN</td>\n      <td>NaN</td>\n    </tr>\n    <tr>\n      <th>2018-06-08</th>\n      <td>1017.83</td>\n      <td>1.78</td>\n      <td>NaN</td>\n      <td>0.076821</td>\n      <td>NaN</td>\n    </tr>\n    <tr>\n      <th>2018-06-09</th>\n      <td>1018.30</td>\n      <td>1.83</td>\n      <td>NaN</td>\n      <td>NaN</td>\n      <td>NaN</td>\n    </tr>\n    <tr>\n      <th>2018-06-10</th>\n      <td>1016.27</td>\n      <td>1.63</td>\n      <td>NaN</td>\n      <td>NaN</td>\n      <td>NaN</td>\n    </tr>\n    <tr>\n      <th>2018-06-11</th>\n      <td>1015.95</td>\n      <td>1.60</td>\n      <td>NaN</td>\n      <td>NaN</td>\n      <td>NaN</td>\n    </tr>\n    <tr>\n      <th>2018-06-12</th>\n      <td>1013.71</td>\n      <td>1.37</td>\n      <td>NaN</td>\n      <td>NaN</td>\n      <td>NaN</td>\n    </tr>\n    <tr>\n      <th>2018-06-13</th>\n      <td>1013.71</td>\n      <td>1.37</td>\n      <td>-4.050461</td>\n      <td>NaN</td>\n      <td>0.077536</td>\n    </tr>\n    <tr>\n      <th>2018-06-14</th>\n      <td>1013.71</td>\n      <td>1.37</td>\n      <td>NaN</td>\n      <td>NaN</td>\n      <td>NaN</td>\n    </tr>\n    <tr>\n      <th>2018-06-15</th>\n      <td>1013.71</td>\n      <td>1.37</td>\n      <td>NaN</td>\n      <td>NaN</td>\n      <td>NaN</td>\n    </tr>\n    <tr>\n      <th>2018-06-16</th>\n      <td>1013.71</td>\n      <td>1.37</td>\n      <td>NaN</td>\n      <td>NaN</td>\n      <td>NaN</td>\n    </tr>\n    <tr>\n      <th>2018-06-17</th>\n      <td>1013.71</td>\n      <td>1.37</td>\n      <td>NaN</td>\n      <td>NaN</td>\n      <td>NaN</td>\n    </tr>\n    <tr>\n      <th>2018-06-18</th>\n      <td>1013.71</td>\n      <td>1.37</td>\n      <td>NaN</td>\n      <td>NaN</td>\n      <td>NaN</td>\n    </tr>\n    <tr>\n      <th>2018-06-19</th>\n      <td>1013.71</td>\n      <td>1.37</td>\n      <td>NaN</td>\n      <td>NaN</td>\n      <td>NaN</td>\n    </tr>\n    <tr>\n      <th>2018-06-20</th>\n      <td>1013.71</td>\n      <td>1.37</td>\n      <td>NaN</td>\n      <td>NaN</td>\n      <td>NaN</td>\n    </tr>\n    <tr>\n      <th>2018-06-21</th>\n      <td>1013.71</td>\n      <td>1.37</td>\n      <td>NaN</td>\n      <td>NaN</td>\n      <td>NaN</td>\n    </tr>\n    <tr>\n      <th>2018-06-22</th>\n      <td>1013.71</td>\n      <td>1.37</td>\n      <td>NaN</td>\n      <td>NaN</td>\n      <td>NaN</td>\n    </tr>\n    <tr>\n      <th>2018-06-23</th>\n      <td>1013.71</td>\n      <td>1.37</td>\n      <td>NaN</td>\n      <td>NaN</td>\n      <td>NaN</td>\n    </tr>\n    <tr>\n      <th>2018-06-24</th>\n      <td>1013.71</td>\n      <td>1.37</td>\n      <td>NaN</td>\n      <td>NaN</td>\n      <td>NaN</td>\n    </tr>\n    <tr>\n      <th>2018-06-25</th>\n      <td>1013.71</td>\n      <td>1.37</td>\n      <td>NaN</td>\n      <td>NaN</td>\n      <td>NaN</td>\n    </tr>\n    <tr>\n      <th>2018-06-26</th>\n      <td>1013.71</td>\n      <td>1.37</td>\n      <td>NaN</td>\n      <td>NaN</td>\n      <td>NaN</td>\n    </tr>\n    <tr>\n      <th>2018-06-27</th>\n      <td>1013.71</td>\n      <td>1.37</td>\n      <td>NaN</td>\n      <td>NaN</td>\n      <td>NaN</td>\n    </tr>\n    <tr>\n      <th>2018-06-28</th>\n      <td>1013.71</td>\n      <td>1.37</td>\n      <td>NaN</td>\n      <td>NaN</td>\n      <td>NaN</td>\n    </tr>\n    <tr>\n      <th>2018-06-29</th>\n      <td>1013.71</td>\n      <td>1.37</td>\n      <td>NaN</td>\n      <td>NaN</td>\n      <td>NaN</td>\n    </tr>\n    <tr>\n      <th>2018-06-30</th>\n      <td>1013.71</td>\n      <td>1.37</td>\n      <td>NaN</td>\n      <td>NaN</td>\n      <td>NaN</td>\n    </tr>\n  </tbody>\n</table>\n</div>"
     },
     "metadata": {},
     "execution_count": 67
    }
   ],
   "source": [
    "df.loc['2018-06-01':'2018-06-30',:]"
   ]
  },
  {
   "cell_type": "code",
   "execution_count": 46,
   "metadata": {},
   "outputs": [
    {
     "output_type": "execute_result",
     "data": {
      "text/plain": [
       "[<__main__.MaCrossStrategy at 0x1687cadf790>]"
      ]
     },
     "metadata": {},
     "execution_count": 46
    }
   ],
   "source": [
    "strats = cerebro.runstrats[0]\n",
    "strats"
   ]
  },
  {
   "cell_type": "code",
   "execution_count": 47,
   "metadata": {},
   "outputs": [
    {
     "output_type": "stream",
     "name": "stdout",
     "text": [
      "si = 0\nstrat = <__main__.MaCrossStrategy object at 0x000001687CADF790> \n\n"
     ]
    },
    {
     "output_type": "execute_result",
     "data": {
      "text/plain": [
       "<__main__.MaCrossStrategy at 0x1687cadf790>"
      ]
     },
     "metadata": {},
     "execution_count": 47
    }
   ],
   "source": [
    "for si, strat in enumerate(strats):\n",
    "    print('si =',si)\n",
    "    print('strat =',strat,'\\n')\n",
    "\n",
    "strat"
   ]
  },
  {
   "cell_type": "code",
   "execution_count": 48,
   "metadata": {},
   "outputs": [
    {
     "output_type": "execute_result",
     "data": {
      "text/plain": [
       "[<backtrader.observers.broker.Broker at 0x1687cbe9ac0>,\n",
       " <backtrader.observers.buysell.BuySell at 0x1687cbe9dc0>,\n",
       " <backtrader.observers.trades.Trades at 0x1687cbf1070>]"
      ]
     },
     "metadata": {},
     "execution_count": 48
    }
   ],
   "source": [
    "strat.getobservers()"
   ]
  },
  {
   "cell_type": "code",
   "execution_count": 49,
   "metadata": {},
   "outputs": [
    {
     "output_type": "execute_result",
     "data": {
      "text/plain": [
       "<backtrader.observers.buysell.BuySell at 0x1687cbe9dc0>"
      ]
     },
     "metadata": {},
     "execution_count": 49
    }
   ],
   "source": [
    "buysell = strat.getobservers()[1]\n",
    "buysell"
   ]
  },
  {
   "cell_type": "code",
   "execution_count": 57,
   "metadata": {},
   "outputs": [
    {
     "output_type": "stream",
     "name": "stdout",
     "text": [
      "array('d', [nan, nan, nan, nan, nan, nan, nan, nan, nan, nan, nan, nan, nan, nan, nan, nan, nan, nan, nan, nan, nan, nan, nan, nan, nan, nan, nan, nan, nan, nan, nan, nan, nan, nan, nan, nan, nan, nan, nan, nan, nan, nan, nan, nan, nan, nan, nan, nan, nan, nan, nan, nan, nan, nan, nan, nan, nan, nan, nan, nan, nan, nan, nan, nan, nan, nan, nan, nan, nan, nan, nan, nan, nan, nan, nan, nan, nan, nan, nan, nan, nan, nan, nan, nan, nan, nan, nan, nan, nan, nan, nan, nan, nan, nan, nan, nan, nan, nan, nan, nan, nan, nan, nan, nan, nan, nan, nan, nan, nan, nan, nan, 0.06463373, nan, nan, nan, nan, nan, nan, nan, nan, nan, nan, nan, nan, nan, nan, nan, nan, nan, nan, nan, nan, nan, nan, nan, nan, nan, nan, nan, nan, nan, nan, nan, nan, nan, nan, nan, nan, nan, nan, nan, nan, nan, nan, nan, nan, nan, nan, 0.076821135, nan, nan, nan, nan, nan, nan, nan, nan, nan, nan, nan, nan, nan, nan, nan, nan, nan, nan, nan, nan, nan, nan, nan, nan, nan, nan, nan, nan, nan, nan, nan, nan, nan, nan, nan, nan, nan, nan, nan, nan, nan, nan, nan, nan, nan, nan, nan, nan, nan, nan, nan, nan, nan, nan, nan, nan, nan, nan, nan, nan, nan, nan, nan, nan, nan, nan, nan, nan, nan, nan, nan, nan, nan, nan, nan, nan, nan, nan, nan, nan, nan, nan, nan, nan, nan, nan, nan, nan, nan, nan, nan, nan, nan, nan, nan, nan, nan, nan, nan, nan, nan, nan, nan, nan, nan, nan, nan, nan, nan, nan, nan, nan, nan, nan, nan, nan, nan, nan, nan, nan, nan, nan, nan, nan, nan, nan, nan, nan, nan, nan, nan, nan, nan, nan, nan, nan, nan, nan, nan, nan, nan, nan, nan, nan, nan, nan, nan, nan, nan, nan, nan, nan, nan, nan, nan, nan, nan, 0.031863765, nan, nan, nan, nan, nan, nan, nan, nan, nan, nan, nan, nan, nan, nan, nan, nan, nan, nan, nan, nan, nan, nan, nan, nan, nan, nan, nan, nan, nan, nan, nan, nan, nan, nan, nan, nan, nan, nan, nan, nan, nan, nan, 0.032907865, nan, nan, nan, nan, nan, nan, nan, nan, nan, nan, nan, nan, nan, nan, nan, nan, nan, nan, nan, nan, nan, nan, nan, nan, nan, nan, nan, nan, nan, nan, nan, nan, nan, nan, nan, nan, nan, nan, nan, nan, nan, nan, nan, nan, nan, nan, nan, nan, nan, nan, nan, nan, nan, nan, 0.036051, nan, nan, nan, nan, nan, nan, nan, nan, nan, nan, nan, nan, nan, nan, nan, nan, nan, nan, nan, nan, nan, nan, nan, nan, nan, nan, nan, nan, nan, nan, nan, nan, nan, nan, nan, nan, nan, nan, nan, nan, nan, nan, nan, nan, nan, nan, nan, nan, nan, nan, nan, nan, nan, nan, nan, nan, nan, nan, nan, nan, nan, nan, nan, nan, nan, nan, nan, nan, nan, nan, nan, nan, nan, nan, nan, nan, nan, nan, nan, nan, nan, nan, nan, nan, nan, nan, nan, nan, nan, nan, nan, nan, 0.0302592, nan, nan, nan, nan, nan, nan, nan, nan, nan, nan, nan, nan, nan, nan, nan, nan, nan, nan, nan, nan, nan, nan, nan, nan, nan, nan, nan, nan, nan, nan, nan, nan, nan, nan, nan, nan, nan, nan, nan, nan, nan, nan, nan, nan, nan, nan, nan, nan, nan, nan, nan, nan, nan, nan, nan, nan, nan, nan, nan, nan, nan, nan, nan, nan, nan, nan, nan, nan, nan, nan, nan, nan, nan, nan, nan, nan, nan, nan, nan, nan, nan, nan, nan, nan, nan, nan, nan, nan, nan, nan, nan, nan, nan, nan, nan, nan, nan, nan, nan, nan, nan, nan, nan, nan, nan, nan, nan, nan, nan, nan, nan, nan, nan, nan, nan, nan, nan, nan, 0.019955115, nan, nan, nan, nan, nan, nan, nan, nan, nan, nan, nan, nan, nan, nan, nan, nan, nan, nan, nan, nan, nan, nan, nan, nan, nan, nan, nan, nan, nan, nan, nan, nan, nan, nan, nan, nan, nan, nan, nan, nan, nan, nan, nan, nan, nan, nan, nan, nan, nan, nan, nan, nan, nan, nan, nan, nan, nan, nan, nan, 0.021105595, nan, nan, nan, nan, nan, nan, nan, nan, nan, nan, nan, nan, nan, nan, nan, nan, nan, nan, nan, nan, nan, nan, nan, nan, nan, nan, nan, nan, nan, nan, nan, nan, nan, nan, nan, nan, nan, nan, nan, nan, nan, nan, nan, nan, nan, nan, nan, nan, nan, nan, nan, nan, nan, nan, nan, nan, nan, nan, nan, nan, nan, nan, nan, nan, nan, nan, nan, nan, nan, nan, nan, nan, nan, nan, nan, nan, nan, nan, nan, nan, nan, nan, nan, nan, nan, nan, nan, nan, nan, nan, nan, nan, nan, nan, nan, nan, nan, nan, nan, nan, nan, nan, nan, nan, nan, nan, nan, nan, nan, nan, nan, nan, nan, nan, nan, nan, nan, nan, nan, nan, nan, nan, nan, nan, nan, nan, nan, nan, nan, nan, nan, nan, nan, nan, nan, nan, nan, nan, nan, nan, nan, nan, nan, nan, nan, nan, nan, nan, nan, nan, nan, nan, nan, nan, nan, nan, nan, nan, nan, nan, nan, nan, nan, nan, nan, nan, nan, nan, nan, nan, nan, nan, nan, nan, nan, nan, nan, nan, nan, nan, nan, nan, nan, nan, nan, nan, nan, nan, nan, nan, nan, nan, nan, nan, nan, nan, nan, nan, nan, nan, nan, nan, nan, nan, nan, nan, nan, nan, nan, nan, nan, nan, nan, nan, nan, nan, nan, nan, nan, nan, nan, nan, nan, nan, nan, nan, nan, nan, nan, nan, nan, nan, nan, nan, nan, nan, nan, nan, nan, nan, nan, nan, nan, nan, nan, nan, nan, nan, nan, nan, nan, nan, nan, nan, nan, nan, nan, nan, nan, nan, nan, nan, nan, nan, nan, nan, nan, nan, nan, nan, nan, nan, nan, nan, nan, nan, nan, nan, nan, nan, nan, nan, nan, nan, nan, nan, nan, nan, nan, nan, nan, nan, nan, nan, nan, nan, nan, nan, nan, nan, nan, nan, nan, nan, nan, nan, nan, nan, nan, nan, nan, nan, nan, nan, nan, nan, nan, nan, nan, nan, nan, nan, nan, nan, nan, nan, nan, nan, nan, nan, nan, nan, nan, nan, nan, nan, nan, nan, nan, nan, nan, nan, nan, nan, nan, nan, nan, nan, nan, nan, nan, nan, nan, nan, nan, nan, nan, nan, nan, nan, nan, nan, nan, nan, nan, nan, nan, nan, nan, nan, nan, nan, nan, nan, nan, nan, nan, nan, nan, nan, nan, nan, nan, nan, nan, nan, nan, nan, nan, nan, nan, nan, nan, nan, nan, nan, nan, nan, nan, nan, nan, nan, nan, nan, nan, nan, nan, nan, nan, nan, nan, nan, nan, nan, nan, nan, nan, nan, nan, nan, nan, nan, nan, nan, nan, nan, nan, nan, nan, nan, nan, nan, nan, nan, nan, nan, nan, nan, nan, nan, nan, nan, nan, nan, nan, nan, nan, nan, nan, nan, nan, nan, nan, nan, nan, nan, nan, nan, nan, nan, nan, nan, nan, nan, nan, nan, nan, nan, nan, nan, nan, nan, nan, nan, nan, nan, nan, nan, nan, nan, nan, nan, nan, nan, nan, nan, nan, nan, nan, nan, nan, nan, nan, nan, nan, nan, nan, nan, nan, nan, nan, nan, nan, nan, nan, nan, nan, nan, nan, nan, nan, nan, nan, nan, nan, nan, nan, nan, nan, nan, nan, nan, nan, nan, nan, nan, nan, nan, nan, nan, nan, nan, nan, nan, nan, nan, nan, nan, nan, nan, nan, nan, nan, nan, nan, nan, nan, nan, nan, nan, nan, nan, nan, nan, nan, nan, nan, nan, nan, nan, nan, nan, nan, nan, nan, nan, nan, nan, nan, nan, nan, nan, nan, nan, nan, nan, nan, nan, nan, nan, nan, nan, nan, nan, nan, nan, nan, nan, nan, nan, nan, nan, nan, nan, nan, nan, nan, nan, nan, nan, nan, nan, nan, nan, nan, nan, nan, nan, nan, nan, nan, nan, nan, nan, nan, nan, nan, nan, nan, nan, nan, nan, nan, nan, nan, nan, nan, nan, nan, nan, nan, nan, nan, nan, nan, nan, nan, nan, nan, nan, nan, nan, nan, nan, nan, nan, nan, nan, nan, nan, nan, nan, nan, nan, nan, nan, nan, nan, nan, nan, nan, nan, nan, nan, nan, nan, nan, nan, nan, nan, nan, nan, nan, nan, nan, nan, nan, nan, nan, nan, nan, nan, nan, nan, nan, nan, nan, nan, nan, nan, nan, nan, nan, nan, nan, nan, nan, nan, nan, nan, nan, nan, nan, nan, nan, nan, nan, nan, nan, nan, nan, nan, nan, nan, nan, nan, nan, nan, nan, nan, nan, nan, nan, nan, nan, nan, nan, nan, nan, nan, nan, nan, nan, nan, nan, nan, nan, nan, nan, nan, nan, nan, nan, nan, nan, nan, nan, nan, nan, nan, nan, nan, nan, nan, nan, nan, nan, nan, nan, nan, nan, nan, nan, nan, nan, nan, nan, nan, nan, nan, nan, nan, nan])\n1460\narray('d', [nan, nan, nan, nan, nan, nan, nan, nan, nan, nan, nan, nan, nan, nan, nan, nan, nan, nan, nan, nan, nan, nan, nan, nan, nan, nan, nan, nan, nan, nan, nan, nan, nan, nan, nan, nan, nan, nan, nan, nan, nan, nan, nan, nan, nan, nan, nan, nan, nan, nan, nan, nan, nan, nan, nan, nan, nan, nan, nan, nan, nan, nan, nan, nan, nan, nan, nan, nan, nan, nan, nan, nan, nan, nan, nan, nan, nan, nan, nan, nan, nan, nan, nan, nan, nan, nan, nan, nan, nan, nan, nan, nan, nan, nan, nan, nan, nan, nan, nan, nan, nan, nan, nan, nan, nan, nan, nan, nan, nan, nan, nan, nan, nan, nan, nan, nan, nan, nan, nan, nan, nan, nan, nan, nan, nan, nan, nan, nan, nan, nan, nan, nan, nan, nan, nan, nan, nan, nan, nan, nan, nan, nan, nan, nan, nan, nan, nan, nan, nan, nan, nan, nan, nan, nan, nan, nan, 0.0813015, nan, nan, nan, nan, nan, nan, 0.07753584999999999, nan, nan, nan, nan, nan, nan, nan, nan, nan, nan, nan, nan, nan, nan, nan, nan, nan, nan, nan, nan, nan, nan, nan, nan, nan, nan, nan, nan, nan, nan, nan, nan, nan, nan, nan, nan, nan, nan, nan, nan, nan, nan, nan, nan, nan, nan, nan, nan, nan, nan, nan, nan, nan, nan, nan, nan, nan, nan, nan, nan, nan, nan, nan, nan, nan, nan, nan, nan, nan, nan, nan, nan, nan, nan, nan, nan, nan, nan, nan, nan, nan, nan, nan, nan, nan, nan, nan, nan, nan, nan, nan, nan, nan, nan, nan, nan, nan, nan, nan, nan, nan, nan, nan, nan, nan, nan, nan, nan, nan, nan, nan, nan, nan, nan, nan, nan, nan, nan, nan, nan, nan, nan, nan, nan, nan, nan, nan, nan, nan, nan, nan, nan, nan, nan, nan, nan, nan, nan, nan, nan, nan, nan, nan, nan, nan, nan, nan, nan, nan, nan, nan, nan, nan, nan, nan, nan, nan, 0.0324191, nan, nan, nan, nan, nan, nan, nan, nan, nan, nan, nan, nan, nan, nan, nan, nan, nan, nan, nan, nan, nan, nan, nan, nan, nan, nan, nan, nan, nan, nan, nan, nan, nan, nan, nan, nan, nan, nan, nan, nan, nan, nan, nan, nan, nan, nan, nan, nan, nan, nan, nan, nan, nan, nan, nan, nan, nan, nan, nan, nan, nan, nan, nan, nan, nan, nan, nan, nan, nan, nan, nan, 0.03145891, nan, nan, nan, nan, nan, nan, nan, nan, nan, nan, nan, nan, nan, nan, nan, nan, nan, nan, nan, nan, nan, nan, nan, nan, nan, nan, nan, nan, nan, nan, nan, nan, nan, nan, nan, nan, nan, nan, nan, nan, nan, nan, nan, nan, nan, nan, nan, nan, nan, nan, nan, nan, nan, nan, 0.034751569999999996, nan, nan, nan, nan, nan, nan, nan, nan, nan, nan, nan, nan, nan, nan, nan, nan, nan, nan, nan, nan, nan, nan, nan, nan, nan, nan, nan, nan, nan, nan, nan, nan, nan, nan, nan, nan, nan, nan, nan, nan, nan, nan, nan, nan, nan, nan, nan, nan, nan, nan, nan, nan, nan, nan, nan, nan, nan, nan, nan, nan, nan, nan, nan, nan, nan, nan, nan, nan, nan, nan, nan, nan, nan, nan, nan, nan, nan, nan, nan, nan, nan, nan, nan, nan, nan, nan, nan, 0.03029775, nan, nan, nan, nan, nan, nan, nan, nan, nan, nan, nan, nan, nan, nan, nan, nan, nan, nan, nan, nan, nan, nan, nan, nan, nan, nan, nan, nan, nan, nan, nan, nan, nan, nan, nan, nan, nan, nan, nan, nan, nan, nan, nan, nan, nan, nan, nan, nan, nan, nan, nan, nan, nan, nan, nan, nan, nan, nan, nan, nan, nan, nan, nan, nan, nan, nan, nan, nan, nan, nan, nan, nan, nan, nan, nan, nan, nan, nan, nan, nan, nan, nan, nan, nan, nan, nan, nan, nan, nan, nan, nan, nan, nan, nan, nan, nan, nan, nan, nan, nan, nan, nan, nan, nan, nan, nan, nan, nan, nan, nan, nan, nan, nan, nan, nan, nan, nan, nan, nan, nan, nan, nan, nan, nan, nan, nan, nan, nan, nan, nan, 0.020851144999999998, nan, nan, nan, nan, nan, nan, nan, nan, nan, nan, nan, nan, nan, nan, nan, nan, nan, nan, nan, nan, nan, nan, nan, nan, nan, nan, nan, nan, 0.020788215, nan, nan, nan, nan, nan, nan, nan, nan, nan, nan, nan, nan, nan, nan, nan, nan, nan, nan, nan, nan, nan, nan, nan, nan, nan, nan, nan, nan, nan, nan, nan, nan, nan, nan, nan, nan, nan, nan, nan, nan, nan, nan, nan, nan, nan, nan, nan, nan, nan, nan, nan, nan, nan, nan, nan, nan, nan, nan, nan, nan, nan, nan, nan, nan, nan, nan, nan, nan, nan, nan, nan, nan, nan, nan, nan, nan, nan, nan, nan, nan, nan, nan, nan, nan, nan, nan, nan, nan, nan, nan, nan, nan, nan, nan, nan, nan, nan, nan, nan, nan, nan, nan, nan, nan, nan, nan, nan, nan, nan, nan, nan, nan, nan, nan, nan, nan, nan, nan, nan, nan, nan, nan, nan, nan, nan, nan, nan, nan, nan, nan, nan, nan, nan, nan, nan, nan, nan, nan, nan, nan, nan, nan, nan, nan, nan, nan, nan, nan, nan, nan, nan, nan, nan, nan, nan, nan, nan, nan, nan, nan, nan, nan, nan, nan, nan, nan, nan, nan, nan, nan, nan, nan, nan, nan, nan, nan, nan, nan, nan, nan, nan, nan, nan, nan, nan, nan, nan, nan, nan, nan, nan, nan, nan, nan, nan, nan, nan, nan, nan, nan, nan, nan, nan, nan, nan, nan, nan, nan, nan, nan, nan, nan, nan, nan, nan, nan, nan, nan, nan, nan, nan, nan, nan, nan, nan, nan, nan, nan, nan, nan, nan, nan, nan, nan, nan, nan, nan, nan, nan, nan, nan, nan, nan, nan, nan, nan, nan, nan, nan, nan, nan, nan, nan, nan, nan, nan, nan, nan, nan, nan, nan, nan, nan, nan, nan, nan, nan, nan, nan, nan, nan, nan, nan, nan, nan, nan, nan, nan, nan, nan, nan, nan, nan, nan, nan, nan, nan, nan, nan, nan, nan, nan, nan, nan, nan, nan, nan, nan, nan, nan, nan, nan, nan, nan, nan, nan, nan, nan, nan, nan, nan, nan, nan, nan, nan, nan, nan, nan, nan, nan, nan, nan, nan, nan, nan, nan, nan, nan, nan, nan, nan, nan, nan, nan, nan, nan, nan, nan, nan, nan, nan, nan, nan, nan, nan, nan, nan, nan, nan, nan, nan, nan, nan, nan, nan, nan, nan, nan, nan, nan, nan, nan, nan, nan, nan, nan, nan, nan, nan, nan, nan, nan, nan, nan, nan, nan, nan, nan, nan, nan, nan, nan, nan, nan, nan, nan, nan, nan, nan, nan, nan, nan, nan, nan, nan, nan, nan, nan, nan, nan, nan, nan, nan, nan, nan, nan, nan, nan, nan, nan, nan, nan, nan, nan, nan, nan, nan, nan, nan, nan, nan, nan, nan, nan, nan, nan, nan, nan, nan, nan, nan, nan, nan, nan, nan, nan, nan, nan, nan, nan, nan, nan, nan, nan, nan, nan, nan, nan, nan, nan, nan, nan, nan, nan, nan, nan, nan, nan, nan, nan, nan, nan, nan, nan, nan, nan, nan, nan, nan, nan, nan, nan, nan, nan, nan, nan, nan, nan, nan, nan, nan, nan, nan, nan, nan, nan, nan, nan, nan, nan, nan, nan, nan, nan, nan, nan, nan, nan, nan, nan, nan, nan, nan, nan, nan, nan, nan, nan, nan, nan, nan, nan, nan, nan, nan, nan, nan, nan, nan, nan, nan, nan, nan, nan, nan, nan, nan, nan, nan, nan, nan, nan, nan, nan, nan, nan, nan, nan, nan, nan, nan, nan, nan, nan, nan, nan, nan, nan, nan, nan, nan, nan, nan, nan, nan, nan, nan, nan, nan, nan, nan, nan, nan, nan, nan, nan, nan, nan, nan, nan, nan, nan, nan, nan, nan, nan, nan, nan, nan, nan, nan, nan, nan, nan, nan, nan, nan, nan, nan, nan, nan, nan, nan, nan, nan, nan, nan, nan, nan, nan, nan, nan, nan, nan, nan, nan, nan, nan, nan, nan, nan, nan, nan, nan, nan, nan, nan, nan, nan, nan, nan, nan, nan, nan, nan, nan, nan, nan, nan, nan, nan, nan, nan, nan, nan, nan, nan, nan, nan, nan, nan, nan, nan, nan, nan, nan, nan, nan, nan, nan, nan, nan, nan, nan, nan, nan, nan, nan, nan, nan, nan, nan, nan, nan, nan, nan, nan, nan, nan, nan, nan, nan, nan, nan, nan, nan, nan, nan, nan, nan, nan, nan, nan, nan, nan, nan, nan, nan, nan, nan, nan, nan, nan, nan, nan, nan, nan, nan, nan, nan, nan, nan, nan, nan, nan, nan, nan, nan, nan, nan, nan, nan, nan, nan, nan, nan, nan, nan, nan, nan, nan, nan, nan, nan, nan, nan, nan, nan, nan, nan, nan, nan, nan, nan, nan, nan, nan, nan, nan, nan, nan, nan, nan, nan, nan, nan, nan, nan, nan, nan, nan, nan, nan, nan, nan, nan, nan, nan, nan, nan, nan, nan, nan])\n1460\n"
     ]
    }
   ],
   "source": [
    "for line in buysell.lines:\n",
    "    print(line.array)\n",
    "    print(len(line.array))"
   ]
  },
  {
   "cell_type": "code",
   "execution_count": 56,
   "metadata": {},
   "outputs": [
    {
     "output_type": "execute_result",
     "data": {
      "text/plain": [
       "[<backtrader.observers.broker.Broker at 0x1687cbe9ac0>,\n",
       " <backtrader.observers.buysell.BuySell at 0x1687cbe9dc0>,\n",
       " <backtrader.observers.trades.Trades at 0x1687cbf1070>]"
      ]
     },
     "metadata": {},
     "execution_count": 56
    }
   ],
   "source": [
    "back[0].getobservers()"
   ]
  },
  {
   "cell_type": "code",
   "execution_count": null,
   "metadata": {},
   "outputs": [],
   "source": []
  }
 ]
}