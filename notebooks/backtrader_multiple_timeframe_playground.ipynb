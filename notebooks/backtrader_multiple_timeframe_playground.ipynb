{
 "cells": [
  {
   "cell_type": "code",
   "execution_count": 1,
   "metadata": {},
   "outputs": [],
   "source": [
    "from backtrader import plot\n",
    "import backtrader as bt\n",
    "import backtrader.analyzers as btanalyzers\n",
    "import rba_tools as rba\n",
    "import pandas as pd\n",
    "import numpy as np\n",
    "from datetime import datetime,date,timedelta\n",
    "from backtrader.utils import num2date,date2num\n",
    "import rba_tools.backtest.rba_backtrader_set as rbs\n",
    "import plotly.graph_objects as go\n",
    "import plotly.express as px\n",
    "import rba_tools.backtest.backtrader_extensions.plot as rbsplot\n",
    "import importlib"
   ]
  },
  {
   "cell_type": "code",
   "execution_count": 14,
   "metadata": {},
   "outputs": [
    {
     "data": {
      "text/plain": [
       "<module 'rba_tools.backtest.backtrader_extensions.plot' from 'c:\\\\users\\\\avery\\\\documents\\\\github\\\\rba_tools_clone\\\\src\\\\rba_tools\\\\backtest\\\\backtrader_extensions\\\\plot.py'>"
      ]
     },
     "execution_count": 14,
     "metadata": {},
     "output_type": "execute_result"
    }
   ],
   "source": [
    "importlib.reload(rbsplot)"
   ]
  },
  {
   "cell_type": "code",
   "execution_count": 3,
   "metadata": {},
   "outputs": [],
   "source": [
    "class MaCrossStrategy(bt.Strategy):\n",
    "\n",
    "    def __init__(self):\n",
    "        ma_fast = bt.ind.SMA(period = 10)\n",
    "        ma_slow = bt.ind.SMA(period = 50)\n",
    "\n",
    "        self.crossover = bt.ind.CrossOver(ma_fast, ma_slow)\n",
    "\n",
    "    def next(self):\n",
    "        if not self.position:\n",
    "            if self.crossover > 0:\n",
    "                self.buy()\n",
    "        elif self.crossover < 0:\n",
    "            self.close()"
   ]
  },
  {
   "cell_type": "code",
   "execution_count": 4,
   "metadata": {},
   "outputs": [],
   "source": [
    "cerebro = bt.Cerebro(runonce=False)\n",
    "\n",
    "# Add a strategy\n",
    "cerebro.addstrategy(MaCrossStrategy)\n",
    "#cerebro.addstrategy(rbsstrat.ConsecutiveBarsTest)\n",
    "#cerebro.addstrategy(rbsstrat.StopLimitEntryStrategy)\n",
    "\n",
    "#get a datapuller\n",
    "puller = rba.retriever.get_crypto_data.DataPuller.kraken_puller()\n",
    "\n",
    "#symbol and date range\n",
    "symbol = 'ETH/USD'\n",
    "from_date = '1/1/20'\n",
    "to_date = '6/30/20'\n",
    "\n",
    "# Get a pandas dataframe\n",
    "dataframe = puller.fetch_df(symbol, 'h', from_date, to_date)\n",
    "\n",
    "# Pass it to the backtrader datafeed and add it to the cerebro\n",
    "data = bt.feeds.PandasData(dataname=dataframe,\n",
    "                            nocase=True,\n",
    "                            )\n",
    "#cerebro.adddata(data)\n",
    "cerebro.resampledata(data, timeframe=bt.TimeFrame.Minutes, compression=240)\n",
    "\n",
    "cerebro.resampledata(data, timeframe=bt.TimeFrame.Minutes, compression=1440)\n",
    "\n",
    "# Run over everything\n",
    "back = cerebro.run()\n",
    "\n",
    "# Plot the result\n",
    "#myp = cerebro.plot(numfigs=1, style='bar')"
   ]
  },
  {
   "cell_type": "code",
   "execution_count": 5,
   "metadata": {},
   "outputs": [
    {
     "data": {
      "text/plain": [
       "<backtrader.plot.plot.Plot_OldSync at 0x1f20d1ad670>"
      ]
     },
     "execution_count": 5,
     "metadata": {},
     "output_type": "execute_result"
    }
   ],
   "source": [
    "strategy = back[0]\n",
    "from backtrader import plot\n",
    "plotter = plot.Plot()\n",
    "plotter"
   ]
  },
  {
   "cell_type": "code",
   "execution_count": 6,
   "metadata": {},
   "outputs": [],
   "source": [
    "plotter.sortdataindicators(strategy)"
   ]
  },
  {
   "cell_type": "code",
   "execution_count": 7,
   "metadata": {},
   "outputs": [
    {
     "data": {
      "text/plain": [
       "{'params': <backtrader.metabase.AutoInfoClass_Plot_OldSync at 0x1f20d1ad790>,\n",
       " 'p': <backtrader.metabase.AutoInfoClass_Plot_OldSync at 0x1f20d1ad790>,\n",
       " 'dplotstop': [<backtrader.observers.broker.Broker at 0x1f273d33c40>,\n",
       "  <backtrader.observers.trades.DataTrades at 0x1f273d6f790>],\n",
       " 'dplotsup': defaultdict(list, {}),\n",
       " 'dplotsdown': defaultdict(list,\n",
       "             {<backtrader.indicators.sma.SMA at 0x1f2721cb3d0>: [<backtrader.indicators.crossover.CrossOver at 0x1f2722087c0>]}),\n",
       " 'dplotsover': defaultdict(list,\n",
       "             {<backtrader.feeds.pandafeed.PandasData at 0x1f2721e96a0>: [<backtrader.observers.buysell.BuySell at 0x1f273d6f280>,\n",
       "               <backtrader.indicators.sma.SMA at 0x1f2721cb3d0>,\n",
       "               <backtrader.indicators.sma.SMA at 0x1f272208af0>],\n",
       "              <backtrader.feed.DataClone at 0x1f2721cb160>: [<backtrader.observers.buysell.BuySell at 0x1f273d6f520>]})}"
      ]
     },
     "execution_count": 7,
     "metadata": {},
     "output_type": "execute_result"
    }
   ],
   "source": [
    "vars(plotter)"
   ]
  },
  {
   "cell_type": "code",
   "execution_count": 8,
   "metadata": {},
   "outputs": [
    {
     "data": {
      "text/plain": [
       "{'dplotstop': [<backtrader.observers.broker.Broker at 0x1f273d33c40>,\n",
       "  <backtrader.observers.trades.DataTrades at 0x1f273d6f790>],\n",
       " 'dplotsup': defaultdict(list, {}),\n",
       " 'dplotsdown': defaultdict(list,\n",
       "             {<backtrader.indicators.sma.SMA at 0x1f2721cb3d0>: [<backtrader.indicators.crossover.CrossOver at 0x1f2722087c0>]}),\n",
       " 'dplotsover': defaultdict(list,\n",
       "             {<backtrader.feeds.pandafeed.PandasData at 0x1f2721e96a0>: [<backtrader.observers.buysell.BuySell at 0x1f273d6f280>,\n",
       "               <backtrader.indicators.sma.SMA at 0x1f2721cb3d0>,\n",
       "               <backtrader.indicators.sma.SMA at 0x1f272208af0>],\n",
       "              <backtrader.feed.DataClone at 0x1f2721cb160>: [<backtrader.observers.buysell.BuySell at 0x1f273d6f520>]})}"
      ]
     },
     "execution_count": 8,
     "metadata": {},
     "output_type": "execute_result"
    }
   ],
   "source": [
    "rbsplot.rbs_sort_indicators(strategy)"
   ]
  },
  {
   "cell_type": "code",
   "execution_count": 9,
   "metadata": {},
   "outputs": [
    {
     "data": {
      "text/plain": [
       "[<Figure size 640x480 with 7 Axes>]"
      ]
     },
     "execution_count": 9,
     "metadata": {},
     "output_type": "execute_result"
    }
   ],
   "source": [
    "plotter.plot(strategy)"
   ]
  },
  {
   "cell_type": "code",
   "execution_count": 10,
   "metadata": {},
   "outputs": [
    {
     "data": {
      "text/plain": [
       "{'params': <backtrader.metabase.AutoInfoClass_Plot_OldSync at 0x1f20d1ad790>,\n",
       " 'p': <backtrader.metabase.AutoInfoClass_Plot_OldSync at 0x1f20d1ad790>,\n",
       " 'dplotstop': [<backtrader.observers.broker.Broker at 0x1f273d33c40>,\n",
       "  <backtrader.observers.trades.DataTrades at 0x1f273d6f790>],\n",
       " 'dplotsup': defaultdict(list,\n",
       "             {<backtrader.feeds.pandafeed.PandasData at 0x1f2721e96a0>: [],\n",
       "              <backtrader.observers.buysell.BuySell at 0x1f273d6f280>: [],\n",
       "              <backtrader.indicators.sma.SMA at 0x1f2721cb3d0>: [],\n",
       "              <backtrader.indicators.sma.SMA at 0x1f272208af0>: [],\n",
       "              <backtrader.indicators.crossover.CrossOver at 0x1f2722087c0>: [],\n",
       "              <backtrader.feed.DataClone at 0x1f2721cb160>: [],\n",
       "              <backtrader.observers.buysell.BuySell at 0x1f273d6f520>: []}),\n",
       " 'dplotsdown': defaultdict(list,\n",
       "             {<backtrader.indicators.sma.SMA at 0x1f2721cb3d0>: [<backtrader.indicators.crossover.CrossOver at 0x1f2722087c0>],\n",
       "              <backtrader.observers.buysell.BuySell at 0x1f273d6f280>: [],\n",
       "              <backtrader.indicators.crossover.CrossOver at 0x1f2722087c0>: [],\n",
       "              <backtrader.indicators.sma.SMA at 0x1f272208af0>: [],\n",
       "              <backtrader.feeds.pandafeed.PandasData at 0x1f2721e96a0>: [],\n",
       "              <backtrader.observers.buysell.BuySell at 0x1f273d6f520>: [],\n",
       "              <backtrader.feed.DataClone at 0x1f2721cb160>: []}),\n",
       " 'dplotsover': defaultdict(list,\n",
       "             {<backtrader.feeds.pandafeed.PandasData at 0x1f2721e96a0>: [<backtrader.observers.buysell.BuySell at 0x1f273d6f280>,\n",
       "               <backtrader.indicators.sma.SMA at 0x1f2721cb3d0>,\n",
       "               <backtrader.indicators.sma.SMA at 0x1f272208af0>],\n",
       "              <backtrader.feed.DataClone at 0x1f2721cb160>: [<backtrader.observers.buysell.BuySell at 0x1f273d6f520>],\n",
       "              <backtrader.observers.broker.Broker at 0x1f273d33c40>: [],\n",
       "              <backtrader.observers.trades.DataTrades at 0x1f273d6f790>: [],\n",
       "              <backtrader.observers.buysell.BuySell at 0x1f273d6f280>: [],\n",
       "              <backtrader.indicators.sma.SMA at 0x1f2721cb3d0>: [],\n",
       "              <backtrader.indicators.sma.SMA at 0x1f272208af0>: [],\n",
       "              <backtrader.indicators.crossover.CrossOver at 0x1f2722087c0>: [],\n",
       "              <backtrader.observers.buysell.BuySell at 0x1f273d6f520>: []}),\n",
       " 'mpyplot': <module 'matplotlib.pyplot' from 'C:\\\\Users\\\\Avery\\\\AppData\\\\Local\\\\Programs\\\\Python\\\\Python39\\\\lib\\\\site-packages\\\\matplotlib\\\\pyplot.py'>,\n",
       " 'pinf': <backtrader.plot.plot.PInfo at 0x1f273c4e2b0>}"
      ]
     },
     "execution_count": 10,
     "metadata": {},
     "output_type": "execute_result"
    }
   ],
   "source": [
    "vars(plotter)"
   ]
  },
  {
   "cell_type": "code",
   "execution_count": 12,
   "metadata": {},
   "outputs": [
    {
     "data": {
      "text/html": [
       "<div>\n",
       "<style scoped>\n",
       "    .dataframe tbody tr th:only-of-type {\n",
       "        vertical-align: middle;\n",
       "    }\n",
       "\n",
       "    .dataframe tbody tr th {\n",
       "        vertical-align: top;\n",
       "    }\n",
       "\n",
       "    .dataframe thead th {\n",
       "        text-align: right;\n",
       "    }\n",
       "</style>\n",
       "<table border=\"1\" class=\"dataframe\">\n",
       "  <thead>\n",
       "    <tr style=\"text-align: right;\">\n",
       "      <th></th>\n",
       "      <th>Open</th>\n",
       "      <th>High</th>\n",
       "      <th>Low</th>\n",
       "      <th>Close</th>\n",
       "      <th>Volume</th>\n",
       "    </tr>\n",
       "  </thead>\n",
       "  <tbody>\n",
       "    <tr>\n",
       "      <th>2020-01-01 00:00:00</th>\n",
       "      <td>128.66</td>\n",
       "      <td>128.66</td>\n",
       "      <td>128.19</td>\n",
       "      <td>128.42</td>\n",
       "      <td>515.780816</td>\n",
       "    </tr>\n",
       "    <tr>\n",
       "      <th>2020-01-01 04:00:00</th>\n",
       "      <td>128.33</td>\n",
       "      <td>130.58</td>\n",
       "      <td>128.30</td>\n",
       "      <td>129.67</td>\n",
       "      <td>1857.032786</td>\n",
       "    </tr>\n",
       "    <tr>\n",
       "      <th>2020-01-01 08:00:00</th>\n",
       "      <td>129.67</td>\n",
       "      <td>130.25</td>\n",
       "      <td>129.60</td>\n",
       "      <td>129.81</td>\n",
       "      <td>1191.872012</td>\n",
       "    </tr>\n",
       "    <tr>\n",
       "      <th>2020-01-01 12:00:00</th>\n",
       "      <td>130.03</td>\n",
       "      <td>131.50</td>\n",
       "      <td>129.95</td>\n",
       "      <td>131.32</td>\n",
       "      <td>939.921635</td>\n",
       "    </tr>\n",
       "    <tr>\n",
       "      <th>2020-01-01 16:00:00</th>\n",
       "      <td>131.31</td>\n",
       "      <td>132.79</td>\n",
       "      <td>131.01</td>\n",
       "      <td>132.68</td>\n",
       "      <td>2201.396240</td>\n",
       "    </tr>\n",
       "    <tr>\n",
       "      <th>...</th>\n",
       "      <td>...</td>\n",
       "      <td>...</td>\n",
       "      <td>...</td>\n",
       "      <td>...</td>\n",
       "      <td>...</td>\n",
       "    </tr>\n",
       "    <tr>\n",
       "      <th>2020-06-30 08:00:00</th>\n",
       "      <td>226.39</td>\n",
       "      <td>227.15</td>\n",
       "      <td>225.77</td>\n",
       "      <td>226.05</td>\n",
       "      <td>4074.983230</td>\n",
       "    </tr>\n",
       "    <tr>\n",
       "      <th>2020-06-30 12:00:00</th>\n",
       "      <td>226.01</td>\n",
       "      <td>228.01</td>\n",
       "      <td>223.51</td>\n",
       "      <td>224.76</td>\n",
       "      <td>8255.857590</td>\n",
       "    </tr>\n",
       "    <tr>\n",
       "      <th>2020-06-30 16:00:00</th>\n",
       "      <td>224.52</td>\n",
       "      <td>226.73</td>\n",
       "      <td>222.80</td>\n",
       "      <td>225.75</td>\n",
       "      <td>12605.506344</td>\n",
       "    </tr>\n",
       "    <tr>\n",
       "      <th>2020-06-30 20:00:00</th>\n",
       "      <td>225.86</td>\n",
       "      <td>225.97</td>\n",
       "      <td>224.51</td>\n",
       "      <td>225.47</td>\n",
       "      <td>2980.591000</td>\n",
       "    </tr>\n",
       "    <tr>\n",
       "      <th>2020-07-01 00:00:00</th>\n",
       "      <td>225.58</td>\n",
       "      <td>226.46</td>\n",
       "      <td>225.01</td>\n",
       "      <td>225.68</td>\n",
       "      <td>1415.758444</td>\n",
       "    </tr>\n",
       "  </tbody>\n",
       "</table>\n",
       "<p>1093 rows × 5 columns</p>\n",
       "</div>"
      ],
      "text/plain": [
       "                       Open    High     Low   Close        Volume\n",
       "2020-01-01 00:00:00  128.66  128.66  128.19  128.42    515.780816\n",
       "2020-01-01 04:00:00  128.33  130.58  128.30  129.67   1857.032786\n",
       "2020-01-01 08:00:00  129.67  130.25  129.60  129.81   1191.872012\n",
       "2020-01-01 12:00:00  130.03  131.50  129.95  131.32    939.921635\n",
       "2020-01-01 16:00:00  131.31  132.79  131.01  132.68   2201.396240\n",
       "...                     ...     ...     ...     ...           ...\n",
       "2020-06-30 08:00:00  226.39  227.15  225.77  226.05   4074.983230\n",
       "2020-06-30 12:00:00  226.01  228.01  223.51  224.76   8255.857590\n",
       "2020-06-30 16:00:00  224.52  226.73  222.80  225.75  12605.506344\n",
       "2020-06-30 20:00:00  225.86  225.97  224.51  225.47   2980.591000\n",
       "2020-07-01 00:00:00  225.58  226.46  225.01  225.68   1415.758444\n",
       "\n",
       "[1093 rows x 5 columns]"
      ]
     },
     "execution_count": 12,
     "metadata": {},
     "output_type": "execute_result"
    }
   ],
   "source": [
    "rbsplot.get_ohlcv_data_from_data(strategy.data0)"
   ]
  },
  {
   "cell_type": "code",
   "execution_count": 13,
   "metadata": {},
   "outputs": [
    {
     "data": {
      "text/html": [
       "<div>\n",
       "<style scoped>\n",
       "    .dataframe tbody tr th:only-of-type {\n",
       "        vertical-align: middle;\n",
       "    }\n",
       "\n",
       "    .dataframe tbody tr th {\n",
       "        vertical-align: top;\n",
       "    }\n",
       "\n",
       "    .dataframe thead th {\n",
       "        text-align: right;\n",
       "    }\n",
       "</style>\n",
       "<table border=\"1\" class=\"dataframe\">\n",
       "  <thead>\n",
       "    <tr style=\"text-align: right;\">\n",
       "      <th></th>\n",
       "      <th>Open</th>\n",
       "      <th>High</th>\n",
       "      <th>Low</th>\n",
       "      <th>Close</th>\n",
       "      <th>Volume</th>\n",
       "    </tr>\n",
       "  </thead>\n",
       "  <tbody>\n",
       "    <tr>\n",
       "      <th>2020-01-01</th>\n",
       "      <td>128.66</td>\n",
       "      <td>128.66</td>\n",
       "      <td>128.19</td>\n",
       "      <td>128.42</td>\n",
       "      <td>515.780816</td>\n",
       "    </tr>\n",
       "    <tr>\n",
       "      <th>2020-01-02</th>\n",
       "      <td>128.33</td>\n",
       "      <td>132.86</td>\n",
       "      <td>128.30</td>\n",
       "      <td>130.19</td>\n",
       "      <td>13163.487459</td>\n",
       "    </tr>\n",
       "    <tr>\n",
       "      <th>2020-01-03</th>\n",
       "      <td>130.06</td>\n",
       "      <td>130.06</td>\n",
       "      <td>126.00</td>\n",
       "      <td>126.71</td>\n",
       "      <td>26250.065941</td>\n",
       "    </tr>\n",
       "    <tr>\n",
       "      <th>2020-01-04</th>\n",
       "      <td>126.69</td>\n",
       "      <td>134.72</td>\n",
       "      <td>125.40</td>\n",
       "      <td>133.58</td>\n",
       "      <td>50313.895117</td>\n",
       "    </tr>\n",
       "    <tr>\n",
       "      <th>2020-01-05</th>\n",
       "      <td>133.36</td>\n",
       "      <td>135.91</td>\n",
       "      <td>132.58</td>\n",
       "      <td>134.78</td>\n",
       "      <td>18000.273569</td>\n",
       "    </tr>\n",
       "    <tr>\n",
       "      <th>...</th>\n",
       "      <td>...</td>\n",
       "      <td>...</td>\n",
       "      <td>...</td>\n",
       "      <td>...</td>\n",
       "      <td>...</td>\n",
       "    </tr>\n",
       "    <tr>\n",
       "      <th>2020-06-27</th>\n",
       "      <td>232.93</td>\n",
       "      <td>233.19</td>\n",
       "      <td>226.86</td>\n",
       "      <td>229.30</td>\n",
       "      <td>41971.814456</td>\n",
       "    </tr>\n",
       "    <tr>\n",
       "      <th>2020-06-28</th>\n",
       "      <td>229.51</td>\n",
       "      <td>230.89</td>\n",
       "      <td>215.90</td>\n",
       "      <td>219.35</td>\n",
       "      <td>60857.542028</td>\n",
       "    </tr>\n",
       "    <tr>\n",
       "      <th>2020-06-29</th>\n",
       "      <td>219.35</td>\n",
       "      <td>227.57</td>\n",
       "      <td>217.80</td>\n",
       "      <td>224.61</td>\n",
       "      <td>38486.237540</td>\n",
       "    </tr>\n",
       "    <tr>\n",
       "      <th>2020-06-30</th>\n",
       "      <td>224.63</td>\n",
       "      <td>229.82</td>\n",
       "      <td>221.19</td>\n",
       "      <td>227.76</td>\n",
       "      <td>43663.927594</td>\n",
       "    </tr>\n",
       "    <tr>\n",
       "      <th>2020-07-01</th>\n",
       "      <td>227.68</td>\n",
       "      <td>228.01</td>\n",
       "      <td>222.80</td>\n",
       "      <td>225.47</td>\n",
       "      <td>30350.019881</td>\n",
       "    </tr>\n",
       "  </tbody>\n",
       "</table>\n",
       "<p>183 rows × 5 columns</p>\n",
       "</div>"
      ],
      "text/plain": [
       "              Open    High     Low   Close        Volume\n",
       "2020-01-01  128.66  128.66  128.19  128.42    515.780816\n",
       "2020-01-02  128.33  132.86  128.30  130.19  13163.487459\n",
       "2020-01-03  130.06  130.06  126.00  126.71  26250.065941\n",
       "2020-01-04  126.69  134.72  125.40  133.58  50313.895117\n",
       "2020-01-05  133.36  135.91  132.58  134.78  18000.273569\n",
       "...            ...     ...     ...     ...           ...\n",
       "2020-06-27  232.93  233.19  226.86  229.30  41971.814456\n",
       "2020-06-28  229.51  230.89  215.90  219.35  60857.542028\n",
       "2020-06-29  219.35  227.57  217.80  224.61  38486.237540\n",
       "2020-06-30  224.63  229.82  221.19  227.76  43663.927594\n",
       "2020-07-01  227.68  228.01  222.80  225.47  30350.019881\n",
       "\n",
       "[183 rows x 5 columns]"
      ]
     },
     "execution_count": 13,
     "metadata": {},
     "output_type": "execute_result"
    }
   ],
   "source": [
    "rbsplot.get_ohlcv_data_from_data(strategy.data1)"
   ]
  },
  {
   "cell_type": "code",
   "execution_count": 15,
   "metadata": {},
   "outputs": [
    {
     "ename": "ValueError",
     "evalue": "Length of values (1093) does not match length of index (183)",
     "output_type": "error",
     "traceback": [
      "\u001b[1;31m---------------------------------------------------------------------------\u001b[0m",
      "\u001b[1;31mValueError\u001b[0m                                Traceback (most recent call last)",
      "\u001b[1;32mc:\\Users\\Avery\\Documents\\GitHub\\rba_tools_clone\\notebooks\\backtrader_multiple_timeframe_playground.ipynb Cell 13'\u001b[0m in \u001b[0;36m<cell line: 1>\u001b[1;34m()\u001b[0m\n\u001b[1;32m----> <a href='vscode-notebook-cell:/c%3A/Users/Avery/Documents/GitHub/rba_tools_clone/notebooks/backtrader_multiple_timeframe_playground.ipynb#ch0000013?line=0'>1</a>\u001b[0m res \u001b[39m=\u001b[39m rbsplot\u001b[39m.\u001b[39mmy_plot(strategy)\n\u001b[0;32m      <a href='vscode-notebook-cell:/c%3A/Users/Avery/Documents/GitHub/rba_tools_clone/notebooks/backtrader_multiple_timeframe_playground.ipynb#ch0000013?line=1'>2</a>\u001b[0m res\n",
      "File \u001b[1;32mc:\\users\\avery\\documents\\github\\rba_tools_clone\\src\\rba_tools\\backtest\\backtrader_extensions\\plot.py:120\u001b[0m, in \u001b[0;36mmy_plot\u001b[1;34m(strategy, plotter, start, end, **kwargs)\u001b[0m\n\u001b[0;32m    <a href='file:///c%3A/users/avery/documents/github/rba_tools_clone/src/rba_tools/backtest/backtrader_extensions/plot.py?line=116'>117</a>\u001b[0m         add_indicator_to_df(df, indicator, inplace\u001b[39m=\u001b[39m\u001b[39mTrue\u001b[39;00m)\n\u001b[0;32m    <a href='file:///c%3A/users/avery/documents/github/rba_tools_clone/src/rba_tools/backtest/backtrader_extensions/plot.py?line=118'>119</a>\u001b[0m     \u001b[39mfor\u001b[39;00m indicator \u001b[39min\u001b[39;00m sorted_indicators[LOWER]:\n\u001b[1;32m--> <a href='file:///c%3A/users/avery/documents/github/rba_tools_clone/src/rba_tools/backtest/backtrader_extensions/plot.py?line=119'>120</a>\u001b[0m         add_indicator_to_df(df, indicator, inplace\u001b[39m=\u001b[39;49m\u001b[39mTrue\u001b[39;49;00m)\n\u001b[0;32m    <a href='file:///c%3A/users/avery/documents/github/rba_tools_clone/src/rba_tools/backtest/backtrader_extensions/plot.py?line=121'>122</a>\u001b[0m     df_list\u001b[39m.\u001b[39mappend(df)\n\u001b[0;32m    <a href='file:///c%3A/users/avery/documents/github/rba_tools_clone/src/rba_tools/backtest/backtrader_extensions/plot.py?line=123'>124</a>\u001b[0m \u001b[39mreturn\u001b[39;00m df_list\n",
      "File \u001b[1;32mc:\\users\\avery\\documents\\github\\rba_tools_clone\\src\\rba_tools\\backtest\\backtrader_extensions\\plot.py:143\u001b[0m, in \u001b[0;36madd_indicator_to_df\u001b[1;34m(df, indicator, inplace)\u001b[0m\n\u001b[0;32m    <a href='file:///c%3A/users/avery/documents/github/rba_tools_clone/src/rba_tools/backtest/backtrader_extensions/plot.py?line=139'>140</a>\u001b[0m     name \u001b[39m=\u001b[39m get_indicator_line_name(indicator, line_index)\n\u001b[0;32m    <a href='file:///c%3A/users/avery/documents/github/rba_tools_clone/src/rba_tools/backtest/backtrader_extensions/plot.py?line=140'>141</a>\u001b[0m     indicator_vals \u001b[39m=\u001b[39m line\u001b[39m.\u001b[39mplotrange(\u001b[39m0\u001b[39m, \u001b[39mlen\u001b[39m(line))\n\u001b[1;32m--> <a href='file:///c%3A/users/avery/documents/github/rba_tools_clone/src/rba_tools/backtest/backtrader_extensions/plot.py?line=142'>143</a>\u001b[0m     ret_df[name] \u001b[39m=\u001b[39m indicator_vals\n\u001b[0;32m    <a href='file:///c%3A/users/avery/documents/github/rba_tools_clone/src/rba_tools/backtest/backtrader_extensions/plot.py?line=143'>144</a>\u001b[0m \u001b[39mreturn\u001b[39;00m ret_df\n",
      "File \u001b[1;32m~\\AppData\\Local\\Programs\\Python\\Python39\\lib\\site-packages\\pandas\\core\\frame.py:3163\u001b[0m, in \u001b[0;36mDataFrame.__setitem__\u001b[1;34m(self, key, value)\u001b[0m\n\u001b[0;32m   <a href='file:///c%3A/Users/Avery/AppData/Local/Programs/Python/Python39/lib/site-packages/pandas/core/frame.py?line=3159'>3160</a>\u001b[0m     \u001b[39mself\u001b[39m\u001b[39m.\u001b[39m_setitem_array(key, value)\n\u001b[0;32m   <a href='file:///c%3A/Users/Avery/AppData/Local/Programs/Python/Python39/lib/site-packages/pandas/core/frame.py?line=3160'>3161</a>\u001b[0m \u001b[39melse\u001b[39;00m:\n\u001b[0;32m   <a href='file:///c%3A/Users/Avery/AppData/Local/Programs/Python/Python39/lib/site-packages/pandas/core/frame.py?line=3161'>3162</a>\u001b[0m     \u001b[39m# set column\u001b[39;00m\n\u001b[1;32m-> <a href='file:///c%3A/Users/Avery/AppData/Local/Programs/Python/Python39/lib/site-packages/pandas/core/frame.py?line=3162'>3163</a>\u001b[0m     \u001b[39mself\u001b[39;49m\u001b[39m.\u001b[39;49m_set_item(key, value)\n",
      "File \u001b[1;32m~\\AppData\\Local\\Programs\\Python\\Python39\\lib\\site-packages\\pandas\\core\\frame.py:3239\u001b[0m, in \u001b[0;36mDataFrame._set_item\u001b[1;34m(self, key, value)\u001b[0m\n\u001b[0;32m   <a href='file:///c%3A/Users/Avery/AppData/Local/Programs/Python/Python39/lib/site-packages/pandas/core/frame.py?line=3228'>3229</a>\u001b[0m \u001b[39m\"\"\"\u001b[39;00m\n\u001b[0;32m   <a href='file:///c%3A/Users/Avery/AppData/Local/Programs/Python/Python39/lib/site-packages/pandas/core/frame.py?line=3229'>3230</a>\u001b[0m \u001b[39mAdd series to DataFrame in specified column.\u001b[39;00m\n\u001b[0;32m   <a href='file:///c%3A/Users/Avery/AppData/Local/Programs/Python/Python39/lib/site-packages/pandas/core/frame.py?line=3230'>3231</a>\u001b[0m \n\u001b[1;32m   (...)\u001b[0m\n\u001b[0;32m   <a href='file:///c%3A/Users/Avery/AppData/Local/Programs/Python/Python39/lib/site-packages/pandas/core/frame.py?line=3235'>3236</a>\u001b[0m \u001b[39mensure homogeneity.\u001b[39;00m\n\u001b[0;32m   <a href='file:///c%3A/Users/Avery/AppData/Local/Programs/Python/Python39/lib/site-packages/pandas/core/frame.py?line=3236'>3237</a>\u001b[0m \u001b[39m\"\"\"\u001b[39;00m\n\u001b[0;32m   <a href='file:///c%3A/Users/Avery/AppData/Local/Programs/Python/Python39/lib/site-packages/pandas/core/frame.py?line=3237'>3238</a>\u001b[0m \u001b[39mself\u001b[39m\u001b[39m.\u001b[39m_ensure_valid_index(value)\n\u001b[1;32m-> <a href='file:///c%3A/Users/Avery/AppData/Local/Programs/Python/Python39/lib/site-packages/pandas/core/frame.py?line=3238'>3239</a>\u001b[0m value \u001b[39m=\u001b[39m \u001b[39mself\u001b[39;49m\u001b[39m.\u001b[39;49m_sanitize_column(key, value)\n\u001b[0;32m   <a href='file:///c%3A/Users/Avery/AppData/Local/Programs/Python/Python39/lib/site-packages/pandas/core/frame.py?line=3239'>3240</a>\u001b[0m NDFrame\u001b[39m.\u001b[39m_set_item(\u001b[39mself\u001b[39m, key, value)\n\u001b[0;32m   <a href='file:///c%3A/Users/Avery/AppData/Local/Programs/Python/Python39/lib/site-packages/pandas/core/frame.py?line=3241'>3242</a>\u001b[0m \u001b[39m# check if we are modifying a copy\u001b[39;00m\n\u001b[0;32m   <a href='file:///c%3A/Users/Avery/AppData/Local/Programs/Python/Python39/lib/site-packages/pandas/core/frame.py?line=3242'>3243</a>\u001b[0m \u001b[39m# try to set first as we want an invalid\u001b[39;00m\n\u001b[0;32m   <a href='file:///c%3A/Users/Avery/AppData/Local/Programs/Python/Python39/lib/site-packages/pandas/core/frame.py?line=3243'>3244</a>\u001b[0m \u001b[39m# value exception to occur first\u001b[39;00m\n",
      "File \u001b[1;32m~\\AppData\\Local\\Programs\\Python\\Python39\\lib\\site-packages\\pandas\\core\\frame.py:3896\u001b[0m, in \u001b[0;36mDataFrame._sanitize_column\u001b[1;34m(self, key, value, broadcast)\u001b[0m\n\u001b[0;32m   <a href='file:///c%3A/Users/Avery/AppData/Local/Programs/Python/Python39/lib/site-packages/pandas/core/frame.py?line=3890'>3891</a>\u001b[0m     value \u001b[39m=\u001b[39m sanitize_index(value, \u001b[39mself\u001b[39m\u001b[39m.\u001b[39mindex)\n\u001b[0;32m   <a href='file:///c%3A/Users/Avery/AppData/Local/Programs/Python/Python39/lib/site-packages/pandas/core/frame.py?line=3892'>3893</a>\u001b[0m \u001b[39melif\u001b[39;00m \u001b[39misinstance\u001b[39m(value, Index) \u001b[39mor\u001b[39;00m is_sequence(value):\n\u001b[0;32m   <a href='file:///c%3A/Users/Avery/AppData/Local/Programs/Python/Python39/lib/site-packages/pandas/core/frame.py?line=3893'>3894</a>\u001b[0m \n\u001b[0;32m   <a href='file:///c%3A/Users/Avery/AppData/Local/Programs/Python/Python39/lib/site-packages/pandas/core/frame.py?line=3894'>3895</a>\u001b[0m     \u001b[39m# turn me into an ndarray\u001b[39;00m\n\u001b[1;32m-> <a href='file:///c%3A/Users/Avery/AppData/Local/Programs/Python/Python39/lib/site-packages/pandas/core/frame.py?line=3895'>3896</a>\u001b[0m     value \u001b[39m=\u001b[39m sanitize_index(value, \u001b[39mself\u001b[39;49m\u001b[39m.\u001b[39;49mindex)\n\u001b[0;32m   <a href='file:///c%3A/Users/Avery/AppData/Local/Programs/Python/Python39/lib/site-packages/pandas/core/frame.py?line=3896'>3897</a>\u001b[0m     \u001b[39mif\u001b[39;00m \u001b[39mnot\u001b[39;00m \u001b[39misinstance\u001b[39m(value, (np\u001b[39m.\u001b[39mndarray, Index)):\n\u001b[0;32m   <a href='file:///c%3A/Users/Avery/AppData/Local/Programs/Python/Python39/lib/site-packages/pandas/core/frame.py?line=3897'>3898</a>\u001b[0m         \u001b[39mif\u001b[39;00m \u001b[39misinstance\u001b[39m(value, \u001b[39mlist\u001b[39m) \u001b[39mand\u001b[39;00m \u001b[39mlen\u001b[39m(value) \u001b[39m>\u001b[39m \u001b[39m0\u001b[39m:\n",
      "File \u001b[1;32m~\\AppData\\Local\\Programs\\Python\\Python39\\lib\\site-packages\\pandas\\core\\internals\\construction.py:751\u001b[0m, in \u001b[0;36msanitize_index\u001b[1;34m(data, index)\u001b[0m\n\u001b[0;32m    <a href='file:///c%3A/Users/Avery/AppData/Local/Programs/Python/Python39/lib/site-packages/pandas/core/internals/construction.py?line=745'>746</a>\u001b[0m \u001b[39m\"\"\"\u001b[39;00m\n\u001b[0;32m    <a href='file:///c%3A/Users/Avery/AppData/Local/Programs/Python/Python39/lib/site-packages/pandas/core/internals/construction.py?line=746'>747</a>\u001b[0m \u001b[39mSanitize an index type to return an ndarray of the underlying, pass\u001b[39;00m\n\u001b[0;32m    <a href='file:///c%3A/Users/Avery/AppData/Local/Programs/Python/Python39/lib/site-packages/pandas/core/internals/construction.py?line=747'>748</a>\u001b[0m \u001b[39mthrough a non-Index.\u001b[39;00m\n\u001b[0;32m    <a href='file:///c%3A/Users/Avery/AppData/Local/Programs/Python/Python39/lib/site-packages/pandas/core/internals/construction.py?line=748'>749</a>\u001b[0m \u001b[39m\"\"\"\u001b[39;00m\n\u001b[0;32m    <a href='file:///c%3A/Users/Avery/AppData/Local/Programs/Python/Python39/lib/site-packages/pandas/core/internals/construction.py?line=749'>750</a>\u001b[0m \u001b[39mif\u001b[39;00m \u001b[39mlen\u001b[39m(data) \u001b[39m!=\u001b[39m \u001b[39mlen\u001b[39m(index):\n\u001b[1;32m--> <a href='file:///c%3A/Users/Avery/AppData/Local/Programs/Python/Python39/lib/site-packages/pandas/core/internals/construction.py?line=750'>751</a>\u001b[0m     \u001b[39mraise\u001b[39;00m \u001b[39mValueError\u001b[39;00m(\n\u001b[0;32m    <a href='file:///c%3A/Users/Avery/AppData/Local/Programs/Python/Python39/lib/site-packages/pandas/core/internals/construction.py?line=751'>752</a>\u001b[0m         \u001b[39m\"\u001b[39m\u001b[39mLength of values \u001b[39m\u001b[39m\"\u001b[39m\n\u001b[0;32m    <a href='file:///c%3A/Users/Avery/AppData/Local/Programs/Python/Python39/lib/site-packages/pandas/core/internals/construction.py?line=752'>753</a>\u001b[0m         \u001b[39mf\u001b[39m\u001b[39m\"\u001b[39m\u001b[39m(\u001b[39m\u001b[39m{\u001b[39;00m\u001b[39mlen\u001b[39m(data)\u001b[39m}\u001b[39;00m\u001b[39m) \u001b[39m\u001b[39m\"\u001b[39m\n\u001b[0;32m    <a href='file:///c%3A/Users/Avery/AppData/Local/Programs/Python/Python39/lib/site-packages/pandas/core/internals/construction.py?line=753'>754</a>\u001b[0m         \u001b[39m\"\u001b[39m\u001b[39mdoes not match length of index \u001b[39m\u001b[39m\"\u001b[39m\n\u001b[0;32m    <a href='file:///c%3A/Users/Avery/AppData/Local/Programs/Python/Python39/lib/site-packages/pandas/core/internals/construction.py?line=754'>755</a>\u001b[0m         \u001b[39mf\u001b[39m\u001b[39m\"\u001b[39m\u001b[39m(\u001b[39m\u001b[39m{\u001b[39;00m\u001b[39mlen\u001b[39m(index)\u001b[39m}\u001b[39;00m\u001b[39m)\u001b[39m\u001b[39m\"\u001b[39m\n\u001b[0;32m    <a href='file:///c%3A/Users/Avery/AppData/Local/Programs/Python/Python39/lib/site-packages/pandas/core/internals/construction.py?line=755'>756</a>\u001b[0m     )\n\u001b[0;32m    <a href='file:///c%3A/Users/Avery/AppData/Local/Programs/Python/Python39/lib/site-packages/pandas/core/internals/construction.py?line=757'>758</a>\u001b[0m \u001b[39mif\u001b[39;00m \u001b[39misinstance\u001b[39m(data, np\u001b[39m.\u001b[39mndarray):\n\u001b[0;32m    <a href='file:///c%3A/Users/Avery/AppData/Local/Programs/Python/Python39/lib/site-packages/pandas/core/internals/construction.py?line=758'>759</a>\u001b[0m \n\u001b[0;32m    <a href='file:///c%3A/Users/Avery/AppData/Local/Programs/Python/Python39/lib/site-packages/pandas/core/internals/construction.py?line=759'>760</a>\u001b[0m     \u001b[39m# coerce datetimelike types\u001b[39;00m\n\u001b[0;32m    <a href='file:///c%3A/Users/Avery/AppData/Local/Programs/Python/Python39/lib/site-packages/pandas/core/internals/construction.py?line=760'>761</a>\u001b[0m     \u001b[39mif\u001b[39;00m data\u001b[39m.\u001b[39mdtype\u001b[39m.\u001b[39mkind \u001b[39min\u001b[39;00m [\u001b[39m\"\u001b[39m\u001b[39mM\u001b[39m\u001b[39m\"\u001b[39m, \u001b[39m\"\u001b[39m\u001b[39mm\u001b[39m\u001b[39m\"\u001b[39m]:\n",
      "\u001b[1;31mValueError\u001b[0m: Length of values (1093) does not match length of index (183)"
     ]
    }
   ],
   "source": [
    "res = rbsplot.my_plot(strategy)\n",
    "res"
   ]
  },
  {
   "cell_type": "code",
   "execution_count": null,
   "metadata": {},
   "outputs": [],
   "source": []
  }
 ],
 "metadata": {
  "interpreter": {
   "hash": "b54cb9753f1fc2478effd5c05200ae4f0e3c44cd8f27e179dabba8365c7dc822"
  },
  "kernelspec": {
   "display_name": "Python 3.9.1 64-bit",
   "language": "python",
   "name": "python3"
  },
  "language_info": {
   "codemirror_mode": {
    "name": "ipython",
    "version": 3
   },
   "file_extension": ".py",
   "mimetype": "text/x-python",
   "name": "python",
   "nbconvert_exporter": "python",
   "pygments_lexer": "ipython3",
   "version": "3.9.1"
  },
  "orig_nbformat": 4
 },
 "nbformat": 4,
 "nbformat_minor": 2
}
