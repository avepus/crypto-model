{
 "cells": [
  {
   "cell_type": "code",
   "execution_count": 2,
   "metadata": {},
   "outputs": [],
   "source": [
    "from backtrader import plot\n",
    "import backtrader as bt\n",
    "import backtrader.analyzers as btanalyzers\n",
    "import rba_tools as rba\n",
    "import pandas as pd\n",
    "import numpy as np\n",
    "from datetime import datetime,date,timedelta\n",
    "from backtrader.utils import num2date,date2num\n",
    "import rba_tools.backtest.rba_backtrader_set as rbs\n",
    "import plotly.graph_objects as go\n",
    "import plotly.express as px\n",
    "import rba_tools.backtest.backtrader_extensions.plot as rbsplot\n",
    "import importlib\n"
   ]
  },
  {
   "cell_type": "code",
   "execution_count": 10,
   "metadata": {},
   "outputs": [],
   "source": [
    "class MaCrossStrategy(bt.Strategy):\n",
    "\n",
    "    def __init__(self):\n",
    "        ma_fast = bt.ind.SMA(period = 10)\n",
    "        ma_slow = bt.ind.SMA(period = 50)\n",
    "\n",
    "        self.crossover = bt.ind.CrossOver(ma_fast, ma_slow)\n",
    "\n",
    "    def next(self):\n",
    "        if not self.position:\n",
    "            if self.crossover > 0:\n",
    "                self.buy()\n",
    "        elif self.crossover < 0:\n",
    "            self.close()"
   ]
  },
  {
   "cell_type": "code",
   "execution_count": 11,
   "metadata": {},
   "outputs": [],
   "source": [
    "cerebro = bt.Cerebro(runonce=False)\n",
    "\n",
    "# Add a strategy\n",
    "cerebro.addstrategy(MaCrossStrategy)\n",
    "#cerebro.addstrategy(rbsstrat.ConsecutiveBarsTest)\n",
    "#cerebro.addstrategy(rbsstrat.StopLimitEntryStrategy)\n",
    "\n",
    "#get a datapuller\n",
    "puller = rba.retriever.get_crypto_data.DataPuller.kraken_puller()\n",
    "\n",
    "#symbol and date range\n",
    "symbol = 'ETH/USD'\n",
    "from_date = '1/1/20'\n",
    "to_date = '6/30/20'\n",
    "\n",
    "# Get a pandas dataframe\n",
    "dataframe = puller.fetch_df(symbol, 'h', from_date, to_date)\n",
    "\n",
    "# Pass it to the backtrader datafeed and add it to the cerebro\n",
    "data = bt.feeds.PandasData(dataname=dataframe,\n",
    "                            nocase=True,\n",
    "                            )\n",
    "#cerebro.adddata(data)\n",
    "cerebro.resampledata(data, timeframe=bt.TimeFrame.Minutes, compression=240)\n",
    "\n",
    "cerebro.resampledata(data, timeframe=bt.TimeFrame.Minutes, compression=1440)\n",
    "\n",
    "# Run over everything\n",
    "back = cerebro.run()\n",
    "\n",
    "# Plot the result\n",
    "#myp = cerebro.plot(numfigs=1, style='bar')"
   ]
  },
  {
   "cell_type": "code",
   "execution_count": 12,
   "metadata": {},
   "outputs": [
    {
     "data": {
      "text/plain": [
       "<backtrader.plot.plot.Plot_OldSync at 0x21e9681c0d0>"
      ]
     },
     "execution_count": 12,
     "metadata": {},
     "output_type": "execute_result"
    }
   ],
   "source": [
    "strategy = back[0]\n",
    "from backtrader import plot\n",
    "plotter = plot.Plot()\n",
    "plotter"
   ]
  },
  {
   "cell_type": "code",
   "execution_count": 13,
   "metadata": {},
   "outputs": [],
   "source": [
    "plotter.sortdataindicators(strategy)"
   ]
  },
  {
   "cell_type": "code",
   "execution_count": 14,
   "metadata": {},
   "outputs": [
    {
     "data": {
      "text/plain": [
       "{'params': <backtrader.metabase.AutoInfoClass_Plot_OldSync at 0x21efd4fbfd0>,\n",
       " 'p': <backtrader.metabase.AutoInfoClass_Plot_OldSync at 0x21efd4fbfd0>,\n",
       " 'dplotstop': [<backtrader.observers.broker.Broker at 0x21efd521e80>,\n",
       "  <backtrader.observers.trades.DataTrades at 0x21efd737040>],\n",
       " 'dplotsup': defaultdict(list, {}),\n",
       " 'dplotsdown': defaultdict(list,\n",
       "             {<backtrader.indicators.sma.SMA at 0x21efd5139d0>: [<backtrader.indicators.crossover.CrossOver at 0x21efd48b520>]}),\n",
       " 'dplotsover': defaultdict(list,\n",
       "             {<backtrader.feeds.pandafeed.PandasData at 0x21efd480c40>: [<backtrader.observers.buysell.BuySell at 0x21efd5187f0>,\n",
       "               <backtrader.indicators.sma.SMA at 0x21efd5139d0>,\n",
       "               <backtrader.indicators.sma.SMA at 0x21efd513ca0>],\n",
       "              <backtrader.feed.DataClone at 0x21efd4b8a60>: [<backtrader.observers.buysell.BuySell at 0x21efd4f45e0>]})}"
      ]
     },
     "execution_count": 14,
     "metadata": {},
     "output_type": "execute_result"
    }
   ],
   "source": [
    "vars(plotter)"
   ]
  },
  {
   "cell_type": "code",
   "execution_count": null,
   "metadata": {},
   "outputs": [],
   "source": []
  }
 ],
 "metadata": {
  "interpreter": {
   "hash": "b54cb9753f1fc2478effd5c05200ae4f0e3c44cd8f27e179dabba8365c7dc822"
  },
  "kernelspec": {
   "display_name": "Python 3.9.1 64-bit",
   "language": "python",
   "name": "python3"
  },
  "language_info": {
   "codemirror_mode": {
    "name": "ipython",
    "version": 3
   },
   "file_extension": ".py",
   "mimetype": "text/x-python",
   "name": "python",
   "nbconvert_exporter": "python",
   "pygments_lexer": "ipython3",
   "version": "3.9.1"
  },
  "orig_nbformat": 4
 },
 "nbformat": 4,
 "nbformat_minor": 2
}
