{
 "cells": [
  {
   "cell_type": "code",
   "execution_count": 1,
   "metadata": {},
   "outputs": [],
   "source": [
    "import get_crypto_data as gcd\n",
    "import glob\n",
    "import pandas as pd\n",
    "from dateutil import parser,tz\n",
    "from datetime import datetime, timedelta, timezone\n",
    "from time import sleep\n",
    "import database"
   ]
  },
  {
   "cell_type": "code",
   "execution_count": 2,
   "metadata": {},
   "outputs": [
    {
     "output_type": "stream",
     "name": "stdout",
     "text": [
      "Binance\n"
     ]
    }
   ],
   "source": [
    "exchange = gcd.getBinanceExchange()\n",
    "print(exchange)"
   ]
  },
  {
   "cell_type": "code",
   "execution_count": 3,
   "metadata": {
    "scrolled": true
   },
   "outputs": [
    {
     "output_type": "stream",
     "name": "stdout",
     "text": [
      "2.6.0\n",
      "Query failed: \n",
      "SELECT * FROM OHLCV_DATA WHERE Ticker == 'VIB/BTC'\n",
      "FetchingVIB/BTCmarket data fromBinance. call #1\n",
      "lastCall = 1609885900579 fetching data...\n",
      "Fetching VIB/BTC market data. call #2\n",
      "lastCall = 1609885902886 fetching data...\n"
     ]
    },
    {
     "output_type": "execute_result",
     "data": {
      "text/plain": [
       "                    Open          High           Low         Close  \\\n",
       "Timestamp                                                            \n",
       "2018-08-01  7.780000e-06  8.100000e-06  7.600000e-06  7.710000e-06   \n",
       "2018-08-02  7.720000e-06  8.070000e-06  7.060000e-06  7.190000e-06   \n",
       "2018-08-03  7.190000e-06  7.210000e-06  6.620000e-06  6.850000e-06   \n",
       "2018-08-04  6.850000e-06  7.040000e-06  6.350000e-06  6.600000e-06   \n",
       "2018-08-05  6.590000e-06  7.040000e-06  6.480000e-06  6.910000e-06   \n",
       "...                  ...           ...           ...           ...   \n",
       "2021-01-02  6.400000e-07  7.000000e-07  5.500000e-07  5.700000e-07   \n",
       "2021-01-03  5.700000e-07  5.800000e-07  5.000000e-07  5.600000e-07   \n",
       "2021-01-04  5.500000e-07  6.200000e-07  5.300000e-07  5.700000e-07   \n",
       "2021-01-05  5.800000e-07  5.900000e-07  5.300000e-07  5.400000e-07   \n",
       "2021-01-06  5.400000e-07  5.400000e-07  5.300000e-07  5.400000e-07   \n",
       "\n",
       "                Volume   Ticker  Is_Final_Row  \n",
       "Timestamp                                      \n",
       "2018-08-01  27514750.0  VIB/BTC             0  \n",
       "2018-08-02  19874646.0  VIB/BTC             0  \n",
       "2018-08-03  21268155.0  VIB/BTC             0  \n",
       "2018-08-04  27881248.0  VIB/BTC             0  \n",
       "2018-08-05  26698232.0  VIB/BTC             0  \n",
       "...                ...      ...           ...  \n",
       "2021-01-02  43582553.0  VIB/BTC             0  \n",
       "2021-01-03  33439089.0  VIB/BTC             0  \n",
       "2021-01-04  24187115.0  VIB/BTC             0  \n",
       "2021-01-05  26269648.0  VIB/BTC             0  \n",
       "2021-01-06    149542.0  VIB/BTC             0  \n",
       "\n",
       "[891 rows x 7 columns]"
      ],
      "text/html": "<div>\n<style scoped>\n    .dataframe tbody tr th:only-of-type {\n        vertical-align: middle;\n    }\n\n    .dataframe tbody tr th {\n        vertical-align: top;\n    }\n\n    .dataframe thead th {\n        text-align: right;\n    }\n</style>\n<table border=\"1\" class=\"dataframe\">\n  <thead>\n    <tr style=\"text-align: right;\">\n      <th></th>\n      <th>Open</th>\n      <th>High</th>\n      <th>Low</th>\n      <th>Close</th>\n      <th>Volume</th>\n      <th>Ticker</th>\n      <th>Is_Final_Row</th>\n    </tr>\n    <tr>\n      <th>Timestamp</th>\n      <th></th>\n      <th></th>\n      <th></th>\n      <th></th>\n      <th></th>\n      <th></th>\n      <th></th>\n    </tr>\n  </thead>\n  <tbody>\n    <tr>\n      <th>2018-08-01</th>\n      <td>7.780000e-06</td>\n      <td>8.100000e-06</td>\n      <td>7.600000e-06</td>\n      <td>7.710000e-06</td>\n      <td>27514750.0</td>\n      <td>VIB/BTC</td>\n      <td>0</td>\n    </tr>\n    <tr>\n      <th>2018-08-02</th>\n      <td>7.720000e-06</td>\n      <td>8.070000e-06</td>\n      <td>7.060000e-06</td>\n      <td>7.190000e-06</td>\n      <td>19874646.0</td>\n      <td>VIB/BTC</td>\n      <td>0</td>\n    </tr>\n    <tr>\n      <th>2018-08-03</th>\n      <td>7.190000e-06</td>\n      <td>7.210000e-06</td>\n      <td>6.620000e-06</td>\n      <td>6.850000e-06</td>\n      <td>21268155.0</td>\n      <td>VIB/BTC</td>\n      <td>0</td>\n    </tr>\n    <tr>\n      <th>2018-08-04</th>\n      <td>6.850000e-06</td>\n      <td>7.040000e-06</td>\n      <td>6.350000e-06</td>\n      <td>6.600000e-06</td>\n      <td>27881248.0</td>\n      <td>VIB/BTC</td>\n      <td>0</td>\n    </tr>\n    <tr>\n      <th>2018-08-05</th>\n      <td>6.590000e-06</td>\n      <td>7.040000e-06</td>\n      <td>6.480000e-06</td>\n      <td>6.910000e-06</td>\n      <td>26698232.0</td>\n      <td>VIB/BTC</td>\n      <td>0</td>\n    </tr>\n    <tr>\n      <th>...</th>\n      <td>...</td>\n      <td>...</td>\n      <td>...</td>\n      <td>...</td>\n      <td>...</td>\n      <td>...</td>\n      <td>...</td>\n    </tr>\n    <tr>\n      <th>2021-01-02</th>\n      <td>6.400000e-07</td>\n      <td>7.000000e-07</td>\n      <td>5.500000e-07</td>\n      <td>5.700000e-07</td>\n      <td>43582553.0</td>\n      <td>VIB/BTC</td>\n      <td>0</td>\n    </tr>\n    <tr>\n      <th>2021-01-03</th>\n      <td>5.700000e-07</td>\n      <td>5.800000e-07</td>\n      <td>5.000000e-07</td>\n      <td>5.600000e-07</td>\n      <td>33439089.0</td>\n      <td>VIB/BTC</td>\n      <td>0</td>\n    </tr>\n    <tr>\n      <th>2021-01-04</th>\n      <td>5.500000e-07</td>\n      <td>6.200000e-07</td>\n      <td>5.300000e-07</td>\n      <td>5.700000e-07</td>\n      <td>24187115.0</td>\n      <td>VIB/BTC</td>\n      <td>0</td>\n    </tr>\n    <tr>\n      <th>2021-01-05</th>\n      <td>5.800000e-07</td>\n      <td>5.900000e-07</td>\n      <td>5.300000e-07</td>\n      <td>5.400000e-07</td>\n      <td>26269648.0</td>\n      <td>VIB/BTC</td>\n      <td>0</td>\n    </tr>\n    <tr>\n      <th>2021-01-06</th>\n      <td>5.400000e-07</td>\n      <td>5.400000e-07</td>\n      <td>5.300000e-07</td>\n      <td>5.400000e-07</td>\n      <td>149542.0</td>\n      <td>VIB/BTC</td>\n      <td>0</td>\n    </tr>\n  </tbody>\n</table>\n<p>891 rows × 7 columns</p>\n</div>"
     },
     "metadata": {},
     "execution_count": 3
    }
   ],
   "source": [
    "df = gcd.get_DataFrame(['VIB/BTC'], exchange, '8/1/18', '12/24/20')\n",
    "df"
   ]
  },
  {
   "cell_type": "code",
   "execution_count": 4,
   "metadata": {},
   "outputs": [
    {
     "output_type": "stream",
     "name": "stdout",
     "text": [
      "2.6.0\n"
     ]
    },
    {
     "output_type": "execute_result",
     "data": {
      "text/plain": [
       "                    Open          High           Low         Close  \\\n",
       "Timestamp                                                            \n",
       "2018-08-01  7.780000e-06  8.100000e-06  7.600000e-06  7.710000e-06   \n",
       "2018-08-02  7.720000e-06  8.070000e-06  7.060000e-06  7.190000e-06   \n",
       "2018-08-03  7.190000e-06  7.210000e-06  6.620000e-06  6.850000e-06   \n",
       "2018-08-04  6.850000e-06  7.040000e-06  6.350000e-06  6.600000e-06   \n",
       "2018-08-05  6.590000e-06  7.040000e-06  6.480000e-06  6.910000e-06   \n",
       "...                  ...           ...           ...           ...   \n",
       "2021-01-02  6.400000e-07  7.000000e-07  5.500000e-07  5.700000e-07   \n",
       "2021-01-03  5.700000e-07  5.800000e-07  5.000000e-07  5.600000e-07   \n",
       "2021-01-04  5.500000e-07  6.200000e-07  5.300000e-07  5.700000e-07   \n",
       "2021-01-05  5.800000e-07  5.900000e-07  5.300000e-07  5.400000e-07   \n",
       "2021-01-06  5.400000e-07  5.400000e-07  5.300000e-07  5.400000e-07   \n",
       "\n",
       "                Volume   Ticker  Is_Final_Row  \n",
       "Timestamp                                      \n",
       "2018-08-01  27514750.0  VIB/BTC             0  \n",
       "2018-08-02  19874646.0  VIB/BTC             0  \n",
       "2018-08-03  21268155.0  VIB/BTC             0  \n",
       "2018-08-04  27881248.0  VIB/BTC             0  \n",
       "2018-08-05  26698232.0  VIB/BTC             0  \n",
       "...                ...      ...           ...  \n",
       "2021-01-02  43582553.0  VIB/BTC             0  \n",
       "2021-01-03  33439089.0  VIB/BTC             0  \n",
       "2021-01-04  24187115.0  VIB/BTC             0  \n",
       "2021-01-05  26269648.0  VIB/BTC             0  \n",
       "2021-01-06    149542.0  VIB/BTC             0  \n",
       "\n",
       "[891 rows x 7 columns]"
      ],
      "text/html": "<div>\n<style scoped>\n    .dataframe tbody tr th:only-of-type {\n        vertical-align: middle;\n    }\n\n    .dataframe tbody tr th {\n        vertical-align: top;\n    }\n\n    .dataframe thead th {\n        text-align: right;\n    }\n</style>\n<table border=\"1\" class=\"dataframe\">\n  <thead>\n    <tr style=\"text-align: right;\">\n      <th></th>\n      <th>Open</th>\n      <th>High</th>\n      <th>Low</th>\n      <th>Close</th>\n      <th>Volume</th>\n      <th>Ticker</th>\n      <th>Is_Final_Row</th>\n    </tr>\n    <tr>\n      <th>Timestamp</th>\n      <th></th>\n      <th></th>\n      <th></th>\n      <th></th>\n      <th></th>\n      <th></th>\n      <th></th>\n    </tr>\n  </thead>\n  <tbody>\n    <tr>\n      <th>2018-08-01</th>\n      <td>7.780000e-06</td>\n      <td>8.100000e-06</td>\n      <td>7.600000e-06</td>\n      <td>7.710000e-06</td>\n      <td>27514750.0</td>\n      <td>VIB/BTC</td>\n      <td>0</td>\n    </tr>\n    <tr>\n      <th>2018-08-02</th>\n      <td>7.720000e-06</td>\n      <td>8.070000e-06</td>\n      <td>7.060000e-06</td>\n      <td>7.190000e-06</td>\n      <td>19874646.0</td>\n      <td>VIB/BTC</td>\n      <td>0</td>\n    </tr>\n    <tr>\n      <th>2018-08-03</th>\n      <td>7.190000e-06</td>\n      <td>7.210000e-06</td>\n      <td>6.620000e-06</td>\n      <td>6.850000e-06</td>\n      <td>21268155.0</td>\n      <td>VIB/BTC</td>\n      <td>0</td>\n    </tr>\n    <tr>\n      <th>2018-08-04</th>\n      <td>6.850000e-06</td>\n      <td>7.040000e-06</td>\n      <td>6.350000e-06</td>\n      <td>6.600000e-06</td>\n      <td>27881248.0</td>\n      <td>VIB/BTC</td>\n      <td>0</td>\n    </tr>\n    <tr>\n      <th>2018-08-05</th>\n      <td>6.590000e-06</td>\n      <td>7.040000e-06</td>\n      <td>6.480000e-06</td>\n      <td>6.910000e-06</td>\n      <td>26698232.0</td>\n      <td>VIB/BTC</td>\n      <td>0</td>\n    </tr>\n    <tr>\n      <th>...</th>\n      <td>...</td>\n      <td>...</td>\n      <td>...</td>\n      <td>...</td>\n      <td>...</td>\n      <td>...</td>\n      <td>...</td>\n    </tr>\n    <tr>\n      <th>2021-01-02</th>\n      <td>6.400000e-07</td>\n      <td>7.000000e-07</td>\n      <td>5.500000e-07</td>\n      <td>5.700000e-07</td>\n      <td>43582553.0</td>\n      <td>VIB/BTC</td>\n      <td>0</td>\n    </tr>\n    <tr>\n      <th>2021-01-03</th>\n      <td>5.700000e-07</td>\n      <td>5.800000e-07</td>\n      <td>5.000000e-07</td>\n      <td>5.600000e-07</td>\n      <td>33439089.0</td>\n      <td>VIB/BTC</td>\n      <td>0</td>\n    </tr>\n    <tr>\n      <th>2021-01-04</th>\n      <td>5.500000e-07</td>\n      <td>6.200000e-07</td>\n      <td>5.300000e-07</td>\n      <td>5.700000e-07</td>\n      <td>24187115.0</td>\n      <td>VIB/BTC</td>\n      <td>0</td>\n    </tr>\n    <tr>\n      <th>2021-01-05</th>\n      <td>5.800000e-07</td>\n      <td>5.900000e-07</td>\n      <td>5.300000e-07</td>\n      <td>5.400000e-07</td>\n      <td>26269648.0</td>\n      <td>VIB/BTC</td>\n      <td>0</td>\n    </tr>\n    <tr>\n      <th>2021-01-06</th>\n      <td>5.400000e-07</td>\n      <td>5.400000e-07</td>\n      <td>5.300000e-07</td>\n      <td>5.400000e-07</td>\n      <td>149542.0</td>\n      <td>VIB/BTC</td>\n      <td>0</td>\n    </tr>\n  </tbody>\n</table>\n<p>891 rows × 7 columns</p>\n</div>"
     },
     "metadata": {},
     "execution_count": 4
    }
   ],
   "source": [
    "newdf = gcd.get_DataFrame(['VIB/BTC'], exchange, '8/1/18', '12/24/20')\n",
    "newdf"
   ]
  },
  {
   "cell_type": "code",
   "execution_count": null,
   "metadata": {},
   "outputs": [],
   "source": []
  },
  {
   "cell_type": "code",
   "execution_count": 5,
   "metadata": {},
   "outputs": [
    {
     "output_type": "stream",
     "name": "stdout",
     "text": [
      "2.6.0\n",
      "FetchingSCRT/BTCmarket data fromBinance. call #1\n",
      "lastCall = 1609885921546 fetching data...\n"
     ]
    },
    {
     "output_type": "execute_result",
     "data": {
      "text/plain": [
       "                Open      High       Low     Close     Volume    Ticker  \\\n",
       "Timestamp                                                                 \n",
       "2020-09-30  0.000062  0.000118  0.000042  0.000049  2909132.0  SCRT/BTC   \n",
       "2020-10-01  0.000049  0.000050  0.000035  0.000043  3706380.0  SCRT/BTC   \n",
       "2020-10-02  0.000043  0.000044  0.000036  0.000044  1952840.0  SCRT/BTC   \n",
       "2020-10-03  0.000043  0.000063  0.000041  0.000049  3105072.0  SCRT/BTC   \n",
       "2020-10-04  0.000049  0.000058  0.000045  0.000054  4149568.0  SCRT/BTC   \n",
       "...              ...       ...       ...       ...        ...       ...   \n",
       "2021-01-02  0.000022  0.000022  0.000018  0.000019   521009.0  SCRT/BTC   \n",
       "2021-01-03  0.000019  0.000019  0.000015  0.000017  1043448.0  SCRT/BTC   \n",
       "2021-01-04  0.000016  0.000020  0.000015  0.000019   736479.0  SCRT/BTC   \n",
       "2021-01-05  0.000020  0.000023  0.000018  0.000020  1107705.0  SCRT/BTC   \n",
       "2021-01-06  0.000020  0.000020  0.000019  0.000020    21082.0  SCRT/BTC   \n",
       "\n",
       "            Is_Final_Row  \n",
       "Timestamp                 \n",
       "2020-09-30             0  \n",
       "2020-10-01             0  \n",
       "2020-10-02             0  \n",
       "2020-10-03             0  \n",
       "2020-10-04             0  \n",
       "...                  ...  \n",
       "2021-01-02             0  \n",
       "2021-01-03             0  \n",
       "2021-01-04             0  \n",
       "2021-01-05             0  \n",
       "2021-01-06             0  \n",
       "\n",
       "[99 rows x 7 columns]"
      ],
      "text/html": "<div>\n<style scoped>\n    .dataframe tbody tr th:only-of-type {\n        vertical-align: middle;\n    }\n\n    .dataframe tbody tr th {\n        vertical-align: top;\n    }\n\n    .dataframe thead th {\n        text-align: right;\n    }\n</style>\n<table border=\"1\" class=\"dataframe\">\n  <thead>\n    <tr style=\"text-align: right;\">\n      <th></th>\n      <th>Open</th>\n      <th>High</th>\n      <th>Low</th>\n      <th>Close</th>\n      <th>Volume</th>\n      <th>Ticker</th>\n      <th>Is_Final_Row</th>\n    </tr>\n    <tr>\n      <th>Timestamp</th>\n      <th></th>\n      <th></th>\n      <th></th>\n      <th></th>\n      <th></th>\n      <th></th>\n      <th></th>\n    </tr>\n  </thead>\n  <tbody>\n    <tr>\n      <th>2020-09-30</th>\n      <td>0.000062</td>\n      <td>0.000118</td>\n      <td>0.000042</td>\n      <td>0.000049</td>\n      <td>2909132.0</td>\n      <td>SCRT/BTC</td>\n      <td>0</td>\n    </tr>\n    <tr>\n      <th>2020-10-01</th>\n      <td>0.000049</td>\n      <td>0.000050</td>\n      <td>0.000035</td>\n      <td>0.000043</td>\n      <td>3706380.0</td>\n      <td>SCRT/BTC</td>\n      <td>0</td>\n    </tr>\n    <tr>\n      <th>2020-10-02</th>\n      <td>0.000043</td>\n      <td>0.000044</td>\n      <td>0.000036</td>\n      <td>0.000044</td>\n      <td>1952840.0</td>\n      <td>SCRT/BTC</td>\n      <td>0</td>\n    </tr>\n    <tr>\n      <th>2020-10-03</th>\n      <td>0.000043</td>\n      <td>0.000063</td>\n      <td>0.000041</td>\n      <td>0.000049</td>\n      <td>3105072.0</td>\n      <td>SCRT/BTC</td>\n      <td>0</td>\n    </tr>\n    <tr>\n      <th>2020-10-04</th>\n      <td>0.000049</td>\n      <td>0.000058</td>\n      <td>0.000045</td>\n      <td>0.000054</td>\n      <td>4149568.0</td>\n      <td>SCRT/BTC</td>\n      <td>0</td>\n    </tr>\n    <tr>\n      <th>...</th>\n      <td>...</td>\n      <td>...</td>\n      <td>...</td>\n      <td>...</td>\n      <td>...</td>\n      <td>...</td>\n      <td>...</td>\n    </tr>\n    <tr>\n      <th>2021-01-02</th>\n      <td>0.000022</td>\n      <td>0.000022</td>\n      <td>0.000018</td>\n      <td>0.000019</td>\n      <td>521009.0</td>\n      <td>SCRT/BTC</td>\n      <td>0</td>\n    </tr>\n    <tr>\n      <th>2021-01-03</th>\n      <td>0.000019</td>\n      <td>0.000019</td>\n      <td>0.000015</td>\n      <td>0.000017</td>\n      <td>1043448.0</td>\n      <td>SCRT/BTC</td>\n      <td>0</td>\n    </tr>\n    <tr>\n      <th>2021-01-04</th>\n      <td>0.000016</td>\n      <td>0.000020</td>\n      <td>0.000015</td>\n      <td>0.000019</td>\n      <td>736479.0</td>\n      <td>SCRT/BTC</td>\n      <td>0</td>\n    </tr>\n    <tr>\n      <th>2021-01-05</th>\n      <td>0.000020</td>\n      <td>0.000023</td>\n      <td>0.000018</td>\n      <td>0.000020</td>\n      <td>1107705.0</td>\n      <td>SCRT/BTC</td>\n      <td>0</td>\n    </tr>\n    <tr>\n      <th>2021-01-06</th>\n      <td>0.000020</td>\n      <td>0.000020</td>\n      <td>0.000019</td>\n      <td>0.000020</td>\n      <td>21082.0</td>\n      <td>SCRT/BTC</td>\n      <td>0</td>\n    </tr>\n  </tbody>\n</table>\n<p>99 rows × 7 columns</p>\n</div>"
     },
     "metadata": {},
     "execution_count": 5
    }
   ],
   "source": [
    "first = gcd.get_DataFrame(['SCRT/BTC'], exchange, '1/1/20', '12/24/20')\n",
    "first"
   ]
  },
  {
   "cell_type": "code",
   "execution_count": 6,
   "metadata": {},
   "outputs": [
    {
     "output_type": "stream",
     "name": "stdout",
     "text": [
      "2.6.0\n"
     ]
    },
    {
     "output_type": "execute_result",
     "data": {
      "text/plain": [
       "                Open      High       Low     Close     Volume    Ticker  \\\n",
       "Timestamp                                                                 \n",
       "2020-09-30  0.000062  0.000118  0.000042  0.000049  2909132.0  SCRT/BTC   \n",
       "2020-10-01  0.000049  0.000050  0.000035  0.000043  3706380.0  SCRT/BTC   \n",
       "2020-10-02  0.000043  0.000044  0.000036  0.000044  1952840.0  SCRT/BTC   \n",
       "2020-10-03  0.000043  0.000063  0.000041  0.000049  3105072.0  SCRT/BTC   \n",
       "2020-10-04  0.000049  0.000058  0.000045  0.000054  4149568.0  SCRT/BTC   \n",
       "...              ...       ...       ...       ...        ...       ...   \n",
       "2021-01-02  0.000022  0.000022  0.000018  0.000019   521009.0  SCRT/BTC   \n",
       "2021-01-03  0.000019  0.000019  0.000015  0.000017  1043448.0  SCRT/BTC   \n",
       "2021-01-04  0.000016  0.000020  0.000015  0.000019   736479.0  SCRT/BTC   \n",
       "2021-01-05  0.000020  0.000023  0.000018  0.000020  1107705.0  SCRT/BTC   \n",
       "2021-01-06  0.000020  0.000020  0.000019  0.000020    21082.0  SCRT/BTC   \n",
       "\n",
       "            Is_Final_Row  \n",
       "Timestamp                 \n",
       "2020-09-30             0  \n",
       "2020-10-01             0  \n",
       "2020-10-02             0  \n",
       "2020-10-03             0  \n",
       "2020-10-04             0  \n",
       "...                  ...  \n",
       "2021-01-02             0  \n",
       "2021-01-03             0  \n",
       "2021-01-04             0  \n",
       "2021-01-05             0  \n",
       "2021-01-06             0  \n",
       "\n",
       "[99 rows x 7 columns]"
      ],
      "text/html": "<div>\n<style scoped>\n    .dataframe tbody tr th:only-of-type {\n        vertical-align: middle;\n    }\n\n    .dataframe tbody tr th {\n        vertical-align: top;\n    }\n\n    .dataframe thead th {\n        text-align: right;\n    }\n</style>\n<table border=\"1\" class=\"dataframe\">\n  <thead>\n    <tr style=\"text-align: right;\">\n      <th></th>\n      <th>Open</th>\n      <th>High</th>\n      <th>Low</th>\n      <th>Close</th>\n      <th>Volume</th>\n      <th>Ticker</th>\n      <th>Is_Final_Row</th>\n    </tr>\n    <tr>\n      <th>Timestamp</th>\n      <th></th>\n      <th></th>\n      <th></th>\n      <th></th>\n      <th></th>\n      <th></th>\n      <th></th>\n    </tr>\n  </thead>\n  <tbody>\n    <tr>\n      <th>2020-09-30</th>\n      <td>0.000062</td>\n      <td>0.000118</td>\n      <td>0.000042</td>\n      <td>0.000049</td>\n      <td>2909132.0</td>\n      <td>SCRT/BTC</td>\n      <td>0</td>\n    </tr>\n    <tr>\n      <th>2020-10-01</th>\n      <td>0.000049</td>\n      <td>0.000050</td>\n      <td>0.000035</td>\n      <td>0.000043</td>\n      <td>3706380.0</td>\n      <td>SCRT/BTC</td>\n      <td>0</td>\n    </tr>\n    <tr>\n      <th>2020-10-02</th>\n      <td>0.000043</td>\n      <td>0.000044</td>\n      <td>0.000036</td>\n      <td>0.000044</td>\n      <td>1952840.0</td>\n      <td>SCRT/BTC</td>\n      <td>0</td>\n    </tr>\n    <tr>\n      <th>2020-10-03</th>\n      <td>0.000043</td>\n      <td>0.000063</td>\n      <td>0.000041</td>\n      <td>0.000049</td>\n      <td>3105072.0</td>\n      <td>SCRT/BTC</td>\n      <td>0</td>\n    </tr>\n    <tr>\n      <th>2020-10-04</th>\n      <td>0.000049</td>\n      <td>0.000058</td>\n      <td>0.000045</td>\n      <td>0.000054</td>\n      <td>4149568.0</td>\n      <td>SCRT/BTC</td>\n      <td>0</td>\n    </tr>\n    <tr>\n      <th>...</th>\n      <td>...</td>\n      <td>...</td>\n      <td>...</td>\n      <td>...</td>\n      <td>...</td>\n      <td>...</td>\n      <td>...</td>\n    </tr>\n    <tr>\n      <th>2021-01-02</th>\n      <td>0.000022</td>\n      <td>0.000022</td>\n      <td>0.000018</td>\n      <td>0.000019</td>\n      <td>521009.0</td>\n      <td>SCRT/BTC</td>\n      <td>0</td>\n    </tr>\n    <tr>\n      <th>2021-01-03</th>\n      <td>0.000019</td>\n      <td>0.000019</td>\n      <td>0.000015</td>\n      <td>0.000017</td>\n      <td>1043448.0</td>\n      <td>SCRT/BTC</td>\n      <td>0</td>\n    </tr>\n    <tr>\n      <th>2021-01-04</th>\n      <td>0.000016</td>\n      <td>0.000020</td>\n      <td>0.000015</td>\n      <td>0.000019</td>\n      <td>736479.0</td>\n      <td>SCRT/BTC</td>\n      <td>0</td>\n    </tr>\n    <tr>\n      <th>2021-01-05</th>\n      <td>0.000020</td>\n      <td>0.000023</td>\n      <td>0.000018</td>\n      <td>0.000020</td>\n      <td>1107705.0</td>\n      <td>SCRT/BTC</td>\n      <td>0</td>\n    </tr>\n    <tr>\n      <th>2021-01-06</th>\n      <td>0.000020</td>\n      <td>0.000020</td>\n      <td>0.000019</td>\n      <td>0.000020</td>\n      <td>21082.0</td>\n      <td>SCRT/BTC</td>\n      <td>0</td>\n    </tr>\n  </tbody>\n</table>\n<p>99 rows × 7 columns</p>\n</div>"
     },
     "metadata": {},
     "execution_count": 6
    }
   ],
   "source": [
    "second = gcd.get_DataFrame(['SCRT/BTC'], exchange, '1/1/20', '12/24/20')\n",
    "second"
   ]
  },
  {
   "cell_type": "code",
   "execution_count": 7,
   "metadata": {},
   "outputs": [
    {
     "output_type": "execute_result",
     "data": {
      "text/plain": [
       "True"
      ]
     },
     "metadata": {},
     "execution_count": 7
    }
   ],
   "source": [
    "first.equals(second)"
   ]
  },
  {
   "cell_type": "code",
   "execution_count": null,
   "metadata": {},
   "outputs": [],
   "source": []
  },
  {
   "cell_type": "code",
   "execution_count": 15,
   "metadata": {},
   "outputs": [
    {
     "data": {
      "text/plain": [
       "datetime.datetime(2020, 12, 6, 21, 6, 19, 413699)"
      ]
     },
     "execution_count": 15,
     "metadata": {},
     "output_type": "execute_result"
    }
   ],
   "source": [
    "timeStr=str(datetime.today())\n",
    "ts = parser.parse(timeStr)\n",
    "ts"
   ]
  },
  {
   "cell_type": "code",
   "execution_count": 16,
   "metadata": {},
   "outputs": [
    {
     "data": {
      "text/plain": [
       "datetime.datetime(2020, 12, 6, 21, 6, 19, 413699, tzinfo=tzutc())"
      ]
     },
     "execution_count": 16,
     "metadata": {},
     "output_type": "execute_result"
    }
   ],
   "source": [
    "ts.replace(tzinfo = tz.tzutc())"
   ]
  },
  {
   "cell_type": "code",
   "execution_count": 17,
   "metadata": {},
   "outputs": [
    {
     "data": {
      "text/plain": [
       "datetime.datetime(2020, 12, 7, 3, 8, 39, 985778)"
      ]
     },
     "execution_count": 17,
     "metadata": {},
     "output_type": "execute_result"
    }
   ],
   "source": [
    "datetime.utcnow()"
   ]
  },
  {
   "cell_type": "code",
   "execution_count": 6,
   "metadata": {},
   "outputs": [
    {
     "data": {
      "text/plain": [
       "datetime.datetime(2020, 1, 6, 0, 0, tzinfo=tzutc())"
      ]
     },
     "execution_count": 6,
     "metadata": {},
     "output_type": "execute_result"
    }
   ],
   "source": [
    "gcd.getUTCTimeStamp('1/6/2020')"
   ]
  },
  {
   "cell_type": "code",
   "execution_count": 4,
   "metadata": {},
   "outputs": [
    {
     "output_type": "execute_result",
     "data": {
      "text/plain": [
       "                    Open          High           Low         Close  \\\n",
       "Timestamp                                                            \n",
       "2020-01-01  2.520000e-06  2.700000e-06  2.520000e-06  2.670000e-06   \n",
       "2020-01-02  2.670000e-06  2.790000e-06  2.610000e-06  2.660000e-06   \n",
       "2020-01-03  2.670000e-06  2.670000e-06  2.550000e-06  2.610000e-06   \n",
       "2020-01-04  2.610000e-06  2.790000e-06  2.590000e-06  2.730000e-06   \n",
       "2020-01-05  2.730000e-06  3.080000e-06  2.630000e-06  2.950000e-06   \n",
       "...                  ...           ...           ...           ...   \n",
       "2020-12-30  6.200000e-07  6.800000e-07  5.700000e-07  6.500000e-07   \n",
       "2020-12-31  6.400000e-07  6.500000e-07  5.800000e-07  6.000000e-07   \n",
       "2021-01-01  6.000000e-07  7.300000e-07  6.000000e-07  6.400000e-07   \n",
       "2021-01-02  6.400000e-07  7.000000e-07  5.500000e-07  5.700000e-07   \n",
       "2021-01-03  5.700000e-07  5.800000e-07  5.000000e-07  5.500000e-07   \n",
       "\n",
       "                Volume   Ticker  \n",
       "Timestamp                        \n",
       "2020-01-01  15868601.0  VIB/BTC  \n",
       "2020-01-02  15372662.0  VIB/BTC  \n",
       "2020-01-03  17228409.0  VIB/BTC  \n",
       "2020-01-04  18814619.0  VIB/BTC  \n",
       "2020-01-05  55874601.0  VIB/BTC  \n",
       "...                ...      ...  \n",
       "2020-12-30  46238116.0  VIB/BTC  \n",
       "2020-12-31  29393430.0  VIB/BTC  \n",
       "2021-01-01  31696641.0  VIB/BTC  \n",
       "2021-01-02  43582553.0  VIB/BTC  \n",
       "2021-01-03  33275022.0  VIB/BTC  \n",
       "\n",
       "[369 rows x 6 columns]"
      ],
      "text/html": "<div>\n<style scoped>\n    .dataframe tbody tr th:only-of-type {\n        vertical-align: middle;\n    }\n\n    .dataframe tbody tr th {\n        vertical-align: top;\n    }\n\n    .dataframe thead th {\n        text-align: right;\n    }\n</style>\n<table border=\"1\" class=\"dataframe\">\n  <thead>\n    <tr style=\"text-align: right;\">\n      <th></th>\n      <th>Open</th>\n      <th>High</th>\n      <th>Low</th>\n      <th>Close</th>\n      <th>Volume</th>\n      <th>Ticker</th>\n    </tr>\n    <tr>\n      <th>Timestamp</th>\n      <th></th>\n      <th></th>\n      <th></th>\n      <th></th>\n      <th></th>\n      <th></th>\n    </tr>\n  </thead>\n  <tbody>\n    <tr>\n      <th>2020-01-01</th>\n      <td>2.520000e-06</td>\n      <td>2.700000e-06</td>\n      <td>2.520000e-06</td>\n      <td>2.670000e-06</td>\n      <td>15868601.0</td>\n      <td>VIB/BTC</td>\n    </tr>\n    <tr>\n      <th>2020-01-02</th>\n      <td>2.670000e-06</td>\n      <td>2.790000e-06</td>\n      <td>2.610000e-06</td>\n      <td>2.660000e-06</td>\n      <td>15372662.0</td>\n      <td>VIB/BTC</td>\n    </tr>\n    <tr>\n      <th>2020-01-03</th>\n      <td>2.670000e-06</td>\n      <td>2.670000e-06</td>\n      <td>2.550000e-06</td>\n      <td>2.610000e-06</td>\n      <td>17228409.0</td>\n      <td>VIB/BTC</td>\n    </tr>\n    <tr>\n      <th>2020-01-04</th>\n      <td>2.610000e-06</td>\n      <td>2.790000e-06</td>\n      <td>2.590000e-06</td>\n      <td>2.730000e-06</td>\n      <td>18814619.0</td>\n      <td>VIB/BTC</td>\n    </tr>\n    <tr>\n      <th>2020-01-05</th>\n      <td>2.730000e-06</td>\n      <td>3.080000e-06</td>\n      <td>2.630000e-06</td>\n      <td>2.950000e-06</td>\n      <td>55874601.0</td>\n      <td>VIB/BTC</td>\n    </tr>\n    <tr>\n      <th>...</th>\n      <td>...</td>\n      <td>...</td>\n      <td>...</td>\n      <td>...</td>\n      <td>...</td>\n      <td>...</td>\n    </tr>\n    <tr>\n      <th>2020-12-30</th>\n      <td>6.200000e-07</td>\n      <td>6.800000e-07</td>\n      <td>5.700000e-07</td>\n      <td>6.500000e-07</td>\n      <td>46238116.0</td>\n      <td>VIB/BTC</td>\n    </tr>\n    <tr>\n      <th>2020-12-31</th>\n      <td>6.400000e-07</td>\n      <td>6.500000e-07</td>\n      <td>5.800000e-07</td>\n      <td>6.000000e-07</td>\n      <td>29393430.0</td>\n      <td>VIB/BTC</td>\n    </tr>\n    <tr>\n      <th>2021-01-01</th>\n      <td>6.000000e-07</td>\n      <td>7.300000e-07</td>\n      <td>6.000000e-07</td>\n      <td>6.400000e-07</td>\n      <td>31696641.0</td>\n      <td>VIB/BTC</td>\n    </tr>\n    <tr>\n      <th>2021-01-02</th>\n      <td>6.400000e-07</td>\n      <td>7.000000e-07</td>\n      <td>5.500000e-07</td>\n      <td>5.700000e-07</td>\n      <td>43582553.0</td>\n      <td>VIB/BTC</td>\n    </tr>\n    <tr>\n      <th>2021-01-03</th>\n      <td>5.700000e-07</td>\n      <td>5.800000e-07</td>\n      <td>5.000000e-07</td>\n      <td>5.500000e-07</td>\n      <td>33275022.0</td>\n      <td>VIB/BTC</td>\n    </tr>\n  </tbody>\n</table>\n<p>369 rows × 6 columns</p>\n</div>"
     },
     "metadata": {},
     "execution_count": 4
    }
   ],
   "source": [
    "data = gcd.get_DataFrame(['VIB/BTC'],exchange, '1/1/20')\n",
    "data"
   ]
  },
  {
   "cell_type": "code",
   "execution_count": 9,
   "metadata": {},
   "outputs": [
    {
     "output_type": "stream",
     "name": "stdout",
     "text": [
      "2.6.0\n"
     ]
    },
    {
     "output_type": "execute_result",
     "data": {
      "text/plain": [
       "<sqlite3.Connection at 0x1f6fcad4030>"
      ]
     },
     "metadata": {},
     "execution_count": 9
    }
   ],
   "source": [
    "connection = database.create_connection()\n",
    "connection"
   ]
  },
  {
   "cell_type": "code",
   "execution_count": 3,
   "metadata": {},
   "outputs": [],
   "source": []
  },
  {
   "cell_type": "code",
   "execution_count": 10,
   "metadata": {
    "tags": []
   },
   "outputs": [],
   "source": [
    "query = \"\"\"SELECT * FROM OHLCV_DATA WHERE Ticker == 'VIB/BTC'\"\"\"\n",
    "columns = ['Ticker','Timestamp','Open','High','Low','Close','Volume','Is_Final_Row']"
   ]
  },
  {
   "cell_type": "code",
   "execution_count": 22,
   "metadata": {},
   "outputs": [
    {
     "output_type": "stream",
     "name": "stdout",
     "text": [
      "query \n SELECT * FROM OHLCV_DATA \n    WHERE Ticker == 'VIB/BTC'\n    \n    \n"
     ]
    },
    {
     "output_type": "execute_result",
     "data": {
      "text/plain": [
       "         Timestamp          Open          High           Low         Close  \\\n",
       "0    1533081600000  7.780000e-06  8.100000e-06  7.600000e-06  7.710000e-06   \n",
       "1    1533168000000  7.720000e-06  8.070000e-06  7.060000e-06  7.190000e-06   \n",
       "2    1533254400000  7.190000e-06  7.210000e-06  6.620000e-06  6.850000e-06   \n",
       "3    1533340800000  6.850000e-06  7.040000e-06  6.350000e-06  6.600000e-06   \n",
       "4    1533427200000  6.590000e-06  7.040000e-06  6.480000e-06  6.910000e-06   \n",
       "..             ...           ...           ...           ...           ...   \n",
       "886  1609545600000  6.400000e-07  7.000000e-07  5.500000e-07  5.700000e-07   \n",
       "887  1609632000000  5.700000e-07  5.800000e-07  5.000000e-07  5.600000e-07   \n",
       "888  1609718400000  5.500000e-07  6.200000e-07  5.300000e-07  5.700000e-07   \n",
       "889  1609804800000  5.800000e-07  5.900000e-07  5.300000e-07  5.400000e-07   \n",
       "890  1609891200000  5.400000e-07  5.400000e-07  5.300000e-07  5.400000e-07   \n",
       "\n",
       "         Volume   Ticker  Is_Final_Row  \n",
       "0    27514750.0  VIB/BTC             0  \n",
       "1    19874646.0  VIB/BTC             0  \n",
       "2    21268155.0  VIB/BTC             0  \n",
       "3    27881248.0  VIB/BTC             0  \n",
       "4    26698232.0  VIB/BTC             0  \n",
       "..          ...      ...           ...  \n",
       "886  43582553.0  VIB/BTC             0  \n",
       "887  33439089.0  VIB/BTC             0  \n",
       "888  24187115.0  VIB/BTC             0  \n",
       "889  26269648.0  VIB/BTC             0  \n",
       "890    149542.0  VIB/BTC             0  \n",
       "\n",
       "[891 rows x 8 columns]"
      ],
      "text/html": "<div>\n<style scoped>\n    .dataframe tbody tr th:only-of-type {\n        vertical-align: middle;\n    }\n\n    .dataframe tbody tr th {\n        vertical-align: top;\n    }\n\n    .dataframe thead th {\n        text-align: right;\n    }\n</style>\n<table border=\"1\" class=\"dataframe\">\n  <thead>\n    <tr style=\"text-align: right;\">\n      <th></th>\n      <th>Timestamp</th>\n      <th>Open</th>\n      <th>High</th>\n      <th>Low</th>\n      <th>Close</th>\n      <th>Volume</th>\n      <th>Ticker</th>\n      <th>Is_Final_Row</th>\n    </tr>\n  </thead>\n  <tbody>\n    <tr>\n      <th>0</th>\n      <td>1533081600000</td>\n      <td>7.780000e-06</td>\n      <td>8.100000e-06</td>\n      <td>7.600000e-06</td>\n      <td>7.710000e-06</td>\n      <td>27514750.0</td>\n      <td>VIB/BTC</td>\n      <td>0</td>\n    </tr>\n    <tr>\n      <th>1</th>\n      <td>1533168000000</td>\n      <td>7.720000e-06</td>\n      <td>8.070000e-06</td>\n      <td>7.060000e-06</td>\n      <td>7.190000e-06</td>\n      <td>19874646.0</td>\n      <td>VIB/BTC</td>\n      <td>0</td>\n    </tr>\n    <tr>\n      <th>2</th>\n      <td>1533254400000</td>\n      <td>7.190000e-06</td>\n      <td>7.210000e-06</td>\n      <td>6.620000e-06</td>\n      <td>6.850000e-06</td>\n      <td>21268155.0</td>\n      <td>VIB/BTC</td>\n      <td>0</td>\n    </tr>\n    <tr>\n      <th>3</th>\n      <td>1533340800000</td>\n      <td>6.850000e-06</td>\n      <td>7.040000e-06</td>\n      <td>6.350000e-06</td>\n      <td>6.600000e-06</td>\n      <td>27881248.0</td>\n      <td>VIB/BTC</td>\n      <td>0</td>\n    </tr>\n    <tr>\n      <th>4</th>\n      <td>1533427200000</td>\n      <td>6.590000e-06</td>\n      <td>7.040000e-06</td>\n      <td>6.480000e-06</td>\n      <td>6.910000e-06</td>\n      <td>26698232.0</td>\n      <td>VIB/BTC</td>\n      <td>0</td>\n    </tr>\n    <tr>\n      <th>...</th>\n      <td>...</td>\n      <td>...</td>\n      <td>...</td>\n      <td>...</td>\n      <td>...</td>\n      <td>...</td>\n      <td>...</td>\n      <td>...</td>\n    </tr>\n    <tr>\n      <th>886</th>\n      <td>1609545600000</td>\n      <td>6.400000e-07</td>\n      <td>7.000000e-07</td>\n      <td>5.500000e-07</td>\n      <td>5.700000e-07</td>\n      <td>43582553.0</td>\n      <td>VIB/BTC</td>\n      <td>0</td>\n    </tr>\n    <tr>\n      <th>887</th>\n      <td>1609632000000</td>\n      <td>5.700000e-07</td>\n      <td>5.800000e-07</td>\n      <td>5.000000e-07</td>\n      <td>5.600000e-07</td>\n      <td>33439089.0</td>\n      <td>VIB/BTC</td>\n      <td>0</td>\n    </tr>\n    <tr>\n      <th>888</th>\n      <td>1609718400000</td>\n      <td>5.500000e-07</td>\n      <td>6.200000e-07</td>\n      <td>5.300000e-07</td>\n      <td>5.700000e-07</td>\n      <td>24187115.0</td>\n      <td>VIB/BTC</td>\n      <td>0</td>\n    </tr>\n    <tr>\n      <th>889</th>\n      <td>1609804800000</td>\n      <td>5.800000e-07</td>\n      <td>5.900000e-07</td>\n      <td>5.300000e-07</td>\n      <td>5.400000e-07</td>\n      <td>26269648.0</td>\n      <td>VIB/BTC</td>\n      <td>0</td>\n    </tr>\n    <tr>\n      <th>890</th>\n      <td>1609891200000</td>\n      <td>5.400000e-07</td>\n      <td>5.400000e-07</td>\n      <td>5.300000e-07</td>\n      <td>5.400000e-07</td>\n      <td>149542.0</td>\n      <td>VIB/BTC</td>\n      <td>0</td>\n    </tr>\n  </tbody>\n</table>\n<p>891 rows × 8 columns</p>\n</div>"
     },
     "metadata": {},
     "execution_count": 22
    }
   ],
   "source": [
    "ticker = 'VIB/BTC'\n",
    "from_date_str = '1/1/20'\n",
    "to_date_str = '2/1/20'\n",
    "from_condition = ''\n",
    "to_condition = ''\n",
    "if from_date_str:\n",
    "    from_date = gcd.convert_datetime_to_UTC_Ms(gcd.get_UTC_datetime(from_date_str))\n",
    "    from_condition = f'and TIMESTAMP >= {from_date}'\n",
    "if to_date_str:\n",
    "    to_date = gcd.convert_datetime_to_UTC_Ms(gcd.get_UTC_datetime(to_date_str))\n",
    "    to_condition = f'and TIMESTAMP <= {to_date}'\n",
    "mysql = f\"\"\"SELECT * FROM OHLCV_DATA \n",
    "    WHERE Ticker == '{ticker}'\n",
    "    {from_condition}\n",
    "    {to_condition}\"\"\"\n",
    "print('query \\n',mysql)\n",
    "result = pd.read_sql_query(mysql, connection)\n",
    "result"
   ]
  },
  {
   "cell_type": "code",
   "execution_count": 23,
   "metadata": {},
   "outputs": [
    {
     "output_type": "execute_result",
     "data": {
      "text/plain": [
       "Empty DataFrame\n",
       "Columns: [Ticker, Timestamp, Open, High, Low, Close, Volume, Is_Final_Row]\n",
       "Index: []"
      ],
      "text/html": "<div>\n<style scoped>\n    .dataframe tbody tr th:only-of-type {\n        vertical-align: middle;\n    }\n\n    .dataframe tbody tr th {\n        vertical-align: top;\n    }\n\n    .dataframe thead th {\n        text-align: right;\n    }\n</style>\n<table border=\"1\" class=\"dataframe\">\n  <thead>\n    <tr style=\"text-align: right;\">\n      <th></th>\n      <th>Ticker</th>\n      <th>Timestamp</th>\n      <th>Open</th>\n      <th>High</th>\n      <th>Low</th>\n      <th>Close</th>\n      <th>Volume</th>\n      <th>Is_Final_Row</th>\n    </tr>\n  </thead>\n  <tbody>\n  </tbody>\n</table>\n</div>"
     },
     "metadata": {},
     "execution_count": 23
    }
   ],
   "source": [
    "mydf = pd.DataFrame(SQL_Query, columns=columns)\n",
    "mydf"
   ]
  },
  {
   "cell_type": "code",
   "execution_count": 25,
   "metadata": {},
   "outputs": [
    {
     "output_type": "execute_result",
     "data": {
      "text/plain": [
       "True"
      ]
     },
     "metadata": {},
     "execution_count": 25
    }
   ],
   "source": [
    "SQL_Query.empty"
   ]
  },
  {
   "cell_type": "code",
   "execution_count": 27,
   "metadata": {},
   "outputs": [
    {
     "output_type": "execute_result",
     "data": {
      "text/plain": [
       "True"
      ]
     },
     "metadata": {},
     "execution_count": 27
    }
   ],
   "source": [
    "gcd.set_data_timestamp_index(SQL_Query).empty"
   ]
  },
  {
   "cell_type": "code",
   "execution_count": 28,
   "metadata": {},
   "outputs": [],
   "source": [
    "connection.close()"
   ]
  },
  {
   "cell_type": "code",
   "execution_count": 17,
   "metadata": {},
   "outputs": [
    {
     "output_type": "execute_result",
     "data": {
      "text/plain": [
       "''"
      ]
     },
     "metadata": {},
     "execution_count": 17
    }
   ],
   "source": [
    "test = ''\n",
    "test"
   ]
  },
  {
   "cell_type": "code",
   "execution_count": 18,
   "metadata": {},
   "outputs": [],
   "source": [
    "if test:\n",
    "    print('yes')"
   ]
  },
  {
   "cell_type": "code",
   "execution_count": 15,
   "metadata": {},
   "outputs": [
    {
     "output_type": "stream",
     "name": "stdout",
     "text": [
      "my string is |string|\n"
     ]
    }
   ],
   "source": [
    "print(f'my string is |{test}|')"
   ]
  },
  {
   "cell_type": "code",
   "execution_count": null,
   "metadata": {},
   "outputs": [],
   "source": []
  }
 ],
 "metadata": {
  "kernelspec": {
   "name": "python3",
   "display_name": "Python 3.9.0 64-bit",
   "metadata": {
    "interpreter": {
     "hash": "916bdde19c0203fc001a055565e396d76649bf8117ec5e111c5b07fc911df001"
    }
   }
  },
  "language_info": {
   "codemirror_mode": {
    "name": "ipython",
    "version": 3
   },
   "file_extension": ".py",
   "mimetype": "text/x-python",
   "name": "python",
   "nbconvert_exporter": "python",
   "pygments_lexer": "ipython3",
   "version": "3.9.0-final"
  }
 },
 "nbformat": 4,
 "nbformat_minor": 4
}